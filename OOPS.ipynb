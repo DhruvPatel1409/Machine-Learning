{
 "cells": [
  {
   "cell_type": "code",
   "execution_count": 6,
   "id": "179e5b80-5af8-47b2-9cce-b490d5aaefa7",
   "metadata": {},
   "outputs": [
    {
     "name": "stdout",
     "output_type": "stream",
     "text": [
      "Smartphone of Realme supports android 14\n",
      "Realme has new features as well !!\n"
     ]
    }
   ],
   "source": [
    "class Smartphone:\n",
    "    def __init__(self,device,brand):\n",
    "        self.device = device\n",
    "        self.brand = brand\n",
    "    def description(self):\n",
    "        return f\"{self.device} of {self.brand} supports android 14\"\n",
    "    def features(self):\n",
    "        return f\"{self.brand} has new features as well !!\"\n",
    "obj1 = Smartphone(\"Smartphone\",\"Realme\")\n",
    "print(obj1.description())\n",
    "print(obj1.features())"
   ]
  },
  {
   "cell_type": "code",
   "execution_count": 15,
   "id": "98a69217-b60b-4ec9-9910-2610a25fd342",
   "metadata": {},
   "outputs": [
    {
     "name": "stdout",
     "output_type": "stream",
     "text": [
      "Seling price is : 25000\n",
      "Seling price is : 25000\n",
      "Seling price is : 35000\n"
     ]
    }
   ],
   "source": [
    "class Desktop:\n",
    "    def __init__(self):\n",
    "        self.__max_price = 25000\n",
    "    def sell(self):\n",
    "        return f\"Seling price is : {self.__max_price}\"\n",
    "    def set_max_price(self,price):\n",
    "        if price > self.__max_price:\n",
    "            self.__max_price = price\n",
    "\n",
    "deskobj = Desktop()\n",
    "print(deskobj.sell())\n",
    "\n",
    "deskobj.__max_price = 30000\n",
    "print(deskobj.sell())\n",
    "\n",
    "deskobj.set_max_price(35000)\n",
    "print(deskobj.sell())"
   ]
  },
  {
   "cell_type": "code",
   "execution_count": 16,
   "id": "46100abc-1be8-4a48-8c2b-212b8602bed9",
   "metadata": {},
   "outputs": [
    {
     "name": "stdout",
     "output_type": "stream",
     "text": [
      "calling child constructor\n",
      "calling child method\n",
      "calling parent method\n",
      "parent attribute :  200\n"
     ]
    }
   ],
   "source": [
    "class Parent:\n",
    "    parentattr = 100\n",
    "    def __init__(self):\n",
    "        print(\"Calling parent constructor\")\n",
    "    def parentmethod(self):\n",
    "        print(\"calling parent method\")\n",
    "    def setattr(self,attr):\n",
    "        Parent.parentattr = attr\n",
    "    def getattr(self):\n",
    "        print(\"parent attribute : \",Parent.parentattr)\n",
    "\n",
    "class Child(Parent):\n",
    "    def __init__(self):\n",
    "        print(\"calling child constructor\")\n",
    "    def childmethod(self):\n",
    "        print(\"calling child method\")\n",
    "\n",
    "c = Child()\n",
    "c.childmethod()\n",
    "c.parentmethod()\n",
    "c.setattr(200)      \n",
    "c.getattr()        "
   ]
  },
  {
   "cell_type": "code",
   "execution_count": 17,
   "id": "e1cbf9e3-152a-4f2f-ad87-ffa74fe80743",
   "metadata": {},
   "outputs": [
    {
     "name": "stdout",
     "output_type": "stream",
     "text": [
      "calling child method\n"
     ]
    }
   ],
   "source": [
    "class Parent:\n",
    "    def mymethod(self):\n",
    "        print(\"calling parent method\")\n",
    "\n",
    "class Child(Parent):\n",
    "    def mymethod(self):\n",
    "        print(\"calling child method\")\n",
    "\n",
    "c = Child()\n",
    "c.mymethod()"
   ]
  },
  {
   "cell_type": "code",
   "execution_count": 18,
   "id": "65260b6d-a971-4a90-b102-c8b42ea89976",
   "metadata": {},
   "outputs": [
    {
     "name": "stdout",
     "output_type": "stream",
     "text": [
      "Vector (15,5)\n"
     ]
    }
   ],
   "source": [
    "class Vector:\n",
    "    def __init__(self,a,b):\n",
    "        self.a = a\n",
    "        self.b = b\n",
    "    def __str__(self):\n",
    "        return \"Vector (%d,%d)\"%(self.a,self.b)\n",
    "    def __add__(self,other):\n",
    "        return Vector(self.a+other.a,self.b+other.b)\n",
    "\n",
    "v1 = Vector(5,10)\n",
    "v2  =Vector(10,-5)\n",
    "print(v1+v2)"
   ]
  },
  {
   "cell_type": "markdown",
   "id": "5b8ee234-a2c6-43e3-8df4-b46009601f95",
   "metadata": {},
   "source": [
    "### CLASS"
   ]
  },
  {
   "cell_type": "code",
   "execution_count": 31,
   "id": "59f7730d-5855-48f4-ab84-995dc61ee702",
   "metadata": {},
   "outputs": [
    {
     "name": "stdout",
     "output_type": "stream",
     "text": [
      "Name :  Zara , Salary:  2000 Age :  20\n",
      "Name :  Manni , Salary:  5000 Age :  40\n",
      "Total Employee 2\n"
     ]
    }
   ],
   "source": [
    "class Employee:\n",
    "   'Common base class for all employees'\n",
    "   empCount = 0\n",
    "\n",
    "   def __init__(self, name, salary,age):\n",
    "      self.name = name\n",
    "      self.salary = salary\n",
    "      self.age = age\n",
    "      Employee.empCount += 1\n",
    "   \n",
    "   def displayCount(self):\n",
    "     print (\"Total Employee %d\" % Employee.empCount)\n",
    "\n",
    "   def displayEmployee(self):\n",
    "      print (\"Name : \", self.name,  \", Salary: \", self.salary , \"Age : \",self.age)\n",
    "\n",
    "emp1 = Employee(\"Zara\", 2000,20)\n",
    "# This would create second object of Employee class\n",
    "emp2 = Employee(\"Manni\", 5000,40)\n",
    "\n",
    "emp1.displayEmployee()\n",
    "emp2.displayEmployee()\n",
    "print (\"Total Employee %d\" % Employee.empCount)"
   ]
  },
  {
   "cell_type": "code",
   "execution_count": 32,
   "id": "8cf41324-6275-4519-8497-387ec2ab3ef7",
   "metadata": {},
   "outputs": [
    {
     "name": "stdout",
     "output_type": "stream",
     "text": [
      "Employee.__doc__: Common base class for all employees\n",
      "Employee.__name__: Employee\n",
      "Employee.__module__: __main__\n",
      "Employee.__bases__: (<class 'object'>,)\n",
      "Employee.__dict__: {'__module__': '__main__', '__doc__': 'Common base class for all employees', 'empCount': 0, '__init__': <function Employee.__init__ at 0x000002A7BEC6C400>, 'displayCount': <function Employee.displayCount at 0x000002A7BEC6C540>, 'displayEmployee': <function Employee.displayEmployee at 0x000002A7BEC6C860>, '__dict__': <attribute '__dict__' of 'Employee' objects>, '__weakref__': <attribute '__weakref__' of 'Employee' objects>}\n"
     ]
    }
   ],
   "source": [
    "class Employee:\n",
    "   'Common base class for all employees'\n",
    "   empCount = 0\n",
    "\n",
    "   def __init__(self, name, salary):\n",
    "      self.name = name\n",
    "      self.salary = salary\n",
    "      Employee.empCount += 1\n",
    "   \n",
    "   def displayCount(self):\n",
    "     print (\"Total Employee %d\" % Employee.empCount)\n",
    "\n",
    "   def displayEmployee(self):\n",
    "      print (\"Name : \", self.name,  \", Salary: \", self.salary)\n",
    "\n",
    "print (\"Employee.__doc__:\", Employee.__doc__)\n",
    "print (\"Employee.__name__:\", Employee.__name__)\n",
    "print (\"Employee.__module__:\", Employee.__module__)\n",
    "print (\"Employee.__bases__:\", Employee.__bases__)\n",
    "print (\"Employee.__dict__:\", Employee.__dict__)"
   ]
  },
  {
   "cell_type": "code",
   "execution_count": 33,
   "id": "715ff7cb-2210-4b0c-91a2-8db2453298ce",
   "metadata": {},
   "outputs": [
    {
     "name": "stdout",
     "output_type": "stream",
     "text": [
      "Name: Bhavana , Age:  24\n",
      "Employee Count: 1\n",
      "\n",
      "Name: Rajesh , Age:  26\n",
      "Employee Count: 2\n"
     ]
    }
   ],
   "source": [
    "class Employee:\n",
    "   # class attribute    \n",
    "   empCount = 0\n",
    "   def __init__(self, name, age):\n",
    "      self.__name = name\n",
    "      self.__age = age\n",
    "      # modifying class attribute\n",
    "      Employee.empCount += 1\n",
    "      print (\"Name:\", self.__name, \", Age: \", self.__age)\n",
    "      # accessing class attribute\n",
    "      print (\"Employee Count:\", Employee.empCount)\n",
    "\n",
    "e1 = Employee(\"Bhavana\", 24)\n",
    "print()\n",
    "e2 = Employee(\"Rajesh\", 26)"
   ]
  },
  {
   "cell_type": "markdown",
   "id": "4a4afe26-850e-4855-8e51-a6c4a87bbb77",
   "metadata": {},
   "source": [
    "### class methods"
   ]
  },
  {
   "cell_type": "code",
   "execution_count": 34,
   "id": "b68449ce-aad0-4714-8ac9-84a3c0e9363e",
   "metadata": {},
   "outputs": [
    {
     "name": "stdout",
     "output_type": "stream",
     "text": [
      "3\n",
      "3\n"
     ]
    }
   ],
   "source": [
    "class Employee:\n",
    "   empCount = 0\n",
    "   def __init__(self, name, age):\n",
    "      self.__name = name\n",
    "      self.__age = age\n",
    "      Employee.empCount += 1\n",
    "   def showcount(self):\n",
    "      print (self.empCount)\n",
    "      \n",
    "   counter = classmethod(showcount)\n",
    "\n",
    "e1 = Employee(\"Bhavana\", 24)\n",
    "e2 = Employee(\"Rajesh\", 26)\n",
    "e3 = Employee(\"John\", 27)\n",
    "\n",
    "e1.showcount()\n",
    "Employee.counter()"
   ]
  },
  {
   "cell_type": "code",
   "execution_count": 35,
   "id": "a93b2f3e-5010-4a04-9a58-b2cc6c8b5dc8",
   "metadata": {},
   "outputs": [
    {
     "name": "stdout",
     "output_type": "stream",
     "text": [
      "4\n"
     ]
    }
   ],
   "source": [
    "class Employee:\n",
    "    empCount = 0\n",
    "    def __init__(self, name, age):\n",
    "        self.name = name\n",
    "        self.age = age\n",
    "        Employee.empCount += 1\n",
    "\n",
    "    @classmethod\n",
    "    def showcount(cls):\n",
    "        print (cls.empCount)\n",
    "\n",
    "    @classmethod\n",
    "    def newemployee(cls, name, age):\n",
    "        return cls(name, age)\n",
    "\n",
    "e1 = Employee(\"Bhavana\", 24)\n",
    "e2 = Employee(\"Rajesh\", 26)\n",
    "e3 = Employee(\"John\", 27)\n",
    "e4 = Employee.newemployee(\"Anil\", 21)\n",
    "\n",
    "Employee.showcount()"
   ]
  },
  {
   "cell_type": "code",
   "execution_count": 36,
   "id": "56fa1e24-0b46-4e07-9590-a4dceb48934a",
   "metadata": {},
   "outputs": [
    {
     "name": "stdout",
     "output_type": "stream",
     "text": [
      "4000\n"
     ]
    }
   ],
   "source": [
    "class Cloth:\n",
    "   # Class attribute\n",
    "   price = 4000\n",
    "\n",
    "   @classmethod\n",
    "   def showPrice(cls):\n",
    "      return cls.price\n",
    "\n",
    "# Accessing class attribute\n",
    "print(Cloth.showPrice())  "
   ]
  },
  {
   "cell_type": "markdown",
   "id": "63002579-7d60-48a4-9c25-f734a143c274",
   "metadata": {},
   "source": [
    "### static methods"
   ]
  },
  {
   "cell_type": "code",
   "execution_count": 37,
   "id": "1b8a1165-cf90-4023-b835-5da2f90c7bc8",
   "metadata": {},
   "outputs": [
    {
     "name": "stdout",
     "output_type": "stream",
     "text": [
      "3\n",
      "3\n"
     ]
    }
   ],
   "source": [
    "class Employee:\n",
    "   empCount = 0\n",
    "   def __init__(self, name, age):\n",
    "      self.__name = name\n",
    "      self.__age = age\n",
    "      Employee.empCount += 1\n",
    "   \n",
    "   # creating staticmethod\n",
    "   def showcount():\n",
    "      print (Employee.empCount)\n",
    "      return\n",
    "   counter = staticmethod(showcount)\n",
    "\n",
    "e1 = Employee(\"Bhavana\", 24)\n",
    "e2 = Employee(\"Rajesh\", 26)\n",
    "e3 = Employee(\"John\", 27)\n",
    "\n",
    "e1.counter()\n",
    "Employee.counter()"
   ]
  },
  {
   "cell_type": "code",
   "execution_count": 38,
   "id": "4ecb3de6-328e-41cb-b04e-c703f049839c",
   "metadata": {},
   "outputs": [
    {
     "name": "stdout",
     "output_type": "stream",
     "text": [
      "Number of Students:\n",
      "3\n"
     ]
    }
   ],
   "source": [
    "class Student:\n",
    "   stdCount = 0\n",
    "   def __init__(self, name, age):\n",
    "      self.__name = name\n",
    "      self.__age = age\n",
    "      Student.stdCount += 1\n",
    "   \n",
    "   # creating staticmethod\n",
    "   @staticmethod\n",
    "   def showcount():\n",
    "      print (Student.stdCount)\n",
    "\n",
    "e1 = Student(\"Bhavana\", 24)\n",
    "e2 = Student(\"Rajesh\", 26)\n",
    "e3 = Student(\"John\", 27)\n",
    "\n",
    "print(\"Number of Students:\")\n",
    "Student.showcount()"
   ]
  },
  {
   "cell_type": "markdown",
   "id": "77d5e163-d53b-42e2-8c3b-bf3380537057",
   "metadata": {},
   "source": [
    "### instance methods"
   ]
  },
  {
   "cell_type": "code",
   "execution_count": 42,
   "id": "a5cbb310-c57b-4e45-b947-cabfcc4c3365",
   "metadata": {},
   "outputs": [
    {
     "name": "stdout",
     "output_type": "stream",
     "text": [
      "Name :  Bhavana , age:  24\n",
      "Name :  Bharat , age:  25\n"
     ]
    }
   ],
   "source": [
    "class Employee:\n",
    "   def __init__(self, name=\"Bhavana\", age=24):\n",
    "      self.name = name\n",
    "      self.age = age\n",
    "   def displayEmployee(self):\n",
    "      print (\"Name : \", self.name, \", age: \", self.age)\n",
    "\n",
    "e1 = Employee()\n",
    "e2 = Employee(\"Bharat\", 25)\n",
    "\n",
    "e1.displayEmployee()\n",
    "e2.displayEmployee()"
   ]
  },
  {
   "cell_type": "markdown",
   "id": "e27452f7-f72a-4952-9b4b-3ef555d0483a",
   "metadata": {},
   "source": [
    "### Constructor : default - no parameneter except self"
   ]
  },
  {
   "cell_type": "code",
   "execution_count": 39,
   "id": "8c1ae812-7090-48d9-a534-9e32de1d9176",
   "metadata": {},
   "outputs": [
    {
     "name": "stdout",
     "output_type": "stream",
     "text": [
      "Name: Bhavana\n",
      "age: 24\n"
     ]
    }
   ],
   "source": [
    "class Employee:\n",
    "   'Common base class for all employees'\n",
    "   def __init__(self):\n",
    "      self.name = \"Bhavana\"\n",
    "      self.age = 24\n",
    "\n",
    "e1 = Employee()\n",
    "print (\"Name: {}\".format(e1.name))\n",
    "print (\"age: {}\".format(e1.age))"
   ]
  },
  {
   "cell_type": "markdown",
   "id": "e5f187f4-2a12-4f02-8805-3faf87d5bc5d",
   "metadata": {},
   "source": [
    "### parameterized - takes multiple parameters"
   ]
  },
  {
   "cell_type": "code",
   "execution_count": 40,
   "id": "ab947b6b-c57f-4632-95d5-73309d924d53",
   "metadata": {},
   "outputs": [
    {
     "name": "stdout",
     "output_type": "stream",
     "text": [
      "Name: Bhavana\n",
      "age: 24\n",
      "Name: Bharat\n",
      "age: 25\n"
     ]
    }
   ],
   "source": [
    "class Employee:\n",
    "   'Common base class for all employees'\n",
    "   def __init__(self, name, age):\n",
    "      self.name = name\n",
    "      self.age = age\n",
    "\n",
    "e1 = Employee(\"Bhavana\", 24)\n",
    "e2 = Employee(\"Bharat\", 25)\n",
    "\n",
    "print (\"Name: {}\".format(e1.name))\n",
    "print (\"age: {}\".format(e1.age))\n",
    "print (\"Name: {}\".format(e2.name))\n",
    "print (\"age: {}\".format(e2.age))"
   ]
  },
  {
   "cell_type": "code",
   "execution_count": 41,
   "id": "a8615e76-ff84-4f47-abce-5206c26d15a5",
   "metadata": {},
   "outputs": [
    {
     "name": "stdout",
     "output_type": "stream",
     "text": [
      "Name: Bhavana\n",
      "age: 24\n",
      "Name: Bharat\n",
      "age: 25\n"
     ]
    }
   ],
   "source": [
    "class Employee:\n",
    "   'Common base class for all employees'\n",
    "   def __init__(self, name=\"Bhavana\", age=24):\n",
    "      self.name = name\n",
    "      self.age = age\n",
    "\n",
    "e1 = Employee()\n",
    "e2 = Employee(\"Bharat\", 25)\n",
    "\n",
    "print (\"Name: {}\".format(e1.name))\n",
    "print (\"age: {}\".format(e1.age))\n",
    "print (\"Name: {}\".format(e2.name))\n",
    "print (\"age: {}\".format(e2.age))"
   ]
  },
  {
   "cell_type": "markdown",
   "id": "babe49b7-2922-41d1-9ad5-0654459658fc",
   "metadata": {},
   "source": [
    "### Access modifiers"
   ]
  },
  {
   "cell_type": "code",
   "execution_count": 1,
   "id": "65241ec0-253a-4521-a055-a3449975816a",
   "metadata": {},
   "outputs": [
    {
     "name": "stdout",
     "output_type": "stream",
     "text": [
      "Name: Bhavana\n",
      "age: 24\n",
      "Name: Bharat\n",
      "age: 25\n"
     ]
    }
   ],
   "source": [
    "class Employee:\n",
    "   'Common base class for all employees'\n",
    "   def __init__(self, name=\"Bhavana\", age=24):\n",
    "      self.name = name\n",
    "      self.age = age\n",
    "\n",
    "e1 = Employee()\n",
    "e2 = Employee(\"Bharat\", 25)\n",
    "\n",
    "print (\"Name: {}\".format(e1.name))\n",
    "print (\"age: {}\".format(e1.age))\n",
    "print (\"Name: {}\".format(e2.name))\n",
    "print (\"age: {}\".format(e2.age))"
   ]
  },
  {
   "cell_type": "code",
   "execution_count": 8,
   "id": "98c25ad9-0cd4-4fc8-9b28-7cbde5bd6ff4",
   "metadata": {},
   "outputs": [
    {
     "name": "stdout",
     "output_type": "stream",
     "text": [
      "Bhavana\n",
      "10000\n",
      "24\n"
     ]
    }
   ],
   "source": [
    "class Employee:\n",
    "   def __init__(self, name, age, salary):\n",
    "      self.name = name # public variable\n",
    "      self.__age = age # private variable\n",
    "      self._salary = salary # protected variable\n",
    "   def displayEmployee(self):\n",
    "      print (\"Name : \", self.name, \", age: \", self.__age, \", salary: \", self._salary)\n",
    "\n",
    "e1=Employee(\"Bhavana\", 24, 10000)\n",
    "\n",
    "print (e1.name)\n",
    "print (e1._salary)\n",
    "print (e1._Employee__age)"
   ]
  },
  {
   "cell_type": "markdown",
   "id": "8845a4cc-2b8c-4a85-919a-e1c7f44c7cf2",
   "metadata": {},
   "source": [
    "### getter and setter methods"
   ]
  },
  {
   "cell_type": "code",
   "execution_count": 9,
   "id": "f7d3e080-79de-4b47-b0d9-8aef4c7ddf51",
   "metadata": {},
   "outputs": [
    {
     "name": "stdout",
     "output_type": "stream",
     "text": [
      "Name: Bhavana age: 24\n",
      "Name: Archana age: 21\n"
     ]
    }
   ],
   "source": [
    "class Employee:\n",
    "   def __init__(self, name, age):\n",
    "      self.__name = name\n",
    "      self.__age = age\n",
    "\n",
    "   def get_name(self):\n",
    "      return self.__name\n",
    "   def get_age(self):\n",
    "      return self.__age\n",
    "   def set_name(self, name):\n",
    "      self.__name = name\n",
    "      return\n",
    "   def set_age(self, age):\n",
    "      self.__age=age\n",
    "\n",
    "e1=Employee(\"Bhavana\", 24)\n",
    "print (\"Name:\", e1.get_name(), \"age:\", e1.get_age())\n",
    "e1.set_name(\"Archana\")\n",
    "e1.set_age(21)\n",
    "print (\"Name:\", e1.get_name(), \"age:\", e1.get_age())"
   ]
  },
  {
   "cell_type": "code",
   "execution_count": 10,
   "id": "01645b36-93b0-4fd9-ba1e-85d42f3d425c",
   "metadata": {},
   "outputs": [
    {
     "name": "stdout",
     "output_type": "stream",
     "text": [
      "Name: Bhavana age: 24\n",
      "Name: Archana age: 23\n"
     ]
    }
   ],
   "source": [
    "class Employee:\n",
    "   def __init__(self, name, age):\n",
    "      self.__name = name\n",
    "      self.__age = age\n",
    "\n",
    "   def get_name(self):\n",
    "      return self.__name\n",
    "   def get_age(self):\n",
    "      return self.__age\n",
    "   def set_name(self, name):\n",
    "      self.__name = name\n",
    "      return\n",
    "   def set_age(self, age):\n",
    "      self.__age=age\n",
    "      return\n",
    "   name = property(get_name, set_name, \"name\")\n",
    "   age = property(get_age, set_age, \"age\")\n",
    "\n",
    "e1=Employee(\"Bhavana\", 24)\n",
    "print (\"Name:\", e1.name, \"age:\", e1.age)\n",
    "\n",
    "e1.name = \"Archana\"\n",
    "e1.age = 23\n",
    "print (\"Name:\", e1.name, \"age:\", e1.age)"
   ]
  },
  {
   "cell_type": "markdown",
   "id": "30109cbf-9027-414c-a022-ed1a10ded212",
   "metadata": {},
   "source": [
    "### Inheritance : It is used to inherit the properties and behaviours of one class to another. The class that inherits another class is called a child class and the class that gets inherited is called a base class or parent class.\n",
    "### Types of Inheritance : \n",
    "### In Python, inheritance can be divided in five different categories −\n",
    "#### Single Inheritance\n",
    "#### Multiple Inheritance\n",
    "#### Multilevel Inheritance\n",
    "#### Hierarchical Inheritance\n",
    "#### Hybrid Inheritanceitance\r\n"
   ]
  },
  {
   "cell_type": "markdown",
   "id": "067bd8e8-f4b1-451b-ad97-d20ef1f0eeef",
   "metadata": {},
   "source": [
    "### Python - Single Inheritance : This is the simplest form of inheritance where a child class inherits attributes and methods from only one parent class."
   ]
  },
  {
   "cell_type": "code",
   "execution_count": 11,
   "id": "ff61732a-360c-4b3f-af6e-93add214d023",
   "metadata": {},
   "outputs": [
    {
     "name": "stdout",
     "output_type": "stream",
     "text": [
      "Calling child method\n",
      "Calling parent method\n"
     ]
    }
   ],
   "source": [
    "class Parent: \n",
    "   def parentMethod(self):\n",
    "      print (\"Calling parent method\")\n",
    "\n",
    "# child class\n",
    "class Child(Parent): \n",
    "   def childMethod(self):\n",
    "      print (\"Calling child method\")\n",
    "\n",
    "# instance of child\n",
    "c = Child()  \n",
    "# calling method of child class\n",
    "c.childMethod() \n",
    "# calling method of parent class\n",
    "c.parentMethod() "
   ]
  },
  {
   "cell_type": "markdown",
   "id": "e714b9e4-dfd1-4e07-99d5-2685a8b7c8ab",
   "metadata": {},
   "source": [
    "### Python - Multiple Inheritance : Multiple inheritance in Python allows you to construct a class based on more than one parent classes."
   ]
  },
  {
   "cell_type": "code",
   "execution_count": 12,
   "id": "5327e4d1-8530-45b9-9222-bdbfa0d7e94f",
   "metadata": {},
   "outputs": [
    {
     "name": "stdout",
     "output_type": "stream",
     "text": [
      "division: 3.3333333333333335\n",
      "mod_division: 1\n",
      "divmod: (3.3333333333333335, 1)\n"
     ]
    }
   ],
   "source": [
    "class division:\n",
    "   def __init__(self, a,b):\n",
    "      self.n=a\n",
    "      self.d=b\n",
    "   def divide(self):\n",
    "      return self.n/self.d\n",
    "class modulus:\n",
    "   def __init__(self, a,b):\n",
    "      self.n=a\n",
    "      self.d=b\n",
    "   def mod_divide(self):\n",
    "      return self.n%self.d\n",
    "      \n",
    "class div_mod(division,modulus):\n",
    "   def __init__(self, a,b):\n",
    "      self.n=a\n",
    "      self.d=b\n",
    "   def div_and_mod(self):\n",
    "      divval=division.divide(self)\n",
    "      modval=modulus.mod_divide(self)\n",
    "      return (divval, modval)\n",
    "\n",
    "x=div_mod(10,3)\n",
    "print (\"division:\",x.divide())\n",
    "print (\"mod_division:\",x.mod_divide())\n",
    "print (\"divmod:\",x.div_and_mod())"
   ]
  },
  {
   "cell_type": "markdown",
   "id": "906f6f60-ca66-405a-b69e-db2aab2150a0",
   "metadata": {},
   "source": [
    "### Python - Multilevel Inheritance : In multilevel inheritance, a class is derived from another derived class."
   ]
  },
  {
   "cell_type": "code",
   "execution_count": 13,
   "id": "33a9f272-3d35-4f3f-b256-5559b2ee8d61",
   "metadata": {},
   "outputs": [
    {
     "name": "stdout",
     "output_type": "stream",
     "text": [
      "I am in the Universe\n",
      "I am on Earth\n",
      "I am in India\n"
     ]
    }
   ],
   "source": [
    "class Universe: \n",
    "   def universeMethod(self):\n",
    "      print (\"I am in the Universe\")\n",
    "\n",
    "# child class\n",
    "class Earth(Universe): \n",
    "   def earthMethod(self):\n",
    "      print (\"I am on Earth\")\n",
    "      \n",
    "# another child class\n",
    "class India(Earth): \n",
    "   def indianMethod(self):\n",
    "      print (\"I am in India\")      \n",
    "\n",
    "# creating instance \n",
    "person = India()  \n",
    "# method calls\n",
    "person.universeMethod() \n",
    "person.earthMethod() \n",
    "person.indianMethod() "
   ]
  },
  {
   "cell_type": "markdown",
   "id": "da231842-6f74-4e0d-ad9d-561a1f85171c",
   "metadata": {},
   "source": [
    "### Python - Hierarchical Inheritance : This type of inheritance contains multiple derived classes that are inherited from a single base class"
   ]
  },
  {
   "cell_type": "code",
   "execution_count": 14,
   "id": "9564527d-dc9c-41c5-a048-2fbffb4fba3c",
   "metadata": {},
   "outputs": [
    {
     "name": "stdout",
     "output_type": "stream",
     "text": [
      "I am the Manager\n",
      "I am Employee one\n",
      "I am the Manager\n",
      "I am Employee two\n"
     ]
    }
   ],
   "source": [
    "class Manager: \n",
    "   def managerMethod(self):\n",
    "      print (\"I am the Manager\")\n",
    "\n",
    "# child class\n",
    "class Employee1(Manager): \n",
    "   def employee1Method(self):\n",
    "      print (\"I am Employee one\")\n",
    "      \n",
    "# second child class\n",
    "class Employee2(Manager): \n",
    "   def employee2Method(self):\n",
    "      print (\"I am Employee two\")      \n",
    "\n",
    "# creating instances \n",
    "emp1 = Employee1()  \n",
    "emp2 = Employee2()\n",
    "# method calls\n",
    "emp1.managerMethod() \n",
    "emp1.employee1Method()\n",
    "emp2.managerMethod() \n",
    "emp2.employee2Method()  "
   ]
  },
  {
   "cell_type": "markdown",
   "id": "bcb83fad-18a5-4db8-a26d-c3df12eb5ef1",
   "metadata": {},
   "source": [
    "### Python - Hybrid Inheritance : Combination of two or more types of inheritance is called as Hybrid Inheritance."
   ]
  },
  {
   "cell_type": "code",
   "execution_count": 15,
   "id": "dce7ef35-e986-4e2b-8f3d-0880b258a1f6",
   "metadata": {},
   "outputs": [
    {
     "name": "stdout",
     "output_type": "stream",
     "text": [
      "I am the Manager\n",
      "I am the CEO\n",
      "I am Employee two\n"
     ]
    }
   ],
   "source": [
    "class CEO: \n",
    "   def ceoMethod(self):\n",
    "      print (\"I am the CEO\")\n",
    "      \n",
    "class Manager(CEO): \n",
    "   def managerMethod(self):\n",
    "      print (\"I am the Manager\")\n",
    "\n",
    "class Employee1(Manager): \n",
    "   def employee1Method(self):\n",
    "      print (\"I am Employee one\")\n",
    "      \n",
    "class Employee2(Manager, CEO): \n",
    "   def employee2Method(self):\n",
    "      print (\"I am Employee two\")      \n",
    "\n",
    "# creating instances \n",
    "emp = Employee2()\n",
    "# method calls\n",
    "emp.managerMethod() \n",
    "emp.ceoMethod()\n",
    "emp.employee2Method()"
   ]
  },
  {
   "cell_type": "code",
   "execution_count": 16,
   "id": "4da65e6b-0179-4080-835a-a8c06efceb2c",
   "metadata": {},
   "outputs": [
    {
     "name": "stdout",
     "output_type": "stream",
     "text": [
      "Welcome to Tutorialspoint!!\n"
     ]
    }
   ],
   "source": [
    "class ParentDemo:\n",
    "   def __init__(self, msg):\n",
    "      self.message = msg\n",
    "\n",
    "   def showMessage(self):\n",
    "      print(self.message)\n",
    "\n",
    "# child class\n",
    "class ChildDemo(ParentDemo):\n",
    "   def __init__(self, msg):\n",
    "      # use of super function\n",
    "      super().__init__(msg)  \n",
    "\n",
    "# creating instance\n",
    "obj = ChildDemo(\"Welcome to Tutorialspoint!!\")\n",
    "obj.showMessage()  "
   ]
  },
  {
   "cell_type": "markdown",
   "id": "1b8c13f5-ee55-4c51-bf4c-55ef464999fb",
   "metadata": {},
   "source": [
    "## Polymorphism : The term polymorphism refers to a function or method taking different forms in different contexts.\n",
    "\n",
    "#### Ways of implementing Polymorphism in Python\n",
    "#### There are four ways to implement polymorphism in Python −\n",
    "#### Duck Typing\n",
    "#### Operator Overloading\n",
    "#### Method Overriding\n",
    "#### Method Overloadingoading"
   ]
  },
  {
   "cell_type": "markdown",
   "id": "b9e7ad32-5c67-412c-bfb5-811d0f17dc84",
   "metadata": {},
   "source": [
    "### Duck typing is a concept where the type or class of an object is less important than the methods it defines."
   ]
  },
  {
   "cell_type": "code",
   "execution_count": 17,
   "id": "b6116760-35e4-4cab-9193-78caf51c3140",
   "metadata": {},
   "outputs": [
    {
     "name": "stdout",
     "output_type": "stream",
     "text": [
      "Quack, quack!\n",
      "I'm similar to a duck!\n"
     ]
    }
   ],
   "source": [
    "class Duck:\n",
    "   def sound(self):\n",
    "      return \"Quack, quack!\"\n",
    "\n",
    "class AnotherBird:\n",
    "   def sound(self):\n",
    "      return \"I'm similar to a duck!\"\n",
    "\n",
    "def makeSound(duck):\n",
    "   print(duck.sound())\n",
    "\n",
    "# creating instances\n",
    "duck = Duck()\n",
    "anotherBird = AnotherBird()\n",
    "# calling methods\n",
    "makeSound(duck)   \n",
    "makeSound(anotherBird) "
   ]
  },
  {
   "cell_type": "markdown",
   "id": "48120e9e-e359-439a-8501-cf2e89aa75f0",
   "metadata": {},
   "source": [
    "### Method Overriding in Python : In method overriding, a method defined inside a subclass has the same name as a method in its superclass but implements a different functionality."
   ]
  },
  {
   "cell_type": "code",
   "execution_count": 18,
   "id": "0d60a8eb-9328-4dda-9344-9c3a1d14d681",
   "metadata": {},
   "outputs": [
    {
     "name": "stdout",
     "output_type": "stream",
     "text": [
      "Draw a circle\n",
      "Draw a rectangle\n"
     ]
    }
   ],
   "source": [
    "from abc import ABC, abstractmethod\n",
    "class shape(ABC):\n",
    "   @abstractmethod\n",
    "   def draw(self):\n",
    "      \"Abstract method\"\n",
    "      return\n",
    "\n",
    "class circle(shape):\n",
    "   def draw(self):\n",
    "      super().draw()\n",
    "      print (\"Draw a circle\")\n",
    "      return\n",
    "\n",
    "class rectangle(shape):\n",
    "   def draw(self):\n",
    "      super().draw()\n",
    "      print (\"Draw a rectangle\")\n",
    "      return\n",
    "\n",
    "shapes = [circle(), rectangle()]\n",
    "for shp in shapes:\n",
    "   shp.draw()"
   ]
  },
  {
   "cell_type": "code",
   "execution_count": 21,
   "id": "a09cd8a0-06c8-4b36-bcd2-cf47b309aff2",
   "metadata": {},
   "outputs": [
    {
     "name": "stdout",
     "output_type": "stream",
     "text": [
      "Calling child method\n"
     ]
    }
   ],
   "source": [
    "class Parent: \n",
    "   def myMethod(self):\n",
    "      print ('Calling parent method')\n",
    "\n",
    "# define child class\n",
    "class Child(Parent): \n",
    "   def myMethod(self):\n",
    "      print ('Calling child method')\n",
    "\n",
    "# instance of child\n",
    "c = Child() \n",
    "# child calls overridden method\n",
    "c.myMethod()"
   ]
  },
  {
   "cell_type": "code",
   "execution_count": 22,
   "id": "0e37a76a-a62a-47de-a71c-1549c51eef4e",
   "metadata": {},
   "outputs": [
    {
     "name": "stdout",
     "output_type": "stream",
     "text": [
      "Total salary for Rajesh is Rs 9000\n",
      "Total salary for Kiran is Rs 11000\n"
     ]
    }
   ],
   "source": [
    "class Employee:\n",
    "   def __init__(self,nm, sal):\n",
    "      self.name=nm\n",
    "      self.salary=sal\n",
    "   def getName(self):\n",
    "      return self.name\n",
    "   def getSalary(self):\n",
    "      return self.salary\n",
    "\n",
    "class SalesOfficer(Employee):\n",
    "   def __init__(self,nm, sal, inc):\n",
    "      super().__init__(nm,sal)\n",
    "      self.incnt=inc\n",
    "   def getSalary(self):\n",
    "      return self.salary+self.incnt\n",
    "\n",
    "e1=Employee(\"Rajesh\", 9000)\n",
    "print (\"Total salary for {} is Rs {}\".format(e1.getName(),e1.getSalary()))\n",
    "s1=SalesOfficer('Kiran', 10000, 1000)\n",
    "print (\"Total salary for {} is Rs {}\".format(s1.getName(),s1.getSalary()))"
   ]
  },
  {
   "cell_type": "markdown",
   "id": "361b912f-8402-4d0a-9419-7ff1e2a48554",
   "metadata": {},
   "source": [
    "### Overloading Operators in Python"
   ]
  },
  {
   "cell_type": "code",
   "execution_count": 19,
   "id": "05121da2-f0ea-4ec4-8536-c035e15b3f2e",
   "metadata": {},
   "outputs": [
    {
     "name": "stdout",
     "output_type": "stream",
     "text": [
      "Vector (7, 8)\n"
     ]
    }
   ],
   "source": [
    "class Vector:\n",
    "   def __init__(self, a, b):\n",
    "      self.a = a\n",
    "      self.b = b\n",
    "\n",
    "   def __str__(self):\n",
    "      return 'Vector (%d, %d)' % (self.a, self.b)\n",
    "   \n",
    "   def __add__(self,other):\n",
    "      return Vector(self.a + other.a, self.b + other.b)\n",
    "\n",
    "v1 = Vector(2,10)\n",
    "v2 = Vector(5,-2)\n",
    "print (v1 + v2)"
   ]
  },
  {
   "cell_type": "markdown",
   "id": "f8522d78-faa9-4f42-83fd-b4583f903563",
   "metadata": {},
   "source": [
    "### Method Overloading in Python : When a class contains two or more methods with the same name but different number of parameters then this scenario can be termed as method overloading."
   ]
  },
  {
   "cell_type": "code",
   "execution_count": 20,
   "id": "b1bdf772-29ee-42f2-ae37-38ffeb1c6a36",
   "metadata": {},
   "outputs": [
    {
     "name": "stdout",
     "output_type": "stream",
     "text": [
      "35\n",
      "70\n"
     ]
    }
   ],
   "source": [
    "def add(*nums):\n",
    "   return sum(nums)\n",
    "\n",
    "# Call the function with different number of parameters\n",
    "result1 = add(10, 25)\n",
    "result2 = add(10, 25, 35)\n",
    "\n",
    "print(result1)  \n",
    "print(result2) "
   ]
  },
  {
   "cell_type": "code",
   "execution_count": 1,
   "id": "21e73dc5-6285-4d25-b8a3-6a45f7fe5e0b",
   "metadata": {},
   "outputs": [
    {
     "name": "stdout",
     "output_type": "stream",
     "text": [
      "60\n",
      "30\n"
     ]
    }
   ],
   "source": [
    "class example:\n",
    "   def add(self, a = None, b = None, c = None):\n",
    "      x=0\n",
    "      if a !=None and b != None and c != None:\n",
    "         x = a+b+c\n",
    "      elif a !=None and b != None and c == None:\n",
    "         x = a+b\n",
    "      return x\n",
    "\n",
    "obj = example()\n",
    "\n",
    "print (obj.add(10,20,30))\n",
    "print (obj.add(10,20))"
   ]
  },
  {
   "cell_type": "code",
   "execution_count": 2,
   "id": "e6d87d74-3e53-4559-968b-c8c01b07e937",
   "metadata": {},
   "outputs": [
    {
     "name": "stdout",
     "output_type": "stream",
     "text": [
      "60\n",
      "30\n"
     ]
    }
   ],
   "source": [
    "from multipledispatch import dispatch\n",
    "class example:\n",
    "   @dispatch(int, int)\n",
    "   def add(self, a, b):\n",
    "      x = a+b\n",
    "      return x\n",
    "   @dispatch(int, int, int)\n",
    "   def add(self, a, b, c):\n",
    "      x = a+b+c\n",
    "      return x\n",
    "\n",
    "obj = example()\n",
    "\n",
    "print (obj.add(10,20,30))\n",
    "print (obj.add(10,20))"
   ]
  },
  {
   "cell_type": "markdown",
   "id": "203e4a46-ad3b-4f9a-a284-130ccb1e724f",
   "metadata": {},
   "source": [
    "### In Python, dynamic binding is the process of resolving a method or attribute at runtime, instead of at compile time."
   ]
  },
  {
   "cell_type": "code",
   "execution_count": 3,
   "id": "d7748971-3fd5-4fb9-9941-b8424b79e69b",
   "metadata": {},
   "outputs": [
    {
     "name": "stdout",
     "output_type": "stream",
     "text": [
      "Draw a circle\n",
      "Draw a rectangle\n"
     ]
    }
   ],
   "source": [
    "class shape:\n",
    "   def draw(self):\n",
    "      print (\"draw method\")\n",
    "      return\n",
    "\n",
    "class circle(shape):\n",
    "   def draw(self):\n",
    "      print (\"Draw a circle\")\n",
    "      return\n",
    "\n",
    "class rectangle(shape):\n",
    "   def draw(self):\n",
    "      print (\"Draw a rectangle\")\n",
    "      return\n",
    "\n",
    "shapes = [circle(), rectangle()]\n",
    "for shp in shapes:\n",
    "   shp.draw()"
   ]
  },
  {
   "cell_type": "markdown",
   "id": "b819bf9a-6331-43a0-bec3-d04eb9f8966b",
   "metadata": {},
   "source": [
    "### Abstraction refers to a programming approach by which only the relevant data about an object is exposed, hiding all the other details."
   ]
  },
  {
   "cell_type": "markdown",
   "id": "4c2f1c3e-9d91-4deb-b14a-33b445f74ee3",
   "metadata": {},
   "source": [
    "### There are two types of abstraction. One is data abstraction, wherein the original data entity is hidden via a data structure that can internally work through the hidden data entities. \n",
    "### Another type is called process abstraction. It refers to hiding the underlying implementation details of a process.\n",
    "\n",
    "### Abstract Method Overriding"
   ]
  },
  {
   "cell_type": "code",
   "execution_count": 4,
   "id": "f3c034ae-fbbe-46bb-88a7-3139b60611be",
   "metadata": {},
   "outputs": [
    {
     "name": "stdout",
     "output_type": "stream",
     "text": [
      "abstract method\n",
      "concrete method\n"
     ]
    }
   ],
   "source": [
    "from abc import ABC, abstractmethod\n",
    "class democlass(ABC):\n",
    "   @abstractmethod\n",
    "   def method1(self):\n",
    "      print (\"abstract method\")\n",
    "      return\n",
    "   def method2(self):\n",
    "      print (\"concrete method\")\n",
    "\n",
    "class concreteclass(democlass):\n",
    "   def method1(self):\n",
    "      super().method1()\n",
    "      return\n",
    "      \n",
    "obj = concreteclass()\n",
    "obj.method1()\n",
    "obj.method2()"
   ]
  },
  {
   "cell_type": "markdown",
   "id": "08535260-61d6-4710-b0bc-fcb4726ca538",
   "metadata": {},
   "source": [
    "### Encapsulation is the process of bundling attributes and methods within a single unit. "
   ]
  },
  {
   "cell_type": "code",
   "execution_count": 5,
   "id": "3646b3df-baf8-4636-be03-5737d3f83b23",
   "metadata": {},
   "outputs": [
    {
     "name": "stdout",
     "output_type": "stream",
     "text": [
      "Name: Rajaram marks: 25\n",
      "Name: Bharat marks: 25\n"
     ]
    }
   ],
   "source": [
    "class Student:\n",
    "   def __init__(self, name=\"Rajaram\", marks=50):\n",
    "      self.name = name\n",
    "      self.marks = marks\n",
    "\n",
    "s1 = Student()\n",
    "s2 = Student(\"Bharat\", 25)\n",
    "\n",
    "print (\"Name: {} marks: {}\".format(s1.name, s2.marks))\n",
    "print (\"Name: {} marks: {}\".format(s2.name, s2.marks))"
   ]
  },
  {
   "cell_type": "markdown",
   "id": "688ce533-8b45-4d69-8211-6fddefeb7761",
   "metadata": {},
   "source": [
    "### The method defined without any executable code is known as abstract method.\n",
    "### We can create and implement interfaces in two ways −\n",
    "#### Formal Interface\n",
    "#### Informal Interface\n",
    "\n",
    "### Formal Interface : Formal interfaces in Python are implemented using abstract base class (ABC)."
   ]
  },
  {
   "cell_type": "code",
   "execution_count": 7,
   "id": "230d7277-5a99-4e41-93fa-557e24b75ffc",
   "metadata": {},
   "outputs": [
    {
     "name": "stdout",
     "output_type": "stream",
     "text": [
      "This is method1\n",
      "This is method2\n"
     ]
    }
   ],
   "source": [
    "from abc import ABC, abstractmethod\n",
    "\n",
    "# creating interface\n",
    "class demoInterface(ABC):\n",
    "   @abstractmethod\n",
    "   def method1(self):\n",
    "      print (\"Abstract method1\")\n",
    "      return\n",
    "\n",
    "   @abstractmethod\n",
    "   def method2(self):\n",
    "      print (\"Abstract method1\")\n",
    "      return\n",
    "\n",
    "class concreteclass(demoInterface):\n",
    "   def method1(self):\n",
    "      print (\"This is method1\")\n",
    "      return\n",
    "   \n",
    "   def method2(self):\n",
    "      print (\"This is method2\")\n",
    "      return\n",
    "\n",
    "# creating instance      \n",
    "obj = concreteclass()\n",
    "\n",
    "# method call\n",
    "obj.method1()\n",
    "obj.method2()"
   ]
  },
  {
   "cell_type": "markdown",
   "id": "701be2b7-e1e6-4d80-bf19-90927b42b8ae",
   "metadata": {},
   "source": [
    "### Informal Interface : In Python, the informal interface refers to a class with methods that can be overridden."
   ]
  },
  {
   "cell_type": "code",
   "execution_count": 8,
   "id": "9946ad4e-9352-43bf-ab19-301dff76c687",
   "metadata": {},
   "outputs": [
    {
     "name": "stdout",
     "output_type": "stream",
     "text": [
      "This is my message\n"
     ]
    }
   ],
   "source": [
    "class demoInterface:\n",
    "   def displayMsg(self):\n",
    "      pass\n",
    "\n",
    "class newClass(demoInterface):\n",
    "   def displayMsg(self):\n",
    "      print (\"This is my message\")\n",
    "  \n",
    "# creating instance      \n",
    "obj = newClass()\n",
    "\n",
    "# method call\n",
    "obj.displayMsg()"
   ]
  },
  {
   "cell_type": "markdown",
   "id": "80a02b69-40d0-42b8-8c9f-ad92af494c21",
   "metadata": {},
   "source": [
    "### Inner Class in Python : A class defined inside another class is known as an inner class in Python."
   ]
  },
  {
   "cell_type": "code",
   "execution_count": 1,
   "id": "0a60a42f-b744-496e-8dd4-550791f257ef",
   "metadata": {},
   "outputs": [
    {
     "name": "stdout",
     "output_type": "stream",
     "text": [
      "Name: Ashish\n",
      "Subjects: Phy Che\n"
     ]
    }
   ],
   "source": [
    "class student:\n",
    "   def __init__(self):\n",
    "      self.name = \"Ashish\"\n",
    "      self.subs = self.subjects()\n",
    "      return\n",
    "   def show(self):\n",
    "      print (\"Name:\", self.name)\n",
    "      self.subs.display()\n",
    "   class subjects:\n",
    "      def __init__(self):\n",
    "         self.sub1 = \"Phy\"\n",
    "         self.sub2 = \"Che\"\n",
    "         return\n",
    "      def display(self):\n",
    "         print (\"Subjects:\",self.sub1, self.sub2)\n",
    "         \n",
    "s1 = student()\n",
    "s1.show()"
   ]
  },
  {
   "cell_type": "markdown",
   "id": "cac80cb9-972d-4de2-9641-51d1c552b15c",
   "metadata": {},
   "source": [
    "### In Python, inner classes are of two types −\n",
    "\n",
    "### Multiple Inner Class\n",
    "### Multilevel Inner Class\n",
    "\n",
    "### Multiple Inner Class : In multiple inner class, a single outer class contains more than one inner class. Each inner class works independently but it can interact with the members of outer class.\n"
   ]
  },
  {
   "cell_type": "code",
   "execution_count": 2,
   "id": "c0978892-d358-4f2d-afe5-48519a9dd9ab",
   "metadata": {},
   "outputs": [
    {
     "name": "stdout",
     "output_type": "stream",
     "text": [
      "Organization Name: Tutorials Point\n",
      "In Department 1\n",
      "In Department 2\n"
     ]
    }
   ],
   "source": [
    "class Organization:\n",
    "   def __init__(self):\n",
    "      self.inner1 = self.Department1()\n",
    "      self.inner2 = self.Department2()\n",
    "        \n",
    "   def showName(self):\n",
    "      print(\"Organization Name: Tutorials Point\")\n",
    "\n",
    "   class Department1:\n",
    "      def displayDepartment1(self):\n",
    "         print(\"In Department 1\")\n",
    "            \n",
    "   class Department2:\n",
    "      def displayDepartment2(self):\n",
    "         print(\"In Department 2\")\n",
    "\n",
    "# instance of OuterClass\n",
    "outer = Organization() \n",
    "# Calling show method\n",
    "outer.showName()  \n",
    "# InnerClass instance 1\n",
    "inner1 = outer.inner1 \n",
    "# Calling display method\n",
    "inner1.displayDepartment1() \n",
    "# InnerClass instance 2\n",
    "inner2 = outer.inner2 \n",
    "# Calling display method\n",
    "inner2.displayDepartment2() "
   ]
  },
  {
   "cell_type": "markdown",
   "id": "dcc96d73-cb00-418b-bf31-e62dc6fcb206",
   "metadata": {},
   "source": [
    "### Multilevel Inner Class : It refers to an inner class that itself contains another inner class. It creates multiple levels of nested classes."
   ]
  },
  {
   "cell_type": "code",
   "execution_count": 3,
   "id": "6cf39e81-5f50-4ee9-a8d0-962e6cbe7539",
   "metadata": {},
   "outputs": [
    {
     "name": "stdout",
     "output_type": "stream",
     "text": [
      "Organization Name: Tutorials Point\n",
      "In Department\n",
      "Team 1 of the department\n"
     ]
    }
   ],
   "source": [
    "class Organization:\n",
    "   def __init__(self):\n",
    "      self.inner = self.Department()\n",
    "\n",
    "   def showName(self):\n",
    "      print(\"Organization Name: Tutorials Point\")\n",
    "\n",
    "   class Department:\n",
    "      def __init__(self):\n",
    "         self.innerTeam = self.Team1()\n",
    "\n",
    "      def displayDep(self):\n",
    "         print(\"In Department\")\n",
    "\n",
    "      class Team1:\n",
    "         def displayTeam(self):\n",
    "            print(\"Team 1 of the department\")\n",
    "\n",
    "# instance of outer class                \n",
    "outer = Organization()  \n",
    "# call the method of outer class\n",
    "outer.showName()  \n",
    "\n",
    "# Inner Class instance\n",
    "inner = outer.inner  \n",
    "inner.displayDep()  \n",
    "\n",
    "# Access Team1 instance\n",
    "innerTeam = inner.innerTeam  \n",
    "# Calling display method\n",
    "innerTeam.displayTeam() "
   ]
  },
  {
   "cell_type": "markdown",
   "id": "162f89a8-416d-4ffd-9781-f5b028709254",
   "metadata": {},
   "source": [
    "### Wrapper Class"
   ]
  },
  {
   "cell_type": "code",
   "execution_count": 4,
   "id": "c04005e3-7620-471b-8585-d5a5280141a6",
   "metadata": {},
   "outputs": [
    {
     "name": "stdout",
     "output_type": "stream",
     "text": [
      "TutorialsPoint\n"
     ]
    }
   ],
   "source": [
    "def decorator_function(Wrapped):\n",
    "   class Wrapper:\n",
    "      def __init__(self,x):\n",
    "         self.wrap = Wrapped(x)\n",
    "      def print_name(self):\n",
    "         return self.wrap.name\n",
    "   return Wrapper\n",
    "   \n",
    "@decorator_function\n",
    "class Wrapped:\n",
    "   def __init__(self,x):\n",
    "      self.name = x\n",
    "      \n",
    "obj = Wrapped('TutorialsPoint')\n",
    "print(obj.print_name())"
   ]
  },
  {
   "cell_type": "markdown",
   "id": "005df447-23c6-491f-884b-ba389a25a925",
   "metadata": {},
   "source": [
    "### In Python, the term enumeration refers to the process of assigning fixed constant values to a set of strings so that each string can be identified by the value bound to it."
   ]
  },
  {
   "cell_type": "code",
   "execution_count": 5,
   "id": "083b50c3-a024-41fb-81fb-7bcbad852b8c",
   "metadata": {},
   "outputs": [
    {
     "name": "stdout",
     "output_type": "stream",
     "text": [
      "<enum 'subjects'>\n"
     ]
    }
   ],
   "source": [
    "from enum import Enum\n",
    "\n",
    "class subjects(Enum):\n",
    "   ENGLISH = 1\n",
    "   MATHS = 2\n",
    "   SCIENCE = 3\n",
    "   SANSKRIT = 4\n",
    "\n",
    "obj = subjects.MATHS\n",
    "print (type(obj))"
   ]
  },
  {
   "cell_type": "code",
   "execution_count": 6,
   "id": "83f4a043-fdc2-4351-afcd-575c883c5146",
   "metadata": {},
   "outputs": [
    {
     "name": "stdout",
     "output_type": "stream",
     "text": [
      "subjects.ENGLISH\n",
      "subjects.MATHS\n",
      "subjects.SCIENCE\n",
      "subjects.SANSKRIT\n"
     ]
    }
   ],
   "source": [
    "from enum import Enum\n",
    "subjects = Enum(\"subjects\", \"ENGLISH MATHS SCIENCE SANSKRIT\")\n",
    "print(subjects.ENGLISH)\n",
    "print(subjects.MATHS)\n",
    "print(subjects.SCIENCE)\n",
    "print(subjects.SANSKRIT)"
   ]
  },
  {
   "cell_type": "code",
   "execution_count": 7,
   "id": "eb74116d-a139-4d78-b824-3d1727c859e7",
   "metadata": {},
   "outputs": [
    {
     "name": "stdout",
     "output_type": "stream",
     "text": [
      "<enum 'subjects'>\n",
      "SANSKRIT\n",
      "S\n"
     ]
    }
   ],
   "source": [
    "from enum import Enum\n",
    "\n",
    "class subjects(Enum):\n",
    "   ENGLISH = \"E\"\n",
    "   MATHS = \"M\"\n",
    "   GEOGRAPHY = \"G\"\n",
    "   SANSKRIT = \"S\"\n",
    "   \n",
    "obj = subjects.SANSKRIT\n",
    "print(type(obj))\n",
    "print(obj.name)\n",
    "print(obj.value)"
   ]
  },
  {
   "cell_type": "code",
   "execution_count": 8,
   "id": "5e6cf167-2c6f-4995-948b-e22d7280c2e3",
   "metadata": {},
   "outputs": [
    {
     "name": "stdout",
     "output_type": "stream",
     "text": [
      "ENGLISH E\n",
      "MATHS M\n",
      "GEOGRAPHY G\n",
      "SANSKRIT S\n"
     ]
    }
   ],
   "source": [
    "from enum import Enum\n",
    "\n",
    "class subjects(Enum):\n",
    "   ENGLISH = \"E\"\n",
    "   MATHS = \"M\"\n",
    "   GEOGRAPHY = \"G\"\n",
    "   SANSKRIT = \"S\"\n",
    "\n",
    "for sub in subjects:\n",
    "   print (sub.name, sub.value)"
   ]
  },
  {
   "cell_type": "markdown",
   "id": "3384e11c-ffc1-4d5c-b747-58fc56b70039",
   "metadata": {},
   "source": [
    "### In object-oriented programming, reflection refers to the ability to extract information about any object in use. You can get to know the type of object, whether is it a subclass of any other class, what are its attributes, and much more."
   ]
  },
  {
   "cell_type": "markdown",
   "id": "ce8134a8-3b97-4b3c-bd7e-1f565533894b",
   "metadata": {},
   "source": [
    "### Following is the list of reflection functions in Python −\n",
    "\n",
    "### type() Function\n",
    "### isinstance() Function\n",
    "### issubclass() Function\n",
    "### callable() Function\n",
    "### getattr() Function\n",
    "### setattr() Function\n",
    "### hasattr() Function\n",
    "### dir() Function"
   ]
  },
  {
   "cell_type": "code",
   "execution_count": 9,
   "id": "a7807e4d-5d12-4bde-8618-9b2fcb692036",
   "metadata": {},
   "outputs": [
    {
     "name": "stdout",
     "output_type": "stream",
     "text": [
      "<class '__main__.test'>\n"
     ]
    }
   ],
   "source": [
    "class test:\n",
    "   pass\n",
    "   \n",
    "obj = test()\n",
    "print (type(obj))"
   ]
  },
  {
   "cell_type": "code",
   "execution_count": 10,
   "id": "484c56a6-2d63-49c2-9883-8805b274dd8a",
   "metadata": {},
   "outputs": [
    {
     "name": "stdout",
     "output_type": "stream",
     "text": [
      "True\n",
      "True\n",
      "True\n",
      "True\n"
     ]
    }
   ],
   "source": [
    "print (isinstance(10, int))\n",
    "print (isinstance(2.56, float))\n",
    "print (isinstance(2+3j, complex))\n",
    "print (isinstance(\"Hello World\", str))"
   ]
  },
  {
   "cell_type": "code",
   "execution_count": 11,
   "id": "12301772-ba12-4836-9471-2b75890187d2",
   "metadata": {},
   "outputs": [
    {
     "name": "stdout",
     "output_type": "stream",
     "text": [
      "False\n",
      "False\n"
     ]
    }
   ],
   "source": [
    "print (isinstance([1,2,3], tuple))\n",
    "print (isinstance({1:'one', 2:'two'}, set))"
   ]
  },
  {
   "cell_type": "code",
   "execution_count": 12,
   "id": "dd0e582e-efa1-4d3e-b3ec-55be2cbd7df0",
   "metadata": {},
   "outputs": [
    {
     "name": "stdout",
     "output_type": "stream",
     "text": [
      "True\n",
      "True\n",
      "True\n"
     ]
    }
   ],
   "source": [
    "class test:\n",
    "   pass\n",
    "   \n",
    "print (isinstance(int, object))\n",
    "print (isinstance(str, object))\n",
    "print (isinstance(test, object))"
   ]
  },
  {
   "cell_type": "code",
   "execution_count": 13,
   "id": "94af27db-7de8-4921-8adc-98e7f885a43e",
   "metadata": {},
   "outputs": [
    {
     "name": "stdout",
     "output_type": "stream",
     "text": [
      "True\n",
      "True\n",
      "True\n"
     ]
    }
   ],
   "source": [
    "class test:\n",
    "   pass\n",
    "   \n",
    "print (issubclass(int, object))\n",
    "print (issubclass(str, object))\n",
    "print (issubclass(test, object))"
   ]
  },
  {
   "cell_type": "code",
   "execution_count": 14,
   "id": "d55aa7b4-c02c-4298-9003-4628189cc3da",
   "metadata": {},
   "outputs": [
    {
     "name": "stdout",
     "output_type": "stream",
     "text": [
      "False\n",
      "True\n",
      "False\n",
      "True\n"
     ]
    }
   ],
   "source": [
    "def test():\n",
    "   pass\n",
    "   \n",
    "print (callable(\"Hello\"))\n",
    "print (callable(abs))\n",
    "print (callable(list.clear([1,2])))\n",
    "print (callable(test))"
   ]
  },
  {
   "cell_type": "code",
   "execution_count": 15,
   "id": "4bbce660-6c36-4bb7-b809-a54c4211bc6e",
   "metadata": {},
   "outputs": [
    {
     "name": "stdout",
     "output_type": "stream",
     "text": [
      "Hello\n",
      "obj is callable? True\n"
     ]
    }
   ],
   "source": [
    "class test:\n",
    "   def __init__(self):\n",
    "      pass\n",
    "   def __call__(self):\n",
    "      print (\"Hello\")\n",
    "      \n",
    "obj = test()\n",
    "obj()\n",
    "print (\"obj is callable?\", callable(obj))"
   ]
  },
  {
   "cell_type": "code",
   "execution_count": 16,
   "id": "b4341a20-ef84-4236-8005-874fbea752be",
   "metadata": {},
   "outputs": [
    {
     "name": "stdout",
     "output_type": "stream",
     "text": [
      "Manav\n"
     ]
    }
   ],
   "source": [
    "class test:\n",
    "   def __init__(self):\n",
    "      self.name = \"Manav\"\n",
    "      \n",
    "obj = test()\n",
    "print (getattr(obj, \"name\"))"
   ]
  },
  {
   "cell_type": "code",
   "execution_count": 17,
   "id": "4ef4726b-56b2-404d-8b64-623184add074",
   "metadata": {},
   "outputs": [
    {
     "name": "stdout",
     "output_type": "stream",
     "text": [
      "Madhav 20\n"
     ]
    }
   ],
   "source": [
    "class test:\n",
    "   def __init__(self):\n",
    "      self.name = \"Manav\"\n",
    "      \n",
    "obj = test()\n",
    "setattr(obj, \"age\", 20)\n",
    "setattr(obj, \"name\", \"Madhav\")\n",
    "print (obj.name, obj.age)"
   ]
  },
  {
   "cell_type": "code",
   "execution_count": 18,
   "id": "5e3a11e3-9061-46cc-b0ee-a2bbec2a193a",
   "metadata": {},
   "outputs": [
    {
     "name": "stdout",
     "output_type": "stream",
     "text": [
      "False\n",
      "True\n"
     ]
    }
   ],
   "source": [
    "class test:\n",
    "   def __init__(self):\n",
    "      self.name = \"Manav\"\n",
    "      \n",
    "obj = test()\n",
    "print (hasattr(obj, \"age\"))\n",
    "print (hasattr(obj, \"name\"))"
   ]
  },
  {
   "cell_type": "code",
   "execution_count": 19,
   "id": "3eaabfd8-e44a-4188-b852-7c202b041884",
   "metadata": {},
   "outputs": [
    {
     "name": "stdout",
     "output_type": "stream",
     "text": [
      "dir(int): ['__abs__', '__add__', '__and__', '__bool__', '__ceil__', '__class__', '__delattr__', '__dir__', '__divmod__', '__doc__', '__eq__', '__float__', '__floor__', '__floordiv__', '__format__', '__ge__', '__getattribute__', '__getnewargs__', '__getstate__', '__gt__', '__hash__', '__index__', '__init__', '__init_subclass__', '__int__', '__invert__', '__le__', '__lshift__', '__lt__', '__mod__', '__mul__', '__ne__', '__neg__', '__new__', '__or__', '__pos__', '__pow__', '__radd__', '__rand__', '__rdivmod__', '__reduce__', '__reduce_ex__', '__repr__', '__rfloordiv__', '__rlshift__', '__rmod__', '__rmul__', '__ror__', '__round__', '__rpow__', '__rrshift__', '__rshift__', '__rsub__', '__rtruediv__', '__rxor__', '__setattr__', '__sizeof__', '__str__', '__sub__', '__subclasshook__', '__truediv__', '__trunc__', '__xor__', 'as_integer_ratio', 'bit_count', 'bit_length', 'conjugate', 'denominator', 'from_bytes', 'imag', 'is_integer', 'numerator', 'real', 'to_bytes']\n"
     ]
    }
   ],
   "source": [
    "print (\"dir(int):\", dir(int))"
   ]
  },
  {
   "cell_type": "code",
   "execution_count": 20,
   "id": "11b0bb6e-6e42-4d92-8445-bb72afda6ead",
   "metadata": {},
   "outputs": [
    {
     "name": "stdout",
     "output_type": "stream",
     "text": [
      "dir(dict): ['__class__', '__class_getitem__', '__contains__', '__delattr__', '__delitem__', '__dir__', '__doc__', '__eq__', '__format__', '__ge__', '__getattribute__', '__getitem__', '__getstate__', '__gt__', '__hash__', '__init__', '__init_subclass__', '__ior__', '__iter__', '__le__', '__len__', '__lt__', '__ne__', '__new__', '__or__', '__reduce__', '__reduce_ex__', '__repr__', '__reversed__', '__ror__', '__setattr__', '__setitem__', '__sizeof__', '__str__', '__subclasshook__', 'clear', 'copy', 'fromkeys', 'get', 'items', 'keys', 'pop', 'popitem', 'setdefault', 'update', 'values']\n"
     ]
    }
   ],
   "source": [
    "print (\"dir(dict):\", dir(dict))"
   ]
  },
  {
   "cell_type": "code",
   "execution_count": 21,
   "id": "77761739-9642-473b-9114-cc5f663a7707",
   "metadata": {},
   "outputs": [
    {
     "name": "stdout",
     "output_type": "stream",
     "text": [
      "dir(obj): ['__class__', '__delattr__', '__dict__', '__dir__', '__doc__', '__eq__', '__format__', '__ge__', '__getattribute__', '__getstate__', '__gt__', '__hash__', '__init__', '__init_subclass__', '__le__', '__lt__', '__module__', '__ne__', '__new__', '__reduce__', '__reduce_ex__', '__repr__', '__setattr__', '__sizeof__', '__str__', '__subclasshook__', '__weakref__', 'name']\n"
     ]
    }
   ],
   "source": [
    "class test:\n",
    "   def __init__(self):\n",
    "      self.name = \"Manav\"\n",
    "\n",
    "obj = test()\n",
    "print (\"dir(obj):\", dir(obj))"
   ]
  },
  {
   "cell_type": "code",
   "execution_count": null,
   "id": "cda828a3-3061-4ebe-a2cc-28bf318cb271",
   "metadata": {},
   "outputs": [],
   "source": []
  }
 ],
 "metadata": {
  "kernelspec": {
   "display_name": "Python 3 (ipykernel)",
   "language": "python",
   "name": "python3"
  },
  "language_info": {
   "codemirror_mode": {
    "name": "ipython",
    "version": 3
   },
   "file_extension": ".py",
   "mimetype": "text/x-python",
   "name": "python",
   "nbconvert_exporter": "python",
   "pygments_lexer": "ipython3",
   "version": "3.12.5"
  }
 },
 "nbformat": 4,
 "nbformat_minor": 5
}
