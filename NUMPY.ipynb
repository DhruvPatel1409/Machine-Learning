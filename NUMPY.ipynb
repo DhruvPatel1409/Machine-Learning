{
 "cells": [
  {
   "cell_type": "code",
   "execution_count": 1,
   "id": "78b471ad-c86c-4bdc-a899-fcc9aa090e9c",
   "metadata": {},
   "outputs": [],
   "source": [
    "import numpy as np"
   ]
  },
  {
   "cell_type": "code",
   "execution_count": 2,
   "id": "45c288a6-55ae-40c2-8590-9f9b2c14bb50",
   "metadata": {},
   "outputs": [
    {
     "data": {
      "text/plain": [
       "array([1, 2, 3])"
      ]
     },
     "execution_count": 2,
     "metadata": {},
     "output_type": "execute_result"
    }
   ],
   "source": [
    "a = np.array([1,2,3])\n",
    "a"
   ]
  },
  {
   "cell_type": "code",
   "execution_count": 3,
   "id": "3cb0b6fc-8935-4a89-9910-0c927e1f7b39",
   "metadata": {},
   "outputs": [
    {
     "data": {
      "text/plain": [
       "1"
      ]
     },
     "execution_count": 3,
     "metadata": {},
     "output_type": "execute_result"
    }
   ],
   "source": [
    "a[0]"
   ]
  },
  {
   "cell_type": "code",
   "execution_count": 4,
   "id": "bfaa9699-36b6-4a82-a270-9ab82a025b0e",
   "metadata": {},
   "outputs": [],
   "source": [
    "import time\n",
    "import sys"
   ]
  },
  {
   "cell_type": "code",
   "execution_count": 5,
   "id": "923f2b37-f2cb-4427-b8e2-7b8bc8edffe5",
   "metadata": {},
   "outputs": [
    {
     "name": "stdout",
     "output_type": "stream",
     "text": [
      "28000\n"
     ]
    }
   ],
   "source": [
    "b=range(1000)\n",
    "print(sys.getsizeof(5)*len(b))"
   ]
  },
  {
   "cell_type": "code",
   "execution_count": 6,
   "id": "c9dcdbc3-8079-47dc-ad98-edec6fc3e4f9",
   "metadata": {},
   "outputs": [
    {
     "name": "stdout",
     "output_type": "stream",
     "text": [
      "4000\n"
     ]
    }
   ],
   "source": [
    "c = np.arange(1000)\n",
    "print(c.size*c.itemsize)"
   ]
  },
  {
   "cell_type": "code",
   "execution_count": 7,
   "id": "4dd0fd03-831b-43ef-9715-84a0ee73f442",
   "metadata": {},
   "outputs": [],
   "source": [
    "size = 100000\n",
    "L1 = range(size)\n",
    "L2 = range(size)\n",
    "A1 = np.arange(size)\n",
    "A2 = np.arange(size)"
   ]
  },
  {
   "cell_type": "code",
   "execution_count": 8,
   "id": "be81807d-4543-4027-9715-9470c310c524",
   "metadata": {},
   "outputs": [
    {
     "name": "stdout",
     "output_type": "stream",
     "text": [
      "Python list took : 55.0227165222168\n"
     ]
    }
   ],
   "source": [
    "start = time.time()\n",
    "result = [(x+y) for x,y in zip(L1,L2)]\n",
    "print(\"Python list took :\",(time.time()-start)*1000)"
   ]
  },
  {
   "cell_type": "code",
   "execution_count": 9,
   "id": "c52ac198-52b6-4c9d-96f0-05564b517400",
   "metadata": {},
   "outputs": [
    {
     "name": "stdout",
     "output_type": "stream",
     "text": [
      "Numpy array took : 7.011175155639648\n"
     ]
    }
   ],
   "source": [
    "start = time.time()\n",
    "result = A1+A2\n",
    "print(\"Numpy array took :\",(time.time()-start)*1000)"
   ]
  },
  {
   "cell_type": "code",
   "execution_count": 10,
   "id": "f23a2086-8b19-4fc0-a405-4e4a287d861d",
   "metadata": {},
   "outputs": [
    {
     "data": {
      "text/plain": [
       "array([[1, 2],\n",
       "       [3, 4],\n",
       "       [5, 6]])"
      ]
     },
     "execution_count": 10,
     "metadata": {},
     "output_type": "execute_result"
    }
   ],
   "source": [
    "a = np.array([[1,2],[3,4],[5,6]])\n",
    "a"
   ]
  },
  {
   "cell_type": "code",
   "execution_count": 11,
   "id": "72c196b1-c2f3-4c1f-9b9a-65de04735d9b",
   "metadata": {},
   "outputs": [
    {
     "data": {
      "text/plain": [
       "2"
      ]
     },
     "execution_count": 11,
     "metadata": {},
     "output_type": "execute_result"
    }
   ],
   "source": [
    "a.ndim"
   ]
  },
  {
   "cell_type": "code",
   "execution_count": 12,
   "id": "8a08544e-9951-406e-920b-260adc2e7fb1",
   "metadata": {},
   "outputs": [
    {
     "data": {
      "text/plain": [
       "4"
      ]
     },
     "execution_count": 12,
     "metadata": {},
     "output_type": "execute_result"
    }
   ],
   "source": [
    "a.itemsize"
   ]
  },
  {
   "cell_type": "code",
   "execution_count": 13,
   "id": "5de88690-050a-4307-aa06-7bf1f80aab60",
   "metadata": {},
   "outputs": [
    {
     "data": {
      "text/plain": [
       "(3, 2)"
      ]
     },
     "execution_count": 13,
     "metadata": {},
     "output_type": "execute_result"
    }
   ],
   "source": [
    "a.shape"
   ]
  },
  {
   "cell_type": "code",
   "execution_count": 14,
   "id": "d2c7406d-ca9c-40fa-a872-2cfe669ddf82",
   "metadata": {},
   "outputs": [
    {
     "name": "stdout",
     "output_type": "stream",
     "text": [
      "[[1. 2.]\n",
      " [3. 4.]\n",
      " [5. 6.]]\n",
      "8\n"
     ]
    }
   ],
   "source": [
    "a = np.array([[1,2],[3,4],[5,6]],dtype=np.float64)\n",
    "print(a)\n",
    "print(a.itemsize)"
   ]
  },
  {
   "cell_type": "code",
   "execution_count": 15,
   "id": "f01592a7-a0ec-4b76-af54-46519d36b9b2",
   "metadata": {},
   "outputs": [
    {
     "name": "stdout",
     "output_type": "stream",
     "text": [
      "[[1.+0.j 2.+0.j]\n",
      " [3.+0.j 4.+0.j]\n",
      " [5.+0.j 6.+0.j]]\n",
      "16\n"
     ]
    }
   ],
   "source": [
    "a = np.array([[1,2],[3,4],[5,6]],dtype=complex)\n",
    "print(a)\n",
    "print(a.itemsize)"
   ]
  },
  {
   "cell_type": "code",
   "execution_count": 16,
   "id": "32353040-d470-4808-a87f-6c78bf920b1f",
   "metadata": {},
   "outputs": [
    {
     "data": {
      "text/plain": [
       "array([[0., 0., 0., 0.],\n",
       "       [0., 0., 0., 0.],\n",
       "       [0., 0., 0., 0.]])"
      ]
     },
     "execution_count": 16,
     "metadata": {},
     "output_type": "execute_result"
    }
   ],
   "source": [
    "np.zeros((3,4))"
   ]
  },
  {
   "cell_type": "code",
   "execution_count": 17,
   "id": "048a77f2-f611-40a6-927b-d011d2f99007",
   "metadata": {},
   "outputs": [
    {
     "data": {
      "text/plain": [
       "array([[1., 1., 1., 1.],\n",
       "       [1., 1., 1., 1.],\n",
       "       [1., 1., 1., 1.]])"
      ]
     },
     "execution_count": 17,
     "metadata": {},
     "output_type": "execute_result"
    }
   ],
   "source": [
    "np.ones((3,4))"
   ]
  },
  {
   "cell_type": "code",
   "execution_count": 18,
   "id": "a5675d60-cc09-406a-a203-7624d9ce1247",
   "metadata": {},
   "outputs": [
    {
     "data": {
      "text/plain": [
       "range(0, 5)"
      ]
     },
     "execution_count": 18,
     "metadata": {},
     "output_type": "execute_result"
    }
   ],
   "source": [
    "l=range(5)\n",
    "l"
   ]
  },
  {
   "cell_type": "code",
   "execution_count": 19,
   "id": "7904a95e-fbfc-421c-8851-0c4179fbbb2f",
   "metadata": {},
   "outputs": [
    {
     "data": {
      "text/plain": [
       "array([0, 1, 2, 3, 4])"
      ]
     },
     "execution_count": 19,
     "metadata": {},
     "output_type": "execute_result"
    }
   ],
   "source": [
    "np.arange(5)"
   ]
  },
  {
   "cell_type": "code",
   "execution_count": 20,
   "id": "026c2648-1fac-4e6b-abba-88d64bfd47ee",
   "metadata": {},
   "outputs": [
    {
     "name": "stdout",
     "output_type": "stream",
     "text": [
      "concatenation:\n",
      "['helloabc' 'hixyz']\n"
     ]
    }
   ],
   "source": [
    "print('concatenation:')\n",
    "print(np.char.add(['hello','hi'],['abc','xyz']))"
   ]
  },
  {
   "cell_type": "code",
   "execution_count": 21,
   "id": "90ffe4e8-8eb0-4a72-bdc5-50a0f1c3cb01",
   "metadata": {},
   "outputs": [
    {
     "name": "stdout",
     "output_type": "stream",
     "text": [
      "hellohellohello\n"
     ]
    }
   ],
   "source": [
    "print(np.char.multiply('hello',3))"
   ]
  },
  {
   "cell_type": "code",
   "execution_count": 22,
   "id": "02c49b09-0923-4e09-82ee-8d4819658c7b",
   "metadata": {},
   "outputs": [
    {
     "name": "stdout",
     "output_type": "stream",
     "text": [
      "-------hello--------\n"
     ]
    }
   ],
   "source": [
    "print(np.char.center('hello',20,fillchar='-'))"
   ]
  },
  {
   "cell_type": "code",
   "execution_count": 23,
   "id": "9254a9e4-2d57-47d5-bbbb-71696ae4a8b5",
   "metadata": {},
   "outputs": [
    {
     "name": "stdout",
     "output_type": "stream",
     "text": [
      "Hello\n"
     ]
    }
   ],
   "source": [
    "print(np.char.capitalize('hello'))"
   ]
  },
  {
   "cell_type": "code",
   "execution_count": 24,
   "id": "53384888-25df-46f1-8281-124b2ecc0ea8",
   "metadata": {},
   "outputs": [
    {
     "name": "stdout",
     "output_type": "stream",
     "text": [
      "Hello How Are You ?\n"
     ]
    }
   ],
   "source": [
    "print(np.char.title('hello how are you ?'))"
   ]
  },
  {
   "cell_type": "code",
   "execution_count": 25,
   "id": "f5d1602b-5e71-4462-aa75-593d83730268",
   "metadata": {},
   "outputs": [
    {
     "name": "stdout",
     "output_type": "stream",
     "text": [
      "hello\n",
      "['hello world']\n"
     ]
    }
   ],
   "source": [
    "print(np.char.lower('HELLO'))\n",
    "print(np.char.lower(['HELLO WORLD']))"
   ]
  },
  {
   "cell_type": "code",
   "execution_count": 26,
   "id": "dcbd972f-dcee-4b72-8115-9d9be5441b9e",
   "metadata": {},
   "outputs": [
    {
     "name": "stdout",
     "output_type": "stream",
     "text": [
      "PYTHON IS EASY\n",
      "['PYTHON' 'DATA']\n"
     ]
    }
   ],
   "source": [
    "print(np.char.upper('python is easy'))\n",
    "print(np.char.upper(['python','data']))"
   ]
  },
  {
   "cell_type": "code",
   "execution_count": 27,
   "id": "de51e5d3-7f99-4fb4-827e-2ad424824b0b",
   "metadata": {},
   "outputs": [
    {
     "name": "stdout",
     "output_type": "stream",
     "text": [
      "['are', 'you', 'going', 'to', 'home', 'or', 'not']\n"
     ]
    }
   ],
   "source": [
    "print(np.char.split('are you going to home or not'))"
   ]
  },
  {
   "cell_type": "code",
   "execution_count": 28,
   "id": "36ef88cf-73be-4bc6-b7ab-3d21c0432df9",
   "metadata": {},
   "outputs": [
    {
     "name": "stdout",
     "output_type": "stream",
     "text": [
      "['are you going to home', ' or not']\n"
     ]
    }
   ],
   "source": [
    "print(np.char.splitlines('are you going to home\\n or not'))"
   ]
  },
  {
   "cell_type": "code",
   "execution_count": 29,
   "id": "90d223b6-e4d9-495b-a0cc-4ac687897509",
   "metadata": {},
   "outputs": [
    {
     "name": "stdout",
     "output_type": "stream",
     "text": [
      "['nin' 'dmin' 'nait']\n"
     ]
    }
   ],
   "source": [
    "print(np.char.strip(['nina','admin','anaita'],'a'))"
   ]
  },
  {
   "cell_type": "code",
   "execution_count": 30,
   "id": "63a9cb0e-8eaa-4004-9f02-e55965d1e5ce",
   "metadata": {},
   "outputs": [
    {
     "name": "stdout",
     "output_type": "stream",
     "text": [
      "['d:a:y' 'y-m-d']\n"
     ]
    }
   ],
   "source": [
    "print(np.char.join([':','-'],['day','ymd']))"
   ]
  },
  {
   "cell_type": "code",
   "execution_count": 31,
   "id": "96183a9e-44b9-405f-8030-38abadca32eb",
   "metadata": {},
   "outputs": [
    {
     "name": "stdout",
     "output_type": "stream",
     "text": [
      "he was a good dancer\n"
     ]
    }
   ],
   "source": [
    "print(np.char.replace('he is a good dancer','is','was'))"
   ]
  },
  {
   "cell_type": "markdown",
   "id": "2925d530-40ce-4707-a0f9-20ac9ecceac4",
   "metadata": {},
   "source": [
    "# ARRAY MANIPULATION"
   ]
  },
  {
   "cell_type": "code",
   "execution_count": 33,
   "id": "f9bb0870-cc77-42d0-82f7-bba2fe3fd745",
   "metadata": {},
   "outputs": [
    {
     "name": "stdout",
     "output_type": "stream",
     "text": [
      "The original array is :\n",
      "[0 1 2 3 4 5 6 7 8]\n",
      "----------------\n",
      "The modified array is :\n",
      "[[0 1 2]\n",
      " [3 4 5]\n",
      " [6 7 8]]\n"
     ]
    }
   ],
   "source": [
    "a = np.arange(9)\n",
    "print('The original array is :')\n",
    "print(a)\n",
    "print('----------------')\n",
    "b = a.reshape(3,3)\n",
    "print('The modified array is :')\n",
    "print(b)"
   ]
  },
  {
   "cell_type": "code",
   "execution_count": 34,
   "id": "1956e172-6a43-416f-91af-c8efaaa73e9a",
   "metadata": {},
   "outputs": [
    {
     "name": "stdout",
     "output_type": "stream",
     "text": [
      "[0 1 2 3 4 5 6 7 8]\n"
     ]
    }
   ],
   "source": [
    "print(b.flatten())"
   ]
  },
  {
   "cell_type": "code",
   "execution_count": 37,
   "id": "000b45a0-100b-46da-8de2-7125c28dc5b1",
   "metadata": {},
   "outputs": [
    {
     "name": "stdout",
     "output_type": "stream",
     "text": [
      "[0 3 6 1 4 7 2 5 8]\n",
      "[0 1 2 3 4 5 6 7 8]\n"
     ]
    }
   ],
   "source": [
    "print(b.flatten(order='F'))\n",
    "print(b.flatten(order='C'))"
   ]
  },
  {
   "cell_type": "code",
   "execution_count": 39,
   "id": "2ee0f4f6-3317-429e-9501-5d53a71d9323",
   "metadata": {},
   "outputs": [
    {
     "data": {
      "text/plain": [
       "array([[ 0,  1,  2],\n",
       "       [ 3,  4,  5],\n",
       "       [ 6,  7,  8],\n",
       "       [ 9, 10, 11]])"
      ]
     },
     "execution_count": 39,
     "metadata": {},
     "output_type": "execute_result"
    }
   ],
   "source": [
    "a = np.arange(12).reshape(4,3)\n",
    "a"
   ]
  },
  {
   "cell_type": "code",
   "execution_count": 40,
   "id": "27e63c12-5d43-43af-b256-082078b16d9e",
   "metadata": {},
   "outputs": [
    {
     "data": {
      "text/plain": [
       "array([[ 0,  3,  6,  9],\n",
       "       [ 1,  4,  7, 10],\n",
       "       [ 2,  5,  8, 11]])"
      ]
     },
     "execution_count": 40,
     "metadata": {},
     "output_type": "execute_result"
    }
   ],
   "source": [
    "np.transpose(a)"
   ]
  },
  {
   "cell_type": "code",
   "execution_count": 41,
   "id": "aa6d7962-2a06-4a67-a62a-011327e10245",
   "metadata": {},
   "outputs": [
    {
     "data": {
      "text/plain": [
       "array([[0, 1, 2, 3],\n",
       "       [4, 5, 6, 7]])"
      ]
     },
     "execution_count": 41,
     "metadata": {},
     "output_type": "execute_result"
    }
   ],
   "source": [
    "b = np.arange(8).reshape(2,4)\n",
    "b"
   ]
  },
  {
   "cell_type": "code",
   "execution_count": 44,
   "id": "8f969879-dc22-4641-a453-4a2fab8e7702",
   "metadata": {},
   "outputs": [
    {
     "data": {
      "text/plain": [
       "array([[[0, 1],\n",
       "        [2, 3]],\n",
       "\n",
       "       [[4, 5],\n",
       "        [6, 7]]])"
      ]
     },
     "execution_count": 44,
     "metadata": {},
     "output_type": "execute_result"
    }
   ],
   "source": [
    "c = b.reshape(2,2,2)\n",
    "c"
   ]
  },
  {
   "cell_type": "code",
   "execution_count": 49,
   "id": "1ff68205-622b-46a0-a82c-683aec6a050e",
   "metadata": {},
   "outputs": [
    {
     "name": "stdout",
     "output_type": "stream",
     "text": [
      "[[[0 1]\n",
      "  [4 5]]\n",
      "\n",
      " [[2 3]\n",
      "  [6 7]]]\n",
      "[[[0 2]\n",
      "  [4 6]]\n",
      "\n",
      " [[1 3]\n",
      "  [5 7]]]\n",
      "[[[0 2]\n",
      "  [1 3]]\n",
      "\n",
      " [[4 6]\n",
      "  [5 7]]]\n"
     ]
    }
   ],
   "source": [
    "print(np.rollaxis(c,1))\n",
    "print(np.rollaxis(c,2))\n",
    "print(np.rollaxis(c,2,1))"
   ]
  },
  {
   "cell_type": "code",
   "execution_count": 51,
   "id": "e0d201a8-2030-40d3-aae4-d7df6e97c5d1",
   "metadata": {},
   "outputs": [
    {
     "data": {
      "text/plain": [
       "array([[[0, 2],\n",
       "        [1, 3]],\n",
       "\n",
       "       [[4, 6],\n",
       "        [5, 7]]])"
      ]
     },
     "execution_count": 51,
     "metadata": {},
     "output_type": "execute_result"
    }
   ],
   "source": [
    "np.swapaxes(c,1,2)"
   ]
  },
  {
   "cell_type": "markdown",
   "id": "f698209e-5822-4b0c-bf93-421d27726408",
   "metadata": {},
   "source": [
    "# NUMPY ARITHMETIC OPERATIONS"
   ]
  },
  {
   "cell_type": "code",
   "execution_count": 52,
   "id": "ec06f1e8-cc99-4cd4-87cf-f843c49f550b",
   "metadata": {},
   "outputs": [
    {
     "data": {
      "text/plain": [
       "array([[0, 1, 2],\n",
       "       [3, 4, 5],\n",
       "       [6, 7, 8]])"
      ]
     },
     "execution_count": 52,
     "metadata": {},
     "output_type": "execute_result"
    }
   ],
   "source": [
    "a = np.arange(9).reshape(3,3)\n",
    "a"
   ]
  },
  {
   "cell_type": "code",
   "execution_count": 58,
   "id": "07890260-7838-4b90-922b-8efb5a7df6ee",
   "metadata": {},
   "outputs": [
    {
     "data": {
      "text/plain": [
       "array([10, 10, 10])"
      ]
     },
     "execution_count": 58,
     "metadata": {},
     "output_type": "execute_result"
    }
   ],
   "source": [
    "b = np.array([10,10,10])\n",
    "b"
   ]
  },
  {
   "cell_type": "code",
   "execution_count": 59,
   "id": "e595d38d-0881-4cb7-a78e-939ab8f7911e",
   "metadata": {},
   "outputs": [
    {
     "name": "stdout",
     "output_type": "stream",
     "text": [
      "[[10 11 12]\n",
      " [13 14 15]\n",
      " [16 17 18]]\n"
     ]
    }
   ],
   "source": [
    "print(np.add(a,b))"
   ]
  },
  {
   "cell_type": "code",
   "execution_count": 60,
   "id": "14b03235-8519-42ed-a72b-65c3497be686",
   "metadata": {},
   "outputs": [
    {
     "data": {
      "text/plain": [
       "array([[-10,  -9,  -8],\n",
       "       [ -7,  -6,  -5],\n",
       "       [ -4,  -3,  -2]])"
      ]
     },
     "execution_count": 60,
     "metadata": {},
     "output_type": "execute_result"
    }
   ],
   "source": [
    "np.subtract(a,b)"
   ]
  },
  {
   "cell_type": "code",
   "execution_count": 61,
   "id": "f96a98f7-0da9-443b-ac54-97c8a49176bc",
   "metadata": {},
   "outputs": [
    {
     "data": {
      "text/plain": [
       "array([[ 0, 10, 20],\n",
       "       [30, 40, 50],\n",
       "       [60, 70, 80]])"
      ]
     },
     "execution_count": 61,
     "metadata": {},
     "output_type": "execute_result"
    }
   ],
   "source": [
    "np.multiply(a,b)"
   ]
  },
  {
   "cell_type": "code",
   "execution_count": 62,
   "id": "bff95cb6-e579-4246-b64e-f7bd04f588d7",
   "metadata": {},
   "outputs": [
    {
     "data": {
      "text/plain": [
       "array([[0. , 0.1, 0.2],\n",
       "       [0.3, 0.4, 0.5],\n",
       "       [0.6, 0.7, 0.8]])"
      ]
     },
     "execution_count": 62,
     "metadata": {},
     "output_type": "execute_result"
    }
   ],
   "source": [
    "np.divide(a,b)"
   ]
  },
  {
   "cell_type": "markdown",
   "id": "a9e07887-f54b-4460-a2df-f861241366a2",
   "metadata": {},
   "source": [
    "# SLICING"
   ]
  },
  {
   "cell_type": "code",
   "execution_count": 63,
   "id": "a7792af3-d12c-4c04-8f0e-363bdf2c3b51",
   "metadata": {},
   "outputs": [
    {
     "data": {
      "text/plain": [
       "array([ 0,  1,  2,  3,  4,  5,  6,  7,  8,  9, 10, 11, 12, 13, 14, 15, 16,\n",
       "       17, 18, 19])"
      ]
     },
     "execution_count": 63,
     "metadata": {},
     "output_type": "execute_result"
    }
   ],
   "source": [
    "a = np.arange(20)\n",
    "a"
   ]
  },
  {
   "cell_type": "code",
   "execution_count": 68,
   "id": "8493119d-3d88-42fd-a80a-fa4e37d7ec24",
   "metadata": {},
   "outputs": [
    {
     "name": "stdout",
     "output_type": "stream",
     "text": [
      "[ 4  5  6  7  8  9 10 11 12 13 14 15 16 17 18 19]\n",
      "[0 1 2 3]\n",
      "5\n"
     ]
    }
   ],
   "source": [
    "print(a[4:])\n",
    "print(a[:4])\n",
    "print(a[5])"
   ]
  },
  {
   "cell_type": "code",
   "execution_count": 69,
   "id": "2f1a618c-d780-4943-8f18-46a47900d4be",
   "metadata": {},
   "outputs": [
    {
     "data": {
      "text/plain": [
       "array([2, 4, 6, 8])"
      ]
     },
     "execution_count": 69,
     "metadata": {},
     "output_type": "execute_result"
    }
   ],
   "source": [
    "s = slice(2,9,2) # last 2 is step size\n",
    "a[s]"
   ]
  },
  {
   "cell_type": "markdown",
   "id": "a557f935-29bd-4a23-938e-10c10627bccf",
   "metadata": {},
   "source": [
    "# ITERATING OVER ARRAY"
   ]
  },
  {
   "cell_type": "code",
   "execution_count": 77,
   "id": "b0bf30d7-ca42-4cee-bfde-5988ee1be7f3",
   "metadata": {},
   "outputs": [
    {
     "data": {
      "text/plain": [
       "array([[ 0,  5, 10],\n",
       "       [15, 20, 25],\n",
       "       [30, 35, 40]])"
      ]
     },
     "execution_count": 77,
     "metadata": {},
     "output_type": "execute_result"
    }
   ],
   "source": [
    "a = np.arange(0,45,5)\n",
    "a = a.reshape(3,3)\n",
    "a"
   ]
  },
  {
   "cell_type": "code",
   "execution_count": 78,
   "id": "b0543815-97ee-4614-abd4-6dff34130ca4",
   "metadata": {},
   "outputs": [
    {
     "name": "stdout",
     "output_type": "stream",
     "text": [
      "0\n",
      "5\n",
      "10\n",
      "15\n",
      "20\n",
      "25\n",
      "30\n",
      "35\n",
      "40\n"
     ]
    }
   ],
   "source": [
    "for x in np.nditer(a):\n",
    "    print(x)"
   ]
  },
  {
   "cell_type": "code",
   "execution_count": 79,
   "id": "b985bc64-a8b6-4fe6-8a0d-cf460ac12db8",
   "metadata": {},
   "outputs": [
    {
     "name": "stdout",
     "output_type": "stream",
     "text": [
      "[[ 0  5 10]\n",
      " [15 20 25]\n",
      " [30 35 40]]\n",
      "0\n",
      "5\n",
      "10\n",
      "15\n",
      "20\n",
      "25\n",
      "30\n",
      "35\n",
      "40\n",
      "0\n",
      "15\n",
      "30\n",
      "5\n",
      "20\n",
      "35\n",
      "10\n",
      "25\n",
      "40\n"
     ]
    }
   ],
   "source": [
    "print(a)\n",
    "for x in np.nditer(a,order=\"C\"):\n",
    "    print(x)\n",
    "\n",
    "for x in np.nditer(a,order=\"F\"):\n",
    "    print(x)"
   ]
  },
  {
   "cell_type": "markdown",
   "id": "774b5320-39f4-42d1-b720-d311ce6638f4",
   "metadata": {},
   "source": [
    "# JOINING ARRAYS"
   ]
  },
  {
   "cell_type": "code",
   "execution_count": 86,
   "id": "0caf21f2-d98b-4163-8bd3-e1e8839ff63f",
   "metadata": {},
   "outputs": [
    {
     "name": "stdout",
     "output_type": "stream",
     "text": [
      "first array\n",
      "[[1 2]\n",
      " [3 4]]\n",
      "second array\n",
      "[[5 6]\n",
      " [7 8]]\n",
      "joining two arrays along axis 0 : \n",
      "[[1 2]\n",
      " [3 4]\n",
      " [5 6]\n",
      " [7 8]]\n",
      "\n",
      "\n",
      "joining two arrays along axis 1 : \n",
      "[[1 2 5 6]\n",
      " [3 4 7 8]]\n"
     ]
    }
   ],
   "source": [
    "a = np.array([[1,2],[3,4]])\n",
    "print('first array')\n",
    "print(a)\n",
    "\n",
    "b = np.array([[5,6],[7,8]])\n",
    "print('second array')\n",
    "print(b)\n",
    "\n",
    "print('joining two arrays along axis 0 : ')\n",
    "print(np.concatenate((a,b)))\n",
    "print('\\n')\n",
    "\n",
    "print('joining two arrays along axis 1 : ')\n",
    "print(np.concatenate((a,b),axis=1))"
   ]
  },
  {
   "cell_type": "markdown",
   "id": "70c6c32d-18af-41c2-b801-5c6f4fc58cd9",
   "metadata": {},
   "source": [
    "# SPLITTING ARRAYS"
   ]
  },
  {
   "cell_type": "code",
   "execution_count": 88,
   "id": "e1ba767d-cf59-4c3f-9620-9e80f293fe7f",
   "metadata": {},
   "outputs": [
    {
     "name": "stdout",
     "output_type": "stream",
     "text": [
      "[0 1 2 3 4 5 6 7 8]\n"
     ]
    },
    {
     "data": {
      "text/plain": [
       "[array([0, 1, 2]), array([3, 4, 5]), array([6, 7, 8])]"
      ]
     },
     "execution_count": 88,
     "metadata": {},
     "output_type": "execute_result"
    }
   ],
   "source": [
    "a = np.arange(9)\n",
    "print(a)\n",
    "np.split(a,3)"
   ]
  },
  {
   "cell_type": "code",
   "execution_count": 89,
   "id": "f530b475-d76b-4e4d-b9ea-cf8e799efc12",
   "metadata": {},
   "outputs": [
    {
     "data": {
      "text/plain": [
       "[array([0, 1, 2, 3]), array([4]), array([5, 6, 7, 8])]"
      ]
     },
     "execution_count": 89,
     "metadata": {},
     "output_type": "execute_result"
    }
   ],
   "source": [
    "np.split(a,[4,5])"
   ]
  },
  {
   "cell_type": "code",
   "execution_count": 90,
   "id": "bfe291ef-6c96-4441-a7d9-67d2001a4910",
   "metadata": {},
   "outputs": [
    {
     "data": {
      "text/plain": [
       "[array([0, 1, 2, 3]), array([4, 5, 6]), array([7, 8])]"
      ]
     },
     "execution_count": 90,
     "metadata": {},
     "output_type": "execute_result"
    }
   ],
   "source": [
    "np.split(a,[4,7])"
   ]
  },
  {
   "cell_type": "markdown",
   "id": "7aea68c7-ebf6-4d01-b03c-dd63f7d453a1",
   "metadata": {},
   "source": [
    "# RESIZING AN ARRAY"
   ]
  },
  {
   "cell_type": "code",
   "execution_count": 95,
   "id": "f6aefc1a-95a2-49dc-9b77-cc50c446d94a",
   "metadata": {},
   "outputs": [
    {
     "name": "stdout",
     "output_type": "stream",
     "text": [
      "[[1 2 3]\n",
      " [4 5 6]]\n",
      "(2, 3)\n",
      "\n",
      "\n",
      "[[1 2]\n",
      " [3 4]\n",
      " [5 6]]\n",
      "(3, 2)\n",
      "\n",
      "\n",
      "[[1 2 3]\n",
      " [4 5 6]\n",
      " [1 2 3]]\n",
      "(3, 3)\n"
     ]
    }
   ],
   "source": [
    "a = np.array([[1,2,3],[4,5,6]])\n",
    "print(a)\n",
    "print(a.shape)\n",
    "print('\\n')\n",
    "\n",
    "b = np.resize(a,(3,2))\n",
    "print(b)\n",
    "print(b.shape)\n",
    "print('\\n')\n",
    "\n",
    "c = np.resize(a,(3,3))\n",
    "print(c)\n",
    "print(c.shape)"
   ]
  },
  {
   "cell_type": "markdown",
   "id": "afbfd30c-c018-499b-815f-14adf27f509d",
   "metadata": {},
   "source": [
    "# histogram"
   ]
  },
  {
   "cell_type": "code",
   "execution_count": 96,
   "id": "08f4a6dc-e889-4a5f-8710-5423b3637ed8",
   "metadata": {},
   "outputs": [],
   "source": [
    "import matplotlib.pyplot as plt"
   ]
  },
  {
   "cell_type": "code",
   "execution_count": 97,
   "id": "6b1e71d9-dd95-477c-a117-3cdbf08babaf",
   "metadata": {},
   "outputs": [
    {
     "data": {
      "text/plain": [
       "Text(0.5, 1.0, 'histogram')"
      ]
     },
     "execution_count": 97,
     "metadata": {},
     "output_type": "execute_result"
    },
    {
     "data": {
      "image/png": "[encoded data removed]",
      "text/plain": [
       "<Figure size 640x480 with 1 Axes>"
      ]
     },
     "metadata": {},
     "output_type": "display_data"
    }
   ],
   "source": [
    "a = np.array([20,87,53,74,56,51,11,20,40,15,79,25,27])\n",
    "plt.hist(a,bins=[0,20,40,60,80,100])\n",
    "plt.title('histogram')"
   ]
  },
  {
   "cell_type": "code",
   "execution_count": 98,
   "id": "51185a96-c5a6-41be-a5e8-b4f4646a1490",
   "metadata": {},
   "outputs": [
    {
     "data": {
      "text/plain": [
       "Text(0.5, 1.0, 'histogram')"
      ]
     },
     "execution_count": 98,
     "metadata": {},
     "output_type": "execute_result"
    },
    {
     "data": {
      "image/png": "[encoded data removed]",
      "text/plain": [
       "<Figure size 640x480 with 1 Axes>"
      ]
     },
     "metadata": {},
     "output_type": "display_data"
    }
   ],
   "source": [
    "plt.hist(a,bins=[0,10,20,30,40,50,60,70,80,90,100])\n",
    "plt.title('histogram')"
   ]
  },
  {
   "cell_type": "code",
   "execution_count": 99,
   "id": "c4c4b7e2-4610-4fb0-a0f0-a53b21909721",
   "metadata": {},
   "outputs": [
    {
     "name": "stdout",
     "output_type": "stream",
     "text": [
      "[1.         1.22222222 1.44444444 1.66666667 1.88888889 2.11111111\n",
      " 2.33333333 2.55555556 2.77777778 3.        ]\n"
     ]
    }
   ],
   "source": [
    "a = np.linspace(1,3,10)\n",
    "print(a)"
   ]
  },
  {
   "cell_type": "code",
   "execution_count": 102,
   "id": "1135148b-8e8c-443f-b3f1-d74a36caa6c0",
   "metadata": {},
   "outputs": [
    {
     "name": "stdout",
     "output_type": "stream",
     "text": [
      "[5 7 9]\n"
     ]
    }
   ],
   "source": [
    "a = np.array([(1,2,3),(4,5,6)])\n",
    "print(a.sum(axis=0))"
   ]
  },
  {
   "cell_type": "code",
   "execution_count": 110,
   "id": "c7851bae-31de-4cec-bcef-b486fea7a10b",
   "metadata": {},
   "outputs": [
    {
     "name": "stdout",
     "output_type": "stream",
     "text": [
      "[[1.         1.41421356 1.73205081]\n",
      " [1.73205081 2.23606798 2.44948974]]\n",
      "\n",
      "\n",
      "1.699673171197595\n",
      "\n",
      "\n",
      "[1 2 3 3 5 6]\n",
      "\n",
      "\n",
      "[[0.         0.30103    0.47712125]\n",
      " [0.47712125 0.69897    0.77815125]]\n"
     ]
    }
   ],
   "source": [
    "a = np.array([(1,2,3),(3,5,6)])\n",
    "print(np.sqrt(a))\n",
    "print('\\n')\n",
    "print(np.std(a))\n",
    "print('\\n')\n",
    "print(a.ravel())\n",
    "print('\\n')\n",
    "print(np.log10(a))"
   ]
  },
  {
   "cell_type": "code",
   "execution_count": 111,
   "id": "a7f30efb-37ed-44f1-a214-349fb8e813cb",
   "metadata": {},
   "outputs": [
    {
     "data": {
      "text/plain": [
       "[<matplotlib.lines.Line2D at 0x277be1df410>]"
      ]
     },
     "execution_count": 111,
     "metadata": {},
     "output_type": "execute_result"
    },
    {
     "data": {
      "image/png": "[encoded data removed]",
      "text/plain": [
       "<Figure size 640x480 with 1 Axes>"
      ]
     },
     "metadata": {},
     "output_type": "display_data"
    }
   ],
   "source": [
    "x = np.arange(0,3*np.pi,0.1)\n",
    "y = np.sin(x)\n",
    "plt.plot(x,y)"
   ]
  },
  {
   "cell_type": "code",
   "execution_count": 113,
   "id": "7ba91854-06ef-4c66-8e52-a8538045f58e",
   "metadata": {},
   "outputs": [
    {
     "data": {
      "text/plain": [
       "array([[0.49963955, 0.06358496,        nan, 0.80291972, 0.80189303,\n",
       "        0.06530754, 0.28840524, 0.66607177, 0.42542755, 0.85156074],\n",
       "       [0.49057092, 0.19696543, 0.39517465, 0.30807013, 0.40231127,\n",
       "        0.88272876, 0.91123924, 0.685186  , 0.60195095, 0.7790764 ],\n",
       "       [0.21437524, 0.86126882, 0.82361714, 0.72333846, 0.24397701,\n",
       "        0.51755823, 0.00279025, 0.527765  , 0.48748648, 0.61228908],\n",
       "       [0.99405198, 0.4673437 , 0.21045412, 0.63836589, 0.87192955,\n",
       "        0.99476279, 0.29211033, 0.18818755,        nan, 0.65302917],\n",
       "       [0.04930534,        nan, 0.47658923, 0.21459883, 0.84750238,\n",
       "        0.42701979, 0.62976748, 0.0446294 , 0.96828699, 0.4272575 ],\n",
       "       [0.57441674, 0.05594386, 0.38065191, 0.79676466, 0.47018088,\n",
       "        0.39001007, 0.64959023, 0.72118693, 0.11281767, 0.14287991],\n",
       "       [0.49461796, 0.72074636, 0.8880634 , 0.24331742, 0.45161972,\n",
       "        0.55442299, 0.06761117, 0.4858428 , 0.89688691, 0.37545672],\n",
       "       [0.94090635, 0.22417032, 0.2647092 , 0.35211356, 0.00750888,\n",
       "        0.82330862, 0.39578599, 0.79230238, 0.92015159, 0.76592442],\n",
       "       [0.97522408, 0.39889191, 0.1566649 , 0.99393703, 0.48187455,\n",
       "        0.59016234, 0.6037835 , 0.67890693, 0.31676859, 0.61109518],\n",
       "       [0.06015761, 0.57550083, 0.70151119, 0.04039544, 0.02305891,\n",
       "        0.01172601, 0.07298769, 0.45015636, 0.37789631,        nan]])"
      ]
     },
     "execution_count": 113,
     "metadata": {},
     "output_type": "execute_result"
    }
   ],
   "source": [
    "z = np.random.rand(10,10)\n",
    "z[np.random.randint(10,size=5),np.random.randint(10,size=5)] = np.nan\n",
    "z"
   ]
  },
  {
   "cell_type": "code",
   "execution_count": null,
   "id": "a35fb407-7d28-4a77-81e4-c11d5587c14c",
   "metadata": {},
   "outputs": [],
   "source": []
  }
 ],
 "metadata": {
  "kernelspec": {
   "display_name": "Python 3 (ipykernel)",
   "language": "python",
   "name": "python3"
  },
  "language_info": {
   "codemirror_mode": {
    "name": "ipython",
    "version": 3
   },
   "file_extension": ".py",
   "mimetype": "text/x-python",
   "name": "python",
   "nbconvert_exporter": "python",
   "pygments_lexer": "ipython3",
   "version": "3.12.5"
  }
 },
 "nbformat": 4,
 "nbformat_minor": 5
}
