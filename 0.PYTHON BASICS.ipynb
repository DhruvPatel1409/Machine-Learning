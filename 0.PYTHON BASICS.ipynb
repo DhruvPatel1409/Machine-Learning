{
 "cells": [
  {
   "cell_type": "markdown",
   "id": "20536d63-ac9e-4b01-aed5-b9f4570f0acb",
   "metadata": {},
   "source": [
    "# keywords"
   ]
  },
  {
   "cell_type": "code",
   "execution_count": 2,
   "id": "95ec0be4-4d3c-4286-a4b4-4fdd4d675301",
   "metadata": {},
   "outputs": [],
   "source": [
    "import sys\n",
    "import keyword\n",
    "import operator\n",
    "from datetime import datetime\n",
    "import os"
   ]
  },
  {
   "cell_type": "code",
   "execution_count": 3,
   "id": "fb4e438b-a201-4bee-abcb-994e47eea352",
   "metadata": {},
   "outputs": [
    {
     "name": "stdout",
     "output_type": "stream",
     "text": [
      "['False', 'None', 'True', 'and', 'as', 'assert', 'async', 'await', 'break', 'class', 'continue', 'def', 'del', 'elif', 'else', 'except', 'finally', 'for', 'from', 'global', 'if', 'import', 'in', 'is', 'lambda', 'nonlocal', 'not', 'or', 'pass', 'raise', 'return', 'try', 'while', 'with', 'yield']\n"
     ]
    }
   ],
   "source": [
    "print(keyword.kwlist) "
   ]
  },
  {
   "cell_type": "markdown",
   "id": "7d3b22ec-6dcd-4076-9133-51cfbe0198fe",
   "metadata": {},
   "source": [
    "# Identifiers :\n",
    "## An identifier is a name given to entities like class, functions, variables, etc.\n",
    "## It helps to differentiate one entity from another"
   ]
  },
  {
   "cell_type": "code",
   "execution_count": 4,
   "id": "a08609c7-4ae2-473d-ad1c-94561ee94171",
   "metadata": {},
   "outputs": [],
   "source": [
    "val2 = 10"
   ]
  },
  {
   "cell_type": "code",
   "execution_count": 5,
   "id": "0f3f13a8-fd8a-4c8a-be6c-6fc02f5c95b4",
   "metadata": {},
   "outputs": [],
   "source": [
    "val_ = 99"
   ]
  },
  {
   "cell_type": "markdown",
   "id": "0a37d789-48cf-4411-b86f-86c08ca3da7c",
   "metadata": {},
   "source": [
    "# Comments\n",
    "## Comments can be used to explain the code for more readabilty."
   ]
  },
  {
   "cell_type": "code",
   "execution_count": 6,
   "id": "c5063ff7-71e3-4899-ac7f-1a505147be1e",
   "metadata": {},
   "outputs": [],
   "source": [
    "# Single line comment\n",
    "val1 = 10"
   ]
  },
  {
   "cell_type": "code",
   "execution_count": 7,
   "id": "bbcdcfc8-c210-4461-a8c0-62ffb5d6eb70",
   "metadata": {},
   "outputs": [],
   "source": [
    "'''\n",
    "Multiple \n",
    "line \n",
    "comment\n",
    "'''\n",
    "val1 = 10"
   ]
  },
  {
   "cell_type": "code",
   "execution_count": 8,
   "id": "55708695-7bcf-413c-bb0d-4b07d61c5b85",
   "metadata": {},
   "outputs": [],
   "source": [
    "# Multiple \n",
    "# line \n",
    "# comment\n",
    "val1 = 10"
   ]
  },
  {
   "cell_type": "code",
   "execution_count": 9,
   "id": "d92c9e67-3aff-4a1c-9658-3e4f86b9e0f6",
   "metadata": {},
   "outputs": [],
   "source": [
    "\"\"\"\n",
    "Multiple \n",
    "line \n",
    "comment\n",
    "\"\"\"\n",
    "val1 = 10"
   ]
  },
  {
   "cell_type": "markdown",
   "id": "1f79e93d-f058-4054-8747-8c84e4360528",
   "metadata": {},
   "source": [
    "# Statements\n",
    "### Instructions that a Python interpreter can execute."
   ]
  },
  {
   "cell_type": "code",
   "execution_count": 10,
   "id": "ced2ee2b-b9f7-4276-bf55-336635007eb7",
   "metadata": {},
   "outputs": [
    {
     "data": {
      "text/plain": [
       "30"
      ]
     },
     "execution_count": 10,
     "metadata": {},
     "output_type": "execute_result"
    }
   ],
   "source": [
    "# Single line statement\n",
    "p1 = 10 + 20\n",
    "p1"
   ]
  },
  {
   "cell_type": "code",
   "execution_count": 11,
   "id": "051be9a0-e55c-436c-9aea-3e7713b7cd98",
   "metadata": {},
   "outputs": [
    {
     "data": {
      "text/plain": [
       "['a', 'b', 'c', 'd']"
      ]
     },
     "execution_count": 11,
     "metadata": {},
     "output_type": "execute_result"
    }
   ],
   "source": [
    "# Single line statement\n",
    "p2 = ['a' , 'b' , 'c' , 'd']\n",
    "p2"
   ]
  },
  {
   "cell_type": "code",
   "execution_count": 12,
   "id": "13961ed7-1eba-4545-bb30-d132ddb1b370",
   "metadata": {},
   "outputs": [
    {
     "data": {
      "text/plain": [
       "290"
      ]
     },
     "execution_count": 12,
     "metadata": {},
     "output_type": "execute_result"
    }
   ],
   "source": [
    "# Multiple line statement\n",
    "p1 = 20 + 30 \\\n",
    " + 40 + 50 + \\\n",
    " + 70 + 80\n",
    "p1"
   ]
  },
  {
   "cell_type": "code",
   "execution_count": 13,
   "id": "2391720a-0b56-40cd-9c32-18bc1e9f99ef",
   "metadata": {},
   "outputs": [
    {
     "data": {
      "text/plain": [
       "['a', 'b', 'c', 'd']"
      ]
     },
     "execution_count": 13,
     "metadata": {},
     "output_type": "execute_result"
    }
   ],
   "source": [
    "# Multiple line statement\n",
    "p2 = ['a' , \n",
    " 'b' , \n",
    " 'c' , \n",
    " 'd'\n",
    " ]\n",
    "p2"
   ]
  },
  {
   "cell_type": "markdown",
   "id": "753eaf2d-c59b-420a-89a8-c3534f73230f",
   "metadata": {},
   "source": [
    "# Indentation\n",
    "### Indentation refers to the spaces at the beginning of a code line. It is very important as Python uses indentation to indicate a block of code.If the indentation is not correct we will endup with with IndentationError error."
   ]
  },
  {
   "cell_type": "code",
   "execution_count": 14,
   "id": "79b035ea-c321-4295-bd31-a690424125d7",
   "metadata": {},
   "outputs": [
    {
     "name": "stdout",
     "output_type": "stream",
     "text": [
      "P is equal to 10\n"
     ]
    }
   ],
   "source": [
    "p = 10\n",
    "if p == 10:\n",
    " print ('P is equal to 10')"
   ]
  },
  {
   "cell_type": "markdown",
   "id": "2b3bfcae-3ecc-481a-916e-72cff5a167b8",
   "metadata": {},
   "source": [
    "# Variables\n",
    "### A Python variable is a reserved memory location to store values.A variable is created the moment you first assign a value to it."
   ]
  },
  {
   "cell_type": "code",
   "execution_count": 16,
   "id": "2ca0052a-677b-4ab2-b9ea-e05cd22e3cef",
   "metadata": {},
   "outputs": [
    {
     "data": {
      "text/plain": [
       "140717946441048"
      ]
     },
     "execution_count": 16,
     "metadata": {},
     "output_type": "execute_result"
    }
   ],
   "source": [
    "p = 30\n",
    "id(p)"
   ]
  },
  {
   "cell_type": "code",
   "execution_count": 17,
   "id": "c0f06b59-e696-4b17-b394-e37338bc16e4",
   "metadata": {},
   "outputs": [
    {
     "data": {
      "text/plain": [
       "'0x7ffb73360d58'"
      ]
     },
     "execution_count": 17,
     "metadata": {},
     "output_type": "execute_result"
    }
   ],
   "source": [
    "hex(id(p))"
   ]
  },
  {
   "cell_type": "code",
   "execution_count": 18,
   "id": "71a5e38d-d9a8-412a-96da-e3e35998ac6c",
   "metadata": {},
   "outputs": [
    {
     "data": {
      "text/plain": [
       "(20, int, '0x7ffb73360c18')"
      ]
     },
     "execution_count": 18,
     "metadata": {},
     "output_type": "execute_result"
    }
   ],
   "source": [
    "p = 20 \n",
    "q = 20\n",
    "r = q \n",
    "p , type(p), hex(id(p))"
   ]
  },
  {
   "cell_type": "code",
   "execution_count": 19,
   "id": "beab3dc7-b835-4367-bbce-a0e5a3649a2f",
   "metadata": {},
   "outputs": [
    {
     "data": {
      "text/plain": [
       "30"
      ]
     },
     "execution_count": 19,
     "metadata": {},
     "output_type": "execute_result"
    }
   ],
   "source": [
    "p = 20\n",
    "p = p + 10 # Variable Overwriting\n",
    "p"
   ]
  },
  {
   "cell_type": "markdown",
   "id": "b510abf5-8d51-47fa-894b-384fc08876c5",
   "metadata": {},
   "source": [
    "# Variable Assigment"
   ]
  },
  {
   "cell_type": "code",
   "execution_count": 20,
   "id": "ea87c2bd-4b4e-4d62-95b4-7e78de73fe64",
   "metadata": {},
   "outputs": [
    {
     "name": "stdout",
     "output_type": "stream",
     "text": [
      "10\n",
      "2.57\n",
      "Python Language\n"
     ]
    }
   ],
   "source": [
    "intvar = 10 # Integer variable\n",
    "floatvar = 2.57 # Float Variable\n",
    "strvar = \"Python Language\" # String variable\n",
    "print(intvar)\n",
    "print(floatvar)\n",
    "print(strvar)"
   ]
  },
  {
   "cell_type": "code",
   "execution_count": 21,
   "id": "374692b9-4be3-42aa-aee3-bf38868ef641",
   "metadata": {},
   "outputs": [
    {
     "name": "stdout",
     "output_type": "stream",
     "text": [
      "10\n",
      "2.57\n",
      "Python Language\n"
     ]
    }
   ],
   "source": [
    "intvar , floatvar , strvar = 10,2.57,\"Python Language\" # Using commas to separate\n",
    "print(intvar)\n",
    "print(floatvar)\n",
    "print(strvar)"
   ]
  },
  {
   "cell_type": "code",
   "execution_count": 22,
   "id": "3e1fd0e3-923a-4159-8e09-a8d66ad157d3",
   "metadata": {},
   "outputs": [
    {
     "name": "stdout",
     "output_type": "stream",
     "text": [
      "44 44 44 44\n"
     ]
    }
   ],
   "source": [
    "p1 = p2 = p3 = p4 = 44 # All variables pointing to same value\n",
    "print(p1,p2,p3,p4)"
   ]
  },
  {
   "cell_type": "markdown",
   "id": "43eba653-9dcd-451e-9bb4-f82287ee9ba1",
   "metadata": {},
   "source": [
    "# data types : str , int , float , complex , list , tuple , range , dict , set , bool,bytes"
   ]
  },
  {
   "cell_type": "code",
   "execution_count": 31,
   "id": "781cfe52-f7c7-434e-bd9c-4f954f094775",
   "metadata": {},
   "outputs": [
    {
     "name": "stdout",
     "output_type": "stream",
     "text": [
      "<class 'NoneType'>\n"
     ]
    }
   ],
   "source": [
    "none = None\n",
    "print(type(none))"
   ]
  },
  {
   "cell_type": "code",
   "execution_count": 32,
   "id": "bf4aa6bc-bcec-43cc-a0e9-0fea34a53d85",
   "metadata": {},
   "outputs": [
    {
     "name": "stdout",
     "output_type": "stream",
     "text": [
      "<class 'bool'>\n"
     ]
    }
   ],
   "source": [
    "boolean = bool(True)\n",
    "print(type(boolean))"
   ]
  },
  {
   "cell_type": "code",
   "execution_count": 33,
   "id": "8e5fee66-1bb5-45d2-adc0-41c458644335",
   "metadata": {},
   "outputs": [
    {
     "name": "stdout",
     "output_type": "stream",
     "text": [
      "<class 'int'>\n"
     ]
    }
   ],
   "source": [
    "integer =1\n",
    "print(type(integer))"
   ]
  },
  {
   "cell_type": "code",
   "execution_count": 34,
   "id": "ca31ce0e-01b1-46cf-8dc6-9f41e0257097",
   "metadata": {},
   "outputs": [
    {
     "name": "stdout",
     "output_type": "stream",
     "text": [
      "<class 'float'>\n"
     ]
    }
   ],
   "source": [
    "Long = 3.4258654569247896440000044556\n",
    "print(type(Long))"
   ]
  },
  {
   "cell_type": "code",
   "execution_count": 35,
   "id": "49e28c42-fa15-43a0-9687-95c5997919a3",
   "metadata": {},
   "outputs": [
    {
     "name": "stdout",
     "output_type": "stream",
     "text": [
      "<class 'float'>\n"
     ]
    }
   ],
   "source": [
    "Float = 3.14\n",
    "print(type(Float))"
   ]
  },
  {
   "cell_type": "code",
   "execution_count": 36,
   "id": "f411d9f2-3fce-4dff-85b3-cd12804a0492",
   "metadata": {},
   "outputs": [
    {
     "name": "stdout",
     "output_type": "stream",
     "text": [
      "<class 'complex'>\n"
     ]
    }
   ],
   "source": [
    "complex = 2+8j\n",
    "print(type(complex))"
   ]
  },
  {
   "cell_type": "code",
   "execution_count": 37,
   "id": "47fe1c49-ce48-41e7-b4f6-e9036ee3c86d",
   "metadata": {},
   "outputs": [
    {
     "name": "stdout",
     "output_type": "stream",
     "text": [
      "<class 'str'>\n"
     ]
    }
   ],
   "source": [
    "string = ('i am a boy')\n",
    "print(type(string))"
   ]
  },
  {
   "cell_type": "code",
   "execution_count": 38,
   "id": "23d548e1-41fd-418f-ba01-4cd1625998ac",
   "metadata": {},
   "outputs": [
    {
     "name": "stdout",
     "output_type": "stream",
     "text": [
      "<class 'list'>\n"
     ]
    }
   ],
   "source": [
    "List = [1,True,'ML']\n",
    "print(type(List))"
   ]
  },
  {
   "cell_type": "code",
   "execution_count": 39,
   "id": "88b3b211-244f-4c71-be51-c86d29e83eb4",
   "metadata": {},
   "outputs": [
    {
     "name": "stdout",
     "output_type": "stream",
     "text": [
      "<class 'tuple'>\n"
     ]
    }
   ],
   "source": [
    "Tuple = (1,True,'Ml') #tuples are immutable\n",
    "print(type(Tuple))"
   ]
  },
  {
   "cell_type": "code",
   "execution_count": 40,
   "id": "f9698545-d347-4e9a-b363-9f2251cc2414",
   "metadata": {},
   "outputs": [
    {
     "name": "stdout",
     "output_type": "stream",
     "text": [
      "<class 'set'>\n"
     ]
    }
   ],
   "source": [
    "Set = set([1,2,3,34,4,5,6,66])\n",
    "print(type(Set))"
   ]
  },
  {
   "cell_type": "code",
   "execution_count": 41,
   "id": "b51483cd-909b-46fa-aeee-b57a7ae9473b",
   "metadata": {},
   "outputs": [
    {
     "name": "stdout",
     "output_type": "stream",
     "text": [
      "<class 'dict'>\n"
     ]
    }
   ],
   "source": [
    "dic = {'a':1,'b':2}\n",
    "print(type(dic))"
   ]
  },
  {
   "cell_type": "markdown",
   "id": "dea3fe9b-f47b-4fb6-bf9d-324bb7d6ea9f",
   "metadata": {},
   "source": [
    "## typecasting"
   ]
  },
  {
   "cell_type": "code",
   "execution_count": 28,
   "id": "b24b5cf8-5fd1-40e1-80f5-ed6b4121b261",
   "metadata": {},
   "outputs": [
    {
     "name": "stdout",
     "output_type": "stream",
     "text": [
      "1\n",
      "2\n",
      "3\n"
     ]
    }
   ],
   "source": [
    "a = int(1)     # a will be 1\n",
    "b = int(2.2)   # b will be 2\n",
    "c = int(\"3\")   # c will be 3\n",
    "\n",
    "print (a)\n",
    "print (b)\n",
    "print (c)"
   ]
  },
  {
   "cell_type": "code",
   "execution_count": 29,
   "id": "da55a605-f309-4755-b89c-ab5c497eaeb5",
   "metadata": {},
   "outputs": [
    {
     "name": "stdout",
     "output_type": "stream",
     "text": [
      "1.0\n",
      "2.2\n",
      "3.3\n"
     ]
    }
   ],
   "source": [
    "a = float(1)     # a will be 1.0\n",
    "b = float(2.2)   # b will be 2.2\n",
    "c = float(\"3.3\") # c will be 3.3\n",
    "\n",
    "print (a)\n",
    "print (b)\n",
    "print (c)"
   ]
  },
  {
   "cell_type": "code",
   "execution_count": 30,
   "id": "6cf713d2-8179-42c1-b8c1-46eb7230c3d9",
   "metadata": {},
   "outputs": [
    {
     "name": "stdout",
     "output_type": "stream",
     "text": [
      "1\n",
      "2.2\n",
      "3.3\n"
     ]
    }
   ],
   "source": [
    "a = str(1)     # a will be \"1\"\n",
    "b = str(2.2)   # b will be \"2.2\"\n",
    "c = str(\"3.3\") # c will be \"3.3\"\n",
    "\n",
    "print (a)\n",
    "print (b)\n",
    "print (c)"
   ]
  },
  {
   "cell_type": "markdown",
   "id": "113b8b84-fd5f-4891-ae8f-02ee8dc377c4",
   "metadata": {},
   "source": [
    "### A code block is a piece of python program text that can be executed as a unit such as a module a class definition or a function body\n",
    "### A collection of individual statements that makes a single code block are labelled as suits\n",
    "### python operator is a symbol that performs  an operation on one or more operands. An operand is a variable or value on which we perform the operation.\n",
    "### python has 7 types of operations : arithmetic,logical,comparison,bitwise,assignment,membership,identity"
   ]
  },
  {
   "cell_type": "code",
   "execution_count": 42,
   "id": "c8520069-ec1c-43a9-9318-ea6fbdf81239",
   "metadata": {},
   "outputs": [
    {
     "name": "stdout",
     "output_type": "stream",
     "text": [
      "11\n",
      "7\n",
      "18\n",
      "4.5\n",
      "4\n",
      "81\n",
      "1\n"
     ]
    }
   ],
   "source": [
    "# arithmetic operators\n",
    "x = 9\n",
    "y = 2\n",
    "print(x+y)\n",
    "print(x-y)\n",
    "print(x*y)\n",
    "print(x/y)\n",
    "print(x//y)\n",
    "print(x**y)\n",
    "print(x%y)"
   ]
  },
  {
   "cell_type": "code",
   "execution_count": 58,
   "id": "2d89c57d-8236-42da-a055-437701e0f347",
   "metadata": {},
   "outputs": [
    {
     "name": "stdout",
     "output_type": "stream",
     "text": [
      "Addition of 5 and 2 will give :- 7\n",
      "\n",
      "Concatenate string 'x' and 'y' using '+' operaotr :- AsifBhat\n",
      "\n",
      "Subtracting 2 from 5 will give :- 3\n",
      "\n",
      "Multiplying 5 and 2 will give :- 10\n",
      "\n",
      "Dividing 5 by 2 will give :- 2.5\n",
      "\n",
      "Modulo of 5 , 2 will give :- 1\n",
      "\n",
      "5 raised to the power 2 will give :- 25\n",
      "\n",
      "Floor division of 5 by 2 will give :- 2\n",
      "\n"
     ]
    }
   ],
   "source": [
    "a = 5\n",
    "b = 2\n",
    "x = 'Asif'\n",
    "y = 'Bhat'\n",
    "# Addition\n",
    "c = a + b\n",
    "print('Addition of {} and {} will give :- {}\\n'.format(a,b,c))\n",
    "#Concatenate string using plus operator\n",
    "z = x+y\n",
    "print ('Concatenate string \\'x\\' and \\'y\\' using \\'+\\' operaotr :- {}\\n'.format(z,x,y))\n",
    " \n",
    "# Subtraction\n",
    "c = a - b\n",
    "print('Subtracting {} from {} will give :- {}\\n'.format(b,a,c))\n",
    " \n",
    "# Multiplication\n",
    "c = a * b \n",
    "print('Multiplying {} and {} will give :- {}\\n'.format(a,b,c))\n",
    " \n",
    "# Division\n",
    "c = a / b\n",
    "print('Dividing {} by {} will give :- {}\\n'.format(a,b,c))\n",
    " \n",
    "# Modulo of both number \n",
    "c = a % b\n",
    "print('Modulo of {} , {} will give :- {}\\n'.format(a,b,c))\n",
    " \n",
    "# Power \n",
    "c = a ** b\n",
    "print('{} raised to the power {} will give :- {}\\n'.format(a,b,c))\n",
    "# Division(floor)\n",
    "c = a // b\n",
    "print('Floor division of {} by {} will give :- {}\\n'.format(a,b,c))"
   ]
  },
  {
   "cell_type": "code",
   "execution_count": 43,
   "id": "49f95c70-ce8b-45dd-a5c8-1677b5f49dfc",
   "metadata": {},
   "outputs": [
    {
     "name": "stdout",
     "output_type": "stream",
     "text": [
      "False\n",
      "True\n",
      "False\n",
      "True\n",
      "True\n",
      "False\n"
     ]
    }
   ],
   "source": [
    "# comparision or relational\n",
    "x = 10\n",
    "y = 5\n",
    "print(x==y)\n",
    "print(x!=y)\n",
    "print(x<y)\n",
    "print(x>y)\n",
    "print(x>=y)\n",
    "print(x<=y)"
   ]
  },
  {
   "cell_type": "code",
   "execution_count": 59,
   "id": "540d6f9e-51c6-4819-b153-e3530e5a5111",
   "metadata": {},
   "outputs": [
    {
     "name": "stdout",
     "output_type": "stream",
     "text": [
      "Is x greater than y :-  False\n",
      "\n",
      "Is x less than y :-  True\n",
      "\n",
      "Is x equal to y :-  False\n",
      "\n",
      "Is x not equal to y :-  True\n",
      "\n",
      "Is x greater than or equal to y :-  False\n",
      "\n",
      "Is x less than or equal to y :-  True\n"
     ]
    }
   ],
   "source": [
    "x = 20\n",
    "y = 30\n",
    "print('Is x greater than y :- ',x>y)\n",
    "print('\\nIs x less than y :- ',x<y)\n",
    "print('\\nIs x equal to y :- ',x==y)\n",
    "print('\\nIs x not equal to y :- ',x!=y)\n",
    "print('\\nIs x greater than or equal to y :- ',x>=y)\n",
    "print('\\nIs x less than or equal to y :- ',x<=y)"
   ]
  },
  {
   "cell_type": "code",
   "execution_count": 44,
   "id": "7c8bafdc-2108-4f1b-990e-5d24a3fe78b7",
   "metadata": {},
   "outputs": [
    {
     "name": "stdout",
     "output_type": "stream",
     "text": [
      "8\n"
     ]
    }
   ],
   "source": [
    "# assignment operators\n",
    "x = 6\n",
    "y = 2\n",
    "x += y\n",
    "print(x)"
   ]
  },
  {
   "cell_type": "code",
   "execution_count": 45,
   "id": "4d1e581a-c989-487a-9444-8ebd56bb4cfc",
   "metadata": {},
   "outputs": [
    {
     "name": "stdout",
     "output_type": "stream",
     "text": [
      "4\n"
     ]
    }
   ],
   "source": [
    "x = 6\n",
    "y = 2\n",
    "x -= y\n",
    "print(x)"
   ]
  },
  {
   "cell_type": "code",
   "execution_count": 46,
   "id": "cafaa7d5-fd38-46b8-adff-90f832b2c09a",
   "metadata": {},
   "outputs": [
    {
     "name": "stdout",
     "output_type": "stream",
     "text": [
      "12\n"
     ]
    }
   ],
   "source": [
    "x = 6\n",
    "y = 2\n",
    "x *= y\n",
    "print(x)"
   ]
  },
  {
   "cell_type": "code",
   "execution_count": 47,
   "id": "33ae46d3-3b37-4406-a17c-57f51b175841",
   "metadata": {},
   "outputs": [
    {
     "name": "stdout",
     "output_type": "stream",
     "text": [
      "3.0\n"
     ]
    }
   ],
   "source": [
    "x = 6\n",
    "y = 2\n",
    "x /= y\n",
    "print(x)"
   ]
  },
  {
   "cell_type": "code",
   "execution_count": 48,
   "id": "e35e709f-0d92-472a-b2bb-74e1ef607cc4",
   "metadata": {},
   "outputs": [
    {
     "name": "stdout",
     "output_type": "stream",
     "text": [
      "3\n"
     ]
    }
   ],
   "source": [
    "x = 6\n",
    "y = 2\n",
    "x //= y\n",
    "print(x)"
   ]
  },
  {
   "cell_type": "code",
   "execution_count": 49,
   "id": "aa25877e-5dd2-4bbe-bb5d-b8fb68a750b6",
   "metadata": {},
   "outputs": [
    {
     "name": "stdout",
     "output_type": "stream",
     "text": [
      "36\n"
     ]
    }
   ],
   "source": [
    "x = 6\n",
    "y = 2\n",
    "x **= y\n",
    "print(x)"
   ]
  },
  {
   "cell_type": "code",
   "execution_count": 60,
   "id": "11b0e631-7e37-4e80-907b-cb8b614da560",
   "metadata": {},
   "outputs": [
    {
     "name": "stdout",
     "output_type": "stream",
     "text": [
      "Initialize x with value 10 (x=10)) :-  10\n",
      "Add 20 to x :-  30\n",
      "subtract 20 from x :-  10\n",
      "Divide x by 10 :-  1.0\n",
      "Multiply x by 10 :-  10.0\n",
      "x raised to the power 2 :-  100\n",
      "Modulo Division :-  0\n",
      "Floor Division :-  6\n",
      "Bitwise AND :-  2\n",
      "Bitwise OR :-  2\n",
      "Bitwise XOR :-  0\n",
      "Bitwise left shift operation 40\n",
      "Bitwise right shift operation 10\n"
     ]
    }
   ],
   "source": [
    "x = 10\n",
    "print('Initialize x with value 10 (x=10)) :- ',x)\n",
    "\n",
    "x+=20 # x = x+20\n",
    "print ('Add 20 to x :- ',x)\n",
    "\n",
    "x-=20 # x = x-20\n",
    "print ('subtract 20 from x :- ',x)\n",
    "\n",
    "x/=10 # x = x/10\n",
    "print ('Divide x by 10 :- ',x)\n",
    "\n",
    "x*=10 # x = x/10\n",
    "print ('Multiply x by 10 :- ',x)\n",
    "\n",
    "x = int(x)\n",
    "x**=2 # x = x/10\n",
    "print ('x raised to the power 2 :- ',x)\n",
    "\n",
    "x%=2\n",
    "print ('Modulo Division :- ',x)\n",
    "\n",
    "x = 20\n",
    "x//=3\n",
    "print ('Floor Division :- ',x)\n",
    "\n",
    "x&=2\n",
    "print('Bitwise AND :- ',x)\n",
    "\n",
    "x|=2\n",
    "print('Bitwise OR :- ',x)\n",
    "\n",
    "x^=2\n",
    "print('Bitwise XOR :- ',x)\n",
    "\n",
    "x = 10\n",
    "x<<=2\n",
    "print('Bitwise left shift operation',x)\n",
    "\n",
    "x>>=2\n",
    "print('Bitwise right shift operation',x)"
   ]
  },
  {
   "cell_type": "code",
   "execution_count": 63,
   "id": "6e58cfd3-2f55-4d9f-a408-eaa3da8cf6a1",
   "metadata": {},
   "outputs": [
    {
     "name": "stdout",
     "output_type": "stream",
     "text": [
      "Logical AND operation :-  False\n",
      "Logical OR operation :-  True\n",
      "NOT operation :-  False\n"
     ]
    }
   ],
   "source": [
    "# logical operators\n",
    "x = True\n",
    "y = False\n",
    "print('Logical AND operation :- ',x and y) # True if both values are true\n",
    "print('Logical OR operation :- ',x or y) # True if either of the values is true\n",
    "print('NOT operation :- ',not x ) # True if operand is false"
   ]
  },
  {
   "cell_type": "code",
   "execution_count": 64,
   "id": "c7bf2f92-2d0d-4054-a504-6a22bdd58761",
   "metadata": {},
   "outputs": [
    {
     "name": "stdout",
     "output_type": "stream",
     "text": [
      "0\n",
      "1\n",
      "False\n",
      "True\n"
     ]
    }
   ],
   "source": [
    "a = 1\n",
    "b = 0\n",
    "print(a and b)\n",
    "print(a or b)\n",
    "print(not a)\n",
    "print(not b)"
   ]
  },
  {
   "cell_type": "code",
   "execution_count": 52,
   "id": "3d0fd247-cb06-49f3-8a9e-2ebb2fb276c0",
   "metadata": {},
   "outputs": [
    {
     "name": "stdout",
     "output_type": "stream",
     "text": [
      "8\n",
      "14\n"
     ]
    }
   ],
   "source": [
    "# bitwise operators\n",
    "x = 10\n",
    "y = 12\n",
    "print(x & y) # bitwise and\n",
    "print(x | y) # bitwise or"
   ]
  },
  {
   "cell_type": "code",
   "execution_count": 65,
   "id": "0b92c544-ba17-46b9-920f-b7aa2adc0233",
   "metadata": {},
   "outputs": [
    {
     "name": "stdout",
     "output_type": "stream",
     "text": [
      "Bitwise AND operation - 2\n",
      "Bitwise OR operation - 22\n",
      "Bitwise XOR operation - 20\n",
      "Bitwise NOT operation - -19\n",
      "Bitwise right shift operation - 4\n",
      "Bitwise left shift operation - 72\n"
     ]
    }
   ],
   "source": [
    "x = 18 # binary form 10010\n",
    "y = 6 # binary form 00110\n",
    "print('Bitwise AND operation - {}'.format(x&y))\n",
    "print('Bitwise OR operation - {}'.format(x|y))\n",
    "print('Bitwise XOR operation - {}'.format(x^y))\n",
    "print('Bitwise NOT operation - {}'.format(~x))\n",
    "print('Bitwise right shift operation - {}'.format(x>>2))\n",
    "print('Bitwise left shift operation - {}'.format(x<<2))"
   ]
  },
  {
   "cell_type": "code",
   "execution_count": 53,
   "id": "80f37c70-b8a0-422d-8b11-d18d2b587156",
   "metadata": {},
   "outputs": [
    {
     "name": "stdout",
     "output_type": "stream",
     "text": [
      "True\n",
      "False\n",
      "True\n",
      "False\n",
      "False\n",
      "True\n",
      "True\n"
     ]
    }
   ],
   "source": [
    "# membership operators\n",
    "var1 = \"Hello world\"\n",
    "var2 = {'a':1,'b':2,'all':4}\n",
    "\n",
    "print('H' in var1)\n",
    "print('hello' in var1)\n",
    "print('hello' not in var1)\n",
    "print(1 in var2)\n",
    "print(2 in var2)\n",
    "print('a' in var2)\n",
    "print('all' in var2)"
   ]
  },
  {
   "cell_type": "code",
   "execution_count": 54,
   "id": "106e9da5-45eb-407a-b988-f48afba32d6b",
   "metadata": {
    "scrolled": true
   },
   "outputs": [
    {
     "name": "stdout",
     "output_type": "stream",
     "text": [
      "5\n",
      "140717946440248\n",
      "\n",
      "5\n",
      "140717946440248\n",
      "\n",
      "Hello\n",
      "2755591199440\n",
      "\n",
      "Hello\n",
      "2755591199440\n",
      "\n",
      "[1, 2, 3]\n",
      "2755595831168\n",
      "\n",
      "[1, 2, 3]\n",
      "2755595830656\n",
      "\n",
      "True\n",
      "False\n",
      "True\n",
      "False\n"
     ]
    }
   ],
   "source": [
    "# identity operators\n",
    "var1 = 5\n",
    "print(var1)\n",
    "print(id(var1))\n",
    "print()\n",
    "\n",
    "var2 =  5\n",
    "print(var2)\n",
    "print(id(var2))\n",
    "print()\n",
    "\n",
    "var3 = 'Hello'\n",
    "print(var3)\n",
    "print(id(var3))\n",
    "print()\n",
    "\n",
    "var4 = 'Hello'\n",
    "print(var4)\n",
    "print(id(var4))\n",
    "print()\n",
    "\n",
    "var5 = [1,2,3]\n",
    "print(var5)\n",
    "print(id(var5))\n",
    "print()\n",
    "\n",
    "var6 = [1,2,3]\n",
    "print(var6)\n",
    "print(id(var6))\n",
    "print()\n",
    "\n",
    "print(var1 is var2)\n",
    "print(var1 is not var2)\n",
    "print(var3 is var4)\n",
    "print(var5 is var6)"
   ]
  },
  {
   "cell_type": "code",
   "execution_count": 55,
   "id": "ae6d7bab-0a5e-4180-88cc-f7b9637e6c82",
   "metadata": {},
   "outputs": [
    {
     "name": "stdin",
     "output_type": "stream",
     "text": [
      "Enter the integer 5\n"
     ]
    },
    {
     "name": "stdout",
     "output_type": "stream",
     "text": [
      "62\n"
     ]
    }
   ],
   "source": [
    "x = (int(input(\"Enter the integer\")) + (y-2) + 16)*2\n",
    "print(x)"
   ]
  },
  {
   "cell_type": "code",
   "execution_count": 56,
   "id": "83c17ebf-b5c9-4146-82eb-766a418a371b",
   "metadata": {},
   "outputs": [
    {
     "name": "stdout",
     "output_type": "stream",
     "text": [
      "-5\n",
      "-1\n"
     ]
    }
   ],
   "source": [
    "print(2-3-4)\n",
    "print(-3+2)"
   ]
  },
  {
   "cell_type": "code",
   "execution_count": 57,
   "id": "e4edae39-fa32-41b3-84c0-5b7e52b062f1",
   "metadata": {},
   "outputs": [
    {
     "name": "stdout",
     "output_type": "stream",
     "text": [
      "0 0 0 0\n"
     ]
    }
   ],
   "source": [
    "w=x=y=z=0\n",
    "print(w,x,y,z)"
   ]
  },
  {
   "cell_type": "markdown",
   "id": "398722f8-6d9b-42b2-ab75-6d3e2e0bd542",
   "metadata": {},
   "source": [
    "## control flow statements "
   ]
  },
  {
   "cell_type": "code",
   "execution_count": 66,
   "id": "1dd59242-93a1-4189-8975-c30a3972f7c6",
   "metadata": {},
   "outputs": [
    {
     "name": "stdout",
     "output_type": "stream",
     "text": [
      "Value of expression is 100\n",
      "Good bye!\n"
     ]
    }
   ],
   "source": [
    "var = 100\n",
    "if ( var == 100 ) : print (\"Value of expression is 100\")\n",
    "print (\"Good bye!\")"
   ]
  },
  {
   "cell_type": "code",
   "execution_count": 67,
   "id": "375e537c-f666-47b1-8458-fb3955c2892d",
   "metadata": {},
   "outputs": [
    {
     "name": "stdout",
     "output_type": "stream",
     "text": [
      "Value of var is equal to 100\n"
     ]
    }
   ],
   "source": [
    "var = 100\n",
    "if ( var == 100 ): \n",
    "   print (\"Value of var is equal to 100\")\n",
    "else:\n",
    "   print(\"Value of var is not equal to 100\")"
   ]
  },
  {
   "cell_type": "code",
   "execution_count": 68,
   "id": "aaf46dcd-e10a-43c6-85df-753e6cfd6bde",
   "metadata": {},
   "outputs": [
    {
     "name": "stdin",
     "output_type": "stream",
     "text": [
      "enter your age :  19\n"
     ]
    },
    {
     "name": "stdout",
     "output_type": "stream",
     "text": [
      "you are eligible to vote for election\n"
     ]
    }
   ],
   "source": [
    "age = int(input(\"enter your age : \"))\n",
    "if age>=18:\n",
    "    print(\"you are eligible to vote for election\")\n",
    "else:\n",
    "    print(\"goodbye nerdd\")"
   ]
  },
  {
   "cell_type": "code",
   "execution_count": 69,
   "id": "783bea97-ddf2-465f-99af-a0b30c012a16",
   "metadata": {},
   "outputs": [
    {
     "name": "stdout",
     "output_type": "stream",
     "text": [
      "please enter two numbers to divide : \n"
     ]
    },
    {
     "name": "stdin",
     "output_type": "stream",
     "text": [
      "please enter the first number to divide :  25\n",
      "please enter the second number to divide :  5\n"
     ]
    },
    {
     "name": "stdout",
     "output_type": "stream",
     "text": [
      "25 / 5 = 5\n"
     ]
    }
   ],
   "source": [
    "print(\"please enter two numbers to divide : \")\n",
    "dividend = int(input('please enter the first number to divide : '))\n",
    "divisor = int(input('please enter the second number to divide : '))\n",
    "if divisor != 0:\n",
    "    print(dividend,'/',divisor,'=',dividend//divisor)"
   ]
  },
  {
   "cell_type": "code",
   "execution_count": 70,
   "id": "5a108a49-72c9-4be6-868a-95256d268d72",
   "metadata": {},
   "outputs": [
    {
     "name": "stdout",
     "output_type": "stream",
     "text": [
      "y =  18\n"
     ]
    }
   ],
   "source": [
    "if x<10:\n",
    "    pass # pass allows us to make an empty statement\n",
    "y = x\n",
    "print('y = ',y)"
   ]
  },
  {
   "cell_type": "markdown",
   "id": "c2e2253e-9f5b-4459-8e7e-3caa81a90aaf",
   "metadata": {},
   "source": [
    "### in python 1 will be treated as true always and 0 willbe treated as false always and other than 0 every value will treated as true"
   ]
  },
  {
   "cell_type": "code",
   "execution_count": 71,
   "id": "7b5dcae2-941b-439f-8c4f-f83add61a933",
   "metadata": {},
   "outputs": [
    {
     "name": "stdout",
     "output_type": "stream",
     "text": [
      "one\n"
     ]
    }
   ],
   "source": [
    "if 1:\n",
    "    print('one')"
   ]
  },
  {
   "cell_type": "code",
   "execution_count": 72,
   "id": "b2b8af92-e7ca-4b16-8dd6-91a2b1a7ebef",
   "metadata": {},
   "outputs": [],
   "source": [
    "if 0:\n",
    "    print('one')"
   ]
  },
  {
   "cell_type": "code",
   "execution_count": 73,
   "id": "31edac8e-53e3-4e38-991c-d507abf066c5",
   "metadata": {},
   "outputs": [
    {
     "name": "stdout",
     "output_type": "stream",
     "text": [
      "dhruv exists!!\n"
     ]
    }
   ],
   "source": [
    "names = ['dhruv','aman','amit','krishh']\n",
    "if 'dhruv' in names:\n",
    "    print('dhruv exists!!')"
   ]
  },
  {
   "cell_type": "code",
   "execution_count": 74,
   "id": "037ec0c7-540c-4d2d-b269-4c56d5af03d7",
   "metadata": {},
   "outputs": [
    {
     "name": "stdout",
     "output_type": "stream",
     "text": [
      "The number is equal to 100\n",
      "The number is even\n"
     ]
    }
   ],
   "source": [
    "var = 100\n",
    "if ( var == 100 ):\n",
    "   print(\"The number is equal to 100\")\n",
    "   if var % 2 == 0:\n",
    "      print(\"The number is even\")\n",
    "   else:\n",
    "      print(\"The given number is odd\")\n",
    "elif var == 0:\n",
    "   print(\"The given number is zero\")\n",
    "else:\n",
    "   print(\"The given number is negative\")"
   ]
  },
  {
   "cell_type": "code",
   "execution_count": 76,
   "id": "a9eb3c80-73bb-4c5b-8ccb-5160f4e80b3b",
   "metadata": {},
   "outputs": [],
   "source": [
    "if x<10 and input('print value of (y/n?' == 'y'):\n",
    "    print(x)"
   ]
  },
  {
   "cell_type": "markdown",
   "id": "df5d4e07-1055-4c42-9583-41590e6fb3e5",
   "metadata": {},
   "source": [
    "## pass statement and floating point equality"
   ]
  },
  {
   "cell_type": "code",
   "execution_count": 77,
   "id": "a6021a8b-ca97-4bf3-a79e-cbda722c6d5b",
   "metadata": {},
   "outputs": [
    {
     "name": "stdin",
     "output_type": "stream",
     "text": [
      "enter the value of x :  52\n"
     ]
    },
    {
     "name": "stdout",
     "output_type": "stream",
     "text": [
      "52\n"
     ]
    }
   ],
   "source": [
    "x = int(input('enter the value of x : '))\n",
    "if x<0:\n",
    "    pass\n",
    "else:\n",
    "    print(x)"
   ]
  },
  {
   "cell_type": "code",
   "execution_count": 78,
   "id": "14068f26-45c4-490b-b894-72d0c35ed8d2",
   "metadata": {},
   "outputs": [],
   "source": [
    "x = 10\n",
    "if x==2:\n",
    "    print(x)\n",
    "else:\n",
    "    pass"
   ]
  },
  {
   "cell_type": "code",
   "execution_count": 79,
   "id": "96aa68c7-b5ba-4c5c-b50d-50f00038af0d",
   "metadata": {},
   "outputs": [
    {
     "name": "stdout",
     "output_type": "stream",
     "text": [
      "0.010000000000000009\n",
      "0.009999999999999787\n",
      "different\n"
     ]
    }
   ],
   "source": [
    "d1 = 1.11 - 1.10\n",
    "d2 = 2.11 - 2.10\n",
    "print(d1)\n",
    "print(d2)\n",
    "if d1==d2:\n",
    "    print('same')\n",
    "else:\n",
    "    print('different')"
   ]
  },
  {
   "cell_type": "code",
   "execution_count": 80,
   "id": "eb361fd8-4280-4d8b-af8a-e651c6e1bcee",
   "metadata": {},
   "outputs": [
    {
     "name": "stdin",
     "output_type": "stream",
     "text": [
      "enter an int value between 0-10 8\n"
     ]
    },
    {
     "name": "stdout",
     "output_type": "stream",
     "text": [
      "8 in range\n",
      "done\n"
     ]
    }
   ],
   "source": [
    "val = int(input('enter an int value between 0-10'))\n",
    "if val >= 0:\n",
    "    if val <= 10:\n",
    "        print(val,'in range')\n",
    "    else:\n",
    "        print(val,'is too large')\n",
    "else:\n",
    "    print(val,'is too small')\n",
    "\n",
    "print('done')"
   ]
  },
  {
   "cell_type": "code",
   "execution_count": 81,
   "id": "b18c556e-6eb8-414f-828a-1bb0ec35a4f1",
   "metadata": {},
   "outputs": [
    {
     "name": "stdin",
     "output_type": "stream",
     "text": [
      "enter the value 2\n"
     ]
    },
    {
     "name": "stdout",
     "output_type": "stream",
     "text": [
      "two\n",
      "done\n"
     ]
    }
   ],
   "source": [
    "# using multiway if-else : so here if the criteria matches then the control comes out of the loop anfd the remaining condition are not evaluated\n",
    "\n",
    "val = int(input('enter the value'))\n",
    "if val==0:\n",
    "    print('zero')\n",
    "elif val==1:\n",
    "    print('one')\n",
    "elif val==2:\n",
    "    print('two')\n",
    "elif val==3:\n",
    "    print('three')\n",
    "elif val==4:\n",
    "    print('four')\n",
    "print('done')"
   ]
  },
  {
   "cell_type": "code",
   "execution_count": 82,
   "id": "9f59feca-61c1-459d-b4b9-5d2787e6086b",
   "metadata": {},
   "outputs": [
    {
     "name": "stdin",
     "output_type": "stream",
     "text": [
      "enter the value 4\n"
     ]
    },
    {
     "name": "stdout",
     "output_type": "stream",
     "text": [
      "four\n",
      "done\n"
     ]
    }
   ],
   "source": [
    "# using multiway if-else : so here if the criteria matches then the control comes out of the loop anfd the remaining condition are not evaluated\n",
    "\n",
    "val = int(input('enter the value'))\n",
    "if val==0:\n",
    "    print('zero')\n",
    "elif val==1:\n",
    "    print('one')\n",
    "elif val==2:\n",
    "    print('two')\n",
    "elif val==3:\n",
    "    print('three')\n",
    "elif val==4:\n",
    "    print('four')\n",
    "else:\n",
    "    print('you had entered other number')\n",
    "print('done')"
   ]
  },
  {
   "cell_type": "code",
   "execution_count": 83,
   "id": "e5d975fb-61e9-4ca5-97b6-439d4c6732fd",
   "metadata": {},
   "outputs": [
    {
     "name": "stdin",
     "output_type": "stream",
     "text": [
      "enter the value 2\n"
     ]
    },
    {
     "name": "stdout",
     "output_type": "stream",
     "text": [
      "two\n",
      "you had entered other number\n",
      "done\n"
     ]
    }
   ],
   "source": [
    "# using sequential if-else : so here if the criteria matches then also the remaining conditions are evaluated then control comes out of the loop\n",
    "\n",
    "val = int(input('enter the value'))\n",
    "if val==0:\n",
    "    print('zero')\n",
    "if val==1:\n",
    "    print('one')\n",
    "if val==2:\n",
    "    print('two')\n",
    "if val==3:\n",
    "    print('three')\n",
    "if val==4:\n",
    "    print('four')\n",
    "else:\n",
    "    print('you had entered other number')\n",
    "print('done')"
   ]
  },
  {
   "cell_type": "markdown",
   "id": "6779d61a-8cea-4e09-9a46-8aabaa3ad506",
   "metadata": {},
   "source": [
    "## conditional exprression : expression1 if condition else expression2"
   ]
  },
  {
   "cell_type": "code",
   "execution_count": 84,
   "id": "c76b9185-0a59-4640-a2f2-a8c03140d0ff",
   "metadata": {},
   "outputs": [
    {
     "name": "stdin",
     "output_type": "stream",
     "text": [
      "please enter the first number to divide :  25\n",
      "please enter the second number to divide :  5\n"
     ]
    },
    {
     "name": "stdout",
     "output_type": "stream",
     "text": [
      "message 5.0\n"
     ]
    }
   ],
   "source": [
    "dividend = int(input('please enter the first number to divide : '))\n",
    "divisor = int(input('please enter the second number to divide : '))\n",
    "message = dividend/divisor if divisor != 0 else 'error cant divide by 0'\n",
    "print('message',message)"
   ]
  },
  {
   "cell_type": "code",
   "execution_count": 87,
   "id": "4590a001-5819-47e4-8138-e8c72d88c59e",
   "metadata": {},
   "outputs": [
    {
     "name": "stdin",
     "output_type": "stream",
     "text": [
      "enter a number -4\n"
     ]
    },
    {
     "name": "stdout",
     "output_type": "stream",
     "text": [
      "|-4| = 4\n"
     ]
    }
   ],
   "source": [
    "n = int(input('enter a number'))\n",
    "print('|',n,'| = ',(-n if n<0 else n),sep=\"\")"
   ]
  },
  {
   "cell_type": "code",
   "execution_count": 88,
   "id": "a934fc0c-0a26-43a8-95fd-6ae57ba35b6f",
   "metadata": {},
   "outputs": [
    {
     "name": "stdin",
     "output_type": "stream",
     "text": [
      " 5\n"
     ]
    }
   ],
   "source": [
    "val = int(input())\n",
    "if val<0 and val>10:\n",
    "    print(val)"
   ]
  },
  {
   "cell_type": "markdown",
   "id": "2d9f2d9d-cc94-4392-ab2d-dc762b9d04a4",
   "metadata": {},
   "source": [
    "## logic complexity"
   ]
  },
  {
   "cell_type": "code",
   "execution_count": 89,
   "id": "c7e2fb77-216f-4d4c-8ef0-14099f3c3fe9",
   "metadata": {},
   "outputs": [
    {
     "name": "stdout",
     "output_type": "stream",
     "text": [
      "please enter four integers : \n"
     ]
    },
    {
     "name": "stdin",
     "output_type": "stream",
     "text": [
      "enter num1 1\n",
      "enter num2 2\n",
      "enter num3 3\n",
      "enter num4 4\n"
     ]
    },
    {
     "name": "stdout",
     "output_type": "stream",
     "text": [
      "max is  4\n"
     ]
    }
   ],
   "source": [
    "print('please enter four integers : ')\n",
    "num1 = int(input('enter num1'))\n",
    "num2 = int(input('enter num2'))\n",
    "num3 = int(input('enter num3'))\n",
    "num4 = int(input('enter num4'))\n",
    "\n",
    "if num1>=num2 and num1>=num3 and num1>=num4:\n",
    "    max = num1\n",
    "elif num2>=num1 and num2>=num3 and num2>=num4:\n",
    "    max = num2\n",
    "elif num3>=num1 and num3>=num2 and num3>=num4:\n",
    "    max = num3\n",
    "else:\n",
    "    max = num4\n",
    "\n",
    "print('max is ',max)"
   ]
  },
  {
   "cell_type": "code",
   "execution_count": 90,
   "id": "7e8be358-b0e9-4774-8ca1-ed9c6dbd92d1",
   "metadata": {},
   "outputs": [
    {
     "name": "stdout",
     "output_type": "stream",
     "text": [
      "please enter four integers : \n"
     ]
    },
    {
     "name": "stdin",
     "output_type": "stream",
     "text": [
      "enter num1 1\n",
      "enter num2 2\n",
      "enter num3 3\n",
      "enter num4 4\n"
     ]
    },
    {
     "name": "stdout",
     "output_type": "stream",
     "text": [
      "max is  4\n"
     ]
    }
   ],
   "source": [
    "print('please enter four integers : ')\n",
    "num1 = int(input('enter num1'))\n",
    "num2 = int(input('enter num2'))\n",
    "num3 = int(input('enter num3'))\n",
    "num4 = int(input('enter num4'))\n",
    "\n",
    "max = num1\n",
    "if num2>max:\n",
    "    max = num2\n",
    "if num3>max:\n",
    "    max = num3\n",
    "if num4>max:\n",
    "    max = num4\n",
    "\n",
    "print('max is ',max)"
   ]
  },
  {
   "cell_type": "markdown",
   "id": "f1646ba5-de4d-4e64-8d9a-1756bb24dc9f",
   "metadata": {},
   "source": [
    "## main iterators :\n",
    "## while loop\n",
    "## for loop\n",
    "## nested loop with while and for\n",
    "## definite and indefinite loops\n",
    "## finite and infinite loops\n",
    "## loops with control flow logic like if/else,if/elif/else\n",
    "\n",
    "## 1) while loops"
   ]
  },
  {
   "cell_type": "code",
   "execution_count": 91,
   "id": "979e8c46-e11f-498c-9b08-24423ac5ba83",
   "metadata": {},
   "outputs": [
    {
     "name": "stdout",
     "output_type": "stream",
     "text": [
      "1\n",
      "2\n",
      "3\n",
      "4\n",
      "5\n"
     ]
    }
   ],
   "source": [
    "count = 1       # initial counter\n",
    "while count<=5:\n",
    "    print(count)\n",
    "    count+=1"
   ]
  },
  {
   "cell_type": "code",
   "execution_count": 94,
   "id": "bf3b3b94-3f03-47a3-a552-dd1a8bb6027e",
   "metadata": {},
   "outputs": [
    {
     "name": "stdout",
     "output_type": "stream",
     "text": [
      "6\n"
     ]
    }
   ],
   "source": [
    "# the below code will not execute as condition is not met\n",
    "count = 6       # initial counter\n",
    "while count<=5:\n",
    "    count+=1\n",
    "print(count)"
   ]
  },
  {
   "cell_type": "code",
   "execution_count": 95,
   "id": "d62b673f-2737-41e7-9e5e-5fc317f578d1",
   "metadata": {},
   "outputs": [
    {
     "name": "stdout",
     "output_type": "stream",
     "text": [
      "0\n"
     ]
    },
    {
     "name": "stdin",
     "output_type": "stream",
     "text": [
      "please enter \"Y\" to continue or \"N\" to quit :  y\n"
     ]
    },
    {
     "name": "stdout",
     "output_type": "stream",
     "text": [
      "1\n"
     ]
    },
    {
     "name": "stdin",
     "output_type": "stream",
     "text": [
      "please enter \"Y\" to continue or \"N\" to quit :  n\n"
     ]
    }
   ],
   "source": [
    "count = 0\n",
    "entry = 'Y'\n",
    "\n",
    "while entry!='N' and entry!='n':\n",
    "    print(count)\n",
    "    entry = input('please enter \"Y\" to continue or \"N\" to quit : ')\n",
    "    if entry == 'Y' or entry == 'y':\n",
    "        count+=1 \n",
    "    elif entry!=\"N\" and entry!='n':\n",
    "        print('\"\"'+entry+' is not a valid choice')"
   ]
  },
  {
   "cell_type": "code",
   "execution_count": 96,
   "id": "5780b004-010a-4b2b-bef9-86e8894549e5",
   "metadata": {},
   "outputs": [
    {
     "name": "stdout",
     "output_type": "stream",
     "text": [
      "enter numbers to sum , negative numbers ends list\n"
     ]
    },
    {
     "name": "stdin",
     "output_type": "stream",
     "text": [
      "Enter positive numbers for addition :  1\n",
      "Enter positive numbers for addition :  1\n",
      "Enter positive numbers for addition :  -7\n"
     ]
    },
    {
     "name": "stdout",
     "output_type": "stream",
     "text": [
      "sum =  2\n"
     ]
    }
   ],
   "source": [
    "entry=0\n",
    "sum=0\n",
    "\n",
    "print('enter numbers to sum , negative numbers ends list')\n",
    "while entry>=0:\n",
    "    entry = int(input('Enter positive numbers for addition : '))\n",
    "    if entry>0:\n",
    "        sum+=entry\n",
    "print('sum = ',sum)"
   ]
  },
  {
   "cell_type": "code",
   "execution_count": 97,
   "id": "c7c4ecb8-3887-4780-adf1-ee8f0aeb88be",
   "metadata": {},
   "outputs": [
    {
     "name": "stdin",
     "output_type": "stream",
     "text": [
      " 5\n"
     ]
    }
   ],
   "source": [
    "x = int(input())\n",
    "while x:\n",
    "    x-=1"
   ]
  },
  {
   "cell_type": "code",
   "execution_count": 98,
   "id": "3b24c032-06ca-4170-ab51-f1bdd1bc7404",
   "metadata": {},
   "outputs": [
    {
     "name": "stdin",
     "output_type": "stream",
     "text": [
      " 5\n"
     ]
    },
    {
     "name": "stdout",
     "output_type": "stream",
     "text": [
      "5\n",
      "4\n",
      "3\n",
      "2\n",
      "1\n"
     ]
    }
   ],
   "source": [
    "x = int(input())\n",
    "while x != 0:\n",
    "    print(x)\n",
    "    x-=1"
   ]
  },
  {
   "cell_type": "code",
   "execution_count": 99,
   "id": "81b1021c-55f6-4cd3-8da2-2c1ef979f957",
   "metadata": {},
   "outputs": [
    {
     "name": "stdout",
     "output_type": "stream",
     "text": [
      "0.0\n",
      "0.125\n",
      "0.25\n",
      "0.375\n",
      "0.5\n",
      "0.625\n",
      "0.75\n",
      "0.875\n",
      "done\n"
     ]
    }
   ],
   "source": [
    "x = 0.0\n",
    "while x != 1.0:\n",
    "    print(x)\n",
    "    x += 0.125\n",
    "print('done')"
   ]
  },
  {
   "cell_type": "markdown",
   "id": "04400096-edd9-4c05-8a95-8b65bafd3768",
   "metadata": {},
   "source": [
    "### definite loop : we can inspect the code and determine the exact number of iterations the loop will perform\n",
    "### indefinite loop : we can't inspect the code and determine the exact number of iterations the loop will perform"
   ]
  },
  {
   "cell_type": "code",
   "execution_count": 100,
   "id": "27149546-2e09-495a-9482-8b16547258b1",
   "metadata": {},
   "outputs": [
    {
     "name": "stdout",
     "output_type": "stream",
     "text": [
      "1\n",
      "2\n",
      "3\n",
      "4\n",
      "5\n",
      "6\n",
      "7\n",
      "8\n",
      "9\n",
      "10\n"
     ]
    }
   ],
   "source": [
    "# definite loop\n",
    "n = 1\n",
    "while n<=10:\n",
    "    print(n)\n",
    "    n+=1"
   ]
  },
  {
   "cell_type": "code",
   "execution_count": 101,
   "id": "6a0947e8-ea76-46ef-9f6c-a93ac80fef32",
   "metadata": {},
   "outputs": [
    {
     "name": "stdin",
     "output_type": "stream",
     "text": [
      "enter the number:  5\n"
     ]
    },
    {
     "name": "stdout",
     "output_type": "stream",
     "text": [
      "1\n",
      "2\n",
      "3\n",
      "4\n",
      "5\n"
     ]
    }
   ],
   "source": [
    "# definite loop\n",
    "n = 1\n",
    "stop = int(input('enter the number: '))\n",
    "while n<=stop:\n",
    "    print(n)\n",
    "    n+=1"
   ]
  },
  {
   "cell_type": "code",
   "execution_count": 102,
   "id": "b2ece6bb-dfd0-44df-bb64-0226bafa9052",
   "metadata": {},
   "outputs": [
    {
     "name": "stdin",
     "output_type": "stream",
     "text": [
      "enter the number :  5\n"
     ]
    },
    {
     "name": "stdout",
     "output_type": "stream",
     "text": [
      "5\n"
     ]
    },
    {
     "name": "stdin",
     "output_type": "stream",
     "text": [
      "enter the number :  4\n"
     ]
    },
    {
     "name": "stdout",
     "output_type": "stream",
     "text": [
      "4\n"
     ]
    },
    {
     "name": "stdin",
     "output_type": "stream",
     "text": [
      "enter the number :  2\n"
     ]
    },
    {
     "name": "stdout",
     "output_type": "stream",
     "text": [
      "2\n"
     ]
    },
    {
     "name": "stdin",
     "output_type": "stream",
     "text": [
      "enter the number :  -7\n"
     ]
    },
    {
     "name": "stdout",
     "output_type": "stream",
     "text": [
      "-7\n"
     ]
    },
    {
     "name": "stdin",
     "output_type": "stream",
     "text": [
      "enter the number :  999\n"
     ]
    }
   ],
   "source": [
    "# indefinite loop\n",
    "done = False\n",
    "while not done:\n",
    "    entry = int(input('enter the number : '))\n",
    "    if entry == 999:\n",
    "        done = True\n",
    "    else:\n",
    "        print(entry)"
   ]
  },
  {
   "cell_type": "markdown",
   "id": "57d084c9-9a6f-4eed-a74c-ef50bec053a6",
   "metadata": {},
   "source": [
    "## for loop"
   ]
  },
  {
   "cell_type": "code",
   "execution_count": 103,
   "id": "6ea5620f-f129-45a8-86e4-0efed4cbb5d4",
   "metadata": {},
   "outputs": [
    {
     "name": "stdout",
     "output_type": "stream",
     "text": [
      "1\n",
      "2\n",
      "3\n",
      "4\n",
      "5\n",
      "6\n",
      "7\n",
      "8\n",
      "9\n"
     ]
    }
   ],
   "source": [
    "for n in (1,2,3,4,5,6,7,8,9):\n",
    "    print(n)"
   ]
  },
  {
   "cell_type": "code",
   "execution_count": 104,
   "id": "3e5782d9-d1ef-41f9-a256-ef728521d161",
   "metadata": {},
   "outputs": [
    {
     "name": "stdout",
     "output_type": "stream",
     "text": [
      "0\n",
      "1\n",
      "2\n",
      "3\n",
      "4\n",
      "5\n",
      "6\n",
      "7\n",
      "8\n",
      "9\n",
      "10\n"
     ]
    }
   ],
   "source": [
    "for n in range(0,11):\n",
    "    print(n)"
   ]
  },
  {
   "cell_type": "code",
   "execution_count": 105,
   "id": "4a92604d-8b12-4d4b-977a-4cec7eec9156",
   "metadata": {},
   "outputs": [
    {
     "name": "stdout",
     "output_type": "stream",
     "text": [
      "21 18 15 12 9 6 "
     ]
    }
   ],
   "source": [
    "for n in range(21,4,-3):\n",
    "    print(n,end=' ')"
   ]
  },
  {
   "cell_type": "code",
   "execution_count": 106,
   "id": "dc2bdd25-c562-413a-b60b-e348232c799c",
   "metadata": {},
   "outputs": [
    {
     "name": "stdout",
     "output_type": "stream",
     "text": [
      "55\n"
     ]
    }
   ],
   "source": [
    "sum = 0\n",
    "for i in range(1,11):\n",
    "    sum += i\n",
    "print(sum)"
   ]
  },
  {
   "cell_type": "code",
   "execution_count": 107,
   "id": "b85e05ee-79b4-4596-af42-6781e9db0ed2",
   "metadata": {},
   "outputs": [
    {
     "name": "stdin",
     "output_type": "stream",
     "text": [
      "enter a word dhruv\n"
     ]
    },
    {
     "name": "stdout",
     "output_type": "stream",
     "text": [
      "d h r u v "
     ]
    }
   ],
   "source": [
    "word = input('enter a word')\n",
    "for i in word:\n",
    "    print(i,end=' ')"
   ]
  },
  {
   "cell_type": "code",
   "execution_count": 108,
   "id": "12f0d5fd-0c6a-45d4-8e14-ced4454af530",
   "metadata": {},
   "outputs": [
    {
     "name": "stdout",
     "output_type": "stream",
     "text": [
      "[P][R][U][T][H][V][I][R][A][J][A][ ][L]"
     ]
    }
   ],
   "source": [
    "for c in 'PRUTHVIRAJA L':\n",
    "    print('[',c, ']',end='',sep='')"
   ]
  },
  {
   "cell_type": "code",
   "execution_count": 109,
   "id": "2eb1062e-7397-40c5-8edb-73ea9d3c7bdd",
   "metadata": {},
   "outputs": [
    {
     "name": "stdin",
     "output_type": "stream",
     "text": [
      "enter a word dhruv\n"
     ]
    },
    {
     "name": "stdout",
     "output_type": "stream",
     "text": [
      "u, (1vowels)\n"
     ]
    }
   ],
   "source": [
    "word = input('enter a word')\n",
    "vowel = 0\n",
    "for i in word:\n",
    "    if i=='A' or i=='a' or i=='E' or i=='e'\\\n",
    "    or i=='I' or i=='i' or i=='O' or i=='o' or i=='U' or i=='u':\n",
    "        print(i,', ',sep='',end='')\n",
    "        vowel+=1\n",
    "print('(', vowel,'vowels)',sep='')"
   ]
  },
  {
   "cell_type": "code",
   "execution_count": 110,
   "id": "bde20a2b-2398-4ec9-a0df-550fe2c5310a",
   "metadata": {},
   "outputs": [
    {
     "name": "stdin",
     "output_type": "stream",
     "text": [
      "Enter a word:  dhruv\n"
     ]
    },
    {
     "name": "stdout",
     "output_type": "stream",
     "text": [
      "u, (1 vowels)\n"
     ]
    }
   ],
   "source": [
    "word = input('Enter a word: ')\n",
    "vowel = 0\n",
    "\n",
    "for i in word:\n",
    "    if i in 'AEIOUaeiou':\n",
    "        print(i, ', ', sep='', end='')\n",
    "        vowel += 1\n",
    "\n",
    "print('(', vowel, ' vowels)', sep='')"
   ]
  },
  {
   "cell_type": "markdown",
   "id": "e5d35891-3fc8-4119-9f8b-75604e073311",
   "metadata": {},
   "source": [
    "## nested for loop"
   ]
  },
  {
   "cell_type": "code",
   "execution_count": 111,
   "id": "3cf97a25-8e3a-4c4b-b97c-118d025d7564",
   "metadata": {},
   "outputs": [
    {
     "name": "stdin",
     "output_type": "stream",
     "text": [
      "enter table size :  5\n"
     ]
    },
    {
     "name": "stdout",
     "output_type": "stream",
     "text": [
      "Row#1Col#1 Row#1Col#2 Row#1Col#3 Row#1Col#4 Row#1Col#5 \n",
      "Row#2Col#1 Row#2Col#2 Row#2Col#3 Row#2Col#4 Row#2Col#5 \n",
      "Row#3Col#1 Row#3Col#2 Row#3Col#3 Row#3Col#4 Row#3Col#5 \n",
      "Row#4Col#1 Row#4Col#2 Row#4Col#3 Row#4Col#4 Row#4Col#5 \n",
      "Row#5Col#1 Row#5Col#2 Row#5Col#3 Row#5Col#4 Row#5Col#5 \n"
     ]
    }
   ],
   "source": [
    "size = int(input('enter table size : '))\n",
    "for row in range(1,size+1):\n",
    "    for col in range(1,size+1):\n",
    "        print('Row#',row,'Col#',col,sep='',end=' ')\n",
    "    print()"
   ]
  },
  {
   "cell_type": "code",
   "execution_count": 112,
   "id": "ff76a3a5-3e40-4edf-ba83-1c90c2fbe7ad",
   "metadata": {},
   "outputs": [
    {
     "name": "stdout",
     "output_type": "stream",
     "text": [
      "1 2 3 4 5 6 7 8 9 10 \n",
      "2 4 6 8 10 12 14 16 18 20 \n",
      "3 6 9 12 15 18 21 24 27 30 \n",
      "4 8 12 16 20 24 28 32 36 40 \n",
      "5 10 15 20 25 30 35 40 45 50 \n",
      "6 12 18 24 30 36 42 48 54 60 \n",
      "7 14 21 28 35 42 49 56 63 70 \n",
      "8 16 24 32 40 48 56 64 72 80 \n",
      "9 18 27 36 45 54 63 72 81 90 \n",
      "10 20 30 40 50 60 70 80 90 100 \n"
     ]
    }
   ],
   "source": [
    "for i in range(1,11):\n",
    "    for j in range(1,11):\n",
    "        print(i*j,sep=' ',end=\" \")\n",
    "    print('')"
   ]
  },
  {
   "cell_type": "code",
   "execution_count": 113,
   "id": "dfe0db2f-a119-4a1d-a34f-6f330078a2cf",
   "metadata": {},
   "outputs": [
    {
     "name": "stdin",
     "output_type": "stream",
     "text": [
      "enter table size :  5\n"
     ]
    },
    {
     "name": "stdout",
     "output_type": "stream",
     "text": [
      "1 2 3 4 5 \n",
      "2 4 6 8 10 \n",
      "3 6 9 12 15 \n",
      "4 8 12 16 20 \n",
      "5 10 15 20 25 \n"
     ]
    }
   ],
   "source": [
    "size = int(input('enter table size : '))\n",
    "for row in range(1,size+1):\n",
    "    for col in range(1,size+1):\n",
    "        product = row*col\n",
    "        print(product,end=' ')\n",
    "    print()"
   ]
  },
  {
   "cell_type": "code",
   "execution_count": 114,
   "id": "85bb0626-5b65-438d-87af-c1c423a45d04",
   "metadata": {},
   "outputs": [
    {
     "name": "stdout",
     "output_type": "stream",
     "text": [
      "ABC\n",
      "ACB\n",
      "BAC\n",
      "BCA\n",
      "CAB\n",
      "CBA\n"
     ]
    }
   ],
   "source": [
    "for first in 'ABC':\n",
    "    for second in \"ABC\":\n",
    "        if second != first: #no duplicates are allowed\n",
    "            for third in 'ABC':\n",
    "                if third != first and third != second:\n",
    "                    print(first + second + third)           "
   ]
  },
  {
   "cell_type": "markdown",
   "id": "9e887e58-0ada-4e9a-b78c-8f618dbddc19",
   "metadata": {},
   "source": [
    "# abnormal loop termination\n",
    "## break : it'll come out of the loop"
   ]
  },
  {
   "cell_type": "code",
   "execution_count": 115,
   "id": "1a7b3155-eda5-4d9e-81a4-a77117250c25",
   "metadata": {},
   "outputs": [
    {
     "name": "stdout",
     "output_type": "stream",
     "text": [
      "first statement in while loop\n",
      "second statement in while loop\n",
      "third statement in while loop\n"
     ]
    }
   ],
   "source": [
    "x = 10\n",
    "while x==10:\n",
    "    print('first statement in while loop')\n",
    "    print('second statement in while loop')\n",
    "    print('third statement in while loop')\n",
    "    x = 6\n",
    "    break\n",
    "    print('fourth statement in while loop')"
   ]
  },
  {
   "cell_type": "code",
   "execution_count": 116,
   "id": "d639d4ff-07d0-4bf5-9723-4b13c312b776",
   "metadata": {},
   "outputs": [
    {
     "name": "stdout",
     "output_type": "stream",
     "text": [
      "enter numbers to sum , negative numbers end the list : \n"
     ]
    },
    {
     "name": "stdin",
     "output_type": "stream",
     "text": [
      "enter the number 1\n",
      "enter the number 2\n",
      "enter the number 3\n",
      "enter the number -5\n"
     ]
    },
    {
     "name": "stdout",
     "output_type": "stream",
     "text": [
      "SUM :  6\n"
     ]
    }
   ],
   "source": [
    "entry = 0\n",
    "sum = 0\n",
    "print('enter numbers to sum , negative numbers end the list : ')\n",
    "while True:                                   # loop forever ? not really\n",
    "    entry = int(input('enter the number'))    # get the value\n",
    "    if entry < 0:                             # is number negative ?\n",
    "        break                                 # if so exit the loop\n",
    "    else:\n",
    "        sum+=entry\n",
    "print(\"SUM : \",sum)"
   ]
  },
  {
   "cell_type": "code",
   "execution_count": 117,
   "id": "27d4be9e-a59a-499f-b8bd-9f40269bd9af",
   "metadata": {},
   "outputs": [
    {
     "name": "stdin",
     "output_type": "stream",
     "text": [
      "enter a word (no X's please) dhruv\n"
     ]
    },
    {
     "name": "stdout",
     "output_type": "stream",
     "text": [
      "u, (1vowels)\n"
     ]
    }
   ],
   "source": [
    "word = input(\"enter a word (no X's please)\")\n",
    "vowel = 0\n",
    "for i in word:\n",
    "    if i=='A' or i=='a' or i=='E' or i=='e'\\\n",
    "    or i=='I' or i=='i' or i=='O' or i=='o' or i=='U' or i=='u':\n",
    "        print(i,', ',sep='',end='') # print the vowel\n",
    "        vowel+=1                    # count the vowel\n",
    "    elif i=='X' or i=='x':          # break the loop if X is found in the word\n",
    "        break\n",
    "print('(', vowel,'vowels)',sep='')"
   ]
  },
  {
   "cell_type": "markdown",
   "id": "6bc3fe0d-9e2c-4e0b-b461-a85fdf690da5",
   "metadata": {},
   "source": [
    "## continue : it'll not come out of the loop else it would again go to the loop and starts the loop again"
   ]
  },
  {
   "cell_type": "code",
   "execution_count": 120,
   "id": "0fe3f5b0-ba3f-4e48-811b-72f212290467",
   "metadata": {},
   "outputs": [
    {
     "name": "stdin",
     "output_type": "stream",
     "text": [
      "enter positive integer :  5\n"
     ]
    },
    {
     "name": "stdout",
     "output_type": "stream",
     "text": [
      "Tallying 5\n"
     ]
    },
    {
     "name": "stdin",
     "output_type": "stream",
     "text": [
      "enter positive integer :  4\n"
     ]
    },
    {
     "name": "stdout",
     "output_type": "stream",
     "text": [
      "Tallying 4\n"
     ]
    },
    {
     "name": "stdin",
     "output_type": "stream",
     "text": [
      "enter positive integer :  -4\n"
     ]
    },
    {
     "name": "stdout",
     "output_type": "stream",
     "text": [
      "negative value -4 ignored\n",
      "SUM =  2\n"
     ]
    }
   ],
   "source": [
    "sum = 0\n",
    "done = False\n",
    "while not done:\n",
    "    val = int(input('enter positive integer : '))\n",
    "    if val < 0:\n",
    "        print('negative value',val,'ignored')\n",
    "        break                                 # break will directly come out of the loop\n",
    "    if val != 999:\n",
    "        print('Tallying',val)\n",
    "        sum+=1\n",
    "    else:\n",
    "        done = (val==999)        # 999 entry exits the loop\n",
    "print(\"SUM = \",sum)"
   ]
  },
  {
   "cell_type": "code",
   "execution_count": 119,
   "id": "ab93ee63-59af-4561-b19d-bf50b0ec5a72",
   "metadata": {},
   "outputs": [
    {
     "name": "stdin",
     "output_type": "stream",
     "text": [
      "enter positive integer :  5\n"
     ]
    },
    {
     "name": "stdout",
     "output_type": "stream",
     "text": [
      "Tallying 5\n"
     ]
    },
    {
     "name": "stdin",
     "output_type": "stream",
     "text": [
      "enter positive integer :  4\n"
     ]
    },
    {
     "name": "stdout",
     "output_type": "stream",
     "text": [
      "Tallying 4\n"
     ]
    },
    {
     "name": "stdin",
     "output_type": "stream",
     "text": [
      "enter positive integer :  7\n"
     ]
    },
    {
     "name": "stdout",
     "output_type": "stream",
     "text": [
      "Tallying 7\n"
     ]
    },
    {
     "name": "stdin",
     "output_type": "stream",
     "text": [
      "enter positive integer :  -4\n"
     ]
    },
    {
     "name": "stdout",
     "output_type": "stream",
     "text": [
      "negative value -4 ignored\n"
     ]
    },
    {
     "name": "stdin",
     "output_type": "stream",
     "text": [
      "enter positive integer :  999\n"
     ]
    },
    {
     "name": "stdout",
     "output_type": "stream",
     "text": [
      "SUM =  3\n"
     ]
    }
   ],
   "source": [
    "sum = 0\n",
    "done = False\n",
    "while not done:\n",
    "    val = int(input('enter positive integer : '))\n",
    "    if val < 0:\n",
    "        print('negative value',val,'ignored')\n",
    "        continue\n",
    "    if val != 999:\n",
    "        print('Tallying',val)\n",
    "        sum+=1\n",
    "    else:\n",
    "        done = (val==999)        # 999 entry exits the loop\n",
    "print(\"SUM = \",sum)"
   ]
  },
  {
   "cell_type": "code",
   "execution_count": 121,
   "id": "5a89828d-6d37-447d-9342-0f21c0fbf372",
   "metadata": {},
   "outputs": [
    {
     "name": "stdin",
     "output_type": "stream",
     "text": [
      "enter positive integer :  5\n"
     ]
    },
    {
     "name": "stdout",
     "output_type": "stream",
     "text": [
      "Tallying 5\n"
     ]
    },
    {
     "name": "stdin",
     "output_type": "stream",
     "text": [
      "enter positive integer :  4\n"
     ]
    },
    {
     "name": "stdout",
     "output_type": "stream",
     "text": [
      "Tallying 4\n"
     ]
    },
    {
     "name": "stdin",
     "output_type": "stream",
     "text": [
      "enter positive integer :  999\n"
     ]
    },
    {
     "name": "stdout",
     "output_type": "stream",
     "text": [
      "SUM =  2\n"
     ]
    }
   ],
   "source": [
    "# we can use else part of the if-else control flow instead of continue as well\n",
    "\n",
    "sum = 0\n",
    "done = False\n",
    "while not done:\n",
    "    val = int(input('enter positive integer : '))\n",
    "    if val < 0:\n",
    "        print('negative value',val,'ignored')\n",
    "    else:\n",
    "        if val != 999:\n",
    "            print('Tallying',val)\n",
    "            sum+=1\n",
    "        else:\n",
    "            done = (val==999)        # 999 entry exits the loop\n",
    "print(\"SUM = \",sum)"
   ]
  },
  {
   "cell_type": "markdown",
   "id": "24adfdee-8b69-474c-bace-a3c8679c2c09",
   "metadata": {},
   "source": [
    "## while/else and for/else"
   ]
  },
  {
   "cell_type": "code",
   "execution_count": 122,
   "id": "e1f190c8-a2e0-4c94-908e-2161e70426ac",
   "metadata": {},
   "outputs": [
    {
     "name": "stdout",
     "output_type": "stream",
     "text": [
      "please provide five numbers\n"
     ]
    },
    {
     "name": "stdin",
     "output_type": "stream",
     "text": [
      "enter number :  1\n",
      "enter number :  2\n",
      "enter number :  3\n",
      "enter number :  4\n",
      "enter number :  5\n"
     ]
    },
    {
     "name": "stdout",
     "output_type": "stream",
     "text": [
      "average =  3.0\n"
     ]
    }
   ],
   "source": [
    "count=sum=0\n",
    "print('please provide five numbers')\n",
    "while count<5:\n",
    "    val = float(input('enter number : '))\n",
    "    if val<0:\n",
    "        print('negative values not accepted')\n",
    "        break\n",
    "    count += 1\n",
    "    sum += val\n",
    "else:\n",
    "    print('average = ',sum/count)"
   ]
  },
  {
   "cell_type": "code",
   "execution_count": 123,
   "id": "0c5fd78d-5c59-4665-80ea-53ad69c13ee0",
   "metadata": {},
   "outputs": [
    {
     "name": "stdout",
     "output_type": "stream",
     "text": [
      "please provide five numbers\n"
     ]
    },
    {
     "name": "stdin",
     "output_type": "stream",
     "text": [
      "enter number :  1\n",
      "enter number :  2\n",
      "enter number :  3\n",
      "enter number :  4\n",
      "enter number :  5\n"
     ]
    },
    {
     "name": "stdout",
     "output_type": "stream",
     "text": [
      "average =  3.0\n"
     ]
    }
   ],
   "source": [
    "# we can replace the else part of the while loop using if-else statement as well\n",
    "\n",
    "count=sum=0\n",
    "print('please provide five numbers')\n",
    "while count<5:\n",
    "    val = float(input('enter number : '))\n",
    "    if val<0:\n",
    "        break\n",
    "    count += 1\n",
    "    sum += val\n",
    "if count<5:\n",
    "     print('negative values not accepted')\n",
    "else:\n",
    "    print('average = ',sum/count)"
   ]
  },
  {
   "cell_type": "code",
   "execution_count": 124,
   "id": "a7b5891e-eac2-44ec-9cd4-c789151a091b",
   "metadata": {},
   "outputs": [
    {
     "name": "stdin",
     "output_type": "stream",
     "text": [
      "enter a word (no X's please) dhruv\n"
     ]
    },
    {
     "name": "stdout",
     "output_type": "stream",
     "text": [
      "u, (1vowels)\n"
     ]
    }
   ],
   "source": [
    "word = input(\"enter a word (no X's please)\")\n",
    "vowel = 0\n",
    "for i in word:\n",
    "    if i=='A' or i=='a' or i=='E' or i=='e'\\\n",
    "    or i=='I' or i=='i' or i=='O' or i=='o' or i=='U' or i=='u':\n",
    "        print(i,', ',sep='',end='') # print the vowel\n",
    "        vowel+=1                    # count the vowel\n",
    "    elif i=='X' or i=='x':          # break the loop if X is found in the word\n",
    "        break\n",
    "else:\n",
    "    print('(', vowel,'vowels)',sep='')"
   ]
  },
  {
   "cell_type": "code",
   "execution_count": 125,
   "id": "9a899796-4e4f-43c3-ac3c-d25be7bec688",
   "metadata": {},
   "outputs": [
    {
     "name": "stdout",
     "output_type": "stream",
     "text": [
      "1: 1 \n",
      "2: 1 2 \n",
      "3: 1 3 \n",
      "4: 1 2 4 \n",
      "5: 1 5 \n",
      "6: 1 2 3 6 \n",
      "7: 1 7 \n",
      "8: 1 2 4 8 \n",
      "9: 1 3 9 \n",
      "10: 1 2 5 10 \n",
      "11: 1 11 \n",
      "12: 1 2 3 4 6 12 \n",
      "13: 1 13 \n",
      "14: 1 2 7 14 \n",
      "15: 1 3 5 15 \n",
      "16: 1 2 4 8 16 \n",
      "17: 1 17 \n",
      "18: 1 2 3 6 9 18 \n",
      "19: 1 19 \n",
      "20: 1 2 4 5 10 20 \n"
     ]
    }
   ],
   "source": [
    "max = 20\n",
    "n = 1\n",
    "while n<=max:\n",
    "    factor = 1\n",
    "    print(end=str(n) + ': ')\n",
    "    while factor<=n:\n",
    "        if n % factor == 0:\n",
    "            print(factor,end=' ')\n",
    "        factor += 1\n",
    "    print()\n",
    "    n += 1"
   ]
  },
  {
   "cell_type": "code",
   "execution_count": 126,
   "id": "f4c9ead1-4fb0-4e48-a193-de1571854f57",
   "metadata": {},
   "outputs": [
    {
     "name": "stdout",
     "output_type": "stream",
     "text": [
      "1: 1 \n",
      "2: 1 2 \n",
      "3: 1 3 \n",
      "4: 1 2 4 \n",
      "5: 1 5 \n",
      "6: 1 2 3 6 \n",
      "7: 1 7 \n",
      "8: 1 2 4 8 \n",
      "9: 1 3 9 \n",
      "10: 1 2 5 10 \n",
      "11: 1 11 \n",
      "12: 1 2 3 4 6 12 \n",
      "13: 1 13 \n",
      "14: 1 2 7 14 \n",
      "15: 1 3 5 15 \n",
      "16: 1 2 4 8 16 \n",
      "17: 1 17 \n",
      "18: 1 2 3 6 9 18 \n",
      "19: 1 19 \n",
      "20: 1 2 4 5 10 20 \n"
     ]
    }
   ],
   "source": [
    "max = 20\n",
    "for n in range(1,max+1):\n",
    "    print(end=str(n) + ': ')\n",
    "    for factor in range(1,n+1):\n",
    "        if n%factor==0:\n",
    "            print(factor,end=' ')\n",
    "    print()"
   ]
  },
  {
   "cell_type": "markdown",
   "id": "1c8e0696-4a0c-4282-9f49-49232926cf6e",
   "metadata": {},
   "source": [
    "# NUMBERS\n",
    "## integer"
   ]
  },
  {
   "cell_type": "code",
   "execution_count": 1,
   "id": "88027dc7-6e65-43b2-86f6-f2c1a5a67285",
   "metadata": {
    "scrolled": true
   },
   "outputs": [
    {
     "name": "stdout",
     "output_type": "stream",
     "text": [
      "Help on class int in module builtins:\n",
      "\n",
      "class int(object)\n",
      " |  int([x]) -> integer\n",
      " |  int(x, base=10) -> integer\n",
      " |\n",
      " |  Convert a number or string to an integer, or return 0 if no arguments\n",
      " |  are given.  If x is a number, return x.__int__().  For floating-point\n",
      " |  numbers, this truncates towards zero.\n",
      " |\n",
      " |  If x is not a number or if base is given, then x must be a string,\n",
      " |  bytes, or bytearray instance representing an integer literal in the\n",
      " |  given base.  The literal can be preceded by '+' or '-' and be surrounded\n",
      " |  by whitespace.  The base defaults to 10.  Valid bases are 0 and 2-36.\n",
      " |  Base 0 means to interpret the base from the string as an integer literal.\n",
      " |  >>> int('0b100', base=0)\n",
      " |  4\n",
      " |\n",
      " |  Built-in subclasses:\n",
      " |      bool\n",
      " |\n",
      " |  Methods defined here:\n",
      " |\n",
      " |  __abs__(self, /)\n",
      " |      abs(self)\n",
      " |\n",
      " |  __add__(self, value, /)\n",
      " |      Return self+value.\n",
      " |\n",
      " |  __and__(self, value, /)\n",
      " |      Return self&value.\n",
      " |\n",
      " |  __bool__(self, /)\n",
      " |      True if self else False\n",
      " |\n",
      " |  __ceil__(...)\n",
      " |      Ceiling of an Integral returns itself.\n",
      " |\n",
      " |  __divmod__(self, value, /)\n",
      " |      Return divmod(self, value).\n",
      " |\n",
      " |  __eq__(self, value, /)\n",
      " |      Return self==value.\n",
      " |\n",
      " |  __float__(self, /)\n",
      " |      float(self)\n",
      " |\n",
      " |  __floor__(...)\n",
      " |      Flooring an Integral returns itself.\n",
      " |\n",
      " |  __floordiv__(self, value, /)\n",
      " |      Return self//value.\n",
      " |\n",
      " |  __format__(self, format_spec, /)\n",
      " |      Convert to a string according to format_spec.\n",
      " |\n",
      " |  __ge__(self, value, /)\n",
      " |      Return self>=value.\n",
      " |\n",
      " |  __getattribute__(self, name, /)\n",
      " |      Return getattr(self, name).\n",
      " |\n",
      " |  __getnewargs__(self, /)\n",
      " |\n",
      " |  __gt__(self, value, /)\n",
      " |      Return self>value.\n",
      " |\n",
      " |  __hash__(self, /)\n",
      " |      Return hash(self).\n",
      " |\n",
      " |  __index__(self, /)\n",
      " |      Return self converted to an integer, if self is suitable for use as an index into a list.\n",
      " |\n",
      " |  __int__(self, /)\n",
      " |      int(self)\n",
      " |\n",
      " |  __invert__(self, /)\n",
      " |      ~self\n",
      " |\n",
      " |  __le__(self, value, /)\n",
      " |      Return self<=value.\n",
      " |\n",
      " |  __lshift__(self, value, /)\n",
      " |      Return self<<value.\n",
      " |\n",
      " |  __lt__(self, value, /)\n",
      " |      Return self<value.\n",
      " |\n",
      " |  __mod__(self, value, /)\n",
      " |      Return self%value.\n",
      " |\n",
      " |  __mul__(self, value, /)\n",
      " |      Return self*value.\n",
      " |\n",
      " |  __ne__(self, value, /)\n",
      " |      Return self!=value.\n",
      " |\n",
      " |  __neg__(self, /)\n",
      " |      -self\n",
      " |\n",
      " |  __or__(self, value, /)\n",
      " |      Return self|value.\n",
      " |\n",
      " |  __pos__(self, /)\n",
      " |      +self\n",
      " |\n",
      " |  __pow__(self, value, mod=None, /)\n",
      " |      Return pow(self, value, mod).\n",
      " |\n",
      " |  __radd__(self, value, /)\n",
      " |      Return value+self.\n",
      " |\n",
      " |  __rand__(self, value, /)\n",
      " |      Return value&self.\n",
      " |\n",
      " |  __rdivmod__(self, value, /)\n",
      " |      Return divmod(value, self).\n",
      " |\n",
      " |  __repr__(self, /)\n",
      " |      Return repr(self).\n",
      " |\n",
      " |  __rfloordiv__(self, value, /)\n",
      " |      Return value//self.\n",
      " |\n",
      " |  __rlshift__(self, value, /)\n",
      " |      Return value<<self.\n",
      " |\n",
      " |  __rmod__(self, value, /)\n",
      " |      Return value%self.\n",
      " |\n",
      " |  __rmul__(self, value, /)\n",
      " |      Return value*self.\n",
      " |\n",
      " |  __ror__(self, value, /)\n",
      " |      Return value|self.\n",
      " |\n",
      " |  __round__(...)\n",
      " |      Rounding an Integral returns itself.\n",
      " |\n",
      " |      Rounding with an ndigits argument also returns an integer.\n",
      " |\n",
      " |  __rpow__(self, value, mod=None, /)\n",
      " |      Return pow(value, self, mod).\n",
      " |\n",
      " |  __rrshift__(self, value, /)\n",
      " |      Return value>>self.\n",
      " |\n",
      " |  __rshift__(self, value, /)\n",
      " |      Return self>>value.\n",
      " |\n",
      " |  __rsub__(self, value, /)\n",
      " |      Return value-self.\n",
      " |\n",
      " |  __rtruediv__(self, value, /)\n",
      " |      Return value/self.\n",
      " |\n",
      " |  __rxor__(self, value, /)\n",
      " |      Return value^self.\n",
      " |\n",
      " |  __sizeof__(self, /)\n",
      " |      Returns size in memory, in bytes.\n",
      " |\n",
      " |  __sub__(self, value, /)\n",
      " |      Return self-value.\n",
      " |\n",
      " |  __truediv__(self, value, /)\n",
      " |      Return self/value.\n",
      " |\n",
      " |  __trunc__(...)\n",
      " |      Truncating an Integral returns itself.\n",
      " |\n",
      " |  __xor__(self, value, /)\n",
      " |      Return self^value.\n",
      " |\n",
      " |  as_integer_ratio(self, /)\n",
      " |      Return a pair of integers, whose ratio is equal to the original int.\n",
      " |\n",
      " |      The ratio is in lowest terms and has a positive denominator.\n",
      " |\n",
      " |      >>> (10).as_integer_ratio()\n",
      " |      (10, 1)\n",
      " |      >>> (-10).as_integer_ratio()\n",
      " |      (-10, 1)\n",
      " |      >>> (0).as_integer_ratio()\n",
      " |      (0, 1)\n",
      " |\n",
      " |  bit_count(self, /)\n",
      " |      Number of ones in the binary representation of the absolute value of self.\n",
      " |\n",
      " |      Also known as the population count.\n",
      " |\n",
      " |      >>> bin(13)\n",
      " |      '0b1101'\n",
      " |      >>> (13).bit_count()\n",
      " |      3\n",
      " |\n",
      " |  bit_length(self, /)\n",
      " |      Number of bits necessary to represent self in binary.\n",
      " |\n",
      " |      >>> bin(37)\n",
      " |      '0b100101'\n",
      " |      >>> (37).bit_length()\n",
      " |      6\n",
      " |\n",
      " |  conjugate(...)\n",
      " |      Returns self, the complex conjugate of any int.\n",
      " |\n",
      " |  is_integer(self, /)\n",
      " |      Returns True. Exists for duck type compatibility with float.is_integer.\n",
      " |\n",
      " |  to_bytes(self, /, length=1, byteorder='big', *, signed=False)\n",
      " |      Return an array of bytes representing an integer.\n",
      " |\n",
      " |      length\n",
      " |        Length of bytes object to use.  An OverflowError is raised if the\n",
      " |        integer is not representable with the given number of bytes.  Default\n",
      " |        is length 1.\n",
      " |      byteorder\n",
      " |        The byte order used to represent the integer.  If byteorder is 'big',\n",
      " |        the most significant byte is at the beginning of the byte array.  If\n",
      " |        byteorder is 'little', the most significant byte is at the end of the\n",
      " |        byte array.  To request the native byte order of the host system, use\n",
      " |        `sys.byteorder' as the byte order value.  Default is to use 'big'.\n",
      " |      signed\n",
      " |        Determines whether two's complement is used to represent the integer.\n",
      " |        If signed is False and a negative integer is given, an OverflowError\n",
      " |        is raised.\n",
      " |\n",
      " |  ----------------------------------------------------------------------\n",
      " |  Class methods defined here:\n",
      " |\n",
      " |  from_bytes(bytes, byteorder='big', *, signed=False)\n",
      " |      Return the integer represented by the given array of bytes.\n",
      " |\n",
      " |      bytes\n",
      " |        Holds the array of bytes to convert.  The argument must either\n",
      " |        support the buffer protocol or be an iterable object producing bytes.\n",
      " |        Bytes and bytearray are examples of built-in objects that support the\n",
      " |        buffer protocol.\n",
      " |      byteorder\n",
      " |        The byte order used to represent the integer.  If byteorder is 'big',\n",
      " |        the most significant byte is at the beginning of the byte array.  If\n",
      " |        byteorder is 'little', the most significant byte is at the end of the\n",
      " |        byte array.  To request the native byte order of the host system, use\n",
      " |        `sys.byteorder' as the byte order value.  Default is to use 'big'.\n",
      " |      signed\n",
      " |        Indicates whether two's complement is used to represent the integer.\n",
      " |\n",
      " |  ----------------------------------------------------------------------\n",
      " |  Static methods defined here:\n",
      " |\n",
      " |  __new__(*args, **kwargs)\n",
      " |      Create and return a new object.  See help(type) for accurate signature.\n",
      " |\n",
      " |  ----------------------------------------------------------------------\n",
      " |  Data descriptors defined here:\n",
      " |\n",
      " |  denominator\n",
      " |      the denominator of a rational number in lowest terms\n",
      " |\n",
      " |  imag\n",
      " |      the imaginary part of a complex number\n",
      " |\n",
      " |  numerator\n",
      " |      the numerator of a rational number in lowest terms\n",
      " |\n",
      " |  real\n",
      " |      the real part of a complex number\n",
      "\n"
     ]
    }
   ],
   "source": [
    "help(int)"
   ]
  },
  {
   "cell_type": "code",
   "execution_count": 2,
   "id": "b8398876-9ee5-438e-acb6-564b30e3659e",
   "metadata": {
    "scrolled": true
   },
   "outputs": [
    {
     "data": {
      "text/plain": [
       "['__abs__',\n",
       " '__add__',\n",
       " '__and__',\n",
       " '__bool__',\n",
       " '__ceil__',\n",
       " '__class__',\n",
       " '__delattr__',\n",
       " '__dir__',\n",
       " '__divmod__',\n",
       " '__doc__',\n",
       " '__eq__',\n",
       " '__float__',\n",
       " '__floor__',\n",
       " '__floordiv__',\n",
       " '__format__',\n",
       " '__ge__',\n",
       " '__getattribute__',\n",
       " '__getnewargs__',\n",
       " '__getstate__',\n",
       " '__gt__',\n",
       " '__hash__',\n",
       " '__index__',\n",
       " '__init__',\n",
       " '__init_subclass__',\n",
       " '__int__',\n",
       " '__invert__',\n",
       " '__le__',\n",
       " '__lshift__',\n",
       " '__lt__',\n",
       " '__mod__',\n",
       " '__mul__',\n",
       " '__ne__',\n",
       " '__neg__',\n",
       " '__new__',\n",
       " '__or__',\n",
       " '__pos__',\n",
       " '__pow__',\n",
       " '__radd__',\n",
       " '__rand__',\n",
       " '__rdivmod__',\n",
       " '__reduce__',\n",
       " '__reduce_ex__',\n",
       " '__repr__',\n",
       " '__rfloordiv__',\n",
       " '__rlshift__',\n",
       " '__rmod__',\n",
       " '__rmul__',\n",
       " '__ror__',\n",
       " '__round__',\n",
       " '__rpow__',\n",
       " '__rrshift__',\n",
       " '__rshift__',\n",
       " '__rsub__',\n",
       " '__rtruediv__',\n",
       " '__rxor__',\n",
       " '__setattr__',\n",
       " '__sizeof__',\n",
       " '__str__',\n",
       " '__sub__',\n",
       " '__subclasshook__',\n",
       " '__truediv__',\n",
       " '__trunc__',\n",
       " '__xor__',\n",
       " 'as_integer_ratio',\n",
       " 'bit_count',\n",
       " 'bit_length',\n",
       " 'conjugate',\n",
       " 'denominator',\n",
       " 'from_bytes',\n",
       " 'imag',\n",
       " 'is_integer',\n",
       " 'numerator',\n",
       " 'real',\n",
       " 'to_bytes']"
      ]
     },
     "execution_count": 2,
     "metadata": {},
     "output_type": "execute_result"
    }
   ],
   "source": [
    "dir(int)"
   ]
  },
  {
   "cell_type": "code",
   "execution_count": 3,
   "id": "95310431-2f5d-4b86-9381-7ae0c60d66cc",
   "metadata": {},
   "outputs": [
    {
     "name": "stdout",
     "output_type": "stream",
     "text": [
      "['__abs__', '__add__', '__and__', '__bool__', '__ceil__', '__class__', '__delattr__', '__dir__', '__divmod__', '__doc__', '__eq__', '__float__', '__floor__', '__floordiv__', '__format__', '__ge__', '__getattribute__', '__getnewargs__', '__getstate__', '__gt__', '__hash__', '__index__', '__init__', '__init_subclass__', '__int__', '__invert__', '__le__', '__lshift__', '__lt__', '__mod__', '__mul__', '__ne__', '__neg__', '__new__', '__or__', '__pos__', '__pow__', '__radd__', '__rand__', '__rdivmod__', '__reduce__', '__reduce_ex__', '__repr__', '__rfloordiv__', '__rlshift__', '__rmod__', '__rmul__', '__ror__', '__round__', '__rpow__', '__rrshift__', '__rshift__', '__rsub__', '__rtruediv__', '__rxor__', '__setattr__', '__sizeof__', '__str__', '__sub__', '__subclasshook__', '__truediv__', '__trunc__', '__xor__', 'as_integer_ratio', 'bit_count', 'bit_length', 'conjugate', 'denominator', 'from_bytes', 'imag', 'is_integer', 'numerator', 'real', 'to_bytes']\n",
      "\n",
      "74\n"
     ]
    }
   ],
   "source": [
    "list_int_dir = list(dir(int))\n",
    "print(list_int_dir)\n",
    "print()\n",
    "print(len(dir(int)))"
   ]
  },
  {
   "cell_type": "code",
   "execution_count": 4,
   "id": "0aafcc2a-3234-4d60-930d-53462f096cc4",
   "metadata": {},
   "outputs": [
    {
     "name": "stdout",
     "output_type": "stream",
     "text": [
      "10\n"
     ]
    }
   ],
   "source": [
    "a = int('10')\n",
    "print(a)"
   ]
  },
  {
   "cell_type": "code",
   "execution_count": 6,
   "id": "a3158434-6391-4e92-91fe-1d24869c286c",
   "metadata": {},
   "outputs": [
    {
     "name": "stdout",
     "output_type": "stream",
     "text": [
      "10\n",
      "<class 'int'>\n"
     ]
    }
   ],
   "source": [
    "# if we use floating point values then int() will convert it into int value\n",
    "a = int(10.48)\n",
    "print(a)\n",
    "print(type(a))"
   ]
  },
  {
   "cell_type": "code",
   "execution_count": 7,
   "id": "77653ed7-b3d1-4b70-912d-b2d2af370866",
   "metadata": {},
   "outputs": [
    {
     "name": "stdout",
     "output_type": "stream",
     "text": [
      "1024587898899879865100001248631000000000000\n",
      "<class 'int'>\n"
     ]
    }
   ],
   "source": [
    "# long values\n",
    "a = 1024587898899879865100001248631000000000000\n",
    "print(a)\n",
    "print(type(a))"
   ]
  },
  {
   "cell_type": "code",
   "execution_count": 8,
   "id": "cbbf1675-f9cb-47cd-98d8-89c9a04f7065",
   "metadata": {},
   "outputs": [
    {
     "name": "stdout",
     "output_type": "stream",
     "text": [
      "False\n",
      "True\n"
     ]
    }
   ],
   "source": [
    "# isinstance() function\n",
    "a = 50\n",
    "print(isinstance(a,bool))\n",
    "print(isinstance(a,int))"
   ]
  },
  {
   "cell_type": "code",
   "execution_count": 9,
   "id": "bbd6bba9-f554-419e-92b0-6016b775c33f",
   "metadata": {},
   "outputs": [
    {
     "name": "stdout",
     "output_type": "stream",
     "text": [
      "200.0\n",
      "<class 'float'>\n",
      "\n",
      "200\n",
      "<class 'int'>\n"
     ]
    }
   ],
   "source": [
    "# exponential e to create exponential numbers of base 10 but it'll create floating point numbers instead of integer values\n",
    "\n",
    "a = 2e2               # its equivalent to 2*10**2\n",
    "print(a)\n",
    "print(type(a))\n",
    "print()\n",
    "b = 2 * 10 ** 2\n",
    "print(b)\n",
    "print(type(b))"
   ]
  },
  {
   "cell_type": "code",
   "execution_count": 10,
   "id": "17849e25-7164-4694-87d0-9a9d94e46604",
   "metadata": {},
   "outputs": [
    {
     "name": "stdout",
     "output_type": "stream",
     "text": [
      "For 0b1010, int is :  10\n",
      "For 0o12, int is :  10\n",
      "For 0xB, int is :  11\n"
     ]
    }
   ],
   "source": [
    "# converting a binary to integer with int()\n",
    "print('For 0b1010, int is : ',int(\"0b1010\",2))  # 1x2^3 + 0x2^2 + 1x2^1 + 0x2^0\n",
    "\n",
    "# converting a octal to integer with int()\n",
    "print('For 0o12, int is : ',int(\"0o12\",8))      # 1x8^1 + 2x8^0\n",
    "\n",
    "# converting a hexadecimal to integer with int() \n",
    "print('For 0xB, int is : ',int(\"0xB\",16))"
   ]
  },
  {
   "cell_type": "markdown",
   "id": "886f46e7-2d85-4c8f-9548-d422d510bc9c",
   "metadata": {},
   "source": [
    "## additional methods on int types\n",
    "### we can convert int to binary equivalent using 'bin' method"
   ]
  },
  {
   "cell_type": "code",
   "execution_count": 11,
   "id": "49d35d0c-c64b-4707-8948-9a6687dd1757",
   "metadata": {},
   "outputs": [
    {
     "name": "stdout",
     "output_type": "stream",
     "text": [
      "0b11000\n"
     ]
    }
   ],
   "source": [
    "n = 24\n",
    "print(bin(n))"
   ]
  },
  {
   "cell_type": "markdown",
   "id": "1a3817a3-df7e-4d35-ad9d-aa2393389935",
   "metadata": {},
   "source": [
    "### to find number of bits necessary to represent the int value we can use 'bit_length' method on 'int'"
   ]
  },
  {
   "cell_type": "code",
   "execution_count": 12,
   "id": "c0ea9a6c-7360-43f1-a788-8ce15ff84abc",
   "metadata": {},
   "outputs": [
    {
     "data": {
      "text/plain": [
       "5"
      ]
     },
     "execution_count": 12,
     "metadata": {},
     "output_type": "execute_result"
    }
   ],
   "source": [
    "n.bit_length()"
   ]
  },
  {
   "cell_type": "markdown",
   "id": "dd35482c-c628-4240-93d3-2e052852c589",
   "metadata": {},
   "source": [
    "### int.bit_count it returns the number of ones in binary representations of the absolute value of integer"
   ]
  },
  {
   "cell_type": "code",
   "execution_count": 13,
   "id": "feaa9e3e-5412-4182-a835-c48d10f6ef70",
   "metadata": {},
   "outputs": [
    {
     "name": "stdout",
     "output_type": "stream",
     "text": [
      "0b11000\n"
     ]
    },
    {
     "data": {
      "text/plain": [
       "2"
      ]
     },
     "execution_count": 13,
     "metadata": {},
     "output_type": "execute_result"
    }
   ],
   "source": [
    "n = 24\n",
    "print(bin(n))\n",
    "(n).bit_count()"
   ]
  },
  {
   "cell_type": "markdown",
   "id": "e7730832-0c91-4e98-aebe-1bb0014216c7",
   "metadata": {},
   "source": [
    "### int.to_bytes(length,byteorder='big',*,signed=False) returns an array of bytes representing an integer"
   ]
  },
  {
   "cell_type": "code",
   "execution_count": 14,
   "id": "76abe88e-5f56-443d-8465-18068c5c54c1",
   "metadata": {},
   "outputs": [
    {
     "data": {
      "text/plain": [
       "b'\\x00\\x18'"
      ]
     },
     "execution_count": 14,
     "metadata": {},
     "output_type": "execute_result"
    }
   ],
   "source": [
    "n.to_bytes(2,byteorder='big')"
   ]
  },
  {
   "cell_type": "markdown",
   "id": "c141d2a9-fe77-4b64-aa3f-c24f86ba22ba",
   "metadata": {},
   "source": [
    "### int.from_bytes(length,byteorder='big',*,signed=False) returns integer represented by given array of bytes"
   ]
  },
  {
   "cell_type": "code",
   "execution_count": 15,
   "id": "03cc0fa4-ff57-47b0-9170-fbdc8eb205df",
   "metadata": {},
   "outputs": [
    {
     "name": "stdout",
     "output_type": "stream",
     "text": [
      "16\n",
      "4096\n",
      "-1024\n"
     ]
    }
   ],
   "source": [
    "print(n.from_bytes(b'\\x00\\x10',byteorder='big'))\n",
    "print(n.from_bytes(b'\\x00\\x10',byteorder='little'))\n",
    "print(n.from_bytes(b'\\xfc\\x00',byteorder='big',signed=True))"
   ]
  },
  {
   "cell_type": "markdown",
   "id": "9ad3736e-e6f3-482e-973e-e07aab207942",
   "metadata": {},
   "source": [
    "### int.as_integer_ratio() returns a pair of integers whose ratio is exactly equals to original integer and with positive denominator"
   ]
  },
  {
   "cell_type": "code",
   "execution_count": 16,
   "id": "3bba9416-d322-4821-af7a-411083bfd5b7",
   "metadata": {},
   "outputs": [
    {
     "data": {
      "text/plain": [
       "(23, 1)"
      ]
     },
     "execution_count": 16,
     "metadata": {},
     "output_type": "execute_result"
    }
   ],
   "source": [
    "n = 23\n",
    "n.as_integer_ratio()"
   ]
  },
  {
   "cell_type": "markdown",
   "id": "5803f2ff-d85f-45b6-a91e-984ba0833d5a",
   "metadata": {},
   "source": [
    "### hex(x) convert an integer with lower dimension hexadecimal string"
   ]
  },
  {
   "cell_type": "code",
   "execution_count": 17,
   "id": "b0b53c40-6b73-4c92-88d3-4636f3c61a26",
   "metadata": {},
   "outputs": [
    {
     "data": {
      "text/plain": [
       "'0x18'"
      ]
     },
     "execution_count": 17,
     "metadata": {},
     "output_type": "execute_result"
    }
   ],
   "source": [
    "hex(24)"
   ]
  },
  {
   "cell_type": "markdown",
   "id": "ad3d5219-8028-4603-8b13-dee8042b646e",
   "metadata": {},
   "source": [
    "### oct(x) convert an integer with lower dimension octadecimal string"
   ]
  },
  {
   "cell_type": "code",
   "execution_count": 18,
   "id": "185f23c3-27b8-4e67-b055-e17dfac1153e",
   "metadata": {},
   "outputs": [
    {
     "data": {
      "text/plain": [
       "'0o30'"
      ]
     },
     "execution_count": 18,
     "metadata": {},
     "output_type": "execute_result"
    }
   ],
   "source": [
    "oct(24)"
   ]
  },
  {
   "cell_type": "markdown",
   "id": "8e07feb8-960d-4939-b8b6-83dcb457712a",
   "metadata": {},
   "source": [
    "### id(object) returns the 'identity' of an object"
   ]
  },
  {
   "cell_type": "code",
   "execution_count": 19,
   "id": "47967f62-e998-482d-bbf3-fba8ea40c782",
   "metadata": {},
   "outputs": [
    {
     "name": "stdout",
     "output_type": "stream",
     "text": [
      "140737335594968\n"
     ]
    }
   ],
   "source": [
    "n = 50\n",
    "print(id(n))"
   ]
  },
  {
   "cell_type": "markdown",
   "id": "dd79762e-352a-4e6b-81e9-64e9ee2db702",
   "metadata": {},
   "source": [
    "### len(s) return the length of an object"
   ]
  },
  {
   "cell_type": "code",
   "execution_count": 20,
   "id": "d24ee4fb-69ed-46db-b93f-dcd994f13539",
   "metadata": {},
   "outputs": [
    {
     "name": "stdout",
     "output_type": "stream",
     "text": [
      "10\n"
     ]
    }
   ],
   "source": [
    "n = 1234567899\n",
    "print(len(str(n)))"
   ]
  },
  {
   "cell_type": "code",
   "execution_count": 21,
   "id": "141287d9-6405-4e80-96e1-4c0bcdde19df",
   "metadata": {},
   "outputs": [
    {
     "name": "stdout",
     "output_type": "stream",
     "text": [
      "90\n",
      "1\n"
     ]
    }
   ],
   "source": [
    "print(max([1,2,3,4,5,90]))\n",
    "print(min([1,2,3,4,5,90]))"
   ]
  },
  {
   "cell_type": "markdown",
   "id": "1096444a-447d-4df8-94cf-c932930321b8",
   "metadata": {},
   "source": [
    "### ord(c) given a string representing one unicode character return an integr representing the unicode code point of that character"
   ]
  },
  {
   "cell_type": "code",
   "execution_count": 23,
   "id": "91119f31-fc36-448e-bb59-8b40026ae7b9",
   "metadata": {},
   "outputs": [
    {
     "name": "stdout",
     "output_type": "stream",
     "text": [
      "97\n",
      "98\n",
      "99\n",
      "65\n"
     ]
    }
   ],
   "source": [
    "print(ord('a'))\n",
    "print(ord('b'))\n",
    "print(ord('c'))\n",
    "print(ord(b'A'))"
   ]
  },
  {
   "cell_type": "markdown",
   "id": "401d9e30-c54b-4bca-8ba1-dcd70b570759",
   "metadata": {},
   "source": [
    "### pow(base,exp,mod=None) return the base to the power exp; if mod is present, return the base to the power exp; modulo mod"
   ]
  },
  {
   "cell_type": "code",
   "execution_count": 24,
   "id": "accb949b-60d4-4b43-ba0b-cfce3bfde669",
   "metadata": {},
   "outputs": [
    {
     "name": "stdout",
     "output_type": "stream",
     "text": [
      "16\n",
      "1\n"
     ]
    }
   ],
   "source": [
    "print(pow(2,4))\n",
    "print(pow(2,4,3))   # 2**4 = 16 and 16%3=1"
   ]
  },
  {
   "cell_type": "code",
   "execution_count": 25,
   "id": "94f11493-4d51-41d7-8695-f12e7dd9c552",
   "metadata": {},
   "outputs": [
    {
     "data": {
      "text/plain": [
       "(1.0605752387249068e-16+1.7320508075688772j)"
      ]
     },
     "execution_count": 25,
     "metadata": {},
     "output_type": "execute_result"
    }
   ],
   "source": [
    "pow(-3,0.5)"
   ]
  },
  {
   "cell_type": "markdown",
   "id": "18a34dd8-1d21-4701-b025-e6765e971867",
   "metadata": {},
   "source": [
    "### n.__ceil__() : returns the ceiling as an integral"
   ]
  },
  {
   "cell_type": "code",
   "execution_count": 26,
   "id": "a56abe22-8dff-4799-85c9-7349e5aaa4c4",
   "metadata": {},
   "outputs": [
    {
     "name": "stdout",
     "output_type": "stream",
     "text": [
      "35\n",
      "35\n"
     ]
    }
   ],
   "source": [
    "n = 34.78\n",
    "print(n.__ceil__())\n",
    "n1 = 34.14\n",
    "print(n1.__ceil__())"
   ]
  },
  {
   "cell_type": "markdown",
   "id": "cc61d57e-0203-494a-85d9-49391c0d6511",
   "metadata": {},
   "source": [
    "### round() : it will round off to the next lowest integer value"
   ]
  },
  {
   "cell_type": "code",
   "execution_count": 27,
   "id": "9948eabd-5d3f-45b7-ad15-a77e4f5eab4b",
   "metadata": {},
   "outputs": [
    {
     "name": "stdout",
     "output_type": "stream",
     "text": [
      "35\n",
      "34\n"
     ]
    }
   ],
   "source": [
    "print(round(n))\n",
    "print(round(n1))"
   ]
  },
  {
   "cell_type": "markdown",
   "id": "ac439bca-86bc-405c-b40c-4390e9b375bf",
   "metadata": {},
   "source": [
    "### int.__and__(self,value,/) return self & value"
   ]
  },
  {
   "cell_type": "code",
   "execution_count": 28,
   "id": "5119fb18-7a26-4227-b858-23a280fab009",
   "metadata": {},
   "outputs": [
    {
     "data": {
      "text/plain": [
       "34"
      ]
     },
     "execution_count": 28,
     "metadata": {},
     "output_type": "execute_result"
    }
   ],
   "source": [
    "int.__and__(34,54)"
   ]
  },
  {
   "cell_type": "code",
   "execution_count": 29,
   "id": "6b4d8dc4-6dbe-46f0-87ac-7a7211be8ade",
   "metadata": {},
   "outputs": [
    {
     "data": {
      "text/plain": [
       "32"
      ]
     },
     "execution_count": 29,
     "metadata": {},
     "output_type": "execute_result"
    }
   ],
   "source": [
    "int.__and__(34,40)"
   ]
  },
  {
   "cell_type": "markdown",
   "id": "f1892a97-97c7-443d-bca4-39635b75f237",
   "metadata": {},
   "source": [
    "### int.__add__(n1,n2)"
   ]
  },
  {
   "cell_type": "code",
   "execution_count": 30,
   "id": "50693004-c77f-44ce-8ab9-09e5b50d43f4",
   "metadata": {},
   "outputs": [
    {
     "data": {
      "text/plain": [
       "54"
      ]
     },
     "execution_count": 30,
     "metadata": {},
     "output_type": "execute_result"
    }
   ],
   "source": [
    "int.__add__(24,30)"
   ]
  },
  {
   "cell_type": "markdown",
   "id": "2bd3346b-f47c-4fc8-8f03-eebf13237794",
   "metadata": {},
   "source": [
    "### the is subclass() method checks if the specified class is the subclass of specified classinfo argument"
   ]
  },
  {
   "cell_type": "code",
   "execution_count": 31,
   "id": "281f0e63-ce3e-4c3d-900f-757058491ab3",
   "metadata": {},
   "outputs": [
    {
     "name": "stdout",
     "output_type": "stream",
     "text": [
      "True\n",
      "False\n",
      "False\n",
      "True\n",
      "False\n"
     ]
    }
   ],
   "source": [
    "print(issubclass(bool,int))\n",
    "print(issubclass(float,int))\n",
    "print(issubclass(str,list))\n",
    "print(issubclass(bool,(int,str,list)))\n",
    "print(issubclass(float,(int,str,list)))"
   ]
  },
  {
   "cell_type": "markdown",
   "id": "fb82cf4d-3558-466b-8482-80a887253492",
   "metadata": {},
   "source": [
    "### iter and next methods"
   ]
  },
  {
   "cell_type": "code",
   "execution_count": 32,
   "id": "54abacc2-c64d-4210-95e1-4c27b664487a",
   "metadata": {},
   "outputs": [
    {
     "name": "stdout",
     "output_type": "stream",
     "text": [
      "1\n",
      "2\n",
      "3\n",
      "4\n",
      "5\n"
     ]
    }
   ],
   "source": [
    "nums = [1,2,3,4,5]\n",
    "it = iter(nums)         # returns an iterator object\n",
    "print(it.__next__())    # calling __next__() to get the first element\n",
    "print(it.__next__())\n",
    "print(it.__next__())\n",
    "print(it.__next__())\n",
    "print(it.__next__())"
   ]
  },
  {
   "cell_type": "code",
   "execution_count": 33,
   "id": "772b9c5a-527f-4f48-93ba-d2fa94eeb6af",
   "metadata": {},
   "outputs": [
    {
     "name": "stdout",
     "output_type": "stream",
     "text": [
      "1\n",
      "2\n",
      "3\n",
      "4\n",
      "5\n"
     ]
    }
   ],
   "source": [
    "nums = [1, 2, 3, 4, 5]\n",
    "iter = iter(nums)  # Create an iterator for the list\n",
    "\n",
    "print(next(iter))  # Get the next element from the iterator\n",
    "print(next(iter)) \n",
    "print(next(iter)) \n",
    "print(next(iter)) \n",
    "print(next(iter)) "
   ]
  },
  {
   "cell_type": "code",
   "execution_count": 1,
   "id": "cdd87f27-7833-4956-a958-966cdbd35679",
   "metadata": {},
   "outputs": [
    {
     "name": "stdout",
     "output_type": "stream",
     "text": [
      "1\n",
      "2\n",
      "3\n",
      "4\n",
      "5\n"
     ]
    }
   ],
   "source": [
    "nums = [1, 2, 3, 4, 5]\n",
    "iter_nums = iter(nums)  # Create an iterator for the list\n",
    "for num in iter_nums:   # Use the iterator in the for loop\n",
    "    print(num)"
   ]
  },
  {
   "cell_type": "markdown",
   "id": "e806b576-f84c-42d7-8b01-0de0950afcba",
   "metadata": {},
   "source": [
    "### __rlshift__() method implements the reverse bitwise left-shift operation with reflected , swapped operands"
   ]
  },
  {
   "cell_type": "code",
   "execution_count": 2,
   "id": "12645df9-fc65-432a-ab64-47acd654cf82",
   "metadata": {},
   "outputs": [
    {
     "name": "stdout",
     "output_type": "stream",
     "text": [
      "4\n",
      "0b100\n"
     ]
    }
   ],
   "source": [
    "r1 = int.__rlshift__(2,1)\n",
    "print(r1)\n",
    "print(bin(4))"
   ]
  },
  {
   "cell_type": "code",
   "execution_count": 3,
   "id": "18e4bcdc-b0c6-47fb-9d30-3cdd3e17a9ed",
   "metadata": {},
   "outputs": [
    {
     "name": "stdout",
     "output_type": "stream",
     "text": [
      "4\n",
      "0b1000\n"
     ]
    }
   ],
   "source": [
    "r2 = int.__lshift__(2,1)\n",
    "print(r2)\n",
    "print(bin(8))"
   ]
  },
  {
   "cell_type": "code",
   "execution_count": 4,
   "id": "7bc3fa5c-6148-465f-b05c-6615e769a449",
   "metadata": {},
   "outputs": [
    {
     "name": "stdout",
     "output_type": "stream",
     "text": [
      "8\n",
      "9\n"
     ]
    }
   ],
   "source": [
    "print(int.__rpow__(3,2))  # 2**3 = 8\n",
    "print(int.__pow__(3,2))   # 3**2 = 9"
   ]
  },
  {
   "cell_type": "code",
   "execution_count": 5,
   "id": "019899e1-ab3e-46c0-a821-6ff537da659e",
   "metadata": {},
   "outputs": [
    {
     "name": "stdout",
     "output_type": "stream",
     "text": [
      "1\n",
      "3\n"
     ]
    }
   ],
   "source": [
    "print(int.__mod__(5,2))\n",
    "print(int.__mod__(7,4))"
   ]
  },
  {
   "cell_type": "code",
   "execution_count": 6,
   "id": "acdc6569-7dea-467c-bd98-820032b8fdbc",
   "metadata": {},
   "outputs": [
    {
     "name": "stdout",
     "output_type": "stream",
     "text": [
      "15\n",
      "(2, 2)\n"
     ]
    }
   ],
   "source": [
    "print(int.__mul__(3,5))\n",
    "print(int.__divmod__(12,5))   # 12/5,12%5"
   ]
  },
  {
   "cell_type": "code",
   "execution_count": 7,
   "id": "bbb36fa7-a039-4872-aa1e-d989a260628b",
   "metadata": {},
   "outputs": [
    {
     "name": "stdout",
     "output_type": "stream",
     "text": [
      "8.0\n",
      "3.0\n"
     ]
    }
   ],
   "source": [
    "n = 3+8j\n",
    "print(n.imag)\n",
    "print(n.real)"
   ]
  },
  {
   "cell_type": "markdown",
   "id": "b01b7027-6123-443e-af02-8306325d3f8d",
   "metadata": {},
   "source": [
    "## floating point numbers"
   ]
  },
  {
   "cell_type": "code",
   "execution_count": 8,
   "id": "67e2eb09-0ccb-4dd7-b200-06cc2fcdc503",
   "metadata": {},
   "outputs": [
    {
     "name": "stdout",
     "output_type": "stream",
     "text": [
      "Help on class float in module builtins:\n",
      "\n",
      "class float(object)\n",
      " |  float(x=0, /)\n",
      " |\n",
      " |  Convert a string or number to a floating-point number, if possible.\n",
      " |\n",
      " |  Methods defined here:\n",
      " |\n",
      " |  __abs__(self, /)\n",
      " |      abs(self)\n",
      " |\n",
      " |  __add__(self, value, /)\n",
      " |      Return self+value.\n",
      " |\n",
      " |  __bool__(self, /)\n",
      " |      True if self else False\n",
      " |\n",
      " |  __ceil__(self, /)\n",
      " |      Return the ceiling as an Integral.\n",
      " |\n",
      " |  __divmod__(self, value, /)\n",
      " |      Return divmod(self, value).\n",
      " |\n",
      " |  __eq__(self, value, /)\n",
      " |      Return self==value.\n",
      " |\n",
      " |  __float__(self, /)\n",
      " |      float(self)\n",
      " |\n",
      " |  __floor__(self, /)\n",
      " |      Return the floor as an Integral.\n",
      " |\n",
      " |  __floordiv__(self, value, /)\n",
      " |      Return self//value.\n",
      " |\n",
      " |  __format__(self, format_spec, /)\n",
      " |      Formats the float according to format_spec.\n",
      " |\n",
      " |  __ge__(self, value, /)\n",
      " |      Return self>=value.\n",
      " |\n",
      " |  __getnewargs__(self, /)\n",
      " |\n",
      " |  __gt__(self, value, /)\n",
      " |      Return self>value.\n",
      " |\n",
      " |  __hash__(self, /)\n",
      " |      Return hash(self).\n",
      " |\n",
      " |  __int__(self, /)\n",
      " |      int(self)\n",
      " |\n",
      " |  __le__(self, value, /)\n",
      " |      Return self<=value.\n",
      " |\n",
      " |  __lt__(self, value, /)\n",
      " |      Return self<value.\n",
      " |\n",
      " |  __mod__(self, value, /)\n",
      " |      Return self%value.\n",
      " |\n",
      " |  __mul__(self, value, /)\n",
      " |      Return self*value.\n",
      " |\n",
      " |  __ne__(self, value, /)\n",
      " |      Return self!=value.\n",
      " |\n",
      " |  __neg__(self, /)\n",
      " |      -self\n",
      " |\n",
      " |  __pos__(self, /)\n",
      " |      +self\n",
      " |\n",
      " |  __pow__(self, value, mod=None, /)\n",
      " |      Return pow(self, value, mod).\n",
      " |\n",
      " |  __radd__(self, value, /)\n",
      " |      Return value+self.\n",
      " |\n",
      " |  __rdivmod__(self, value, /)\n",
      " |      Return divmod(value, self).\n",
      " |\n",
      " |  __repr__(self, /)\n",
      " |      Return repr(self).\n",
      " |\n",
      " |  __rfloordiv__(self, value, /)\n",
      " |      Return value//self.\n",
      " |\n",
      " |  __rmod__(self, value, /)\n",
      " |      Return value%self.\n",
      " |\n",
      " |  __rmul__(self, value, /)\n",
      " |      Return value*self.\n",
      " |\n",
      " |  __round__(self, ndigits=None, /)\n",
      " |      Return the Integral closest to x, rounding half toward even.\n",
      " |\n",
      " |      When an argument is passed, work like built-in round(x, ndigits).\n",
      " |\n",
      " |  __rpow__(self, value, mod=None, /)\n",
      " |      Return pow(value, self, mod).\n",
      " |\n",
      " |  __rsub__(self, value, /)\n",
      " |      Return value-self.\n",
      " |\n",
      " |  __rtruediv__(self, value, /)\n",
      " |      Return value/self.\n",
      " |\n",
      " |  __sub__(self, value, /)\n",
      " |      Return self-value.\n",
      " |\n",
      " |  __truediv__(self, value, /)\n",
      " |      Return self/value.\n",
      " |\n",
      " |  __trunc__(self, /)\n",
      " |      Return the Integral closest to x between 0 and x.\n",
      " |\n",
      " |  as_integer_ratio(self, /)\n",
      " |      Return a pair of integers, whose ratio is exactly equal to the original float.\n",
      " |\n",
      " |      The ratio is in lowest terms and has a positive denominator.  Raise\n",
      " |      OverflowError on infinities and a ValueError on NaNs.\n",
      " |\n",
      " |      >>> (10.0).as_integer_ratio()\n",
      " |      (10, 1)\n",
      " |      >>> (0.0).as_integer_ratio()\n",
      " |      (0, 1)\n",
      " |      >>> (-.25).as_integer_ratio()\n",
      " |      (-1, 4)\n",
      " |\n",
      " |  conjugate(self, /)\n",
      " |      Return self, the complex conjugate of any float.\n",
      " |\n",
      " |  hex(self, /)\n",
      " |      Return a hexadecimal representation of a floating-point number.\n",
      " |\n",
      " |      >>> (-0.1).hex()\n",
      " |      '-0x1.999999999999ap-4'\n",
      " |      >>> 3.14159.hex()\n",
      " |      '0x1.921f9f01b866ep+1'\n",
      " |\n",
      " |  is_integer(self, /)\n",
      " |      Return True if the float is an integer.\n",
      " |\n",
      " |  ----------------------------------------------------------------------\n",
      " |  Class methods defined here:\n",
      " |\n",
      " |  __getformat__(typestr, /)\n",
      " |      You probably don't want to use this function.\n",
      " |\n",
      " |        typestr\n",
      " |          Must be 'double' or 'float'.\n",
      " |\n",
      " |      It exists mainly to be used in Python's test suite.\n",
      " |\n",
      " |      This function returns whichever of 'unknown', 'IEEE, big-endian' or 'IEEE,\n",
      " |      little-endian' best describes the format of floating-point numbers used by the\n",
      " |      C type named by typestr.\n",
      " |\n",
      " |  fromhex(string, /)\n",
      " |      Create a floating-point number from a hexadecimal string.\n",
      " |\n",
      " |      >>> float.fromhex('0x1.ffffp10')\n",
      " |      2047.984375\n",
      " |      >>> float.fromhex('-0x1p-1074')\n",
      " |      -5e-324\n",
      " |\n",
      " |  ----------------------------------------------------------------------\n",
      " |  Static methods defined here:\n",
      " |\n",
      " |  __new__(*args, **kwargs)\n",
      " |      Create and return a new object.  See help(type) for accurate signature.\n",
      " |\n",
      " |  ----------------------------------------------------------------------\n",
      " |  Data descriptors defined here:\n",
      " |\n",
      " |  imag\n",
      " |      the imaginary part of a complex number\n",
      " |\n",
      " |  real\n",
      " |      the real part of a complex number\n",
      "\n"
     ]
    }
   ],
   "source": [
    "help(float)"
   ]
  },
  {
   "cell_type": "code",
   "execution_count": 9,
   "id": "48b8157c-dc14-4459-a8a8-979b19f633ad",
   "metadata": {
    "scrolled": true
   },
   "outputs": [
    {
     "data": {
      "text/plain": [
       "['__abs__',\n",
       " '__add__',\n",
       " '__bool__',\n",
       " '__ceil__',\n",
       " '__class__',\n",
       " '__delattr__',\n",
       " '__dir__',\n",
       " '__divmod__',\n",
       " '__doc__',\n",
       " '__eq__',\n",
       " '__float__',\n",
       " '__floor__',\n",
       " '__floordiv__',\n",
       " '__format__',\n",
       " '__ge__',\n",
       " '__getattribute__',\n",
       " '__getformat__',\n",
       " '__getnewargs__',\n",
       " '__getstate__',\n",
       " '__gt__',\n",
       " '__hash__',\n",
       " '__init__',\n",
       " '__init_subclass__',\n",
       " '__int__',\n",
       " '__le__',\n",
       " '__lt__',\n",
       " '__mod__',\n",
       " '__mul__',\n",
       " '__ne__',\n",
       " '__neg__',\n",
       " '__new__',\n",
       " '__pos__',\n",
       " '__pow__',\n",
       " '__radd__',\n",
       " '__rdivmod__',\n",
       " '__reduce__',\n",
       " '__reduce_ex__',\n",
       " '__repr__',\n",
       " '__rfloordiv__',\n",
       " '__rmod__',\n",
       " '__rmul__',\n",
       " '__round__',\n",
       " '__rpow__',\n",
       " '__rsub__',\n",
       " '__rtruediv__',\n",
       " '__setattr__',\n",
       " '__sizeof__',\n",
       " '__str__',\n",
       " '__sub__',\n",
       " '__subclasshook__',\n",
       " '__truediv__',\n",
       " '__trunc__',\n",
       " 'as_integer_ratio',\n",
       " 'conjugate',\n",
       " 'fromhex',\n",
       " 'hex',\n",
       " 'imag',\n",
       " 'is_integer',\n",
       " 'real']"
      ]
     },
     "execution_count": 9,
     "metadata": {},
     "output_type": "execute_result"
    }
   ],
   "source": [
    "dir(float)"
   ]
  },
  {
   "cell_type": "code",
   "execution_count": 10,
   "id": "29710598-d5de-413a-8bc2-69c77c1a9edf",
   "metadata": {},
   "outputs": [
    {
     "name": "stdout",
     "output_type": "stream",
     "text": [
      "['__abs__', '__add__', '__bool__', '__ceil__', '__class__', '__delattr__', '__dir__', '__divmod__', '__doc__', '__eq__', '__float__', '__floor__', '__floordiv__', '__format__', '__ge__', '__getattribute__', '__getformat__', '__getnewargs__', '__getstate__', '__gt__', '__hash__', '__init__', '__init_subclass__', '__int__', '__le__', '__lt__', '__mod__', '__mul__', '__ne__', '__neg__', '__new__', '__pos__', '__pow__', '__radd__', '__rdivmod__', '__reduce__', '__reduce_ex__', '__repr__', '__rfloordiv__', '__rmod__', '__rmul__', '__round__', '__rpow__', '__rsub__', '__rtruediv__', '__setattr__', '__sizeof__', '__str__', '__sub__', '__subclasshook__', '__truediv__', '__trunc__', 'as_integer_ratio', 'conjugate', 'fromhex', 'hex', 'imag', 'is_integer', 'real']\n",
      "59\n"
     ]
    }
   ],
   "source": [
    "lfd = list(dir(float))\n",
    "print(lfd)\n",
    "print(len(lfd))"
   ]
  },
  {
   "cell_type": "code",
   "execution_count": 11,
   "id": "b5fcd66a-b14f-4a1f-8dfe-4fa53755c21b",
   "metadata": {},
   "outputs": [
    {
     "name": "stdout",
     "output_type": "stream",
     "text": [
      "1.25888\n",
      "<class 'float'>\n"
     ]
    }
   ],
   "source": [
    "a = 1.25888\n",
    "print(a)\n",
    "print(type(a))"
   ]
  },
  {
   "cell_type": "code",
   "execution_count": 12,
   "id": "9d087af8-fe84-4318-9c7f-9d69c3a1adfa",
   "metadata": {},
   "outputs": [
    {
     "name": "stdout",
     "output_type": "stream",
     "text": [
      "7.5\n",
      "3.4\n"
     ]
    }
   ],
   "source": [
    "n = 3.4 + 7.5j\n",
    "print(n.imag)\n",
    "print(n.real)"
   ]
  },
  {
   "cell_type": "code",
   "execution_count": 13,
   "id": "01ea69cb-82c7-45c9-ad66-ffa2b5228167",
   "metadata": {},
   "outputs": [
    {
     "name": "stdout",
     "output_type": "stream",
     "text": [
      "4\n",
      "3\n"
     ]
    }
   ],
   "source": [
    "n = 3.456\n",
    "print(n.__ceil__())\n",
    "print(round(n))"
   ]
  },
  {
   "cell_type": "markdown",
   "id": "b809fd0b-cbbf-46b4-8618-1413ea78221a",
   "metadata": {},
   "source": [
    "## methods and attributes on floating point numbers"
   ]
  },
  {
   "cell_type": "code",
   "execution_count": 14,
   "id": "03028e96-e9f5-4ddd-a2c1-d51bd11d16c5",
   "metadata": {},
   "outputs": [
    {
     "name": "stdout",
     "output_type": "stream",
     "text": [
      "12.45\n",
      "12.45\n"
     ]
    }
   ],
   "source": [
    "print(float.__abs__(12.45))\n",
    "print(float.__abs__(-12.45))"
   ]
  },
  {
   "cell_type": "code",
   "execution_count": 15,
   "id": "ba2fa62c-510f-4b01-96c4-79b45baa17bf",
   "metadata": {},
   "outputs": [
    {
     "data": {
      "text/plain": [
       "14.0"
      ]
     },
     "execution_count": 15,
     "metadata": {},
     "output_type": "execute_result"
    }
   ],
   "source": [
    "float.__add__(12.5,1.5)"
   ]
  },
  {
   "cell_type": "code",
   "execution_count": 16,
   "id": "a80cbc62-6f31-4154-9751-a9639db7aded",
   "metadata": {},
   "outputs": [
    {
     "data": {
      "text/plain": [
       "True"
      ]
     },
     "execution_count": 16,
     "metadata": {},
     "output_type": "execute_result"
    }
   ],
   "source": [
    "float.__bool__(12.00)"
   ]
  },
  {
   "cell_type": "code",
   "execution_count": 17,
   "id": "1f3d3fe6-c719-4e69-89ce-7a65e2cbe8e7",
   "metadata": {},
   "outputs": [
    {
     "name": "stdout",
     "output_type": "stream",
     "text": [
      "13\n",
      "12\n",
      "(1.0, 4.8)\n",
      "1.0\n"
     ]
    }
   ],
   "source": [
    "print(float.__ceil__(12.3))\n",
    "print(float.__floor__(12.3))\n",
    "print(float.__divmod__(12.00,7.2))\n",
    "print(float.__floordiv__(12.00,7.0))  # returns the quotient only"
   ]
  },
  {
   "cell_type": "markdown",
   "id": "880a44b4-1594-4b2d-a1d3-74d58da68adf",
   "metadata": {},
   "source": [
    "### float.__le__(x,y) to obtain a return value when comparing two objects using x<=y"
   ]
  },
  {
   "cell_type": "code",
   "execution_count": 20,
   "id": "29a5beec-9f31-4792-aafb-0d84bfaac6c7",
   "metadata": {},
   "outputs": [
    {
     "name": "stdout",
     "output_type": "stream",
     "text": [
      "True\n",
      "False\n",
      "True\n"
     ]
    }
   ],
   "source": [
    "print(float.__le__(12.0,13.5))\n",
    "print(float.__le__(14.0,13.5))\n",
    "print(float.__le__(14.0,14.0))"
   ]
  },
  {
   "cell_type": "markdown",
   "id": "b8161704-e62b-41ee-9d08-72e3ff776ea8",
   "metadata": {},
   "source": [
    "### __lt__ magic method is one magic method that is used to define or implement the functionality of less than operator \"<\" : x<y"
   ]
  },
  {
   "cell_type": "code",
   "execution_count": 19,
   "id": "79380029-c3bf-4762-8bb7-198f12fd10e7",
   "metadata": {},
   "outputs": [
    {
     "name": "stdout",
     "output_type": "stream",
     "text": [
      "True\n",
      "False\n",
      "False\n"
     ]
    }
   ],
   "source": [
    "print(float.__lt__(12.0,13.5))\n",
    "print(float.__lt__(14.0,13.5))\n",
    "print(float.__lt__(14.0,14.0))"
   ]
  },
  {
   "cell_type": "code",
   "execution_count": 21,
   "id": "bf9b29ee-699b-47d0-b386-33c74f328cd4",
   "metadata": {},
   "outputs": [
    {
     "name": "stdout",
     "output_type": "stream",
     "text": [
      "False\n",
      "True\n"
     ]
    }
   ],
   "source": [
    "print(float.__eq__(12.0,13.0))\n",
    "print(float.__eq__(13.0,13.0))"
   ]
  },
  {
   "cell_type": "code",
   "execution_count": 22,
   "id": "94d70591-588b-4d0d-96cf-cb146a306418",
   "metadata": {},
   "outputs": [
    {
     "data": {
      "text/plain": [
       "5.0"
      ]
     },
     "execution_count": 22,
     "metadata": {},
     "output_type": "execute_result"
    }
   ],
   "source": [
    "float.__mod__(12.0,7.0)"
   ]
  },
  {
   "cell_type": "markdown",
   "id": "5f877199-726e-4431-a4ed-de194c0850b3",
   "metadata": {},
   "source": [
    "### float.__ne__() to use not equal operator"
   ]
  },
  {
   "cell_type": "code",
   "execution_count": 23,
   "id": "3c334102-e2d7-4e92-8107-b8f545c776e7",
   "metadata": {},
   "outputs": [
    {
     "name": "stdout",
     "output_type": "stream",
     "text": [
      "True\n",
      "False\n"
     ]
    }
   ],
   "source": [
    "print(float.__ne__(12.0,13.0))\n",
    "print(float.__ne__(13.0,13.0))"
   ]
  },
  {
   "cell_type": "code",
   "execution_count": 24,
   "id": "4b5beff3-a479-4180-bc85-3dba08b25531",
   "metadata": {},
   "outputs": [
    {
     "name": "stdout",
     "output_type": "stream",
     "text": [
      "12.4\n",
      "-12.9\n"
     ]
    }
   ],
   "source": [
    "print(float.__neg__(-12.4))\n",
    "print(float.__neg__(12.9))"
   ]
  },
  {
   "cell_type": "markdown",
   "id": "985b4592-3f4b-48ad-b560-865914108d61",
   "metadata": {},
   "source": [
    "### __radd__method will implement the addition operation if it is possible with the left operand otherwise returns \"not implemented\""
   ]
  },
  {
   "cell_type": "code",
   "execution_count": 25,
   "id": "6c67f0d8-b5a7-405a-9d87-8787b0b5c89b",
   "metadata": {},
   "outputs": [
    {
     "name": "stdin",
     "output_type": "stream",
     "text": [
      "enter value :  2.0\n",
      "enter value :  3.0\n"
     ]
    },
    {
     "data": {
      "text/plain": [
       "5.0"
      ]
     },
     "execution_count": 25,
     "metadata": {},
     "output_type": "execute_result"
    }
   ],
   "source": [
    "x = float(input('enter value : '))\n",
    "y = float(input('enter value : '))\n",
    "x.__add__(y)"
   ]
  },
  {
   "cell_type": "code",
   "execution_count": 26,
   "id": "196e6395-8c8e-4997-9b76-bec18703658c",
   "metadata": {},
   "outputs": [
    {
     "name": "stdin",
     "output_type": "stream",
     "text": [
      "enter value :  2.0\n",
      "enter value :  3.0\n"
     ]
    },
    {
     "name": "stdout",
     "output_type": "stream",
     "text": [
      "5.0\n",
      "5.0\n"
     ]
    }
   ],
   "source": [
    "x = float(input('enter value : '))\n",
    "y = float(input('enter value : '))\n",
    "print(x.__radd__(y))           # y+x\n",
    "print(y.__radd__(x))           # x+y"
   ]
  },
  {
   "cell_type": "code",
   "execution_count": 27,
   "id": "a8b68d99-0ab2-414a-8c12-197ea11f2dd1",
   "metadata": {},
   "outputs": [
    {
     "name": "stdin",
     "output_type": "stream",
     "text": [
      "enter value :  5.0\n",
      "enter value :  2.5\n"
     ]
    },
    {
     "name": "stdout",
     "output_type": "stream",
     "text": [
      "-2.5\n",
      "2.5\n"
     ]
    }
   ],
   "source": [
    "x = float(input('enter value : '))\n",
    "y = float(input('enter value : '))\n",
    "print(x.__rsub__(y))           # y-x\n",
    "print(y.__rsub__(x))           # x-y"
   ]
  },
  {
   "cell_type": "code",
   "execution_count": 28,
   "id": "795b54fd-cdf5-49c3-9134-05b4652acfc3",
   "metadata": {},
   "outputs": [
    {
     "name": "stdin",
     "output_type": "stream",
     "text": [
      "enter value :  25.0\n",
      "enter value :  5.0\n"
     ]
    },
    {
     "name": "stdout",
     "output_type": "stream",
     "text": [
      "(0.0, 5.0)\n",
      "(5.0, 0.0)\n"
     ]
    }
   ],
   "source": [
    "x = float(input('enter value : '))\n",
    "y = float(input('enter value : '))\n",
    "print(x.__rdivmod__(y))      \n",
    "print(y.__rdivmod__(x))"
   ]
  },
  {
   "cell_type": "code",
   "execution_count": 30,
   "id": "159aa6dc-c71d-4978-a275-9a5a527dff34",
   "metadata": {},
   "outputs": [
    {
     "name": "stdin",
     "output_type": "stream",
     "text": [
      "enter value :  25.0\n",
      "enter value :  5.0\n"
     ]
    },
    {
     "name": "stdout",
     "output_type": "stream",
     "text": [
      "0.0\n",
      "5.0\n"
     ]
    }
   ],
   "source": [
    "x = float(input('enter value : '))\n",
    "y = float(input('enter value : '))\n",
    "print(x.__rfloordiv__(y))\n",
    "print(y.__rfloordiv__(x))"
   ]
  },
  {
   "cell_type": "code",
   "execution_count": 31,
   "id": "0ca245ae-686d-49d9-bab8-ec2d462c8124",
   "metadata": {},
   "outputs": [
    {
     "name": "stdin",
     "output_type": "stream",
     "text": [
      "enter value :  48.0\n",
      "enter value :  6.0\n"
     ]
    },
    {
     "name": "stdout",
     "output_type": "stream",
     "text": [
      "6.0\n",
      "0.0\n"
     ]
    }
   ],
   "source": [
    "x = float(input('enter value : '))\n",
    "y = float(input('enter value : '))\n",
    "print(x.__rmod__(y))\n",
    "print(y.__rmod__(x))"
   ]
  },
  {
   "cell_type": "code",
   "execution_count": 32,
   "id": "5368195b-36e6-4d3c-9143-fc55329578b4",
   "metadata": {},
   "outputs": [
    {
     "name": "stdin",
     "output_type": "stream",
     "text": [
      "enter value :  4.0\n",
      "enter value :  3.0\n"
     ]
    },
    {
     "name": "stdout",
     "output_type": "stream",
     "text": [
      "12.0\n",
      "12.0\n"
     ]
    }
   ],
   "source": [
    "x = float(input('enter value : '))\n",
    "y = float(input('enter value : '))\n",
    "print(x.__rmul__(y))\n",
    "print(y.__rmul__(x))"
   ]
  },
  {
   "cell_type": "code",
   "execution_count": 34,
   "id": "7fc2d59f-b905-4481-8363-d6745d2d8360",
   "metadata": {},
   "outputs": [
    {
     "name": "stdin",
     "output_type": "stream",
     "text": [
      "enter value :  2.0\n",
      "enter value :  4.0\n"
     ]
    },
    {
     "name": "stdout",
     "output_type": "stream",
     "text": [
      "16.0\n",
      "16.0\n"
     ]
    }
   ],
   "source": [
    "x = float(input('enter value : '))\n",
    "y = float(input('enter value : '))\n",
    "print(x.__rpow__(y))\n",
    "print(y.__rpow__(x))"
   ]
  },
  {
   "cell_type": "markdown",
   "id": "d66d49ab-05a6-47bd-896a-06ffcb6c42ea",
   "metadata": {},
   "source": [
    "## working with the methods : \n",
    "## ['str','sub','truediv','as_integer_ratio','conjugate','fromhex','hex','hex','imag','is_integer','real']"
   ]
  },
  {
   "cell_type": "code",
   "execution_count": 35,
   "id": "087ad77a-f95c-4e8a-8924-fc1b80a83ea8",
   "metadata": {},
   "outputs": [
    {
     "data": {
      "text/plain": [
       "'23'"
      ]
     },
     "execution_count": 35,
     "metadata": {},
     "output_type": "execute_result"
    }
   ],
   "source": [
    "float.__str__(23)"
   ]
  },
  {
   "cell_type": "code",
   "execution_count": 36,
   "id": "e55fd3d0-1528-4211-959d-951bed789277",
   "metadata": {},
   "outputs": [
    {
     "data": {
      "text/plain": [
       "5.0"
      ]
     },
     "execution_count": 36,
     "metadata": {},
     "output_type": "execute_result"
    }
   ],
   "source": [
    "float.__sub__(12.0,7.0)"
   ]
  },
  {
   "cell_type": "code",
   "execution_count": 37,
   "id": "1666a978-359d-4dd6-a41a-917925978287",
   "metadata": {},
   "outputs": [
    {
     "data": {
      "text/plain": [
       "1.7142857142857142"
      ]
     },
     "execution_count": 37,
     "metadata": {},
     "output_type": "execute_result"
    }
   ],
   "source": [
    "float.__truediv__(12.0,7.0)     # equivalent to x/y"
   ]
  },
  {
   "cell_type": "code",
   "execution_count": 38,
   "id": "a18dd6ed-a9da-4a2b-8275-9de4eb80c7df",
   "metadata": {},
   "outputs": [
    {
     "data": {
      "text/plain": [
       "1.7142857142857142"
      ]
     },
     "execution_count": 38,
     "metadata": {},
     "output_type": "execute_result"
    }
   ],
   "source": [
    "12.0/7.0"
   ]
  },
  {
   "cell_type": "code",
   "execution_count": 39,
   "id": "7d5ba92d-9bd6-4e20-913e-dd591afc0569",
   "metadata": {},
   "outputs": [
    {
     "data": {
      "text/plain": [
       "(24, 1)"
      ]
     },
     "execution_count": 39,
     "metadata": {},
     "output_type": "execute_result"
    }
   ],
   "source": [
    "float.as_integer_ratio(24.0)"
   ]
  },
  {
   "cell_type": "code",
   "execution_count": 40,
   "id": "cd6521da-dd29-4914-aac8-3803bb91350a",
   "metadata": {},
   "outputs": [
    {
     "data": {
      "text/plain": [
       "(3-2.5j)"
      ]
     },
     "execution_count": 40,
     "metadata": {},
     "output_type": "execute_result"
    }
   ],
   "source": [
    "z = 3.0+2.5j\n",
    "z.conjugate()"
   ]
  },
  {
   "cell_type": "code",
   "execution_count": 41,
   "id": "32a493d1-1473-4b30-bc8d-f12218657952",
   "metadata": {},
   "outputs": [
    {
     "data": {
      "text/plain": [
       "False"
      ]
     },
     "execution_count": 41,
     "metadata": {},
     "output_type": "execute_result"
    }
   ],
   "source": [
    "z=34.7\n",
    "z.is_integer()"
   ]
  },
  {
   "cell_type": "code",
   "execution_count": 42,
   "id": "2d896548-6d0a-4aa2-86b1-988e7389c849",
   "metadata": {},
   "outputs": [
    {
     "name": "stdout",
     "output_type": "stream",
     "text": [
      "293.0\n",
      "597.0\n"
     ]
    }
   ],
   "source": [
    "print(float.fromhex(\"0x125\"))\n",
    "print(float.fromhex(\"0x255\"))"
   ]
  },
  {
   "cell_type": "code",
   "execution_count": 43,
   "id": "b68af00b-8862-4583-a74b-1e46cc61400f",
   "metadata": {},
   "outputs": [
    {
     "data": {
      "text/plain": [
       "'0x1.2a80000000000p+9'"
      ]
     },
     "execution_count": 43,
     "metadata": {},
     "output_type": "execute_result"
    }
   ],
   "source": [
    "float.hex(597.0)"
   ]
  },
  {
   "cell_type": "markdown",
   "id": "b7d2cf89-6c7a-4b78-8d2c-9338d18d80b9",
   "metadata": {},
   "source": [
    "## complex numbers"
   ]
  },
  {
   "cell_type": "code",
   "execution_count": 44,
   "id": "05806aaa-ae49-491f-9d77-bd91f03ce93f",
   "metadata": {},
   "outputs": [
    {
     "name": "stdout",
     "output_type": "stream",
     "text": [
      "Help on class complex in module builtins:\n",
      "\n",
      "class complex(object)\n",
      " |  complex(real=0, imag=0)\n",
      " |\n",
      " |  Create a complex number from a string or numbers.\n",
      " |\n",
      " |  If a string is given, parse it as a complex number.\n",
      " |  If a single number is given, convert it to a complex number.\n",
      " |  If the 'real' or 'imag' arguments are given, create a complex number\n",
      " |  with the specified real and imaginary components.\n",
      " |\n",
      " |  Methods defined here:\n",
      " |\n",
      " |  __abs__(self, /)\n",
      " |      abs(self)\n",
      " |\n",
      " |  __add__(self, value, /)\n",
      " |      Return self+value.\n",
      " |\n",
      " |  __bool__(self, /)\n",
      " |      True if self else False\n",
      " |\n",
      " |  __complex__(self, /)\n",
      " |      Convert this value to exact type complex.\n",
      " |\n",
      " |  __eq__(self, value, /)\n",
      " |      Return self==value.\n",
      " |\n",
      " |  __format__(self, format_spec, /)\n",
      " |      Convert to a string according to format_spec.\n",
      " |\n",
      " |  __ge__(self, value, /)\n",
      " |      Return self>=value.\n",
      " |\n",
      " |  __getattribute__(self, name, /)\n",
      " |      Return getattr(self, name).\n",
      " |\n",
      " |  __getnewargs__(self, /)\n",
      " |\n",
      " |  __gt__(self, value, /)\n",
      " |      Return self>value.\n",
      " |\n",
      " |  __hash__(self, /)\n",
      " |      Return hash(self).\n",
      " |\n",
      " |  __le__(self, value, /)\n",
      " |      Return self<=value.\n",
      " |\n",
      " |  __lt__(self, value, /)\n",
      " |      Return self<value.\n",
      " |\n",
      " |  __mul__(self, value, /)\n",
      " |      Return self*value.\n",
      " |\n",
      " |  __ne__(self, value, /)\n",
      " |      Return self!=value.\n",
      " |\n",
      " |  __neg__(self, /)\n",
      " |      -self\n",
      " |\n",
      " |  __pos__(self, /)\n",
      " |      +self\n",
      " |\n",
      " |  __pow__(self, value, mod=None, /)\n",
      " |      Return pow(self, value, mod).\n",
      " |\n",
      " |  __radd__(self, value, /)\n",
      " |      Return value+self.\n",
      " |\n",
      " |  __repr__(self, /)\n",
      " |      Return repr(self).\n",
      " |\n",
      " |  __rmul__(self, value, /)\n",
      " |      Return value*self.\n",
      " |\n",
      " |  __rpow__(self, value, mod=None, /)\n",
      " |      Return pow(value, self, mod).\n",
      " |\n",
      " |  __rsub__(self, value, /)\n",
      " |      Return value-self.\n",
      " |\n",
      " |  __rtruediv__(self, value, /)\n",
      " |      Return value/self.\n",
      " |\n",
      " |  __sub__(self, value, /)\n",
      " |      Return self-value.\n",
      " |\n",
      " |  __truediv__(self, value, /)\n",
      " |      Return self/value.\n",
      " |\n",
      " |  conjugate(self, /)\n",
      " |      Return the complex conjugate of its argument. (3-4j).conjugate() == 3+4j.\n",
      " |\n",
      " |  ----------------------------------------------------------------------\n",
      " |  Static methods defined here:\n",
      " |\n",
      " |  __new__(*args, **kwargs)\n",
      " |      Create and return a new object.  See help(type) for accurate signature.\n",
      " |\n",
      " |  ----------------------------------------------------------------------\n",
      " |  Data descriptors defined here:\n",
      " |\n",
      " |  imag\n",
      " |      the imaginary part of a complex number\n",
      " |\n",
      " |  real\n",
      " |      the real part of a complex number\n",
      "\n"
     ]
    }
   ],
   "source": [
    "help(complex)"
   ]
  },
  {
   "cell_type": "code",
   "execution_count": 45,
   "id": "47c83250-5f3d-4f11-a8e0-d9e411ef3ce1",
   "metadata": {
    "scrolled": true
   },
   "outputs": [
    {
     "data": {
      "text/plain": [
       "['__abs__',\n",
       " '__add__',\n",
       " '__bool__',\n",
       " '__class__',\n",
       " '__complex__',\n",
       " '__delattr__',\n",
       " '__dir__',\n",
       " '__doc__',\n",
       " '__eq__',\n",
       " '__format__',\n",
       " '__ge__',\n",
       " '__getattribute__',\n",
       " '__getnewargs__',\n",
       " '__getstate__',\n",
       " '__gt__',\n",
       " '__hash__',\n",
       " '__init__',\n",
       " '__init_subclass__',\n",
       " '__le__',\n",
       " '__lt__',\n",
       " '__mul__',\n",
       " '__ne__',\n",
       " '__neg__',\n",
       " '__new__',\n",
       " '__pos__',\n",
       " '__pow__',\n",
       " '__radd__',\n",
       " '__reduce__',\n",
       " '__reduce_ex__',\n",
       " '__repr__',\n",
       " '__rmul__',\n",
       " '__rpow__',\n",
       " '__rsub__',\n",
       " '__rtruediv__',\n",
       " '__setattr__',\n",
       " '__sizeof__',\n",
       " '__str__',\n",
       " '__sub__',\n",
       " '__subclasshook__',\n",
       " '__truediv__',\n",
       " 'conjugate',\n",
       " 'imag',\n",
       " 'real']"
      ]
     },
     "execution_count": 45,
     "metadata": {},
     "output_type": "execute_result"
    }
   ],
   "source": [
    "dir(complex)"
   ]
  },
  {
   "cell_type": "code",
   "execution_count": 46,
   "id": "8f5cd8cb-a559-4870-a4ab-e5850581f3d5",
   "metadata": {},
   "outputs": [
    {
     "name": "stdout",
     "output_type": "stream",
     "text": [
      "['__abs__', '__add__', '__bool__', '__class__', '__complex__', '__delattr__', '__dir__', '__doc__', '__eq__', '__format__', '__ge__', '__getattribute__', '__getnewargs__', '__getstate__', '__gt__', '__hash__', '__init__', '__init_subclass__', '__le__', '__lt__', '__mul__', '__ne__', '__neg__', '__new__', '__pos__', '__pow__', '__radd__', '__reduce__', '__reduce_ex__', '__repr__', '__rmul__', '__rpow__', '__rsub__', '__rtruediv__', '__setattr__', '__sizeof__', '__str__', '__sub__', '__subclasshook__', '__truediv__', 'conjugate', 'imag', 'real']\n",
      "\n",
      "43\n"
     ]
    }
   ],
   "source": [
    "lcd = list(dir(complex))\n",
    "print(lcd)\n",
    "print()\n",
    "print(len(lcd))"
   ]
  },
  {
   "cell_type": "code",
   "execution_count": 47,
   "id": "fb09b16e-e9c1-407b-9e9c-38e196094d3b",
   "metadata": {},
   "outputs": [
    {
     "data": {
      "text/plain": [
       "(2+3j)"
      ]
     },
     "execution_count": 47,
     "metadata": {},
     "output_type": "execute_result"
    }
   ],
   "source": [
    "z = 2 + 3j\n",
    "z"
   ]
  },
  {
   "cell_type": "code",
   "execution_count": 48,
   "id": "6a3aafd8-43c7-484e-b786-3b9cfbeee287",
   "metadata": {},
   "outputs": [
    {
     "name": "stdout",
     "output_type": "stream",
     "text": [
      "(2+4j)\n"
     ]
    }
   ],
   "source": [
    "z = complex(2, 4)\n",
    "print(z)"
   ]
  },
  {
   "cell_type": "code",
   "execution_count": 49,
   "id": "e94d37c6-d108-4477-95c7-4b45272bb6e1",
   "metadata": {},
   "outputs": [
    {
     "data": {
      "text/plain": [
       "4.47213595499958"
      ]
     },
     "execution_count": 49,
     "metadata": {},
     "output_type": "execute_result"
    }
   ],
   "source": [
    "z.__abs__()      # sqrt(real^2 + imag^2)"
   ]
  },
  {
   "cell_type": "code",
   "execution_count": 50,
   "id": "75a1a181-3056-45c5-ba52-89eb4f2be36a",
   "metadata": {},
   "outputs": [
    {
     "data": {
      "text/plain": [
       "(4+10j)"
      ]
     },
     "execution_count": 50,
     "metadata": {},
     "output_type": "execute_result"
    }
   ],
   "source": [
    "r = 2 + 6j\n",
    "z.__add__(r)"
   ]
  },
  {
   "cell_type": "code",
   "execution_count": 51,
   "id": "20029683-cfbf-4e75-a0db-bb421a385324",
   "metadata": {},
   "outputs": [
    {
     "data": {
      "text/plain": [
       "True"
      ]
     },
     "execution_count": 51,
     "metadata": {},
     "output_type": "execute_result"
    }
   ],
   "source": [
    "z.__bool__()"
   ]
  },
  {
   "cell_type": "code",
   "execution_count": 52,
   "id": "761fa9ac-f12f-4c5d-a0bd-68404b050cf9",
   "metadata": {},
   "outputs": [
    {
     "name": "stdout",
     "output_type": "stream",
     "text": [
      "Create a complex number from a string or numbers.\n",
      "\n",
      "If a string is given, parse it as a complex number.\n",
      "If a single number is given, convert it to a complex number.\n",
      "If the 'real' or 'imag' arguments are given, create a complex number\n",
      "with the specified real and imaginary components.\n"
     ]
    }
   ],
   "source": [
    "print(complex.__doc__)"
   ]
  },
  {
   "cell_type": "code",
   "execution_count": 53,
   "id": "f14bbc23-db3a-4648-a6fc-58f31e34d230",
   "metadata": {},
   "outputs": [
    {
     "data": {
      "text/plain": [
       "(1.8+0.4j)"
      ]
     },
     "execution_count": 53,
     "metadata": {},
     "output_type": "execute_result"
    }
   ],
   "source": [
    "(1+4j).__truediv__(1+2j)"
   ]
  },
  {
   "cell_type": "code",
   "execution_count": 54,
   "id": "9ea1cd77-53bc-40b7-8fba-14bac6a3a143",
   "metadata": {},
   "outputs": [
    {
     "data": {
      "text/plain": [
       "(1.8+0.4j)"
      ]
     },
     "execution_count": 54,
     "metadata": {},
     "output_type": "execute_result"
    }
   ],
   "source": [
    "((1+4j)*(1-2j)) / ((1+2j)*(1-2j))"
   ]
  },
  {
   "cell_type": "code",
   "execution_count": 55,
   "id": "be8464c5-c662-4db4-bcd9-744b9d953a19",
   "metadata": {},
   "outputs": [
    {
     "data": {
      "text/plain": [
       "(2-4j)"
      ]
     },
     "execution_count": 55,
     "metadata": {},
     "output_type": "execute_result"
    }
   ],
   "source": [
    "(2+4j).conjugate()"
   ]
  },
  {
   "cell_type": "markdown",
   "id": "29dc09d7-1b62-44c7-900d-f345db4df12f",
   "metadata": {},
   "source": [
    "# STRING"
   ]
  },
  {
   "cell_type": "code",
   "execution_count": 57,
   "id": "e03b1e38-7741-4f19-9c13-814bd175b81d",
   "metadata": {
    "scrolled": true
   },
   "outputs": [
    {
     "name": "stdout",
     "output_type": "stream",
     "text": [
      "Help on class str in module builtins:\n",
      "\n",
      "class str(object)\n",
      " |  str(object='') -> str\n",
      " |  str(bytes_or_buffer[, encoding[, errors]]) -> str\n",
      " |\n",
      " |  Create a new string object from the given object. If encoding or\n",
      " |  errors is specified, then the object must expose a data buffer\n",
      " |  that will be decoded using the given encoding and error handler.\n",
      " |  Otherwise, returns the result of object.__str__() (if defined)\n",
      " |  or repr(object).\n",
      " |  encoding defaults to sys.getdefaultencoding().\n",
      " |  errors defaults to 'strict'.\n",
      " |\n",
      " |  Methods defined here:\n",
      " |\n",
      " |  __add__(self, value, /)\n",
      " |      Return self+value.\n",
      " |\n",
      " |  __contains__(self, key, /)\n",
      " |      Return bool(key in self).\n",
      " |\n",
      " |  __eq__(self, value, /)\n",
      " |      Return self==value.\n",
      " |\n",
      " |  __format__(self, format_spec, /)\n",
      " |      Return a formatted version of the string as described by format_spec.\n",
      " |\n",
      " |  __ge__(self, value, /)\n",
      " |      Return self>=value.\n",
      " |\n",
      " |  __getitem__(self, key, /)\n",
      " |      Return self[key].\n",
      " |\n",
      " |  __getnewargs__(...)\n",
      " |\n",
      " |  __gt__(self, value, /)\n",
      " |      Return self>value.\n",
      " |\n",
      " |  __hash__(self, /)\n",
      " |      Return hash(self).\n",
      " |\n",
      " |  __iter__(self, /)\n",
      " |      Implement iter(self).\n",
      " |\n",
      " |  __le__(self, value, /)\n",
      " |      Return self<=value.\n",
      " |\n",
      " |  __len__(self, /)\n",
      " |      Return len(self).\n",
      " |\n",
      " |  __lt__(self, value, /)\n",
      " |      Return self<value.\n",
      " |\n",
      " |  __mod__(self, value, /)\n",
      " |      Return self%value.\n",
      " |\n",
      " |  __mul__(self, value, /)\n",
      " |      Return self*value.\n",
      " |\n",
      " |  __ne__(self, value, /)\n",
      " |      Return self!=value.\n",
      " |\n",
      " |  __repr__(self, /)\n",
      " |      Return repr(self).\n",
      " |\n",
      " |  __rmod__(self, value, /)\n",
      " |      Return value%self.\n",
      " |\n",
      " |  __rmul__(self, value, /)\n",
      " |      Return value*self.\n",
      " |\n",
      " |  __sizeof__(self, /)\n",
      " |      Return the size of the string in memory, in bytes.\n",
      " |\n",
      " |  __str__(self, /)\n",
      " |      Return str(self).\n",
      " |\n",
      " |  capitalize(self, /)\n",
      " |      Return a capitalized version of the string.\n",
      " |\n",
      " |      More specifically, make the first character have upper case and the rest lower\n",
      " |      case.\n",
      " |\n",
      " |  casefold(self, /)\n",
      " |      Return a version of the string suitable for caseless comparisons.\n",
      " |\n",
      " |  center(self, width, fillchar=' ', /)\n",
      " |      Return a centered string of length width.\n",
      " |\n",
      " |      Padding is done using the specified fill character (default is a space).\n",
      " |\n",
      " |  count(...)\n",
      " |      S.count(sub[, start[, end]]) -> int\n",
      " |\n",
      " |      Return the number of non-overlapping occurrences of substring sub in\n",
      " |      string S[start:end].  Optional arguments start and end are\n",
      " |      interpreted as in slice notation.\n",
      " |\n",
      " |  encode(self, /, encoding='utf-8', errors='strict')\n",
      " |      Encode the string using the codec registered for encoding.\n",
      " |\n",
      " |      encoding\n",
      " |        The encoding in which to encode the string.\n",
      " |      errors\n",
      " |        The error handling scheme to use for encoding errors.\n",
      " |        The default is 'strict' meaning that encoding errors raise a\n",
      " |        UnicodeEncodeError.  Other possible values are 'ignore', 'replace' and\n",
      " |        'xmlcharrefreplace' as well as any other name registered with\n",
      " |        codecs.register_error that can handle UnicodeEncodeErrors.\n",
      " |\n",
      " |  endswith(...)\n",
      " |      S.endswith(suffix[, start[, end]]) -> bool\n",
      " |\n",
      " |      Return True if S ends with the specified suffix, False otherwise.\n",
      " |      With optional start, test S beginning at that position.\n",
      " |      With optional end, stop comparing S at that position.\n",
      " |      suffix can also be a tuple of strings to try.\n",
      " |\n",
      " |  expandtabs(self, /, tabsize=8)\n",
      " |      Return a copy where all tab characters are expanded using spaces.\n",
      " |\n",
      " |      If tabsize is not given, a tab size of 8 characters is assumed.\n",
      " |\n",
      " |  find(...)\n",
      " |      S.find(sub[, start[, end]]) -> int\n",
      " |\n",
      " |      Return the lowest index in S where substring sub is found,\n",
      " |      such that sub is contained within S[start:end].  Optional\n",
      " |      arguments start and end are interpreted as in slice notation.\n",
      " |\n",
      " |      Return -1 on failure.\n",
      " |\n",
      " |  format(...)\n",
      " |      S.format(*args, **kwargs) -> str\n",
      " |\n",
      " |      Return a formatted version of S, using substitutions from args and kwargs.\n",
      " |      The substitutions are identified by braces ('{' and '}').\n",
      " |\n",
      " |  format_map(...)\n",
      " |      S.format_map(mapping) -> str\n",
      " |\n",
      " |      Return a formatted version of S, using substitutions from mapping.\n",
      " |      The substitutions are identified by braces ('{' and '}').\n",
      " |\n",
      " |  index(...)\n",
      " |      S.index(sub[, start[, end]]) -> int\n",
      " |\n",
      " |      Return the lowest index in S where substring sub is found,\n",
      " |      such that sub is contained within S[start:end].  Optional\n",
      " |      arguments start and end are interpreted as in slice notation.\n",
      " |\n",
      " |      Raises ValueError when the substring is not found.\n",
      " |\n",
      " |  isalnum(self, /)\n",
      " |      Return True if the string is an alpha-numeric string, False otherwise.\n",
      " |\n",
      " |      A string is alpha-numeric if all characters in the string are alpha-numeric and\n",
      " |      there is at least one character in the string.\n",
      " |\n",
      " |  isalpha(self, /)\n",
      " |      Return True if the string is an alphabetic string, False otherwise.\n",
      " |\n",
      " |      A string is alphabetic if all characters in the string are alphabetic and there\n",
      " |      is at least one character in the string.\n",
      " |\n",
      " |  isascii(self, /)\n",
      " |      Return True if all characters in the string are ASCII, False otherwise.\n",
      " |\n",
      " |      ASCII characters have code points in the range U+0000-U+007F.\n",
      " |      Empty string is ASCII too.\n",
      " |\n",
      " |  isdecimal(self, /)\n",
      " |      Return True if the string is a decimal string, False otherwise.\n",
      " |\n",
      " |      A string is a decimal string if all characters in the string are decimal and\n",
      " |      there is at least one character in the string.\n",
      " |\n",
      " |  isdigit(self, /)\n",
      " |      Return True if the string is a digit string, False otherwise.\n",
      " |\n",
      " |      A string is a digit string if all characters in the string are digits and there\n",
      " |      is at least one character in the string.\n",
      " |\n",
      " |  isidentifier(self, /)\n",
      " |      Return True if the string is a valid Python identifier, False otherwise.\n",
      " |\n",
      " |      Call keyword.iskeyword(s) to test whether string s is a reserved identifier,\n",
      " |      such as \"def\" or \"class\".\n",
      " |\n",
      " |  islower(self, /)\n",
      " |      Return True if the string is a lowercase string, False otherwise.\n",
      " |\n",
      " |      A string is lowercase if all cased characters in the string are lowercase and\n",
      " |      there is at least one cased character in the string.\n",
      " |\n",
      " |  isnumeric(self, /)\n",
      " |      Return True if the string is a numeric string, False otherwise.\n",
      " |\n",
      " |      A string is numeric if all characters in the string are numeric and there is at\n",
      " |      least one character in the string.\n",
      " |\n",
      " |  isprintable(self, /)\n",
      " |      Return True if the string is printable, False otherwise.\n",
      " |\n",
      " |      A string is printable if all of its characters are considered printable in\n",
      " |      repr() or if it is empty.\n",
      " |\n",
      " |  isspace(self, /)\n",
      " |      Return True if the string is a whitespace string, False otherwise.\n",
      " |\n",
      " |      A string is whitespace if all characters in the string are whitespace and there\n",
      " |      is at least one character in the string.\n",
      " |\n",
      " |  istitle(self, /)\n",
      " |      Return True if the string is a title-cased string, False otherwise.\n",
      " |\n",
      " |      In a title-cased string, upper- and title-case characters may only\n",
      " |      follow uncased characters and lowercase characters only cased ones.\n",
      " |\n",
      " |  isupper(self, /)\n",
      " |      Return True if the string is an uppercase string, False otherwise.\n",
      " |\n",
      " |      A string is uppercase if all cased characters in the string are uppercase and\n",
      " |      there is at least one cased character in the string.\n",
      " |\n",
      " |  join(self, iterable, /)\n",
      " |      Concatenate any number of strings.\n",
      " |\n",
      " |      The string whose method is called is inserted in between each given string.\n",
      " |      The result is returned as a new string.\n",
      " |\n",
      " |      Example: '.'.join(['ab', 'pq', 'rs']) -> 'ab.pq.rs'\n",
      " |\n",
      " |  ljust(self, width, fillchar=' ', /)\n",
      " |      Return a left-justified string of length width.\n",
      " |\n",
      " |      Padding is done using the specified fill character (default is a space).\n",
      " |\n",
      " |  lower(self, /)\n",
      " |      Return a copy of the string converted to lowercase.\n",
      " |\n",
      " |  lstrip(self, chars=None, /)\n",
      " |      Return a copy of the string with leading whitespace removed.\n",
      " |\n",
      " |      If chars is given and not None, remove characters in chars instead.\n",
      " |\n",
      " |  partition(self, sep, /)\n",
      " |      Partition the string into three parts using the given separator.\n",
      " |\n",
      " |      This will search for the separator in the string.  If the separator is found,\n",
      " |      returns a 3-tuple containing the part before the separator, the separator\n",
      " |      itself, and the part after it.\n",
      " |\n",
      " |      If the separator is not found, returns a 3-tuple containing the original string\n",
      " |      and two empty strings.\n",
      " |\n",
      " |  removeprefix(self, prefix, /)\n",
      " |      Return a str with the given prefix string removed if present.\n",
      " |\n",
      " |      If the string starts with the prefix string, return string[len(prefix):].\n",
      " |      Otherwise, return a copy of the original string.\n",
      " |\n",
      " |  removesuffix(self, suffix, /)\n",
      " |      Return a str with the given suffix string removed if present.\n",
      " |\n",
      " |      If the string ends with the suffix string and that suffix is not empty,\n",
      " |      return string[:-len(suffix)]. Otherwise, return a copy of the original\n",
      " |      string.\n",
      " |\n",
      " |  replace(self, old, new, count=-1, /)\n",
      " |      Return a copy with all occurrences of substring old replaced by new.\n",
      " |\n",
      " |        count\n",
      " |          Maximum number of occurrences to replace.\n",
      " |          -1 (the default value) means replace all occurrences.\n",
      " |\n",
      " |      If the optional argument count is given, only the first count occurrences are\n",
      " |      replaced.\n",
      " |\n",
      " |  rfind(...)\n",
      " |      S.rfind(sub[, start[, end]]) -> int\n",
      " |\n",
      " |      Return the highest index in S where substring sub is found,\n",
      " |      such that sub is contained within S[start:end].  Optional\n",
      " |      arguments start and end are interpreted as in slice notation.\n",
      " |\n",
      " |      Return -1 on failure.\n",
      " |\n",
      " |  rindex(...)\n",
      " |      S.rindex(sub[, start[, end]]) -> int\n",
      " |\n",
      " |      Return the highest index in S where substring sub is found,\n",
      " |      such that sub is contained within S[start:end].  Optional\n",
      " |      arguments start and end are interpreted as in slice notation.\n",
      " |\n",
      " |      Raises ValueError when the substring is not found.\n",
      " |\n",
      " |  rjust(self, width, fillchar=' ', /)\n",
      " |      Return a right-justified string of length width.\n",
      " |\n",
      " |      Padding is done using the specified fill character (default is a space).\n",
      " |\n",
      " |  rpartition(self, sep, /)\n",
      " |      Partition the string into three parts using the given separator.\n",
      " |\n",
      " |      This will search for the separator in the string, starting at the end. If\n",
      " |      the separator is found, returns a 3-tuple containing the part before the\n",
      " |      separator, the separator itself, and the part after it.\n",
      " |\n",
      " |      If the separator is not found, returns a 3-tuple containing two empty strings\n",
      " |      and the original string.\n",
      " |\n",
      " |  rsplit(self, /, sep=None, maxsplit=-1)\n",
      " |      Return a list of the substrings in the string, using sep as the separator string.\n",
      " |\n",
      " |        sep\n",
      " |          The separator used to split the string.\n",
      " |\n",
      " |          When set to None (the default value), will split on any whitespace\n",
      " |          character (including \\n \\r \\t \\f and spaces) and will discard\n",
      " |          empty strings from the result.\n",
      " |        maxsplit\n",
      " |          Maximum number of splits.\n",
      " |          -1 (the default value) means no limit.\n",
      " |\n",
      " |      Splitting starts at the end of the string and works to the front.\n",
      " |\n",
      " |  rstrip(self, chars=None, /)\n",
      " |      Return a copy of the string with trailing whitespace removed.\n",
      " |\n",
      " |      If chars is given and not None, remove characters in chars instead.\n",
      " |\n",
      " |  split(self, /, sep=None, maxsplit=-1)\n",
      " |      Return a list of the substrings in the string, using sep as the separator string.\n",
      " |\n",
      " |        sep\n",
      " |          The separator used to split the string.\n",
      " |\n",
      " |          When set to None (the default value), will split on any whitespace\n",
      " |          character (including \\n \\r \\t \\f and spaces) and will discard\n",
      " |          empty strings from the result.\n",
      " |        maxsplit\n",
      " |          Maximum number of splits.\n",
      " |          -1 (the default value) means no limit.\n",
      " |\n",
      " |      Splitting starts at the front of the string and works to the end.\n",
      " |\n",
      " |      Note, str.split() is mainly useful for data that has been intentionally\n",
      " |      delimited.  With natural text that includes punctuation, consider using\n",
      " |      the regular expression module.\n",
      " |\n",
      " |  splitlines(self, /, keepends=False)\n",
      " |      Return a list of the lines in the string, breaking at line boundaries.\n",
      " |\n",
      " |      Line breaks are not included in the resulting list unless keepends is given and\n",
      " |      true.\n",
      " |\n",
      " |  startswith(...)\n",
      " |      S.startswith(prefix[, start[, end]]) -> bool\n",
      " |\n",
      " |      Return True if S starts with the specified prefix, False otherwise.\n",
      " |      With optional start, test S beginning at that position.\n",
      " |      With optional end, stop comparing S at that position.\n",
      " |      prefix can also be a tuple of strings to try.\n",
      " |\n",
      " |  strip(self, chars=None, /)\n",
      " |      Return a copy of the string with leading and trailing whitespace removed.\n",
      " |\n",
      " |      If chars is given and not None, remove characters in chars instead.\n",
      " |\n",
      " |  swapcase(self, /)\n",
      " |      Convert uppercase characters to lowercase and lowercase characters to uppercase.\n",
      " |\n",
      " |  title(self, /)\n",
      " |      Return a version of the string where each word is titlecased.\n",
      " |\n",
      " |      More specifically, words start with uppercased characters and all remaining\n",
      " |      cased characters have lower case.\n",
      " |\n",
      " |  translate(self, table, /)\n",
      " |      Replace each character in the string using the given translation table.\n",
      " |\n",
      " |        table\n",
      " |          Translation table, which must be a mapping of Unicode ordinals to\n",
      " |          Unicode ordinals, strings, or None.\n",
      " |\n",
      " |      The table must implement lookup/indexing via __getitem__, for instance a\n",
      " |      dictionary or list.  If this operation raises LookupError, the character is\n",
      " |      left untouched.  Characters mapped to None are deleted.\n",
      " |\n",
      " |  upper(self, /)\n",
      " |      Return a copy of the string converted to uppercase.\n",
      " |\n",
      " |  zfill(self, width, /)\n",
      " |      Pad a numeric string with zeros on the left, to fill a field of the given width.\n",
      " |\n",
      " |      The string is never truncated.\n",
      " |\n",
      " |  ----------------------------------------------------------------------\n",
      " |  Static methods defined here:\n",
      " |\n",
      " |  __new__(*args, **kwargs)\n",
      " |      Create and return a new object.  See help(type) for accurate signature.\n",
      " |\n",
      " |  maketrans(...)\n",
      " |      Return a translation table usable for str.translate().\n",
      " |\n",
      " |      If there is only one argument, it must be a dictionary mapping Unicode\n",
      " |      ordinals (integers) or characters to Unicode ordinals, strings or None.\n",
      " |      Character keys will be then converted to ordinals.\n",
      " |      If there are two arguments, they must be strings of equal length, and\n",
      " |      in the resulting dictionary, each character in x will be mapped to the\n",
      " |      character at the same position in y. If there is a third argument, it\n",
      " |      must be a string, whose characters will be mapped to None in the result.\n",
      "\n"
     ]
    }
   ],
   "source": [
    "help(str)"
   ]
  },
  {
   "cell_type": "code",
   "execution_count": 58,
   "id": "926b54cd-4309-4f8d-8635-2abcb04316f0",
   "metadata": {},
   "outputs": [
    {
     "name": "stdout",
     "output_type": "stream",
     "text": [
      "['__add__', '__class__', '__contains__', '__delattr__', '__dir__', '__doc__', '__eq__', '__format__', '__ge__', '__getattribute__', '__getitem__', '__getnewargs__', '__getstate__', '__gt__', '__hash__', '__init__', '__init_subclass__', '__iter__', '__le__', '__len__', '__lt__', '__mod__', '__mul__', '__ne__', '__new__', '__reduce__', '__reduce_ex__', '__repr__', '__rmod__', '__rmul__', '__setattr__', '__sizeof__', '__str__', '__subclasshook__', 'capitalize', 'casefold', 'center', 'count', 'encode', 'endswith', 'expandtabs', 'find', 'format', 'format_map', 'index', 'isalnum', 'isalpha', 'isascii', 'isdecimal', 'isdigit', 'isidentifier', 'islower', 'isnumeric', 'isprintable', 'isspace', 'istitle', 'isupper', 'join', 'ljust', 'lower', 'lstrip', 'maketrans', 'partition', 'removeprefix', 'removesuffix', 'replace', 'rfind', 'rindex', 'rjust', 'rpartition', 'rsplit', 'rstrip', 'split', 'splitlines', 'startswith', 'strip', 'swapcase', 'title', 'translate', 'upper', 'zfill']\n",
      "\n",
      "<class 'list'>\n",
      "\n",
      "81\n"
     ]
    }
   ],
   "source": [
    "print(dir(str))\n",
    "print()\n",
    "print(type(dir(str)))\n",
    "print()\n",
    "print(len(dir(str)))"
   ]
  },
  {
   "cell_type": "code",
   "execution_count": 59,
   "id": "d9e58dca-93ce-4b04-af08-4b26988b084d",
   "metadata": {},
   "outputs": [
    {
     "name": "stdout",
     "output_type": "stream",
     "text": [
      "['capitalise', 'casefold', 'center', 'count', 'encode', 'endswith', 'expandtabs', 'find', 'format', 'format_map', 'index', 'isalnum', 'isalpha', 'isascii', 'isdecimal', 'isdigit', 'isidentifier', 'islower', 'isupper', 'isnumeric', 'isprintable', 'isspace', 'istitle', 'join', 'ljust', 'rjust', 'lower', 'upper', 'maketrans', 'partition', 'removeprefix', 'removesuffix', 'replace', 'rfind', 'rindex', 'rpartition', 'rsplit', 'rstrip', 'split', 'strip', 'splitlines', 'startswith', 'swapcase', 'title', 'translate', 'zfill']\n"
     ]
    }
   ],
   "source": [
    "methods = ['capitalise','casefold','center','count','encode','endswith','expandtabs','find','format','format_map','index','isalnum','isalpha',\n",
    "          'isascii','isdecimal','isdigit','isidentifier','islower','isupper','isnumeric','isprintable','isspace','istitle','join','ljust','rjust',\n",
    "          'lower','upper','maketrans','partition','removeprefix','removesuffix','replace','rfind','rindex','rpartition','rsplit','rstrip','split',\n",
    "          'strip','splitlines','startswith','swapcase','title',\"translate\",'zfill']   \n",
    "print(methods)"
   ]
  },
  {
   "cell_type": "code",
   "execution_count": 60,
   "id": "d4a9f065-0278-420a-aae0-f4b5c8d36a85",
   "metadata": {},
   "outputs": [
    {
     "name": "stdout",
     "output_type": "stream",
     "text": [
      "pruthviraja L\n",
      "pruthviraja L\n",
      "pruthviraja L\n",
      "pruthviraja L\n"
     ]
    }
   ],
   "source": [
    "s1 = 'pruthviraja L'\n",
    "print(s1)\n",
    "s2 = \"pruthviraja L\"\n",
    "print(s2)\n",
    "s3 = '''pruthviraja L'''\n",
    "print(s3)\n",
    "s4 = \"\"\"pruthviraja L\"\"\"\n",
    "print(s4)"
   ]
  },
  {
   "cell_type": "code",
   "execution_count": 61,
   "id": "13b82932-2618-49d1-8d04-4d50cf4892f3",
   "metadata": {},
   "outputs": [
    {
     "name": "stdout",
     "output_type": "stream",
     "text": [
      "hi, i am dhruv : \n",
      "welcome to python course\n"
     ]
    }
   ],
   "source": [
    "string = \"\"\"hi, i am dhruv : \n",
    "welcome to python course\"\"\"\n",
    "print(string)"
   ]
  },
  {
   "cell_type": "code",
   "execution_count": 62,
   "id": "86c1fe3d-9bb6-4484-b45a-347d3c2da15e",
   "metadata": {},
   "outputs": [
    {
     "data": {
      "text/plain": [
       "'Woohoo Woohoo Woohoo Woohoo Woohoo '"
      ]
     },
     "execution_count": 62,
     "metadata": {},
     "output_type": "execute_result"
    }
   ],
   "source": [
    "mystr2 = 'Woohoo '\n",
    "mystr2 = mystr2*5\n",
    "mystr2"
   ]
  },
  {
   "cell_type": "code",
   "execution_count": 121,
   "id": "bce02bbf-9dbd-4951-81c0-67a2e8706c57",
   "metadata": {},
   "outputs": [
    {
     "name": "stdout",
     "output_type": "stream",
     "text": [
      "Cost of item1 , item2 and item3 are 40 , 55 and 77\n"
     ]
    }
   ],
   "source": [
    "item1 = 40\n",
    "item2 = 55\n",
    "item3 = 77\n",
    "res = \"Cost of item1 , item2 and item3 are {} , {} and {}\"\n",
    "print(res.format(item1,item2,item3))"
   ]
  },
  {
   "cell_type": "code",
   "execution_count": 122,
   "id": "f22f9fb1-f34f-41f9-8d48-0b42672696c8",
   "metadata": {},
   "outputs": [
    {
     "name": "stdout",
     "output_type": "stream",
     "text": [
      "Cost of item3 , item2 and item1 are 77 , 55 and 40\n"
     ]
    }
   ],
   "source": [
    "item1 = 40\n",
    "item2 = 55\n",
    "item3 = 77\n",
    "res = \"Cost of item3 , item2 and item1 are {2} , {1} and {0}\"\n",
    "print(res.format(item1,item2,item3))"
   ]
  },
  {
   "cell_type": "markdown",
   "id": "d1a7b2cb-8340-4a5f-9640-7d95466a624c",
   "metadata": {},
   "source": [
    "### String Indexing"
   ]
  },
  {
   "cell_type": "code",
   "execution_count": 63,
   "id": "9d3d876b-adbc-4023-a11f-041518ef2ac7",
   "metadata": {},
   "outputs": [
    {
     "name": "stdout",
     "output_type": "stream",
     "text": [
      "HELLO PYTHON\n"
     ]
    }
   ],
   "source": [
    "str1 = \"HELLO PYTHON\"\n",
    "print(str1)"
   ]
  },
  {
   "cell_type": "code",
   "execution_count": 64,
   "id": "fab1de40-2675-4933-b685-adacd7d6f202",
   "metadata": {},
   "outputs": [
    {
     "data": {
      "text/plain": [
       "'HELLO PYTHON'"
      ]
     },
     "execution_count": 64,
     "metadata": {},
     "output_type": "execute_result"
    }
   ],
   "source": [
    "str1"
   ]
  },
  {
   "cell_type": "code",
   "execution_count": 65,
   "id": "46bbb1c2-6c51-492c-a960-ec43bc8d3e33",
   "metadata": {},
   "outputs": [
    {
     "data": {
      "text/plain": [
       "'H'"
      ]
     },
     "execution_count": 65,
     "metadata": {},
     "output_type": "execute_result"
    }
   ],
   "source": [
    "str1[0] # First character in string \"str1\""
   ]
  },
  {
   "cell_type": "code",
   "execution_count": 66,
   "id": "3624a812-4ac8-4f8a-97fd-f90557fd479e",
   "metadata": {},
   "outputs": [
    {
     "data": {
      "text/plain": [
       "'N'"
      ]
     },
     "execution_count": 66,
     "metadata": {},
     "output_type": "execute_result"
    }
   ],
   "source": [
    "str1[len(str1)-1] # Last character in string using len function"
   ]
  },
  {
   "cell_type": "code",
   "execution_count": 67,
   "id": "32201857-e98e-411f-8e22-2fb5bf76ccad",
   "metadata": {},
   "outputs": [
    {
     "data": {
      "text/plain": [
       "'N'"
      ]
     },
     "execution_count": 67,
     "metadata": {},
     "output_type": "execute_result"
    }
   ],
   "source": [
    "str1[-1] # Last character in string"
   ]
  },
  {
   "cell_type": "code",
   "execution_count": 68,
   "id": "8eb9a22b-7026-4dd1-b2ab-b41abdf411af",
   "metadata": {},
   "outputs": [
    {
     "data": {
      "text/plain": [
       "'P'"
      ]
     },
     "execution_count": 68,
     "metadata": {},
     "output_type": "execute_result"
    }
   ],
   "source": [
    "str1[6] #Fetch 7th element of the string "
   ]
  },
  {
   "cell_type": "code",
   "execution_count": 69,
   "id": "2b60df21-861e-4977-ad0b-d56715338f0b",
   "metadata": {},
   "outputs": [
    {
     "data": {
      "text/plain": [
       "' '"
      ]
     },
     "execution_count": 69,
     "metadata": {},
     "output_type": "execute_result"
    }
   ],
   "source": [
    "str1[5]"
   ]
  },
  {
   "cell_type": "markdown",
   "id": "5bc12aca-3d81-4215-a315-0f2e672186dd",
   "metadata": {},
   "source": [
    "### String Slicing"
   ]
  },
  {
   "cell_type": "code",
   "execution_count": 70,
   "id": "d3ac42b1-7d81-4f66-b727-8071bcc5a4bc",
   "metadata": {},
   "outputs": [
    {
     "data": {
      "text/plain": [
       "'HELLO'"
      ]
     },
     "execution_count": 70,
     "metadata": {},
     "output_type": "execute_result"
    }
   ],
   "source": [
    "str1[0:5] "
   ]
  },
  {
   "cell_type": "code",
   "execution_count": 71,
   "id": "35bd99d9-cc0a-4e6f-86fb-2d0ea6d4668c",
   "metadata": {},
   "outputs": [
    {
     "data": {
      "text/plain": [
       "'PYTHON'"
      ]
     },
     "execution_count": 71,
     "metadata": {},
     "output_type": "execute_result"
    }
   ],
   "source": [
    "str1[6:12] "
   ]
  },
  {
   "cell_type": "code",
   "execution_count": 72,
   "id": "cb8f1545-a72a-444c-87a1-51d83f36aa40",
   "metadata": {},
   "outputs": [
    {
     "data": {
      "text/plain": [
       "'THON'"
      ]
     },
     "execution_count": 72,
     "metadata": {},
     "output_type": "execute_result"
    }
   ],
   "source": [
    "str1[-4:]"
   ]
  },
  {
   "cell_type": "code",
   "execution_count": 73,
   "id": "53b40a12-91b5-427f-af75-8d33e3655c07",
   "metadata": {},
   "outputs": [
    {
     "data": {
      "text/plain": [
       "'PYTHON'"
      ]
     },
     "execution_count": 73,
     "metadata": {},
     "output_type": "execute_result"
    }
   ],
   "source": [
    "str1[-6:]"
   ]
  },
  {
   "cell_type": "code",
   "execution_count": 74,
   "id": "e37b2675-e0cf-445b-8602-3066829c755b",
   "metadata": {},
   "outputs": [
    {
     "data": {
      "text/plain": [
       "'HELL'"
      ]
     },
     "execution_count": 74,
     "metadata": {},
     "output_type": "execute_result"
    }
   ],
   "source": [
    "str1[:4]"
   ]
  },
  {
   "cell_type": "code",
   "execution_count": 75,
   "id": "8db6cd79-738b-4d11-a73e-e47149324a5d",
   "metadata": {},
   "outputs": [
    {
     "data": {
      "text/plain": [
       "'HELLO '"
      ]
     },
     "execution_count": 75,
     "metadata": {},
     "output_type": "execute_result"
    }
   ],
   "source": [
    "str1[:6]"
   ]
  },
  {
   "cell_type": "markdown",
   "id": "40d59ba6-1fe4-4c68-aec6-382791fc0419",
   "metadata": {},
   "source": [
    "### Update & Delete String"
   ]
  },
  {
   "cell_type": "code",
   "execution_count": 76,
   "id": "8345d517-1f81-4be8-8868-3710acd7cd77",
   "metadata": {},
   "outputs": [
    {
     "data": {
      "text/plain": [
       "'HELLO PYTHON'"
      ]
     },
     "execution_count": 76,
     "metadata": {},
     "output_type": "execute_result"
    }
   ],
   "source": [
    "str1"
   ]
  },
  {
   "cell_type": "code",
   "execution_count": 77,
   "id": "ea7d6af2-6978-43d4-833a-527bb0b3235c",
   "metadata": {},
   "outputs": [],
   "source": [
    "del str1"
   ]
  },
  {
   "cell_type": "markdown",
   "id": "d8924f10-968f-465a-a222-b87932fbc438",
   "metadata": {},
   "source": [
    "### String concatenation"
   ]
  },
  {
   "cell_type": "code",
   "execution_count": 78,
   "id": "b9652664-ef1f-4c8c-8ea8-3f24c69e9181",
   "metadata": {},
   "outputs": [
    {
     "name": "stdout",
     "output_type": "stream",
     "text": [
      "HelloAsif\n"
     ]
    }
   ],
   "source": [
    "s1 = \"Hello\"\n",
    "s2 = \"Asif\"\n",
    "s3 = s1 + s2\n",
    "print(s3)"
   ]
  },
  {
   "cell_type": "code",
   "execution_count": 79,
   "id": "375120e2-4abf-4d9b-a1b0-a8c91c464590",
   "metadata": {},
   "outputs": [
    {
     "name": "stdout",
     "output_type": "stream",
     "text": [
      "Hello Asif\n"
     ]
    }
   ],
   "source": [
    "s1 = \"Hello\"\n",
    "s2 = \"Asif\"\n",
    "s3 = s1 + \" \" + s2\n",
    "print(s3)"
   ]
  },
  {
   "cell_type": "markdown",
   "id": "f98549ac-9e96-4594-8c95-331c2af053d0",
   "metadata": {},
   "source": [
    "### Iterating through a String"
   ]
  },
  {
   "cell_type": "code",
   "execution_count": 80,
   "id": "67f86de6-5af7-496f-a6ac-b95791341d09",
   "metadata": {},
   "outputs": [],
   "source": [
    "mystr1 = \"Hello Everyone\""
   ]
  },
  {
   "cell_type": "code",
   "execution_count": 81,
   "id": "b551fd3b-9121-476a-ae95-200e0594b071",
   "metadata": {},
   "outputs": [
    {
     "name": "stdout",
     "output_type": "stream",
     "text": [
      "H\n",
      "e\n",
      "l\n",
      "l\n",
      "o\n",
      " \n",
      "E\n",
      "v\n",
      "e\n",
      "r\n",
      "y\n",
      "o\n",
      "n\n",
      "e\n"
     ]
    }
   ],
   "source": [
    "for i in mystr1:\n",
    " print(i)"
   ]
  },
  {
   "cell_type": "code",
   "execution_count": 82,
   "id": "7397fefa-6620-4e61-aad7-745ac6961c02",
   "metadata": {},
   "outputs": [
    {
     "name": "stdout",
     "output_type": "stream",
     "text": [
      "(0, 'H')\n",
      "(1, 'e')\n",
      "(2, 'l')\n",
      "(3, 'l')\n",
      "(4, 'o')\n",
      "(5, ' ')\n",
      "(6, 'E')\n",
      "(7, 'v')\n",
      "(8, 'e')\n",
      "(9, 'r')\n",
      "(10, 'y')\n",
      "(11, 'o')\n",
      "(12, 'n')\n",
      "(13, 'e')\n"
     ]
    }
   ],
   "source": [
    "for i in enumerate(mystr1):\n",
    " print(i)"
   ]
  },
  {
   "cell_type": "code",
   "execution_count": 83,
   "id": "81f2c30e-dd21-45aa-956a-49fcd5bf40a1",
   "metadata": {},
   "outputs": [
    {
     "data": {
      "text/plain": [
       "[(0, 'H'),\n",
       " (1, 'e'),\n",
       " (2, 'l'),\n",
       " (3, 'l'),\n",
       " (4, 'o'),\n",
       " (5, ' '),\n",
       " (6, 'E'),\n",
       " (7, 'v'),\n",
       " (8, 'e'),\n",
       " (9, 'r'),\n",
       " (10, 'y'),\n",
       " (11, 'o'),\n",
       " (12, 'n'),\n",
       " (13, 'e')]"
      ]
     },
     "execution_count": 83,
     "metadata": {},
     "output_type": "execute_result"
    }
   ],
   "source": [
    "list(enumerate(mystr1)) "
   ]
  },
  {
   "cell_type": "markdown",
   "id": "83698616-d478-4cf3-8a7c-ac14a7e958aa",
   "metadata": {},
   "source": [
    "### String Membership"
   ]
  },
  {
   "cell_type": "code",
   "execution_count": 84,
   "id": "47c970dd-abce-40cc-bed4-557e170b33ae",
   "metadata": {},
   "outputs": [
    {
     "name": "stdout",
     "output_type": "stream",
     "text": [
      "True\n",
      "True\n",
      "False\n"
     ]
    }
   ],
   "source": [
    "mystr1 = \"Hello Everyone\"\n",
    "print ('Hello' in mystr1) # Check whether substring \"Hello\" is present in string \n",
    "print ('Everyone' in mystr1) # Check whether substring \"Everyone\" is present in s\n",
    "print ('Hi' in mystr1)"
   ]
  },
  {
   "cell_type": "markdown",
   "id": "ade46b1c-884f-4371-8a0c-383fbe885624",
   "metadata": {},
   "source": [
    "## string methods\n",
    "### capitalize"
   ]
  },
  {
   "cell_type": "code",
   "execution_count": 85,
   "id": "fe9c34ef-dd2c-4bda-975e-b7a4c2a6d852",
   "metadata": {},
   "outputs": [
    {
     "name": "stdout",
     "output_type": "stream",
     "text": [
      "Hi,welcome all\n"
     ]
    }
   ],
   "source": [
    "s1 = 'hi,welcome all'\n",
    "print(s1.capitalize())"
   ]
  },
  {
   "cell_type": "markdown",
   "id": "41edde70-6609-4042-9c35-9255a8b18602",
   "metadata": {},
   "source": [
    "### casefold"
   ]
  },
  {
   "cell_type": "code",
   "execution_count": 86,
   "id": "c0bf9664-ff02-416a-8916-974db407a2ba",
   "metadata": {},
   "outputs": [
    {
     "name": "stdout",
     "output_type": "stream",
     "text": [
      "dhruvpatel,is my name\n"
     ]
    }
   ],
   "source": [
    "s2 = 'dhruvpatel,is my NAME'\n",
    "print(s2.casefold())"
   ]
  },
  {
   "cell_type": "markdown",
   "id": "ebc0caba-3096-4ac2-8ebe-0b977b598ac1",
   "metadata": {},
   "source": [
    "### center\n",
    "### syntax : string.center(length,fillchar)"
   ]
  },
  {
   "cell_type": "code",
   "execution_count": 87,
   "id": "31202d0a-4774-4ef1-b494-5c45cb1bf1fb",
   "metadata": {},
   "outputs": [
    {
     "name": "stdout",
     "output_type": "stream",
     "text": [
      "14\n",
      "                                           hi,welcome all                                           \n",
      "*******************************************hi,welcome all*******************************************\n",
      "***hi,welcome all***\n"
     ]
    }
   ],
   "source": [
    "s3 = \"hi,welcome all\"\n",
    "print(len(s3))\n",
    "# center without fillchar\n",
    "print(s3.center(100))\n",
    "# center with fillchar\n",
    "print(s3.center(100,'*'))\n",
    "print(s3.center(20,'*'))"
   ]
  },
  {
   "cell_type": "markdown",
   "id": "8ce443fc-2bae-433c-a15b-5164c604016b",
   "metadata": {},
   "source": [
    "### count\n",
    "### syntax : string.count(substring,start,end)"
   ]
  },
  {
   "cell_type": "code",
   "execution_count": 88,
   "id": "d010b6f8-83e4-428b-adff-09332c9dcadf",
   "metadata": {},
   "outputs": [
    {
     "name": "stdout",
     "output_type": "stream",
     "text": [
      "50\n",
      "2\n",
      "1\n"
     ]
    }
   ],
   "source": [
    "s4 = 'hi welcome to this python course,python is popular'\n",
    "print(len(s4))\n",
    "print(s4.count('python',0,50))\n",
    "print(s4.count('python',30,50))"
   ]
  },
  {
   "cell_type": "markdown",
   "id": "2058d806-cc9c-48e2-8fd1-903a1d69ec61",
   "metadata": {},
   "source": [
    "### endswith\n",
    "### syntax : string.endswith(suffix,start,end)"
   ]
  },
  {
   "cell_type": "code",
   "execution_count": 89,
   "id": "57d0a5ba-9de1-408b-a3c6-faad6926039d",
   "metadata": {},
   "outputs": [
    {
     "name": "stdout",
     "output_type": "stream",
     "text": [
      "True\n",
      "True\n",
      "True\n",
      "True\n",
      "True\n",
      "False\n",
      "True\n"
     ]
    }
   ],
   "source": [
    "s5 = 'hi, welcome to python for engineers, python is popular'\n",
    "print(s5.endswith('popular'))\n",
    "print(s5.endswith('lar'))\n",
    "print(s5.endswith('python is popular'))\n",
    "print(s5.endswith('hi, welcome to python for engineers, python is popular'))\n",
    "print(s5.endswith('popular',0,60))\n",
    "# 'popu' ends at index 50 so if we use 50 then 'end' index position will be excluded in endswith method\n",
    "print(s5.endswith('popu',0,50))\n",
    "# but if we use \"end\" index position as 51 and use 'endswith' to check whether the substring 'popu' ends within index row\n",
    "print(s5.endswith('popu',0,51))"
   ]
  },
  {
   "cell_type": "markdown",
   "id": "7c3bf2d0-1294-4727-9401-f8f9dbed66ea",
   "metadata": {},
   "source": [
    "### startswith\n",
    "### syntax : string.startswith(prefix,start,end)"
   ]
  },
  {
   "cell_type": "code",
   "execution_count": 90,
   "id": "a0bcf605-97f0-40b0-aeb3-d66672d952e9",
   "metadata": {},
   "outputs": [
    {
     "name": "stdout",
     "output_type": "stream",
     "text": [
      "True\n",
      "True\n",
      "False\n",
      "True\n",
      "True\n",
      "False\n",
      "True\n"
     ]
    }
   ],
   "source": [
    "s6 = 'hi, welcome to python for engineers, python is popular'\n",
    "print(s6.startswith('hi'))\n",
    "print(s6.startswith('hi, welcome'))\n",
    "print(s6.startswith('welcome'))\n",
    "print(s6.startswith('hi, welcome to p'))\n",
    "print(s6.startswith('python',15,45))\n",
    "# we can use substrings to be checked inside the tuple in 'startswith' method and it'll return true if the main string is startswith any of the substring \n",
    "print(s6.startswith(('Hai','welcome','H','to')))\n",
    "print(s6.startswith(('Hai','welcome','h','to')))"
   ]
  },
  {
   "cell_type": "markdown",
   "id": "b9acb5ee-dff7-4278-9ef7-39e9ccdd7908",
   "metadata": {},
   "source": [
    "### expandtabs\n",
    "### syntax : string.expandtabs(space_size)"
   ]
  },
  {
   "cell_type": "code",
   "execution_count": 91,
   "id": "7498fab3-9169-4fa4-823f-987741f055de",
   "metadata": {},
   "outputs": [
    {
     "name": "stdout",
     "output_type": "stream",
     "text": [
      "hi      welcome to      python for beginners\n",
      "hi  welcome to  python for beginners\n"
     ]
    }
   ],
   "source": [
    "s7 = 'hi\\twelcome\\tto\\tpython for beginners'\n",
    "print(s7.expandtabs())\n",
    "print(s7.expandtabs(2))"
   ]
  },
  {
   "cell_type": "markdown",
   "id": "67505d6d-0fd0-4033-9346-cae134e63f9c",
   "metadata": {},
   "source": [
    "### find\n",
    "### syntax : string.find(sub,start,end)"
   ]
  },
  {
   "cell_type": "code",
   "execution_count": 92,
   "id": "549eaa3a-27bc-4653-92cd-a25cce6fc94d",
   "metadata": {},
   "outputs": [
    {
     "name": "stdout",
     "output_type": "stream",
     "text": [
      "12\n",
      "15\n",
      "-1\n",
      "37\n"
     ]
    }
   ],
   "source": [
    "s8 = 'hi, welcome to python for engineers, python is popular'\n",
    "print(s8.find('to'))\n",
    "print(s8.find('python'))\n",
    "print(s8.find('hai'))\n",
    "print(s8.find('python',17,60))"
   ]
  },
  {
   "cell_type": "markdown",
   "id": "051ba49a-0f98-4823-8e89-69316b271a43",
   "metadata": {},
   "source": [
    "### index\n",
    "### syntax : string.index(sub,startp,endp)"
   ]
  },
  {
   "cell_type": "code",
   "execution_count": 93,
   "id": "f395d523-7d6b-4261-8caf-9d99cdd303a5",
   "metadata": {},
   "outputs": [
    {
     "name": "stdout",
     "output_type": "stream",
     "text": [
      "22\n",
      "7\n",
      "12\n",
      "12\n"
     ]
    }
   ],
   "source": [
    "s9 = 'hi, welcome to python for engineers, python is popular'\n",
    "print(s9.index('for'))\n",
    "print(s9.index('come'))\n",
    "print(s9.index('to',2,30))\n",
    "print(s9.index('to',2,14))"
   ]
  },
  {
   "cell_type": "markdown",
   "id": "e0e13165-0365-4e8a-a020-1c892fe62eff",
   "metadata": {},
   "source": [
    "### isalnum\n",
    "### syntax : string.isalnum()"
   ]
  },
  {
   "cell_type": "code",
   "execution_count": 94,
   "id": "7f50f1fc-a4ba-4890-a2f5-526ea9a01ed4",
   "metadata": {},
   "outputs": [
    {
     "name": "stdout",
     "output_type": "stream",
     "text": [
      "True\n",
      "True\n",
      "True\n",
      "False\n"
     ]
    }
   ],
   "source": [
    "s10 = 'dhruvv14'\n",
    "print(s10.isalnum())\n",
    "print('12'.isalnum())\n",
    "print('dhruvv'.isalnum())\n",
    "# if we use any special character it'll return false\n",
    "print('dhruv@14'.isalnum())"
   ]
  },
  {
   "cell_type": "markdown",
   "id": "d68f87c9-b6c4-4854-a603-fe354e42fa20",
   "metadata": {},
   "source": [
    "### isdecimal\n",
    "### string.isdecimal()"
   ]
  },
  {
   "cell_type": "code",
   "execution_count": 95,
   "id": "4b1377ff-fd75-437f-b634-7b707440bbeb",
   "metadata": {},
   "outputs": [
    {
     "name": "stdout",
     "output_type": "stream",
     "text": [
      "True\n",
      "False\n",
      "False\n"
     ]
    }
   ],
   "source": [
    "s11 = '101'\n",
    "print(s11.isdecimal())\n",
    "print('dhruv14'.isdecimal())\n",
    "print('3-4'.isdecimal())"
   ]
  },
  {
   "cell_type": "markdown",
   "id": "bfce5184-72e8-42c7-b693-6950026c588f",
   "metadata": {},
   "source": [
    "### isdigit()\n",
    "### syntax : string.isdigit()"
   ]
  },
  {
   "cell_type": "code",
   "execution_count": 96,
   "id": "eddc7d44-69eb-4167-bdfc-16476e153d7d",
   "metadata": {},
   "outputs": [
    {
     "name": "stdout",
     "output_type": "stream",
     "text": [
      "False\n",
      "False\n",
      "True\n"
     ]
    }
   ],
   "source": [
    "s12 = 'abc150'\n",
    "print(s12.isdigit())\n",
    "print('2 3'.isdigit())\n",
    "print('23'.isdigit())"
   ]
  },
  {
   "cell_type": "markdown",
   "id": "69af0614-b1ac-4c07-8e2c-f4ed7ddf92b4",
   "metadata": {},
   "source": [
    "### isidentifier()\n",
    "### syntax : string.isidentifier()"
   ]
  },
  {
   "cell_type": "code",
   "execution_count": 97,
   "id": "1c4ce948-b232-4713-94f5-7105426fa0dc",
   "metadata": {},
   "outputs": [
    {
     "name": "stdout",
     "output_type": "stream",
     "text": [
      "True\n",
      "False\n"
     ]
    }
   ],
   "source": [
    "s13 = 'python3_10_for_us'\n",
    "print(s13.isidentifier())\n",
    "print('pyhton@12'.isidentifier())"
   ]
  },
  {
   "cell_type": "markdown",
   "id": "67201a13-3941-4a17-8bca-ad2e2c0544d4",
   "metadata": {},
   "source": [
    "### istitle\n",
    "### syntax : string.istitle()"
   ]
  },
  {
   "cell_type": "code",
   "execution_count": 98,
   "id": "42c20f55-eb4a-4f68-8168-ece9a6a997fa",
   "metadata": {},
   "outputs": [
    {
     "name": "stdout",
     "output_type": "stream",
     "text": [
      "False\n",
      "True\n"
     ]
    }
   ],
   "source": [
    "s14 = 'python for uss'\n",
    "print(s14.istitle())\n",
    "s14 = 'Python For Uss'\n",
    "print(s14.istitle())"
   ]
  },
  {
   "cell_type": "markdown",
   "id": "cd7c2f40-a3a7-4d51-9158-5d46b4381bb5",
   "metadata": {},
   "source": [
    "### join\n",
    "### syntax : string.join()"
   ]
  },
  {
   "cell_type": "code",
   "execution_count": 99,
   "id": "0c4d1d9b-fc9a-4daf-bc23-d4b69f8711b0",
   "metadata": {},
   "outputs": [
    {
     "name": "stdout",
     "output_type": "stream",
     "text": [
      "d*h*r*u*v\n",
      "d-h-r-u-v\n"
     ]
    }
   ],
   "source": [
    "s15 = 'dhruv'\n",
    "print('*'.join(s15))\n",
    "print('-'.join(s15))"
   ]
  },
  {
   "cell_type": "markdown",
   "id": "5623afa8-43d0-49bf-aede-49772645a6a1",
   "metadata": {},
   "source": [
    "### isalpha\n",
    "### syntax : string.isalpha()"
   ]
  },
  {
   "cell_type": "code",
   "execution_count": 100,
   "id": "c29074a4-7c87-461e-986e-0127aa17e0f2",
   "metadata": {},
   "outputs": [
    {
     "name": "stdout",
     "output_type": "stream",
     "text": [
      "True\n"
     ]
    }
   ],
   "source": [
    "s16 = 'dhruvistwentythreeyearsold'\n",
    "print(s16.isalpha())"
   ]
  },
  {
   "cell_type": "markdown",
   "id": "f2de3a1c-f9bf-4e8a-8d16-b7b92cb81b36",
   "metadata": {},
   "source": [
    "### islower and isupper\n",
    "### syntax : string.islower() & string.isupper()"
   ]
  },
  {
   "cell_type": "code",
   "execution_count": 101,
   "id": "6b278405-cff9-44ae-a833-5f32238af490",
   "metadata": {},
   "outputs": [
    {
     "name": "stdout",
     "output_type": "stream",
     "text": [
      "True\n",
      "True\n"
     ]
    }
   ],
   "source": [
    "s15 = 'dhruv'\n",
    "print(s15.islower())\n",
    "s17 = 'DHRUV'\n",
    "print(s17.isupper())"
   ]
  },
  {
   "cell_type": "markdown",
   "id": "8f2d655a-b4df-4bf3-abbb-c277ecbb5402",
   "metadata": {},
   "source": [
    "### upper and lower"
   ]
  },
  {
   "cell_type": "code",
   "execution_count": 102,
   "id": "db538ca2-ccf1-4325-bf46-48274d039f41",
   "metadata": {},
   "outputs": [
    {
     "name": "stdout",
     "output_type": "stream",
     "text": [
      "THIS IS PYTHON TUTORIAL AND IS BESTZ\n",
      "this is python tutorial and is bestz\n"
     ]
    }
   ],
   "source": [
    "s19 = 'this is python tutorial and is bestz'\n",
    "print(s19.upper())\n",
    "print(s19.lower())"
   ]
  },
  {
   "cell_type": "markdown",
   "id": "c0ddecb9-f7c1-4c90-9df7-989cfab8d27a",
   "metadata": {},
   "source": [
    "### rindex : returns the highest index in S where substring sub is found\n",
    "### syntax : string.rindex(sub,start,end)"
   ]
  },
  {
   "cell_type": "code",
   "execution_count": 103,
   "id": "8ec20295-672c-44ec-b5af-1ba0e5ce0977",
   "metadata": {},
   "outputs": [
    {
     "name": "stdout",
     "output_type": "stream",
     "text": [
      "28\n",
      "5\n",
      "17\n"
     ]
    }
   ],
   "source": [
    "s18 = 'this is python tutorial and is best'\n",
    "print(s18.rindex('is'))\n",
    "print(s18.rindex('is',0,20))\n",
    "print(s18.rindex('t',15,33))"
   ]
  },
  {
   "cell_type": "markdown",
   "id": "e4be6bfb-2d71-46c2-8938-506b37bf0627",
   "metadata": {},
   "source": [
    "### rfind\n",
    "### syntax : string.rfind(sub,start,end)"
   ]
  },
  {
   "cell_type": "code",
   "execution_count": 104,
   "id": "4cb08d2b-dc68-41c3-97e9-74e10fa95258",
   "metadata": {},
   "outputs": [
    {
     "name": "stdout",
     "output_type": "stream",
     "text": [
      "35\n",
      "28\n",
      "34\n",
      "5\n",
      "17\n"
     ]
    }
   ],
   "source": [
    "s19 = 'this is python tutorial and is best'\n",
    "print(len(s19))\n",
    "print(s19.rfind('is'))\n",
    "print(s19.rfind('t',0,36))\n",
    "print(s19.rfind('is',0,20))\n",
    "print(s19.rfind('t',0,20))"
   ]
  },
  {
   "cell_type": "markdown",
   "id": "fc18af5d-d8ed-4803-86b3-9afd24897b94",
   "metadata": {},
   "source": [
    "### split\n",
    "### syntax : string.split(seperator,maxsplit)"
   ]
  },
  {
   "cell_type": "code",
   "execution_count": 105,
   "id": "569cf73d-ef66-40e8-b67b-ea353924f108",
   "metadata": {},
   "outputs": [
    {
     "name": "stdout",
     "output_type": "stream",
     "text": [
      "['this', 'is', 'python', 'tutorial:and:is:best']\n",
      "['this,is,python,tutorial:and:is:best']\n",
      "['this,is,python,tutorial', 'and', 'is', 'best']\n",
      "['this', 'is', 'python,tutorial:and:is:best']\n",
      "['', 'his,is,py', 'hon,', 'u', 'orial:and:is:bes', '']\n"
     ]
    }
   ],
   "source": [
    "s20 = 'this,is,python,tutorial:and:is:best'\n",
    "print(s20.split(','))\n",
    "print(s20.split(' '))\n",
    "print(s20.split(':'))\n",
    "print(s20.split(',',2))\n",
    "print(s20.split('t'))"
   ]
  },
  {
   "cell_type": "markdown",
   "id": "8db90782-006a-4eb4-a2e5-a7d500a57218",
   "metadata": {},
   "source": [
    "### splitlines\n",
    "### syntax : string.splitlines(self,/,keepends=False) \\n,\\r,\\t"
   ]
  },
  {
   "cell_type": "code",
   "execution_count": 106,
   "id": "f79f7057-2aef-4423-aac1-693212081e21",
   "metadata": {},
   "outputs": [
    {
     "name": "stdout",
     "output_type": "stream",
     "text": [
      "['this', 'is', 'python', 'tutorial and ', 'is best']\n",
      "['this\\n', 'is\\n', 'python\\n', 'tutorial and \\r', 'is best']\n",
      "['this', 'is', 'python', 'tutorial and ', 'is best']\n"
     ]
    }
   ],
   "source": [
    "s21 = 'this\\nis\\npython\\ntutorial and \\ris best'\n",
    "print(s21.splitlines())\n",
    "print(s21.splitlines(True))\n",
    "print(s21.splitlines(0))"
   ]
  },
  {
   "cell_type": "markdown",
   "id": "080f072f-2b78-4295-962f-e87a006492b0",
   "metadata": {},
   "source": [
    "### partiton\n",
    "### syntax : string.partition(seperator)"
   ]
  },
  {
   "cell_type": "code",
   "execution_count": 107,
   "id": "5febed52-e43e-439a-9397-ccbd1a591c4a",
   "metadata": {},
   "outputs": [
    {
     "name": "stdout",
     "output_type": "stream",
     "text": [
      "('this is python tutorial ', 'and', ' is best')\n",
      "('th', 'is', ' is python tutorial and is best')\n",
      "('this is ', 'python', ' tutorial and is best')\n",
      "('this is python tutorial and is ', 'best', '')\n"
     ]
    }
   ],
   "source": [
    "s19 = 'this is python tutorial and is best'\n",
    "print(s19.partition('and'))\n",
    "print(s19.partition('is'))\n",
    "print(s19.partition('python'))\n",
    "print(s19.partition('best'))"
   ]
  },
  {
   "cell_type": "markdown",
   "id": "f6929951-821a-4297-9446-1263963b1f96",
   "metadata": {},
   "source": [
    "### rpartition\n",
    "### syntax : string.rpartition(seperator)"
   ]
  },
  {
   "cell_type": "code",
   "execution_count": 108,
   "id": "d7e70502-21ed-45a6-88c0-4d8bf6f1da12",
   "metadata": {},
   "outputs": [
    {
     "name": "stdout",
     "output_type": "stream",
     "text": [
      "('this,is,python34#@,tutorial:and:is', ':', 'best')\n",
      "('this,is,python34#@', ',', 'tutorial:and:is:best')\n"
     ]
    }
   ],
   "source": [
    "s22 = 'this,is,python34#@,tutorial:and:is:best'\n",
    "print(s22.rpartition(':'))\n",
    "print(s22.rpartition(','))"
   ]
  },
  {
   "cell_type": "markdown",
   "id": "2b3f1295-e497-48d4-8686-3c6215276493",
   "metadata": {},
   "source": [
    "### strip\n",
    "### syntax : string.strip([char's])"
   ]
  },
  {
   "cell_type": "code",
   "execution_count": 113,
   "id": "263daab3-d758-45a2-b912-ae9f433028b4",
   "metadata": {},
   "outputs": [
    {
     "name": "stdout",
     "output_type": "stream",
     "text": [
      "this is python tutorial and is best\n",
      "his is python tutorial and is \n",
      " is python tutorial and is be\n",
      " is python tutorial and is be\n"
     ]
    }
   ],
   "source": [
    "s19 = 'this is python tutorial and is best'\n",
    "print(s19.strip())\n",
    "print(s19.strip('best'))\n",
    "print(s19.strip('this'))\n",
    "print(s19.strip('siht'))"
   ]
  },
  {
   "cell_type": "markdown",
   "id": "f61ef338-ac96-49df-be96-0475acbef777",
   "metadata": {},
   "source": [
    "### rstrip\n",
    "### syntax : string.rstrip([char's])"
   ]
  },
  {
   "cell_type": "code",
   "execution_count": 115,
   "id": "a894ffdc-b96d-499c-9f5c-b28a2f3ad3b9",
   "metadata": {},
   "outputs": [
    {
     "name": "stdout",
     "output_type": "stream",
     "text": [
      "this is python tutorial and is best\n",
      "this is python tutorial and is \n",
      "this is python tutorial and is be\n"
     ]
    }
   ],
   "source": [
    "s19 = 'this is python tutorial and is best'\n",
    "print(s19.rstrip())\n",
    "print(s19.rstrip('best'))\n",
    "print(s19.rstrip('shit'))"
   ]
  },
  {
   "cell_type": "markdown",
   "id": "644a7008-9a31-41a9-896e-2cb9b0ff240f",
   "metadata": {},
   "source": [
    "### isspace\n",
    "### syntax : string.isspace()"
   ]
  },
  {
   "cell_type": "code",
   "execution_count": 116,
   "id": "d8d6e4f4-3bab-438f-bd91-93965710369a",
   "metadata": {},
   "outputs": [
    {
     "name": "stdout",
     "output_type": "stream",
     "text": [
      "True\n"
     ]
    }
   ],
   "source": [
    "s23 = '          '\n",
    "print(s23.isspace())"
   ]
  },
  {
   "cell_type": "markdown",
   "id": "95a40aad-53f0-484f-bd9d-2a9703d1ce07",
   "metadata": {},
   "source": [
    "### swapcase\n",
    "### syntax : string.swapcase()"
   ]
  },
  {
   "cell_type": "code",
   "execution_count": 117,
   "id": "6cbc7668-4a1d-4c75-827a-dbd5ee4b947d",
   "metadata": {},
   "outputs": [
    {
     "name": "stdout",
     "output_type": "stream",
     "text": [
      "THIS IS PYTHON TUTORIAL AND IS BEST\n"
     ]
    }
   ],
   "source": [
    "s19 = 'this is python tutorial and is best'\n",
    "print(s19.swapcase())"
   ]
  },
  {
   "cell_type": "markdown",
   "id": "df97dcd3-e576-452e-98f4-65f5a528e9c7",
   "metadata": {},
   "source": [
    "### max(str) & min(str)"
   ]
  },
  {
   "cell_type": "code",
   "execution_count": 118,
   "id": "e8023baf-d9c6-42ff-b360-b3b14444f9ac",
   "metadata": {},
   "outputs": [
    {
     "name": "stdout",
     "output_type": "stream",
     "text": [
      "z\n",
      "T\n"
     ]
    }
   ],
   "source": [
    "s19 = 'this is python tutorial and is bestz'  # only lowercase letters are given priority\n",
    "print(max(s19))  # This will print 'z' since 'z' is the highest alphabetical character\n",
    "\n",
    "s19 = 'Thisispythontutorialandisbestz'  # Uppercase letters are given priority before lowercase\n",
    "print(min(s19))  # This will print 'T' since 'T' is the smallest alphabetical character"
   ]
  },
  {
   "cell_type": "markdown",
   "id": "1b05593f-3fe3-455d-8bc2-1aa75ae5b763",
   "metadata": {},
   "source": [
    "### replace\n",
    "### syntax : string.replace()"
   ]
  },
  {
   "cell_type": "code",
   "execution_count": 119,
   "id": "c23b1337-f5e6-4705-a64a-4b91874bd99d",
   "metadata": {},
   "outputs": [
    {
     "name": "stdout",
     "output_type": "stream",
     "text": [
      "these was python tutorial and was bestz\n"
     ]
    }
   ],
   "source": [
    "s19 = 'these is python tutorial and is bestz'\n",
    "print(s19.replace('is','was'))"
   ]
  },
  {
   "cell_type": "markdown",
   "id": "6e4f9902-79ff-4b80-b5bd-902ca2d6909f",
   "metadata": {},
   "source": [
    "# List\n",
    "## 1) List is an ordered sequence of items.\n",
    "## 2) We can have different data types under a list. \n",
    "## E.g we can have integer, float and string items in a same list.t."
   ]
  },
  {
   "cell_type": "code",
   "execution_count": 129,
   "id": "a52818cd-f5b8-4394-9c6f-64ff439be86f",
   "metadata": {
    "scrolled": true
   },
   "outputs": [
    {
     "name": "stdout",
     "output_type": "stream",
     "text": [
      "Help on class list in module builtins:\n",
      "\n",
      "class list(object)\n",
      " |  list(iterable=(), /)\n",
      " |\n",
      " |  Built-in mutable sequence.\n",
      " |\n",
      " |  If no argument is given, the constructor creates a new empty list.\n",
      " |  The argument must be an iterable if specified.\n",
      " |\n",
      " |  Methods defined here:\n",
      " |\n",
      " |  __add__(self, value, /)\n",
      " |      Return self+value.\n",
      " |\n",
      " |  __contains__(self, key, /)\n",
      " |      Return bool(key in self).\n",
      " |\n",
      " |  __delitem__(self, key, /)\n",
      " |      Delete self[key].\n",
      " |\n",
      " |  __eq__(self, value, /)\n",
      " |      Return self==value.\n",
      " |\n",
      " |  __ge__(self, value, /)\n",
      " |      Return self>=value.\n",
      " |\n",
      " |  __getattribute__(self, name, /)\n",
      " |      Return getattr(self, name).\n",
      " |\n",
      " |  __getitem__(self, index, /)\n",
      " |      Return self[index].\n",
      " |\n",
      " |  __gt__(self, value, /)\n",
      " |      Return self>value.\n",
      " |\n",
      " |  __iadd__(self, value, /)\n",
      " |      Implement self+=value.\n",
      " |\n",
      " |  __imul__(self, value, /)\n",
      " |      Implement self*=value.\n",
      " |\n",
      " |  __init__(self, /, *args, **kwargs)\n",
      " |      Initialize self.  See help(type(self)) for accurate signature.\n",
      " |\n",
      " |  __iter__(self, /)\n",
      " |      Implement iter(self).\n",
      " |\n",
      " |  __le__(self, value, /)\n",
      " |      Return self<=value.\n",
      " |\n",
      " |  __len__(self, /)\n",
      " |      Return len(self).\n",
      " |\n",
      " |  __lt__(self, value, /)\n",
      " |      Return self<value.\n",
      " |\n",
      " |  __mul__(self, value, /)\n",
      " |      Return self*value.\n",
      " |\n",
      " |  __ne__(self, value, /)\n",
      " |      Return self!=value.\n",
      " |\n",
      " |  __repr__(self, /)\n",
      " |      Return repr(self).\n",
      " |\n",
      " |  __reversed__(self, /)\n",
      " |      Return a reverse iterator over the list.\n",
      " |\n",
      " |  __rmul__(self, value, /)\n",
      " |      Return value*self.\n",
      " |\n",
      " |  __setitem__(self, key, value, /)\n",
      " |      Set self[key] to value.\n",
      " |\n",
      " |  __sizeof__(self, /)\n",
      " |      Return the size of the list in memory, in bytes.\n",
      " |\n",
      " |  append(self, object, /)\n",
      " |      Append object to the end of the list.\n",
      " |\n",
      " |  clear(self, /)\n",
      " |      Remove all items from list.\n",
      " |\n",
      " |  copy(self, /)\n",
      " |      Return a shallow copy of the list.\n",
      " |\n",
      " |  count(self, value, /)\n",
      " |      Return number of occurrences of value.\n",
      " |\n",
      " |  extend(self, iterable, /)\n",
      " |      Extend list by appending elements from the iterable.\n",
      " |\n",
      " |  index(self, value, start=0, stop=9223372036854775807, /)\n",
      " |      Return first index of value.\n",
      " |\n",
      " |      Raises ValueError if the value is not present.\n",
      " |\n",
      " |  insert(self, index, object, /)\n",
      " |      Insert object before index.\n",
      " |\n",
      " |  pop(self, index=-1, /)\n",
      " |      Remove and return item at index (default last).\n",
      " |\n",
      " |      Raises IndexError if list is empty or index is out of range.\n",
      " |\n",
      " |  remove(self, value, /)\n",
      " |      Remove first occurrence of value.\n",
      " |\n",
      " |      Raises ValueError if the value is not present.\n",
      " |\n",
      " |  reverse(self, /)\n",
      " |      Reverse *IN PLACE*.\n",
      " |\n",
      " |  sort(self, /, *, key=None, reverse=False)\n",
      " |      Sort the list in ascending order and return None.\n",
      " |\n",
      " |      The sort is in-place (i.e. the list itself is modified) and stable (i.e. the\n",
      " |      order of two equal elements is maintained).\n",
      " |\n",
      " |      If a key function is given, apply it once to each list item and sort them,\n",
      " |      ascending or descending, according to their function values.\n",
      " |\n",
      " |      The reverse flag can be set to sort in descending order.\n",
      " |\n",
      " |  ----------------------------------------------------------------------\n",
      " |  Class methods defined here:\n",
      " |\n",
      " |  __class_getitem__(...)\n",
      " |      See PEP 585\n",
      " |\n",
      " |  ----------------------------------------------------------------------\n",
      " |  Static methods defined here:\n",
      " |\n",
      " |  __new__(*args, **kwargs)\n",
      " |      Create and return a new object.  See help(type) for accurate signature.\n",
      " |\n",
      " |  ----------------------------------------------------------------------\n",
      " |  Data and other attributes defined here:\n",
      " |\n",
      " |  __hash__ = None\n",
      "\n"
     ]
    }
   ],
   "source": [
    "help(list)"
   ]
  },
  {
   "cell_type": "code",
   "execution_count": 130,
   "id": "6f6c42d6-4aa9-4b41-9746-a849f1cf3e24",
   "metadata": {},
   "outputs": [
    {
     "name": "stdout",
     "output_type": "stream",
     "text": [
      "['__add__', '__class__', '__class_getitem__', '__contains__', '__delattr__', '__delitem__', '__dir__', '__doc__', '__eq__', '__format__', '__ge__', '__getattribute__', '__getitem__', '__getstate__', '__gt__', '__hash__', '__iadd__', '__imul__', '__init__', '__init_subclass__', '__iter__', '__le__', '__len__', '__lt__', '__mul__', '__ne__', '__new__', '__reduce__', '__reduce_ex__', '__repr__', '__reversed__', '__rmul__', '__setattr__', '__setitem__', '__sizeof__', '__str__', '__subclasshook__', 'append', 'clear', 'copy', 'count', 'extend', 'index', 'insert', 'pop', 'remove', 'reverse', 'sort']\n",
      "48\n"
     ]
    }
   ],
   "source": [
    "print(dir(list))\n",
    "print(len(dir(list)))"
   ]
  },
  {
   "cell_type": "code",
   "execution_count": 124,
   "id": "b6ca4ca8-35f7-4cd4-95b7-34d1f86942e8",
   "metadata": {},
   "outputs": [
    {
     "name": "stdout",
     "output_type": "stream",
     "text": [
      "<class 'list'>\n"
     ]
    }
   ],
   "source": [
    "list1 = [] \n",
    "print(type(list1))"
   ]
  },
  {
   "cell_type": "code",
   "execution_count": 127,
   "id": "2f5108ec-bbf1-4b16-9a7a-f60b1127b96a",
   "metadata": {},
   "outputs": [
    {
     "data": {
      "text/plain": [
       "[10, 30, 60]"
      ]
     },
     "execution_count": 127,
     "metadata": {},
     "output_type": "execute_result"
    }
   ],
   "source": [
    "list2 = [10,30,60] \n",
    "list2"
   ]
  },
  {
   "cell_type": "code",
   "execution_count": 128,
   "id": "96d66d6d-c4b6-4758-b59b-1b679590c540",
   "metadata": {},
   "outputs": [
    {
     "data": {
      "text/plain": [
       "[10.77, 30.66, 60.89]"
      ]
     },
     "execution_count": 128,
     "metadata": {},
     "output_type": "execute_result"
    }
   ],
   "source": [
    "list3 = [10.77,30.66,60.89]\n",
    "list3"
   ]
  },
  {
   "cell_type": "code",
   "execution_count": 135,
   "id": "5a59ce42-e932-48d6-9d56-ea516890a41a",
   "metadata": {},
   "outputs": [
    {
     "data": {
      "text/plain": [
       "['one', 'two', 'three']"
      ]
     },
     "execution_count": 135,
     "metadata": {},
     "output_type": "execute_result"
    }
   ],
   "source": [
    "list4 = ['one','two' , \"three\"] \n",
    "list4"
   ]
  },
  {
   "cell_type": "code",
   "execution_count": 137,
   "id": "82f8205b-62e2-4cc5-aa9d-bd012beb3080",
   "metadata": {},
   "outputs": [
    {
     "data": {
      "text/plain": [
       "['Asif', 25, [50, 100], [150, 90]]"
      ]
     },
     "execution_count": 137,
     "metadata": {},
     "output_type": "execute_result"
    }
   ],
   "source": [
    "list5 = ['Asif', 25 ,[50, 100],[150, 90]] \n",
    "list5"
   ]
  },
  {
   "cell_type": "code",
   "execution_count": 139,
   "id": "9aee6438-6cc1-49cc-a285-72139274a32b",
   "metadata": {},
   "outputs": [
    {
     "data": {
      "text/plain": [
       "[100, 'Asif', 17.765]"
      ]
     },
     "execution_count": 139,
     "metadata": {},
     "output_type": "execute_result"
    }
   ],
   "source": [
    "list6 = [100, 'Asif', 17.765] \n",
    "list6"
   ]
  },
  {
   "cell_type": "code",
   "execution_count": 140,
   "id": "f66478d4-bd96-4d39-91e0-91fc55452082",
   "metadata": {},
   "outputs": [
    {
     "data": {
      "text/plain": [
       "['Asif', 25, [50, 100], [150, 90], {'David', 'John'}]"
      ]
     },
     "execution_count": 140,
     "metadata": {},
     "output_type": "execute_result"
    }
   ],
   "source": [
    "list7 = ['Asif', 25 ,[50, 100],[150, 90] , {'John' , 'David'}]\n",
    "list7"
   ]
  },
  {
   "cell_type": "code",
   "execution_count": 131,
   "id": "e0e8f551-d3bd-41de-95e3-1b3b90367a4b",
   "metadata": {},
   "outputs": [
    {
     "name": "stdout",
     "output_type": "stream",
     "text": [
      "[['pruthiv', 'raja', 'dhruv', 'python'], 'welcome', 1, 2, 4, 5, 3]\n"
     ]
    }
   ],
   "source": [
    "# 2D list\n",
    "nested_list = [['pruthiv','raja','dhruv','python'],'welcome',1,2,4,5,3]\n",
    "print(nested_list)"
   ]
  },
  {
   "cell_type": "code",
   "execution_count": 132,
   "id": "ab23294b-ab8b-427a-b9df-0b1053f46924",
   "metadata": {},
   "outputs": [
    {
     "name": "stdout",
     "output_type": "stream",
     "text": [
      "[[['pruthvi', 'raja'], ['welcome', 'to', 'tutorials point']], 1, 2, 3, 4, 5]\n"
     ]
    }
   ],
   "source": [
    "nested_list3 = [[['pruthvi','raja'],['welcome','to','tutorials point']],1,2,3,4,5]\n",
    "print(nested_list3)"
   ]
  },
  {
   "cell_type": "markdown",
   "id": "99670514-3835-41ff-bd1f-a3d1295753fb",
   "metadata": {},
   "source": [
    "### List Indexing"
   ]
  },
  {
   "cell_type": "code",
   "execution_count": 133,
   "id": "a69d42f4-d811-49c2-8720-edca74b5f820",
   "metadata": {},
   "outputs": [
    {
     "data": {
      "text/plain": [
       "10"
      ]
     },
     "execution_count": 133,
     "metadata": {},
     "output_type": "execute_result"
    }
   ],
   "source": [
    "list2[0] "
   ]
  },
  {
   "cell_type": "code",
   "execution_count": 142,
   "id": "f72874f1-f6b9-4815-8368-91d82c1b0fae",
   "metadata": {},
   "outputs": [
    {
     "data": {
      "text/plain": [
       "'o'"
      ]
     },
     "execution_count": 142,
     "metadata": {},
     "output_type": "execute_result"
    }
   ],
   "source": [
    "list4[0][0] "
   ]
  },
  {
   "cell_type": "code",
   "execution_count": 143,
   "id": "08129540-dba5-4d41-9409-12f4a8392500",
   "metadata": {},
   "outputs": [
    {
     "data": {
      "text/plain": [
       "'three'"
      ]
     },
     "execution_count": 143,
     "metadata": {},
     "output_type": "execute_result"
    }
   ],
   "source": [
    "list4[-1]"
   ]
  },
  {
   "cell_type": "code",
   "execution_count": 144,
   "id": "fa60d664-a222-44f9-b5a7-941ad1d5cfec",
   "metadata": {},
   "outputs": [
    {
     "data": {
      "text/plain": [
       "[150, 90]"
      ]
     },
     "execution_count": 144,
     "metadata": {},
     "output_type": "execute_result"
    }
   ],
   "source": [
    "list5[-1]"
   ]
  },
  {
   "cell_type": "raw",
   "id": "9d0715e0-b0f8-4861-ad27-f2a705687054",
   "metadata": {},
   "source": [
    "  -10     -9      -8    -7     -6    -5    -4      -3    -2      -1 \n",
    "  0       1       2     3      4      5     6       7     8      9\n",
    "[ one     two   three  four   five   six   seven  eight   nine  ten]"
   ]
  },
  {
   "cell_type": "code",
   "execution_count": 145,
   "id": "23f78ef6-2d50-4030-b441-f5ecb0d7142e",
   "metadata": {},
   "outputs": [
    {
     "data": {
      "text/plain": [
       "['one', 'two', 'three', 'four', 'five', 'six', 'seven', 'eight', 'nine', 'ten']"
      ]
     },
     "execution_count": 145,
     "metadata": {},
     "output_type": "execute_result"
    }
   ],
   "source": [
    "mylist = ['one' , 'two' , 'three' , 'four' , 'five' , 'six' , 'seven' , 'eight','nine','ten']\n",
    "mylist"
   ]
  },
  {
   "cell_type": "code",
   "execution_count": 146,
   "id": "44a3f284-89b1-48fd-9e9e-716758a744f8",
   "metadata": {},
   "outputs": [
    {
     "data": {
      "text/plain": [
       "['one', 'two', 'three']"
      ]
     },
     "execution_count": 146,
     "metadata": {},
     "output_type": "execute_result"
    }
   ],
   "source": [
    "mylist[0:3]"
   ]
  },
  {
   "cell_type": "code",
   "execution_count": 147,
   "id": "992fe50e-462d-4f16-b352-bc8915ae58ec",
   "metadata": {},
   "outputs": [
    {
     "data": {
      "text/plain": [
       "['three', 'four', 'five']"
      ]
     },
     "execution_count": 147,
     "metadata": {},
     "output_type": "execute_result"
    }
   ],
   "source": [
    "mylist[2:5]"
   ]
  },
  {
   "cell_type": "code",
   "execution_count": 148,
   "id": "4d98d71c-24f3-4db5-a6b7-6ff36ef7bca4",
   "metadata": {},
   "outputs": [
    {
     "data": {
      "text/plain": [
       "['one', 'two', 'three']"
      ]
     },
     "execution_count": 148,
     "metadata": {},
     "output_type": "execute_result"
    }
   ],
   "source": [
    "mylist[:3] "
   ]
  },
  {
   "cell_type": "code",
   "execution_count": 149,
   "id": "a834e719-124c-4c2c-bafe-670ab78043f0",
   "metadata": {},
   "outputs": [
    {
     "data": {
      "text/plain": [
       "['one', 'two']"
      ]
     },
     "execution_count": 149,
     "metadata": {},
     "output_type": "execute_result"
    }
   ],
   "source": [
    "mylist[:2]"
   ]
  },
  {
   "cell_type": "code",
   "execution_count": 150,
   "id": "29659d00-de13-4408-af0c-1925a300338d",
   "metadata": {},
   "outputs": [
    {
     "data": {
      "text/plain": [
       "['eight', 'nine', 'ten']"
      ]
     },
     "execution_count": 150,
     "metadata": {},
     "output_type": "execute_result"
    }
   ],
   "source": [
    "mylist[-3:]"
   ]
  },
  {
   "cell_type": "code",
   "execution_count": 151,
   "id": "45f73450-70ae-446d-8935-8dd8e02076eb",
   "metadata": {},
   "outputs": [
    {
     "data": {
      "text/plain": [
       "['nine', 'ten']"
      ]
     },
     "execution_count": 151,
     "metadata": {},
     "output_type": "execute_result"
    }
   ],
   "source": [
    "mylist[-2:]"
   ]
  },
  {
   "cell_type": "code",
   "execution_count": 152,
   "id": "cfdde1a9-1efe-435d-9cc0-b8cd5fb6c9a9",
   "metadata": {},
   "outputs": [
    {
     "data": {
      "text/plain": [
       "'ten'"
      ]
     },
     "execution_count": 152,
     "metadata": {},
     "output_type": "execute_result"
    }
   ],
   "source": [
    "mylist[-1] "
   ]
  },
  {
   "cell_type": "code",
   "execution_count": 176,
   "id": "8a618cda-3f35-4198-9004-3135c0c4808e",
   "metadata": {},
   "outputs": [
    {
     "name": "stdout",
     "output_type": "stream",
     "text": [
      "['three', 'five', 'seven', 'nine']\n"
     ]
    }
   ],
   "source": [
    "# it will skip to every second element from the list\n",
    "print(mylist[2::2])"
   ]
  },
  {
   "cell_type": "code",
   "execution_count": 177,
   "id": "58d43fd9-2902-468f-927d-2a6b76a1cfa1",
   "metadata": {},
   "outputs": [
    {
     "name": "stdout",
     "output_type": "stream",
     "text": [
      "['three', 'six', 'nine']\n"
     ]
    }
   ],
   "source": [
    "print(mylist[2::3])"
   ]
  },
  {
   "cell_type": "code",
   "execution_count": 178,
   "id": "196cfb4b-c34f-4617-a756-fe12f32f3e27",
   "metadata": {},
   "outputs": [
    {
     "name": "stdout",
     "output_type": "stream",
     "text": [
      "['three', 'four', 'five', 'six', 'seven', 'eight', 'nine', 'ten']\n"
     ]
    }
   ],
   "source": [
    "print(mylist[2::])"
   ]
  },
  {
   "cell_type": "code",
   "execution_count": 179,
   "id": "58aad6cd-eb83-4be4-b37e-d537c37ca352",
   "metadata": {},
   "outputs": [
    {
     "name": "stdout",
     "output_type": "stream",
     "text": [
      "['three', 'two', 'one']\n"
     ]
    }
   ],
   "source": [
    "print(mylist[2::-1])"
   ]
  },
  {
   "cell_type": "code",
   "execution_count": 180,
   "id": "69672783-5343-4546-a07f-d358c3ecb04f",
   "metadata": {},
   "outputs": [
    {
     "name": "stdout",
     "output_type": "stream",
     "text": [
      "['nine', 'seven', 'five', 'three', 'one']\n"
     ]
    }
   ],
   "source": [
    "print(mylist[8::-2])"
   ]
  },
  {
   "cell_type": "code",
   "execution_count": 182,
   "id": "334a89ed-0da4-4988-9ed4-ccfb52fa3109",
   "metadata": {},
   "outputs": [
    {
     "data": {
      "text/plain": [
       "['ten', 'nine', 'eight', 'seven', 'six', 'five', 'four', 'three', 'two', 'one']"
      ]
     },
     "execution_count": 182,
     "metadata": {},
     "output_type": "execute_result"
    }
   ],
   "source": [
    "reverse_list = mylist[::-1]\n",
    "reverse_list"
   ]
  },
  {
   "cell_type": "code",
   "execution_count": 154,
   "id": "f85ac424-ad4a-4506-afce-b225b21ead2f",
   "metadata": {},
   "outputs": [
    {
     "data": {
      "text/plain": [
       "['one', 'two', 'three', 'four', 'five', 'six', 'seven', 'eight', 'nine', 'ten']"
      ]
     },
     "execution_count": 154,
     "metadata": {},
     "output_type": "execute_result"
    }
   ],
   "source": [
    "mylist[:] "
   ]
  },
  {
   "cell_type": "markdown",
   "id": "a1d212c9-4557-4fa7-8a5e-867d674f6dd4",
   "metadata": {},
   "source": [
    "### accessing multidimesional list elements"
   ]
  },
  {
   "cell_type": "code",
   "execution_count": 155,
   "id": "cce1621a-385d-4dc4-b435-850a7f90454f",
   "metadata": {},
   "outputs": [
    {
     "name": "stdout",
     "output_type": "stream",
     "text": [
      "[['pruthvi', 'raja'], 'wecome', 'to', 'python', 1, 2, 3]\n"
     ]
    }
   ],
   "source": [
    "nested_list2 = [['pruthvi','raja'],'wecome','to','python',1,2,3]\n",
    "print(nested_list2)"
   ]
  },
  {
   "cell_type": "code",
   "execution_count": 156,
   "id": "f214e94d-e95c-4777-ab86-688b0b8145af",
   "metadata": {},
   "outputs": [
    {
     "name": "stdout",
     "output_type": "stream",
     "text": [
      "['pruthvi', 'raja']\n",
      "<class 'list'>\n"
     ]
    }
   ],
   "source": [
    "sublist2d = nested_list2[0]\n",
    "print(sublist2d)\n",
    "print(type(sublist2d))"
   ]
  },
  {
   "cell_type": "code",
   "execution_count": 157,
   "id": "a82cecb5-2a85-481a-b438-e9437964460d",
   "metadata": {},
   "outputs": [
    {
     "name": "stdout",
     "output_type": "stream",
     "text": [
      "pruthvi\n",
      "raja\n"
     ]
    }
   ],
   "source": [
    "print(sublist2d[0])\n",
    "print(sublist2d[1])"
   ]
  },
  {
   "cell_type": "code",
   "execution_count": 158,
   "id": "8a13289d-fc68-4cd0-9ef1-80ce4ec99d51",
   "metadata": {},
   "outputs": [
    {
     "name": "stdout",
     "output_type": "stream",
     "text": [
      "<class 'str'>\n"
     ]
    }
   ],
   "source": [
    "print(type(sublist2d[0]))"
   ]
  },
  {
   "cell_type": "code",
   "execution_count": 159,
   "id": "3f600968-8610-4b3f-ab5c-f3a5ba9b9dbe",
   "metadata": {},
   "outputs": [
    {
     "name": "stdout",
     "output_type": "stream",
     "text": [
      "pruthvi\n"
     ]
    }
   ],
   "source": [
    "print(nested_list2[0][0])"
   ]
  },
  {
   "cell_type": "code",
   "execution_count": 160,
   "id": "80cdbec6-dfe3-4818-a9e5-004d53e98846",
   "metadata": {},
   "outputs": [
    {
     "name": "stdout",
     "output_type": "stream",
     "text": [
      "raja\n"
     ]
    }
   ],
   "source": [
    "print(nested_list2[0][1])"
   ]
  },
  {
   "cell_type": "code",
   "execution_count": 161,
   "id": "9e7d57a7-0b89-4b6d-a6aa-0c7c39a8756f",
   "metadata": {},
   "outputs": [
    {
     "name": "stdout",
     "output_type": "stream",
     "text": [
      "wecome\n"
     ]
    }
   ],
   "source": [
    "print(nested_list2[1])"
   ]
  },
  {
   "cell_type": "code",
   "execution_count": 162,
   "id": "b9468412-96a5-4823-af95-b75c95662083",
   "metadata": {},
   "outputs": [
    {
     "name": "stdout",
     "output_type": "stream",
     "text": [
      "to\n"
     ]
    }
   ],
   "source": [
    "print(nested_list2[2])"
   ]
  },
  {
   "cell_type": "code",
   "execution_count": 163,
   "id": "88bbc299-9200-4c67-beb8-b49823b93b2b",
   "metadata": {},
   "outputs": [
    {
     "name": "stdout",
     "output_type": "stream",
     "text": [
      "[[['pruthvi', 'raja'], ['welcome', 'to', 'tutorials point']], 1, 2, 3, 4, 5]\n"
     ]
    }
   ],
   "source": [
    "nested_list3 = [[['pruthvi','raja'],['welcome','to','tutorials point']],1,2,3,4,5]\n",
    "print(nested_list3)"
   ]
  },
  {
   "cell_type": "code",
   "execution_count": 167,
   "id": "67d7f859-543f-4ca4-9ab1-8b7793fea6ee",
   "metadata": {},
   "outputs": [
    {
     "name": "stdout",
     "output_type": "stream",
     "text": [
      "6\n"
     ]
    }
   ],
   "source": [
    "print(len(nested_list3))"
   ]
  },
  {
   "cell_type": "code",
   "execution_count": 172,
   "id": "82ec75e4-a801-454d-acdd-3883378230f1",
   "metadata": {},
   "outputs": [
    {
     "data": {
      "text/plain": [
       "[['pruthvi', 'raja'], ['welcome', 'to', 'tutorials point']]"
      ]
     },
     "execution_count": 172,
     "metadata": {},
     "output_type": "execute_result"
    }
   ],
   "source": [
    "list_2d = nested_list3[0]\n",
    "list_2d"
   ]
  },
  {
   "cell_type": "code",
   "execution_count": 173,
   "id": "ffe58683-aee7-4b90-b2f6-283ccc8b67cc",
   "metadata": {},
   "outputs": [
    {
     "data": {
      "text/plain": [
       "['pruthvi', 'raja']"
      ]
     },
     "execution_count": 173,
     "metadata": {},
     "output_type": "execute_result"
    }
   ],
   "source": [
    "list_1d = list_2d[0]\n",
    "list_1d"
   ]
  },
  {
   "cell_type": "code",
   "execution_count": 174,
   "id": "97d343ab-1e74-46fa-b818-9b6d2336fa38",
   "metadata": {},
   "outputs": [
    {
     "name": "stdout",
     "output_type": "stream",
     "text": [
      "pruthvi\n",
      "raja\n"
     ]
    }
   ],
   "source": [
    "print(list_1d[0])\n",
    "print(list_1d[1])"
   ]
  },
  {
   "cell_type": "code",
   "execution_count": 175,
   "id": "6b3e35d0-a77f-4c24-9a4f-ee1665755110",
   "metadata": {},
   "outputs": [
    {
     "name": "stdout",
     "output_type": "stream",
     "text": [
      "['pruthvi', 'raja']\n",
      "['welcome', 'to', 'tutorials point']\n",
      "pruthvi\n",
      "raja\n",
      "to\n",
      "welcome\n"
     ]
    }
   ],
   "source": [
    "print(nested_list3[0][0])\n",
    "print(nested_list3[0][1])\n",
    "print(nested_list3[0][0][0])\n",
    "print(nested_list3[0][0][1])\n",
    "print(nested_list3[0][1][1])\n",
    "print(nested_list3[0][1][0])"
   ]
  },
  {
   "cell_type": "markdown",
   "id": "25488770-ce13-4de4-9d5b-428ef4fcf351",
   "metadata": {},
   "source": [
    "### Add , Remove & Change Items"
   ]
  },
  {
   "cell_type": "code",
   "execution_count": 183,
   "id": "daa8beb6-7271-440b-b625-fe789ca480bd",
   "metadata": {},
   "outputs": [
    {
     "data": {
      "text/plain": [
       "['one', 'two', 'three', 'four', 'five', 'six', 'seven', 'eight']"
      ]
     },
     "execution_count": 183,
     "metadata": {},
     "output_type": "execute_result"
    }
   ],
   "source": [
    "mylist = ['one' , 'two' , 'three' , 'four' , 'five' , 'six' , 'seven' , 'eight']\n",
    "mylist"
   ]
  },
  {
   "cell_type": "code",
   "execution_count": 184,
   "id": "30f09c63-9b38-49b7-a332-2e95bb2e477b",
   "metadata": {},
   "outputs": [
    {
     "data": {
      "text/plain": [
       "['one', 'two', 'three', 'four', 'five', 'six', 'seven', 'eight', 'nine']"
      ]
     },
     "execution_count": 184,
     "metadata": {},
     "output_type": "execute_result"
    }
   ],
   "source": [
    "mylist.append('nine') # Add an item to the end of the list \n",
    "mylist"
   ]
  },
  {
   "cell_type": "code",
   "execution_count": 185,
   "id": "63ed2bb6-995c-485a-add6-99c96f631fa3",
   "metadata": {},
   "outputs": [
    {
     "data": {
      "text/plain": [
       "['one', 'two', 'three', 'four', 'five', 'six', 'seven', 'eight', 'nine', 'ten']"
      ]
     },
     "execution_count": 185,
     "metadata": {},
     "output_type": "execute_result"
    }
   ],
   "source": [
    "mylist.insert(9,'ten') # Add item at index location 9\n",
    "mylist"
   ]
  },
  {
   "cell_type": "code",
   "execution_count": 186,
   "id": "1791677d-4262-44f4-9641-91df435d42ce",
   "metadata": {},
   "outputs": [
    {
     "data": {
      "text/plain": [
       "['one',\n",
       " 'ONE',\n",
       " 'two',\n",
       " 'three',\n",
       " 'four',\n",
       " 'five',\n",
       " 'six',\n",
       " 'seven',\n",
       " 'eight',\n",
       " 'nine',\n",
       " 'ten']"
      ]
     },
     "execution_count": 186,
     "metadata": {},
     "output_type": "execute_result"
    }
   ],
   "source": [
    "mylist.insert(1,'ONE') # Add item at index location 1\n",
    "mylist"
   ]
  },
  {
   "cell_type": "code",
   "execution_count": 191,
   "id": "192c1599-f88a-4e0d-a253-d4c8ff796bb0",
   "metadata": {},
   "outputs": [
    {
     "data": {
      "text/plain": [
       "['one', 'two', 'three', 'four', 'five', 'six', 'seven', 1, 2, 3]"
      ]
     },
     "execution_count": 191,
     "metadata": {},
     "output_type": "execute_result"
    }
   ],
   "source": [
    "mylist.extend([1,2,3])\n",
    "mylist"
   ]
  },
  {
   "cell_type": "code",
   "execution_count": 187,
   "id": "f7b3a9ef-85c5-49ef-804c-982d2001ad26",
   "metadata": {},
   "outputs": [
    {
     "data": {
      "text/plain": [
       "['one', 'two', 'three', 'four', 'five', 'six', 'seven', 'eight', 'nine', 'ten']"
      ]
     },
     "execution_count": 187,
     "metadata": {},
     "output_type": "execute_result"
    }
   ],
   "source": [
    "mylist.remove('ONE') # Remove item \"ONE\"\n",
    "mylist"
   ]
  },
  {
   "cell_type": "code",
   "execution_count": 188,
   "id": "b717659e-dd8b-4861-bac9-cfbf660c9ed4",
   "metadata": {},
   "outputs": [
    {
     "data": {
      "text/plain": [
       "['one', 'two', 'three', 'four', 'five', 'six', 'seven', 'eight', 'nine']"
      ]
     },
     "execution_count": 188,
     "metadata": {},
     "output_type": "execute_result"
    }
   ],
   "source": [
    "mylist.pop() # Remove last item of the list\n",
    "mylist"
   ]
  },
  {
   "cell_type": "code",
   "execution_count": 189,
   "id": "834f8f45-60c4-4ab5-bb42-2efaabb35229",
   "metadata": {},
   "outputs": [
    {
     "data": {
      "text/plain": [
       "['one', 'two', 'three', 'four', 'five', 'six', 'seven', 'eight']"
      ]
     },
     "execution_count": 189,
     "metadata": {},
     "output_type": "execute_result"
    }
   ],
   "source": [
    "mylist.pop(8) # Remove item at index location 8\n",
    "mylist"
   ]
  },
  {
   "cell_type": "code",
   "execution_count": 190,
   "id": "d90e10e1-abd0-4763-96ad-2f4baf79c4d6",
   "metadata": {},
   "outputs": [
    {
     "data": {
      "text/plain": [
       "['one', 'two', 'three', 'four', 'five', 'six', 'seven']"
      ]
     },
     "execution_count": 190,
     "metadata": {},
     "output_type": "execute_result"
    }
   ],
   "source": [
    "del mylist[7] # Remove item at index location 7\n",
    "mylist"
   ]
  },
  {
   "cell_type": "code",
   "execution_count": 193,
   "id": "54d83591-abf8-4fc1-91af-48ac3708ad7e",
   "metadata": {},
   "outputs": [
    {
     "data": {
      "text/plain": [
       "['ONE', 'TWO', 'THREE', 'four', 'five', 'six', 'seven', 1, 2, 3]"
      ]
     },
     "execution_count": 193,
     "metadata": {},
     "output_type": "execute_result"
    }
   ],
   "source": [
    "# Change value of the string\n",
    "mylist[0] = 'ONE'\n",
    "mylist[1] = 'TWO'\n",
    "mylist[2] = 'THREE'\n",
    "mylist"
   ]
  },
  {
   "cell_type": "code",
   "execution_count": 194,
   "id": "d848717f-a1a5-4837-bd3e-7c6b719781a1",
   "metadata": {},
   "outputs": [
    {
     "data": {
      "text/plain": [
       "[]"
      ]
     },
     "execution_count": 194,
     "metadata": {},
     "output_type": "execute_result"
    }
   ],
   "source": [
    "mylist.clear() # Empty List / Delete all items in the list\n",
    "mylist"
   ]
  },
  {
   "cell_type": "code",
   "execution_count": 195,
   "id": "3faa5ecd-5dbb-473a-8325-8e9c9713393a",
   "metadata": {},
   "outputs": [],
   "source": [
    "del mylist"
   ]
  },
  {
   "cell_type": "markdown",
   "id": "c3047ef0-a121-466c-b803-e638068877b8",
   "metadata": {},
   "source": [
    "### Copy List"
   ]
  },
  {
   "cell_type": "code",
   "execution_count": 196,
   "id": "6cd92a5f-6af5-4e39-8b70-63480ddc13bd",
   "metadata": {},
   "outputs": [],
   "source": [
    "mylist = ['one' , 'two' , 'three' , 'four' , 'five' , 'six' , 'seven' , 'eight','nine','ten']"
   ]
  },
  {
   "cell_type": "code",
   "execution_count": 197,
   "id": "245ad9fd-3bb1-46a2-b4eb-d13a5b3dd8ef",
   "metadata": {},
   "outputs": [],
   "source": [
    "mylist1 = mylist"
   ]
  },
  {
   "cell_type": "code",
   "execution_count": 198,
   "id": "fa8cc89b-f2a6-4b7b-b99f-e31700a716f0",
   "metadata": {},
   "outputs": [
    {
     "data": {
      "text/plain": [
       "(2415076079936, 2415076079936)"
      ]
     },
     "execution_count": 198,
     "metadata": {},
     "output_type": "execute_result"
    }
   ],
   "source": [
    "id(mylist) , id(mylist1)"
   ]
  },
  {
   "cell_type": "code",
   "execution_count": 199,
   "id": "f7e12b67-048e-4402-80b7-1fd06b41a3b7",
   "metadata": {},
   "outputs": [],
   "source": [
    "mylist2 = mylist.copy()"
   ]
  },
  {
   "cell_type": "code",
   "execution_count": 200,
   "id": "03fcfd97-4b07-48de-b6f2-d0050884b554",
   "metadata": {},
   "outputs": [
    {
     "data": {
      "text/plain": [
       "2415076196928"
      ]
     },
     "execution_count": 200,
     "metadata": {},
     "output_type": "execute_result"
    }
   ],
   "source": [
    "id(mylist2)"
   ]
  },
  {
   "cell_type": "code",
   "execution_count": 201,
   "id": "e240e4b8-f035-41c3-b48f-6fbb920de05d",
   "metadata": {},
   "outputs": [
    {
     "data": {
      "text/plain": [
       "[1, 'two', 'three', 'four', 'five', 'six', 'seven', 'eight', 'nine', 'ten']"
      ]
     },
     "execution_count": 201,
     "metadata": {},
     "output_type": "execute_result"
    }
   ],
   "source": [
    "mylist[0] = 1\n",
    "mylist"
   ]
  },
  {
   "cell_type": "code",
   "execution_count": 202,
   "id": "411ea674-d980-4562-85e2-d841f9bb05f4",
   "metadata": {},
   "outputs": [
    {
     "data": {
      "text/plain": [
       "[1, 'two', 'three', 'four', 'five', 'six', 'seven', 'eight', 'nine', 'ten']"
      ]
     },
     "execution_count": 202,
     "metadata": {},
     "output_type": "execute_result"
    }
   ],
   "source": [
    "mylist1"
   ]
  },
  {
   "cell_type": "code",
   "execution_count": 203,
   "id": "6f47d9c9-f8c5-4c57-827b-3cdf2b0bd23d",
   "metadata": {},
   "outputs": [
    {
     "data": {
      "text/plain": [
       "['one', 'two', 'three', 'four', 'five', 'six', 'seven', 'eight', 'nine', 'ten']"
      ]
     },
     "execution_count": 203,
     "metadata": {},
     "output_type": "execute_result"
    }
   ],
   "source": [
    "mylist2"
   ]
  },
  {
   "cell_type": "markdown",
   "id": "b80a464b-f5ff-4685-808c-9102d78ae47d",
   "metadata": {},
   "source": [
    "### Join Lists"
   ]
  },
  {
   "cell_type": "code",
   "execution_count": 1,
   "id": "05ac8b72-f14b-40a0-bc30-40aef1fbc003",
   "metadata": {},
   "outputs": [],
   "source": [
    "list1 = ['one', 'two', 'three', 'four']\n",
    "list2 = ['five', 'six', 'seven', 'eight']"
   ]
  },
  {
   "cell_type": "code",
   "execution_count": 2,
   "id": "6539dd91-fb84-4110-abd3-537bacfdcd48",
   "metadata": {},
   "outputs": [
    {
     "data": {
      "text/plain": [
       "['one', 'two', 'three', 'four', 'five', 'six', 'seven', 'eight']"
      ]
     },
     "execution_count": 2,
     "metadata": {},
     "output_type": "execute_result"
    }
   ],
   "source": [
    "list3 = list1 + list2 # Join two lists by '+' operator\n",
    "list3"
   ]
  },
  {
   "cell_type": "markdown",
   "id": "ddd68095-2dd3-4910-9aed-6b9048d45d68",
   "metadata": {},
   "source": [
    "### List Membership"
   ]
  },
  {
   "cell_type": "code",
   "execution_count": 3,
   "id": "d5463e39-6d85-4655-92a9-f63d7608a651",
   "metadata": {},
   "outputs": [
    {
     "data": {
      "text/plain": [
       "['one', 'two', 'three', 'four']"
      ]
     },
     "execution_count": 3,
     "metadata": {},
     "output_type": "execute_result"
    }
   ],
   "source": [
    "list1"
   ]
  },
  {
   "cell_type": "code",
   "execution_count": 4,
   "id": "25875bcd-7b05-474f-b9b5-5a3323984d76",
   "metadata": {},
   "outputs": [
    {
     "data": {
      "text/plain": [
       "True"
      ]
     },
     "execution_count": 4,
     "metadata": {},
     "output_type": "execute_result"
    }
   ],
   "source": [
    "'one' in list1"
   ]
  },
  {
   "cell_type": "code",
   "execution_count": 5,
   "id": "f35f524c-c048-4ec5-a0c4-86cad693f5e2",
   "metadata": {},
   "outputs": [
    {
     "data": {
      "text/plain": [
       "False"
      ]
     },
     "execution_count": 5,
     "metadata": {},
     "output_type": "execute_result"
    }
   ],
   "source": [
    "'ten' in list1"
   ]
  },
  {
   "cell_type": "code",
   "execution_count": 6,
   "id": "3b957d14-ff2c-4da4-b9b9-15f08d0578e9",
   "metadata": {},
   "outputs": [
    {
     "name": "stdout",
     "output_type": "stream",
     "text": [
      "Three is present in the list\n"
     ]
    }
   ],
   "source": [
    "if 'three' in list1: # Check if 'three' exist in the list\n",
    " print('Three is present in the list')\n",
    "else:\n",
    " print('Three is not present in the list')"
   ]
  },
  {
   "cell_type": "code",
   "execution_count": 7,
   "id": "2004e9a0-e7fc-4de6-8e9d-ed9a2bbb5848",
   "metadata": {},
   "outputs": [
    {
     "name": "stdout",
     "output_type": "stream",
     "text": [
      "eleven is not present in the list\n"
     ]
    }
   ],
   "source": [
    "if 'eleven' in list1: # Check if 'eleven' exist in the list\n",
    " print('eleven is present in the list')\n",
    "else:\n",
    " print('eleven is not present in the list')"
   ]
  },
  {
   "cell_type": "markdown",
   "id": "ddcea07d-5c2a-4f34-b077-c9eefb4edb43",
   "metadata": {},
   "source": [
    "### Reverse & Sort List"
   ]
  },
  {
   "cell_type": "code",
   "execution_count": 8,
   "id": "5fd88d9d-d64f-4adc-8383-1399e11efe12",
   "metadata": {},
   "outputs": [
    {
     "data": {
      "text/plain": [
       "['one', 'two', 'three', 'four']"
      ]
     },
     "execution_count": 8,
     "metadata": {},
     "output_type": "execute_result"
    }
   ],
   "source": [
    "list1"
   ]
  },
  {
   "cell_type": "code",
   "execution_count": 9,
   "id": "8c649ccc-14bb-4f3c-b2b1-c9cc3f9fb250",
   "metadata": {},
   "outputs": [
    {
     "data": {
      "text/plain": [
       "['four', 'three', 'two', 'one']"
      ]
     },
     "execution_count": 9,
     "metadata": {},
     "output_type": "execute_result"
    }
   ],
   "source": [
    "list1.reverse() # Reverse the list\n",
    "list1"
   ]
  },
  {
   "cell_type": "code",
   "execution_count": 10,
   "id": "37de1248-f84b-4e7e-982f-f03ccb90c872",
   "metadata": {},
   "outputs": [
    {
     "data": {
      "text/plain": [
       "['one', 'two', 'three', 'four']"
      ]
     },
     "execution_count": 10,
     "metadata": {},
     "output_type": "execute_result"
    }
   ],
   "source": [
    "list1 = list1[::-1] # Reverse the list\n",
    "list1"
   ]
  },
  {
   "cell_type": "code",
   "execution_count": 11,
   "id": "457dface-d685-4df8-8908-29d1d124dd33",
   "metadata": {},
   "outputs": [
    {
     "data": {
      "text/plain": [
       "[2, 5, 9, 12, 34, 88, 99]"
      ]
     },
     "execution_count": 11,
     "metadata": {},
     "output_type": "execute_result"
    }
   ],
   "source": [
    "mylist3 = [9,5,2,99,12,88,34]\n",
    "mylist3.sort() # Sort list in ascending order\n",
    "mylist3"
   ]
  },
  {
   "cell_type": "code",
   "execution_count": 12,
   "id": "8e484edf-900f-4067-bec7-c5f2db3d0c27",
   "metadata": {},
   "outputs": [
    {
     "data": {
      "text/plain": [
       "[99, 88, 34, 12, 9, 5, 2]"
      ]
     },
     "execution_count": 12,
     "metadata": {},
     "output_type": "execute_result"
    }
   ],
   "source": [
    "mylist3 = [9,5,2,99,12,88,34]\n",
    "mylist3.sort(reverse=True) # Sort list in descending order\n",
    "mylist3"
   ]
  },
  {
   "cell_type": "code",
   "execution_count": 13,
   "id": "4b0a0c3e-4902-4c90-aaaf-1b652f938b92",
   "metadata": {},
   "outputs": [
    {
     "data": {
      "text/plain": [
       "[11, 21, 33, 65, 88, 98]"
      ]
     },
     "execution_count": 13,
     "metadata": {},
     "output_type": "execute_result"
    }
   ],
   "source": [
    "mylist4 = [88,65,33,21,11,98]\n",
    "sorted(mylist4) "
   ]
  },
  {
   "cell_type": "code",
   "execution_count": 14,
   "id": "3345fb28-c7cb-479d-8142-800f2ad77db8",
   "metadata": {},
   "outputs": [
    {
     "data": {
      "text/plain": [
       "[88, 65, 33, 21, 11, 98]"
      ]
     },
     "execution_count": 14,
     "metadata": {},
     "output_type": "execute_result"
    }
   ],
   "source": [
    "mylist4"
   ]
  },
  {
   "cell_type": "markdown",
   "id": "2186125e-7ffe-4706-848c-7c7a4c053cdc",
   "metadata": {},
   "source": [
    "### Loop through a list"
   ]
  },
  {
   "cell_type": "code",
   "execution_count": 15,
   "id": "eeae6ad9-9d9c-42cf-ac3c-e567b8bfa62e",
   "metadata": {},
   "outputs": [
    {
     "data": {
      "text/plain": [
       "['one', 'two', 'three', 'four']"
      ]
     },
     "execution_count": 15,
     "metadata": {},
     "output_type": "execute_result"
    }
   ],
   "source": [
    "list1"
   ]
  },
  {
   "cell_type": "code",
   "execution_count": 16,
   "id": "d7a81b15-ab4e-4db4-aa08-448a45021b40",
   "metadata": {},
   "outputs": [
    {
     "name": "stdout",
     "output_type": "stream",
     "text": [
      "one\n",
      "two\n",
      "three\n",
      "four\n"
     ]
    }
   ],
   "source": [
    "for i in list1:\n",
    " print(i)"
   ]
  },
  {
   "cell_type": "code",
   "execution_count": 17,
   "id": "d926361d-1874-4e68-b2ed-1319640e68bd",
   "metadata": {},
   "outputs": [
    {
     "name": "stdout",
     "output_type": "stream",
     "text": [
      "(0, 'one')\n",
      "(1, 'two')\n",
      "(2, 'three')\n",
      "(3, 'four')\n"
     ]
    }
   ],
   "source": [
    "for i in enumerate(list1):\n",
    " print(i)"
   ]
  },
  {
   "cell_type": "markdown",
   "id": "29faeb9a-8686-46db-b8a6-5889a68fcece",
   "metadata": {},
   "source": [
    "### Count"
   ]
  },
  {
   "cell_type": "code",
   "execution_count": 18,
   "id": "d1a216cf-b3bd-4e37-9fc0-cf4bf7b894b9",
   "metadata": {},
   "outputs": [],
   "source": [
    "list10 =['one', 'two', 'three', 'four', 'one', 'one', 'two', 'three']"
   ]
  },
  {
   "cell_type": "code",
   "execution_count": 19,
   "id": "209c55ab-8c3a-4932-92b5-bfc8471c8c3a",
   "metadata": {},
   "outputs": [
    {
     "data": {
      "text/plain": [
       "3"
      ]
     },
     "execution_count": 19,
     "metadata": {},
     "output_type": "execute_result"
    }
   ],
   "source": [
    "list10.count('one')"
   ]
  },
  {
   "cell_type": "code",
   "execution_count": 20,
   "id": "5ec6891e-9940-4f79-b6ec-450f78d127da",
   "metadata": {},
   "outputs": [
    {
     "data": {
      "text/plain": [
       "2"
      ]
     },
     "execution_count": 20,
     "metadata": {},
     "output_type": "execute_result"
    }
   ],
   "source": [
    "list10.count('two')"
   ]
  },
  {
   "cell_type": "code",
   "execution_count": 21,
   "id": "d4993e0f-d3d4-49bc-ba22-64f3dabf3065",
   "metadata": {},
   "outputs": [
    {
     "data": {
      "text/plain": [
       "1"
      ]
     },
     "execution_count": 21,
     "metadata": {},
     "output_type": "execute_result"
    }
   ],
   "source": [
    "list10.count('four')"
   ]
  },
  {
   "cell_type": "markdown",
   "id": "e75e2229-029e-4ab4-8695-3cbf4d4fe250",
   "metadata": {},
   "source": [
    "### All / Any\n",
    "### The all() method returns:\n",
    "### True - If all elements in a list are true\n",
    "### False - If any element in a list is false\n",
    "### The any() function returns True if any element in the list is True. If not, any() returns False."
   ]
  },
  {
   "cell_type": "code",
   "execution_count": 22,
   "id": "e61fc76c-4663-4335-a9d1-8f0614fcf408",
   "metadata": {},
   "outputs": [],
   "source": [
    "L1 = [1,2,3,4,0]"
   ]
  },
  {
   "cell_type": "code",
   "execution_count": 23,
   "id": "3f2e27a5-efa0-49ef-b07b-91eceb3bea40",
   "metadata": {},
   "outputs": [
    {
     "data": {
      "text/plain": [
       "False"
      ]
     },
     "execution_count": 23,
     "metadata": {},
     "output_type": "execute_result"
    }
   ],
   "source": [
    "all(L1) # Will Return false as one value is false (Value 0)"
   ]
  },
  {
   "cell_type": "code",
   "execution_count": 24,
   "id": "ad0badf8-1bd4-4317-949e-18054985047e",
   "metadata": {},
   "outputs": [
    {
     "data": {
      "text/plain": [
       "True"
      ]
     },
     "execution_count": 24,
     "metadata": {},
     "output_type": "execute_result"
    }
   ],
   "source": [
    "any(L1) # Will Return True as we have items in the list with True value"
   ]
  },
  {
   "cell_type": "code",
   "execution_count": 25,
   "id": "534a5800-300c-4aa9-a470-8c68fdf9b224",
   "metadata": {},
   "outputs": [],
   "source": [
    "L2 = [1,2,3,4,True,False]"
   ]
  },
  {
   "cell_type": "code",
   "execution_count": 26,
   "id": "3321326d-b311-4c32-a9d9-4a240cb24812",
   "metadata": {},
   "outputs": [
    {
     "data": {
      "text/plain": [
       "False"
      ]
     },
     "execution_count": 26,
     "metadata": {},
     "output_type": "execute_result"
    }
   ],
   "source": [
    "all(L2) # Returns false as one value is false"
   ]
  },
  {
   "cell_type": "code",
   "execution_count": 27,
   "id": "ad5de863-4882-4b33-874c-bd8f1d6ff744",
   "metadata": {},
   "outputs": [
    {
     "data": {
      "text/plain": [
       "True"
      ]
     },
     "execution_count": 27,
     "metadata": {},
     "output_type": "execute_result"
    }
   ],
   "source": [
    "any(L2) # Will Return True as we have items in the list with True value"
   ]
  },
  {
   "cell_type": "code",
   "execution_count": 28,
   "id": "934b922d-c2ef-49a8-abb3-f0aaab7a825e",
   "metadata": {},
   "outputs": [],
   "source": [
    "L3 = [1,2,3,True]"
   ]
  },
  {
   "cell_type": "code",
   "execution_count": 29,
   "id": "bfd28ffa-7d2c-4da5-9451-2271a55ac432",
   "metadata": {},
   "outputs": [
    {
     "data": {
      "text/plain": [
       "True"
      ]
     },
     "execution_count": 29,
     "metadata": {},
     "output_type": "execute_result"
    }
   ],
   "source": [
    "all(L3) # Will return True as all items in the list are True"
   ]
  },
  {
   "cell_type": "code",
   "execution_count": 30,
   "id": "e14e98fc-46af-4bdc-8c95-933fe797ff25",
   "metadata": {},
   "outputs": [
    {
     "data": {
      "text/plain": [
       "True"
      ]
     },
     "execution_count": 30,
     "metadata": {},
     "output_type": "execute_result"
    }
   ],
   "source": [
    "any(L3) # Will Return True as we have items in the list with True value"
   ]
  },
  {
   "cell_type": "markdown",
   "id": "6e4c50ce-c863-4a5d-a3d1-6b3fc5f60f93",
   "metadata": {},
   "source": [
    "# List Comprehensions\n",
    "### List Comprehensions provide an elegant way to create new lists.\n",
    "### It consists of brackets containing an expression followed by a for clause, then zero or more for or if clauses.\n",
    "## [expression for item in iterable if condition]\n",
    "### expression: This is the operation you want to perform on each item in the iterable.\n",
    "### for item in iterable: This part specifies the iteration over the elements of the iterable.\n",
    "### if condition: This part is optional and allows you to filter out elements based on a condition.n."
   ]
  },
  {
   "cell_type": "code",
   "execution_count": 31,
   "id": "e7cc6d56-db81-4b7e-aeb3-ad149bd7a26c",
   "metadata": {},
   "outputs": [
    {
     "data": {
      "text/plain": [
       "['W', 'E', 'L', 'C', 'O', 'M', 'E']"
      ]
     },
     "execution_count": 31,
     "metadata": {},
     "output_type": "execute_result"
    }
   ],
   "source": [
    "mystring = \"WELCOME\"\n",
    "mylist = [ i for i in mystring ] # Iterating through a string Using List Comprehe\n",
    "mylist"
   ]
  },
  {
   "cell_type": "code",
   "execution_count": 32,
   "id": "9f870ba1-29bf-4835-8207-7819e8530bfb",
   "metadata": {},
   "outputs": [
    {
     "data": {
      "text/plain": [
       "[0, 2, 4, 6, 8, 10, 12, 14, 16, 18, 20, 22, 24, 26, 28, 30, 32, 34, 36, 38]"
      ]
     },
     "execution_count": 32,
     "metadata": {},
     "output_type": "execute_result"
    }
   ],
   "source": [
    "mylist1 = [ i for i in range(40) if i % 2 == 0] # Display all even numbers betwee\n",
    "mylist1"
   ]
  },
  {
   "cell_type": "code",
   "execution_count": 33,
   "id": "1ae35640-5c4f-48c1-b169-0a824d12557f",
   "metadata": {},
   "outputs": [
    {
     "data": {
      "text/plain": [
       "[1, 3, 5, 7, 9, 11, 13, 15, 17, 19, 21, 23, 25, 27, 29, 31, 33, 35, 37, 39]"
      ]
     },
     "execution_count": 33,
     "metadata": {},
     "output_type": "execute_result"
    }
   ],
   "source": [
    "mylist2 = [ i for i in range(40) if i % 2 == 1] # Display all odd numbers between\n",
    "mylist2"
   ]
  },
  {
   "cell_type": "code",
   "execution_count": 34,
   "id": "29057d2c-1a39-4f02-842f-872b009d6fde",
   "metadata": {},
   "outputs": [
    {
     "data": {
      "text/plain": [
       "[0, 1, 4, 9, 16, 25, 36, 49, 64, 81]"
      ]
     },
     "execution_count": 34,
     "metadata": {},
     "output_type": "execute_result"
    }
   ],
   "source": [
    "mylist3 = [num**2 for num in range(10)] # calculate square of all numbers between\n",
    "mylist3"
   ]
  },
  {
   "cell_type": "code",
   "execution_count": 35,
   "id": "5bd31702-0af5-4ff6-9758-3c95b1da44d1",
   "metadata": {},
   "outputs": [
    {
     "data": {
      "text/plain": [
       "[20, 30, 40, 50, 60, 70, 80]"
      ]
     },
     "execution_count": 35,
     "metadata": {},
     "output_type": "execute_result"
    }
   ],
   "source": [
    "list1 = [2,3,4,5,6,7,8]\n",
    "list1 = [i*10 for i in list1]\n",
    "list1"
   ]
  },
  {
   "cell_type": "code",
   "execution_count": 36,
   "id": "aa0289f4-ad74-44ed-ae22-b1fe5a3cb73a",
   "metadata": {},
   "outputs": [
    {
     "data": {
      "text/plain": [
       "[0, 36, 72, 108, 144, 180]"
      ]
     },
     "execution_count": 36,
     "metadata": {},
     "output_type": "execute_result"
    }
   ],
   "source": [
    "mylist4 = [i for i in range(200) if i % 3 == 0 if i % 9 == 0 if i % 12 == 0]\n",
    "mylist4"
   ]
  },
  {
   "cell_type": "code",
   "execution_count": 37,
   "id": "52d94dc8-ef9e-4b9f-bb42-a6b6c7969969",
   "metadata": {},
   "outputs": [
    {
     "name": "stdout",
     "output_type": "stream",
     "text": [
      "1 is odd number\n",
      "2 is Even Number\n",
      "3 is odd number\n",
      "4 is Even Number\n",
      "5 is odd number\n",
      "6 is Even Number\n",
      "7 is odd number\n",
      "8 is Even Number\n",
      "9 is odd number\n",
      "10 is Even Number\n"
     ]
    }
   ],
   "source": [
    "l1 = [print(\"{} is Even Number\".format(i)) if i%2==0 else print(\"{} is odd number\".format(i)) for i in range(1, 11)]"
   ]
  },
  {
   "cell_type": "code",
   "execution_count": 38,
   "id": "e13e9884-babf-47f1-83eb-48c9a5d4fa4e",
   "metadata": {},
   "outputs": [
    {
     "data": {
      "text/plain": [
       "['1', '2', '3', '4', '5', '6', '7', '8', '9']"
      ]
     },
     "execution_count": 38,
     "metadata": {},
     "output_type": "execute_result"
    }
   ],
   "source": [
    "mystr = \"One 1 two 2 three 3 four 4 five 5 six 6789\"\n",
    "numbers = [i for i in mystr if i.isdigit()]\n",
    "numbers"
   ]
  },
  {
   "cell_type": "code",
   "execution_count": 39,
   "id": "65409faa-9d8a-485d-a2e1-ac21322c7c6f",
   "metadata": {
    "scrolled": true
   },
   "outputs": [
    {
     "data": {
      "text/plain": [
       "['O',\n",
       " 'n',\n",
       " 'e',\n",
       " 't',\n",
       " 'w',\n",
       " 'o',\n",
       " 't',\n",
       " 'h',\n",
       " 'r',\n",
       " 'e',\n",
       " 'e',\n",
       " 'f',\n",
       " 'o',\n",
       " 'u',\n",
       " 'r',\n",
       " 'f',\n",
       " 'i',\n",
       " 'v',\n",
       " 'e',\n",
       " 's',\n",
       " 'i',\n",
       " 'x']"
      ]
     },
     "execution_count": 39,
     "metadata": {},
     "output_type": "execute_result"
    }
   ],
   "source": [
    "mystr = \"One 1 two 2 three 3 four 4 five 5 six 6789\"\n",
    "numbers = [i for i in mystr if i.isalpha()]\n",
    "numbers"
   ]
  },
  {
   "cell_type": "markdown",
   "id": "66c62a49-159f-489a-9582-3ef95eebdfae",
   "metadata": {},
   "source": [
    "# Tuples\n",
    "## Tuple Creation"
   ]
  },
  {
   "cell_type": "code",
   "execution_count": 40,
   "id": "b1867cd3-4cda-4859-9315-bcfbd4197852",
   "metadata": {},
   "outputs": [],
   "source": [
    "tup1 = ()"
   ]
  },
  {
   "cell_type": "code",
   "execution_count": 41,
   "id": "e1bf9974-47ee-4650-948a-cc6f9cfdfcae",
   "metadata": {},
   "outputs": [],
   "source": [
    "tup2 = (10,30,60)"
   ]
  },
  {
   "cell_type": "code",
   "execution_count": 42,
   "id": "d3e27abd-03d1-4727-bcf7-5dc6d595583c",
   "metadata": {},
   "outputs": [],
   "source": [
    "tup3 = (10.77,30.66,60.89) "
   ]
  },
  {
   "cell_type": "code",
   "execution_count": 43,
   "id": "bd859d07-fbc0-4c2c-89f1-ce4f9fda5185",
   "metadata": {},
   "outputs": [],
   "source": [
    "tup4 = ('one','two' , \"three\")"
   ]
  },
  {
   "cell_type": "code",
   "execution_count": 44,
   "id": "684f0dc9-d7d3-4113-b0eb-990af4fc8c1c",
   "metadata": {},
   "outputs": [],
   "source": [
    "tup5 = ('Asif', 25 ,(50, 100),(150, 90))"
   ]
  },
  {
   "cell_type": "code",
   "execution_count": 45,
   "id": "841df2b1-fd67-41c2-b004-9d6436aa8d1d",
   "metadata": {},
   "outputs": [],
   "source": [
    "tup6 = (100, 'Asif', 17.765) "
   ]
  },
  {
   "cell_type": "code",
   "execution_count": 46,
   "id": "92e3e6ad-fe38-4d19-9b14-dfaa2011d897",
   "metadata": {},
   "outputs": [],
   "source": [
    "tup7 = ('Asif', 25 ,[50, 100],[150, 90] , {'John' , 'David'} , (99,22,33))"
   ]
  },
  {
   "cell_type": "code",
   "execution_count": 47,
   "id": "736dfe4a-3cbf-493e-9ddc-224c02ef7a07",
   "metadata": {},
   "outputs": [
    {
     "data": {
      "text/plain": [
       "6"
      ]
     },
     "execution_count": 47,
     "metadata": {},
     "output_type": "execute_result"
    }
   ],
   "source": [
    "len(tup7)"
   ]
  },
  {
   "cell_type": "markdown",
   "id": "938b0db3-05c3-4ab7-95a5-f752feac2b1a",
   "metadata": {},
   "source": [
    "## Tuple Indexing"
   ]
  },
  {
   "cell_type": "code",
   "execution_count": 48,
   "id": "f12beeb3-2932-4474-a481-512e0147fe91",
   "metadata": {},
   "outputs": [
    {
     "data": {
      "text/plain": [
       "10"
      ]
     },
     "execution_count": 48,
     "metadata": {},
     "output_type": "execute_result"
    }
   ],
   "source": [
    "tup2[0]"
   ]
  },
  {
   "cell_type": "code",
   "execution_count": 49,
   "id": "07c295f9-53bd-4f70-b891-d88451810766",
   "metadata": {},
   "outputs": [
    {
     "data": {
      "text/plain": [
       "'one'"
      ]
     },
     "execution_count": 49,
     "metadata": {},
     "output_type": "execute_result"
    }
   ],
   "source": [
    "tup4[0]"
   ]
  },
  {
   "cell_type": "code",
   "execution_count": 50,
   "id": "d65b9b79-ad81-4f35-be34-0bfa4b1a1a8f",
   "metadata": {},
   "outputs": [
    {
     "data": {
      "text/plain": [
       "'o'"
      ]
     },
     "execution_count": 50,
     "metadata": {},
     "output_type": "execute_result"
    }
   ],
   "source": [
    "tup4[0][0] "
   ]
  },
  {
   "cell_type": "code",
   "execution_count": 51,
   "id": "73dcdc11-c51f-4380-98ce-84d28bfe34b0",
   "metadata": {},
   "outputs": [
    {
     "data": {
      "text/plain": [
       "'three'"
      ]
     },
     "execution_count": 51,
     "metadata": {},
     "output_type": "execute_result"
    }
   ],
   "source": [
    "tup4[-1] "
   ]
  },
  {
   "cell_type": "code",
   "execution_count": 52,
   "id": "6bc1ffb6-d27d-4abe-bc6b-4d1e6de1df4b",
   "metadata": {},
   "outputs": [
    {
     "data": {
      "text/plain": [
       "(150, 90)"
      ]
     },
     "execution_count": 52,
     "metadata": {},
     "output_type": "execute_result"
    }
   ],
   "source": [
    "tup5[-1]"
   ]
  },
  {
   "cell_type": "markdown",
   "id": "a8a05554-2aa7-46dc-a259-211001baed5b",
   "metadata": {},
   "source": [
    "## Tuple Slicing"
   ]
  },
  {
   "cell_type": "code",
   "execution_count": 53,
   "id": "b7d5c3f5-1d73-4e17-9b9f-33afd75a0f3e",
   "metadata": {},
   "outputs": [],
   "source": [
    "mytuple = ('one' , 'two' , 'three' , 'four' , 'five' , 'six' , 'seven' , 'eight')"
   ]
  },
  {
   "cell_type": "code",
   "execution_count": 54,
   "id": "a1c12989-3093-456b-8f6f-e74f9131e4d4",
   "metadata": {},
   "outputs": [
    {
     "data": {
      "text/plain": [
       "('one', 'two', 'three')"
      ]
     },
     "execution_count": 54,
     "metadata": {},
     "output_type": "execute_result"
    }
   ],
   "source": [
    "mytuple[0:3] "
   ]
  },
  {
   "cell_type": "code",
   "execution_count": 55,
   "id": "98820534-32f4-4beb-a8c4-8034e36a6003",
   "metadata": {},
   "outputs": [
    {
     "data": {
      "text/plain": [
       "('three', 'four', 'five')"
      ]
     },
     "execution_count": 55,
     "metadata": {},
     "output_type": "execute_result"
    }
   ],
   "source": [
    "mytuple[2:5]"
   ]
  },
  {
   "cell_type": "code",
   "execution_count": 56,
   "id": "d1ca05d1-6714-4f34-8919-008ffb579416",
   "metadata": {},
   "outputs": [
    {
     "data": {
      "text/plain": [
       "('one', 'two', 'three')"
      ]
     },
     "execution_count": 56,
     "metadata": {},
     "output_type": "execute_result"
    }
   ],
   "source": [
    "mytuple[:3]"
   ]
  },
  {
   "cell_type": "code",
   "execution_count": 57,
   "id": "1c814512-303e-4804-a815-6f3ab0334a1b",
   "metadata": {},
   "outputs": [
    {
     "data": {
      "text/plain": [
       "('one', 'two')"
      ]
     },
     "execution_count": 57,
     "metadata": {},
     "output_type": "execute_result"
    }
   ],
   "source": [
    "mytuple[:2] "
   ]
  },
  {
   "cell_type": "code",
   "execution_count": 58,
   "id": "92f29680-5919-4bd5-a73a-1b78e9845f25",
   "metadata": {},
   "outputs": [
    {
     "data": {
      "text/plain": [
       "('six', 'seven', 'eight')"
      ]
     },
     "execution_count": 58,
     "metadata": {},
     "output_type": "execute_result"
    }
   ],
   "source": [
    "mytuple[-3:]"
   ]
  },
  {
   "cell_type": "code",
   "execution_count": 59,
   "id": "e07443f8-50dd-453a-a26e-47947665809b",
   "metadata": {},
   "outputs": [
    {
     "data": {
      "text/plain": [
       "('seven', 'eight')"
      ]
     },
     "execution_count": 59,
     "metadata": {},
     "output_type": "execute_result"
    }
   ],
   "source": [
    "mytuple[-2:]"
   ]
  },
  {
   "cell_type": "code",
   "execution_count": 60,
   "id": "b3e6057c-e5a9-4441-b46d-1c95a0d44ff6",
   "metadata": {},
   "outputs": [
    {
     "data": {
      "text/plain": [
       "'eight'"
      ]
     },
     "execution_count": 60,
     "metadata": {},
     "output_type": "execute_result"
    }
   ],
   "source": [
    "mytuple[-1]"
   ]
  },
  {
   "cell_type": "code",
   "execution_count": 61,
   "id": "3ef6da12-17be-4e8b-8bce-ea18f153c3e7",
   "metadata": {},
   "outputs": [
    {
     "data": {
      "text/plain": [
       "('one', 'two', 'three', 'four', 'five', 'six', 'seven', 'eight')"
      ]
     },
     "execution_count": 61,
     "metadata": {},
     "output_type": "execute_result"
    }
   ],
   "source": [
    "mytuple[:]"
   ]
  },
  {
   "cell_type": "code",
   "execution_count": 62,
   "id": "28bbf2ab-a538-4dfe-9c0f-c7a6f8ca5b3e",
   "metadata": {},
   "outputs": [],
   "source": [
    "del mytuple"
   ]
  },
  {
   "cell_type": "markdown",
   "id": "628945ed-3d03-4c7f-9321-06c91eee0400",
   "metadata": {},
   "source": [
    "## Loop through a tuple"
   ]
  },
  {
   "cell_type": "code",
   "execution_count": 63,
   "id": "76cebdea-9a32-4d5c-b1eb-5f02e92ce15d",
   "metadata": {},
   "outputs": [],
   "source": [
    "mytuple = ('one' , 'two' , 'three' , 'four' , 'five' , 'six' , 'seven' , 'eight')"
   ]
  },
  {
   "cell_type": "code",
   "execution_count": 64,
   "id": "7d5df2eb-d162-4fc3-8be6-45d39d2f8332",
   "metadata": {},
   "outputs": [
    {
     "name": "stdout",
     "output_type": "stream",
     "text": [
      "one\n",
      "two\n",
      "three\n",
      "four\n",
      "five\n",
      "six\n",
      "seven\n",
      "eight\n"
     ]
    }
   ],
   "source": [
    "for i in mytuple:\n",
    " print(i)"
   ]
  },
  {
   "cell_type": "code",
   "execution_count": 65,
   "id": "c6cd02ae-0d85-40da-ac08-b61171ee5955",
   "metadata": {},
   "outputs": [
    {
     "name": "stdout",
     "output_type": "stream",
     "text": [
      "(0, 'one')\n",
      "(1, 'two')\n",
      "(2, 'three')\n",
      "(3, 'four')\n",
      "(4, 'five')\n",
      "(5, 'six')\n",
      "(6, 'seven')\n",
      "(7, 'eight')\n"
     ]
    }
   ],
   "source": [
    "for i in enumerate(mytuple):\n",
    " print(i)"
   ]
  },
  {
   "cell_type": "markdown",
   "id": "62a88e15-a75d-48dd-ab03-be7b9f9e39b3",
   "metadata": {},
   "source": [
    "## Count"
   ]
  },
  {
   "cell_type": "code",
   "execution_count": 66,
   "id": "17e5f619-d3f7-49b4-8fcb-5fe50410c4d3",
   "metadata": {},
   "outputs": [],
   "source": [
    "mytuple1 =('one', 'two', 'three', 'four', 'one', 'one', 'two', 'three')"
   ]
  },
  {
   "cell_type": "code",
   "execution_count": 67,
   "id": "88b89957-ee49-4d80-88b9-47cdcc9806c4",
   "metadata": {},
   "outputs": [
    {
     "data": {
      "text/plain": [
       "3"
      ]
     },
     "execution_count": 67,
     "metadata": {},
     "output_type": "execute_result"
    }
   ],
   "source": [
    "mytuple1.count('one') "
   ]
  },
  {
   "cell_type": "code",
   "execution_count": 68,
   "id": "d3f6c52c-42ce-40d8-98c5-ff82372fb3e1",
   "metadata": {},
   "outputs": [
    {
     "data": {
      "text/plain": [
       "2"
      ]
     },
     "execution_count": 68,
     "metadata": {},
     "output_type": "execute_result"
    }
   ],
   "source": [
    "mytuple1.count('two')"
   ]
  },
  {
   "cell_type": "code",
   "execution_count": 69,
   "id": "87e73291-5aeb-445e-aefa-c01883183c5f",
   "metadata": {},
   "outputs": [
    {
     "data": {
      "text/plain": [
       "1"
      ]
     },
     "execution_count": 69,
     "metadata": {},
     "output_type": "execute_result"
    }
   ],
   "source": [
    "mytuple1.count('four')"
   ]
  },
  {
   "cell_type": "markdown",
   "id": "210f0a74-c45b-48dc-982a-93bf231b5471",
   "metadata": {},
   "source": [
    "## Tuple Membership"
   ]
  },
  {
   "cell_type": "code",
   "execution_count": 70,
   "id": "c2c53e2d-bc69-4f38-be7a-68c7ef20467e",
   "metadata": {},
   "outputs": [
    {
     "data": {
      "text/plain": [
       "('one', 'two', 'three', 'four', 'five', 'six', 'seven', 'eight')"
      ]
     },
     "execution_count": 70,
     "metadata": {},
     "output_type": "execute_result"
    }
   ],
   "source": [
    "mytuple"
   ]
  },
  {
   "cell_type": "code",
   "execution_count": 71,
   "id": "99de71f9-5364-448f-85d6-a61acb4bb9ad",
   "metadata": {},
   "outputs": [
    {
     "data": {
      "text/plain": [
       "True"
      ]
     },
     "execution_count": 71,
     "metadata": {},
     "output_type": "execute_result"
    }
   ],
   "source": [
    "'one' in mytuple"
   ]
  },
  {
   "cell_type": "code",
   "execution_count": 72,
   "id": "1c081030-c66f-4be4-b25c-beb02559f14e",
   "metadata": {},
   "outputs": [
    {
     "data": {
      "text/plain": [
       "False"
      ]
     },
     "execution_count": 72,
     "metadata": {},
     "output_type": "execute_result"
    }
   ],
   "source": [
    "'ten' in mytuple"
   ]
  },
  {
   "cell_type": "code",
   "execution_count": 73,
   "id": "2fe01220-cde1-4a1d-bb4f-95615ca94251",
   "metadata": {},
   "outputs": [
    {
     "name": "stdout",
     "output_type": "stream",
     "text": [
      "Three is present in the tuple\n"
     ]
    }
   ],
   "source": [
    "if 'three' in mytuple: # Check if 'three' exist in the list\n",
    " print('Three is present in the tuple')\n",
    "else:\n",
    " print('Three is not present in the tuple')"
   ]
  },
  {
   "cell_type": "code",
   "execution_count": 74,
   "id": "42d12278-8ac3-4c9d-a0aa-cea7199b93cf",
   "metadata": {},
   "outputs": [
    {
     "name": "stdout",
     "output_type": "stream",
     "text": [
      "eleven is not present in the tuple\n"
     ]
    }
   ],
   "source": [
    "if 'eleven' in mytuple: # Check if 'eleven' exist in the list\n",
    " print('eleven is present in the tuple')\n",
    "else:\n",
    " print('eleven is not present in the tuple')"
   ]
  },
  {
   "cell_type": "markdown",
   "id": "5e129bfc-9012-4a25-806a-09b07ef56dc8",
   "metadata": {},
   "source": [
    "## Index Position"
   ]
  },
  {
   "cell_type": "code",
   "execution_count": 75,
   "id": "9a256d94-5022-4fed-bdce-a91ffc0f8a05",
   "metadata": {},
   "outputs": [
    {
     "data": {
      "text/plain": [
       "('one', 'two', 'three', 'four', 'five', 'six', 'seven', 'eight')"
      ]
     },
     "execution_count": 75,
     "metadata": {},
     "output_type": "execute_result"
    }
   ],
   "source": [
    "mytuple"
   ]
  },
  {
   "cell_type": "code",
   "execution_count": 76,
   "id": "2f24d3fe-badd-492b-bacd-75eff66b1cf8",
   "metadata": {},
   "outputs": [
    {
     "data": {
      "text/plain": [
       "0"
      ]
     },
     "execution_count": 76,
     "metadata": {},
     "output_type": "execute_result"
    }
   ],
   "source": [
    "mytuple.index('one') # Index of first element equal to 'one'"
   ]
  },
  {
   "cell_type": "code",
   "execution_count": 77,
   "id": "4f8eac90-9ff2-4ce0-829c-dff5c958f14d",
   "metadata": {},
   "outputs": [
    {
     "data": {
      "text/plain": [
       "4"
      ]
     },
     "execution_count": 77,
     "metadata": {},
     "output_type": "execute_result"
    }
   ],
   "source": [
    "mytuple.index('five') # Index of first element equal to 'five'"
   ]
  },
  {
   "cell_type": "code",
   "execution_count": 78,
   "id": "d0a24407-df76-4d49-8d7b-c156bbfd90cb",
   "metadata": {},
   "outputs": [
    {
     "data": {
      "text/plain": [
       "('one', 'two', 'three', 'four', 'one', 'one', 'two', 'three')"
      ]
     },
     "execution_count": 78,
     "metadata": {},
     "output_type": "execute_result"
    }
   ],
   "source": [
    "mytuple1"
   ]
  },
  {
   "cell_type": "code",
   "execution_count": 79,
   "id": "4a60c96f-e2db-43a3-990b-e2a1afffd5a7",
   "metadata": {},
   "outputs": [
    {
     "data": {
      "text/plain": [
       "0"
      ]
     },
     "execution_count": 79,
     "metadata": {},
     "output_type": "execute_result"
    }
   ],
   "source": [
    "mytuple1.index('one') # Index of first element equal to 'one'"
   ]
  },
  {
   "cell_type": "markdown",
   "id": "e4aebac1-5d77-4edb-9946-48c89bca6350",
   "metadata": {},
   "source": [
    "## Sorting"
   ]
  },
  {
   "cell_type": "code",
   "execution_count": 80,
   "id": "bb3b1700-f17c-4f91-b905-3e868dd6802c",
   "metadata": {},
   "outputs": [],
   "source": [
    "mytuple2 = (43,67,99,12,6,90,67)"
   ]
  },
  {
   "cell_type": "code",
   "execution_count": 81,
   "id": "5230ddaf-d602-4499-b9f6-67ebd972e7f1",
   "metadata": {},
   "outputs": [
    {
     "data": {
      "text/plain": [
       "[6, 12, 43, 67, 67, 90, 99]"
      ]
     },
     "execution_count": 81,
     "metadata": {},
     "output_type": "execute_result"
    }
   ],
   "source": [
    "sorted(mytuple2) # Returns a new sorted list and doesn't change original tuple"
   ]
  },
  {
   "cell_type": "code",
   "execution_count": 82,
   "id": "37f163b8-b8b6-4a51-996c-6ce925f8c990",
   "metadata": {},
   "outputs": [
    {
     "data": {
      "text/plain": [
       "[99, 90, 67, 67, 43, 12, 6]"
      ]
     },
     "execution_count": 82,
     "metadata": {},
     "output_type": "execute_result"
    }
   ],
   "source": [
    "sorted(mytuple2, reverse=True) # Sort in descending order"
   ]
  },
  {
   "cell_type": "markdown",
   "id": "b036e0fa-cb85-47ba-a2ac-6e6bff1de832",
   "metadata": {},
   "source": [
    "# Sets\n",
    "## 1) Unordered & Unindexed collection of items.\n",
    "## 2) Set elements are unique. Duplicate elements are not allowed.\n",
    "## 3) Set elements are immutable (cannot be changed).\n",
    "## 4) Set itself is mutable. We can add or remove items from it."
   ]
  },
  {
   "cell_type": "code",
   "execution_count": 83,
   "id": "5e17090c-a380-472a-a847-81bd28749705",
   "metadata": {},
   "outputs": [
    {
     "data": {
      "text/plain": [
       "{1, 2, 3, 4, 5}"
      ]
     },
     "execution_count": 83,
     "metadata": {},
     "output_type": "execute_result"
    }
   ],
   "source": [
    "myset = {1,2,3,4,5} # Set of numbers\n",
    "myset"
   ]
  },
  {
   "cell_type": "code",
   "execution_count": 84,
   "id": "2ef8a76f-fa21-46bd-b814-efdc484c5fbb",
   "metadata": {},
   "outputs": [
    {
     "data": {
      "text/plain": [
       "5"
      ]
     },
     "execution_count": 84,
     "metadata": {},
     "output_type": "execute_result"
    }
   ],
   "source": [
    "len(myset) #Length of the set"
   ]
  },
  {
   "cell_type": "code",
   "execution_count": 85,
   "id": "5bca623e-4dd9-41d4-a2f6-1e478c266894",
   "metadata": {},
   "outputs": [
    {
     "data": {
      "text/plain": [
       "{1, 2, 3, 4, 5}"
      ]
     },
     "execution_count": 85,
     "metadata": {},
     "output_type": "execute_result"
    }
   ],
   "source": [
    "my_set = {1,1,2,2,3,4,5,5}\n",
    "my_set "
   ]
  },
  {
   "cell_type": "code",
   "execution_count": 86,
   "id": "0fc4e0c8-9616-4991-ad87-5c1ca0a962a8",
   "metadata": {},
   "outputs": [
    {
     "data": {
      "text/plain": [
       "{1.79, 2.08, 3.99, 4.56, 5.45}"
      ]
     },
     "execution_count": 86,
     "metadata": {},
     "output_type": "execute_result"
    }
   ],
   "source": [
    "myset1 = {1.79,2.08,3.99,4.56,5.45} # Set of float numbers\n",
    "myset1"
   ]
  },
  {
   "cell_type": "code",
   "execution_count": 87,
   "id": "1f94bdb0-0ef9-4984-8b31-e3363c09f716",
   "metadata": {},
   "outputs": [
    {
     "data": {
      "text/plain": [
       "{'Asif', 'John', 'Tyrion'}"
      ]
     },
     "execution_count": 87,
     "metadata": {},
     "output_type": "execute_result"
    }
   ],
   "source": [
    "myset2 = {'Asif' , 'John' , 'Tyrion'} # Set of Strings\n",
    "myset2"
   ]
  },
  {
   "cell_type": "code",
   "execution_count": 88,
   "id": "44c1ee03-97d8-4261-872e-3f319f6c0be6",
   "metadata": {},
   "outputs": [
    {
     "data": {
      "text/plain": [
       "{(11, 22, 32), 10, 20, 'Hola'}"
      ]
     },
     "execution_count": 88,
     "metadata": {},
     "output_type": "execute_result"
    }
   ],
   "source": [
    "myset3 = {10,20, \"Hola\", (11, 22, 32)} # Mixed datatypes\n",
    "myset3"
   ]
  },
  {
   "cell_type": "code",
   "execution_count": 89,
   "id": "ab134f97-aae3-458b-9e3f-d7c5436e5620",
   "metadata": {},
   "outputs": [
    {
     "name": "stdout",
     "output_type": "stream",
     "text": [
      "<class 'set'>\n"
     ]
    }
   ],
   "source": [
    "myset4 = set() # Create an empty set\n",
    "print(type(myset4))"
   ]
  },
  {
   "cell_type": "code",
   "execution_count": 90,
   "id": "ad3d3705-018d-4178-9c39-8198341f1032",
   "metadata": {},
   "outputs": [
    {
     "data": {
      "text/plain": [
       "{1, 2, 3, 4, 5}"
      ]
     },
     "execution_count": 90,
     "metadata": {},
     "output_type": "execute_result"
    }
   ],
   "source": [
    "my_set1 = set(('one' , 'two' , 'three' , 'four'))\n",
    "my_set"
   ]
  },
  {
   "cell_type": "markdown",
   "id": "4ec3c89f-9670-4b40-9897-1bf770742127",
   "metadata": {},
   "source": [
    "## Loop through a Set"
   ]
  },
  {
   "cell_type": "code",
   "execution_count": 91,
   "id": "0d854aaa-2062-497c-9697-99eec2ef581d",
   "metadata": {},
   "outputs": [
    {
     "name": "stdout",
     "output_type": "stream",
     "text": [
      "four\n",
      "seven\n",
      "one\n",
      "six\n",
      "three\n",
      "two\n",
      "eight\n",
      "five\n"
     ]
    }
   ],
   "source": [
    "myset = {'one', 'two', 'three', 'four', 'five', 'six', 'seven', 'eight'}\n",
    "for i in myset:\n",
    " print(i)"
   ]
  },
  {
   "cell_type": "code",
   "execution_count": 92,
   "id": "e710a931-14ef-41f4-8198-bb77cd026a21",
   "metadata": {},
   "outputs": [
    {
     "name": "stdout",
     "output_type": "stream",
     "text": [
      "(0, 'four')\n",
      "(1, 'seven')\n",
      "(2, 'one')\n",
      "(3, 'six')\n",
      "(4, 'three')\n",
      "(5, 'two')\n",
      "(6, 'eight')\n",
      "(7, 'five')\n"
     ]
    }
   ],
   "source": [
    "for i in enumerate(myset):\n",
    " print(i)"
   ]
  },
  {
   "cell_type": "markdown",
   "id": "f0ad8a27-fc55-4ea1-a9a0-61c02413380e",
   "metadata": {},
   "source": [
    "## Set Membership"
   ]
  },
  {
   "cell_type": "code",
   "execution_count": 93,
   "id": "f99f524f-a1d0-4ee3-baea-5b0e5dfdb028",
   "metadata": {},
   "outputs": [
    {
     "data": {
      "text/plain": [
       "{'eight', 'five', 'four', 'one', 'seven', 'six', 'three', 'two'}"
      ]
     },
     "execution_count": 93,
     "metadata": {},
     "output_type": "execute_result"
    }
   ],
   "source": [
    "myset"
   ]
  },
  {
   "cell_type": "code",
   "execution_count": 94,
   "id": "e46a76fd-603f-488c-8719-fa6dee9fc17e",
   "metadata": {},
   "outputs": [
    {
     "data": {
      "text/plain": [
       "True"
      ]
     },
     "execution_count": 94,
     "metadata": {},
     "output_type": "execute_result"
    }
   ],
   "source": [
    "'one' in myset # Check if 'one' exist in the set"
   ]
  },
  {
   "cell_type": "code",
   "execution_count": 95,
   "id": "e5a2f38b-2b7f-4016-b021-8586278958dd",
   "metadata": {},
   "outputs": [
    {
     "data": {
      "text/plain": [
       "False"
      ]
     },
     "execution_count": 95,
     "metadata": {},
     "output_type": "execute_result"
    }
   ],
   "source": [
    "'ten' in myset # Check if 'ten' exist in the set"
   ]
  },
  {
   "cell_type": "code",
   "execution_count": 96,
   "id": "d878a976-ecaf-43cb-8ff1-67a02fb0793d",
   "metadata": {},
   "outputs": [
    {
     "name": "stdout",
     "output_type": "stream",
     "text": [
      "Three is present in the set\n"
     ]
    }
   ],
   "source": [
    "if 'three' in myset: # Check if 'three' exist in the set\n",
    " print('Three is present in the set')\n",
    "else:\n",
    " print('Three is not present in the set')"
   ]
  },
  {
   "cell_type": "code",
   "execution_count": 97,
   "id": "0a55aaf2-81fc-4223-a9f9-4675bc1c48a3",
   "metadata": {},
   "outputs": [
    {
     "name": "stdout",
     "output_type": "stream",
     "text": [
      "eleven is not present in the set\n"
     ]
    }
   ],
   "source": [
    "if 'eleven' in myset: # Check if 'eleven' exist in the list\n",
    " print('eleven is present in the set')\n",
    "else:\n",
    " print('eleven is not present in the set')"
   ]
  },
  {
   "cell_type": "markdown",
   "id": "b7d96a5f-0417-4706-98da-0843be2160ce",
   "metadata": {},
   "source": [
    "## Add & Remove Items"
   ]
  },
  {
   "cell_type": "code",
   "execution_count": 98,
   "id": "31dd1c4b-3b32-4399-8190-9d25b6e8a2c5",
   "metadata": {},
   "outputs": [
    {
     "data": {
      "text/plain": [
       "{'eight', 'five', 'four', 'one', 'seven', 'six', 'three', 'two'}"
      ]
     },
     "execution_count": 98,
     "metadata": {},
     "output_type": "execute_result"
    }
   ],
   "source": [
    "myset"
   ]
  },
  {
   "cell_type": "code",
   "execution_count": 99,
   "id": "a2576175-7147-4989-a999-f948104567f3",
   "metadata": {},
   "outputs": [
    {
     "data": {
      "text/plain": [
       "{'NINE', 'eight', 'five', 'four', 'one', 'seven', 'six', 'three', 'two'}"
      ]
     },
     "execution_count": 99,
     "metadata": {},
     "output_type": "execute_result"
    }
   ],
   "source": [
    "myset.add('NINE') # Add item to a set using add() method\n",
    "myset"
   ]
  },
  {
   "cell_type": "code",
   "execution_count": 100,
   "id": "7f81a5a7-c029-4341-863e-92ad11bb770a",
   "metadata": {},
   "outputs": [
    {
     "data": {
      "text/plain": [
       "{'ELEVEN',\n",
       " 'NINE',\n",
       " 'TEN',\n",
       " 'TWELVE',\n",
       " 'eight',\n",
       " 'five',\n",
       " 'four',\n",
       " 'one',\n",
       " 'seven',\n",
       " 'six',\n",
       " 'three',\n",
       " 'two'}"
      ]
     },
     "execution_count": 100,
     "metadata": {},
     "output_type": "execute_result"
    }
   ],
   "source": [
    "myset.update(['TEN' , 'ELEVEN' , 'TWELVE']) \n",
    "myset"
   ]
  },
  {
   "cell_type": "code",
   "execution_count": 101,
   "id": "b8dac82b-4fb8-42c6-b1d7-9f13eaf5fb1e",
   "metadata": {},
   "outputs": [
    {
     "data": {
      "text/plain": [
       "{'ELEVEN',\n",
       " 'TEN',\n",
       " 'TWELVE',\n",
       " 'eight',\n",
       " 'five',\n",
       " 'four',\n",
       " 'one',\n",
       " 'seven',\n",
       " 'six',\n",
       " 'three',\n",
       " 'two'}"
      ]
     },
     "execution_count": 101,
     "metadata": {},
     "output_type": "execute_result"
    }
   ],
   "source": [
    "myset.remove('NINE') # remove item in a set using remove() method\n",
    "myset"
   ]
  },
  {
   "cell_type": "code",
   "execution_count": 102,
   "id": "ae08082b-18df-4761-92c3-ee1cc6d5ef2e",
   "metadata": {},
   "outputs": [
    {
     "data": {
      "text/plain": [
       "{'ELEVEN',\n",
       " 'TWELVE',\n",
       " 'eight',\n",
       " 'five',\n",
       " 'four',\n",
       " 'one',\n",
       " 'seven',\n",
       " 'six',\n",
       " 'three',\n",
       " 'two'}"
      ]
     },
     "execution_count": 102,
     "metadata": {},
     "output_type": "execute_result"
    }
   ],
   "source": [
    "myset.discard('TEN') # remove item from a set using discard() method\n",
    "myset"
   ]
  },
  {
   "cell_type": "code",
   "execution_count": 103,
   "id": "752811fe-b1eb-42da-aef6-577fcb11ecd1",
   "metadata": {},
   "outputs": [
    {
     "data": {
      "text/plain": [
       "set()"
      ]
     },
     "execution_count": 103,
     "metadata": {},
     "output_type": "execute_result"
    }
   ],
   "source": [
    "myset.clear() # Delete all items in a set\n",
    "myset"
   ]
  },
  {
   "cell_type": "code",
   "execution_count": 104,
   "id": "6dc7e5e6-46c3-490d-80ad-bdfcc58ecdc0",
   "metadata": {},
   "outputs": [],
   "source": [
    "del myset # Delete the set object"
   ]
  },
  {
   "cell_type": "markdown",
   "id": "4f330777-553a-43e2-962e-1ed76d5a46bf",
   "metadata": {},
   "source": [
    "## Copy Set"
   ]
  },
  {
   "cell_type": "code",
   "execution_count": 105,
   "id": "145133d2-8326-4b9a-978e-ebfea4a42a61",
   "metadata": {},
   "outputs": [
    {
     "data": {
      "text/plain": [
       "{'eight', 'five', 'four', 'one', 'seven', 'six', 'three', 'two'}"
      ]
     },
     "execution_count": 105,
     "metadata": {},
     "output_type": "execute_result"
    }
   ],
   "source": [
    "myset = {'one', 'two', 'three', 'four', 'five', 'six', 'seven', 'eight'}\n",
    "myset"
   ]
  },
  {
   "cell_type": "code",
   "execution_count": 106,
   "id": "6c2f8664-29bf-423e-97e5-92770ce894fd",
   "metadata": {},
   "outputs": [
    {
     "data": {
      "text/plain": [
       "{'eight', 'five', 'four', 'one', 'seven', 'six', 'three', 'two'}"
      ]
     },
     "execution_count": 106,
     "metadata": {},
     "output_type": "execute_result"
    }
   ],
   "source": [
    "myset1 = myset # Create a new reference \"myset1\" \n",
    "myset1"
   ]
  },
  {
   "cell_type": "code",
   "execution_count": 107,
   "id": "9fde0e23-2eff-4a48-8e00-bcdb4e53becb",
   "metadata": {},
   "outputs": [
    {
     "data": {
      "text/plain": [
       "(2405496777728, 2405496777728)"
      ]
     },
     "execution_count": 107,
     "metadata": {},
     "output_type": "execute_result"
    }
   ],
   "source": [
    "id(myset) , id(myset1)"
   ]
  },
  {
   "cell_type": "code",
   "execution_count": 108,
   "id": "09e35f4e-8c6a-4974-9e3f-f50976d7cb8a",
   "metadata": {},
   "outputs": [
    {
     "data": {
      "text/plain": [
       "{'eight', 'five', 'four', 'one', 'seven', 'six', 'three', 'two'}"
      ]
     },
     "execution_count": 108,
     "metadata": {},
     "output_type": "execute_result"
    }
   ],
   "source": [
    "my_set = myset.copy() # Create a copy of the list\n",
    "my_set"
   ]
  },
  {
   "cell_type": "code",
   "execution_count": 109,
   "id": "87ec3a1b-b97b-4dde-a181-9b54378c8cf0",
   "metadata": {},
   "outputs": [
    {
     "data": {
      "text/plain": [
       "2405496312704"
      ]
     },
     "execution_count": 109,
     "metadata": {},
     "output_type": "execute_result"
    }
   ],
   "source": [
    "id(my_set)"
   ]
  },
  {
   "cell_type": "code",
   "execution_count": 110,
   "id": "cd35811f-c3e1-4958-bf45-8c80207ffead",
   "metadata": {},
   "outputs": [
    {
     "data": {
      "text/plain": [
       "{'eight', 'five', 'four', 'nine', 'one', 'seven', 'six', 'three', 'two'}"
      ]
     },
     "execution_count": 110,
     "metadata": {},
     "output_type": "execute_result"
    }
   ],
   "source": [
    "myset.add('nine')\n",
    "myset"
   ]
  },
  {
   "cell_type": "code",
   "execution_count": 111,
   "id": "c1a0307d-ad76-41c6-9fc2-5d241017116b",
   "metadata": {},
   "outputs": [
    {
     "data": {
      "text/plain": [
       "{'eight', 'five', 'four', 'nine', 'one', 'seven', 'six', 'three', 'two'}"
      ]
     },
     "execution_count": 111,
     "metadata": {},
     "output_type": "execute_result"
    }
   ],
   "source": [
    "myset1 "
   ]
  },
  {
   "cell_type": "code",
   "execution_count": 112,
   "id": "ef83484a-d7ea-4f31-90e4-4e6e1402cd6d",
   "metadata": {},
   "outputs": [
    {
     "data": {
      "text/plain": [
       "{'eight', 'five', 'four', 'one', 'seven', 'six', 'three', 'two'}"
      ]
     },
     "execution_count": 112,
     "metadata": {},
     "output_type": "execute_result"
    }
   ],
   "source": [
    "my_set "
   ]
  },
  {
   "cell_type": "markdown",
   "id": "d1d26313-7d2a-44ec-9a42-682b5069a4d8",
   "metadata": {},
   "source": [
    "## Set Operation\n",
    "### UNION"
   ]
  },
  {
   "cell_type": "code",
   "execution_count": 113,
   "id": "72980bca-4451-4d42-b10f-99b964dc6779",
   "metadata": {},
   "outputs": [],
   "source": [
    "A = {1,2,3,4,5}\n",
    "B = {4,5,6,7,8}\n",
    "C = {8,9,10}"
   ]
  },
  {
   "cell_type": "code",
   "execution_count": 114,
   "id": "8a70ad84-133b-4c76-ba3d-286c701a4cac",
   "metadata": {},
   "outputs": [
    {
     "data": {
      "text/plain": [
       "{1, 2, 3, 4, 5, 6, 7, 8}"
      ]
     },
     "execution_count": 114,
     "metadata": {},
     "output_type": "execute_result"
    }
   ],
   "source": [
    "A | B "
   ]
  },
  {
   "cell_type": "code",
   "execution_count": 115,
   "id": "bcb155ab-cce3-4e72-b26c-f5fff7d5fe03",
   "metadata": {},
   "outputs": [
    {
     "data": {
      "text/plain": [
       "{1, 2, 3, 4, 5, 6, 7, 8}"
      ]
     },
     "execution_count": 115,
     "metadata": {},
     "output_type": "execute_result"
    }
   ],
   "source": [
    "A.union(B) "
   ]
  },
  {
   "cell_type": "code",
   "execution_count": 116,
   "id": "833340bd-747c-42ab-9903-4f3f5f5763fc",
   "metadata": {},
   "outputs": [
    {
     "data": {
      "text/plain": [
       "{1, 2, 3, 4, 5, 6, 7, 8, 9, 10}"
      ]
     },
     "execution_count": 116,
     "metadata": {},
     "output_type": "execute_result"
    }
   ],
   "source": [
    "A.union(B, C) "
   ]
  },
  {
   "cell_type": "code",
   "execution_count": 117,
   "id": "14f59899-0eeb-4389-8179-cc3a462213da",
   "metadata": {},
   "outputs": [
    {
     "data": {
      "text/plain": [
       "{1, 2, 3, 4, 5, 6, 7, 8, 9, 10}"
      ]
     },
     "execution_count": 117,
     "metadata": {},
     "output_type": "execute_result"
    }
   ],
   "source": [
    "A.update(B,C)\n",
    "A"
   ]
  },
  {
   "cell_type": "markdown",
   "id": "8b9ee251-a535-4b63-ad77-d0e96408122a",
   "metadata": {},
   "source": [
    "### Intersection"
   ]
  },
  {
   "cell_type": "code",
   "execution_count": 118,
   "id": "fea9f888-0af0-4940-a0af-24acb4c3aa09",
   "metadata": {},
   "outputs": [],
   "source": [
    "A = {1,2,3,4,5}\n",
    "B = {4,5,6,7,8}"
   ]
  },
  {
   "cell_type": "code",
   "execution_count": 119,
   "id": "c63d9184-f97f-493d-a9d1-61698c90e2ed",
   "metadata": {},
   "outputs": [
    {
     "data": {
      "text/plain": [
       "{4, 5}"
      ]
     },
     "execution_count": 119,
     "metadata": {},
     "output_type": "execute_result"
    }
   ],
   "source": [
    "A & B "
   ]
  },
  {
   "cell_type": "code",
   "execution_count": 120,
   "id": "00ff56e1-2d84-4203-bac4-0419b20eb0bf",
   "metadata": {},
   "outputs": [
    {
     "data": {
      "text/plain": [
       "{4, 5}"
      ]
     },
     "execution_count": 120,
     "metadata": {},
     "output_type": "execute_result"
    }
   ],
   "source": [
    "A.intersection(B)"
   ]
  },
  {
   "cell_type": "code",
   "execution_count": 121,
   "id": "69be641c-1e18-4f31-8577-ac469604bb3f",
   "metadata": {},
   "outputs": [
    {
     "data": {
      "text/plain": [
       "{4, 5}"
      ]
     },
     "execution_count": 121,
     "metadata": {},
     "output_type": "execute_result"
    }
   ],
   "source": [
    "A.intersection_update(B)\n",
    "A"
   ]
  },
  {
   "cell_type": "markdown",
   "id": "a2143c53-a4bd-4bba-9cd6-d63491a9ed53",
   "metadata": {},
   "source": [
    "### Difference"
   ]
  },
  {
   "cell_type": "code",
   "execution_count": 122,
   "id": "941a1c55-e2ae-4323-8f99-9a53200cbd31",
   "metadata": {},
   "outputs": [],
   "source": [
    "A = {1,2,3,4,5}\n",
    "B = {4,5,6,7,8}"
   ]
  },
  {
   "cell_type": "code",
   "execution_count": 123,
   "id": "d2cd61f5-80a9-4fc3-a702-43daa1bcd413",
   "metadata": {},
   "outputs": [
    {
     "data": {
      "text/plain": [
       "{1, 2, 3}"
      ]
     },
     "execution_count": 123,
     "metadata": {},
     "output_type": "execute_result"
    }
   ],
   "source": [
    "A - B"
   ]
  },
  {
   "cell_type": "code",
   "execution_count": 124,
   "id": "5970e92a-5243-46df-a8ef-bcddcd81f3e0",
   "metadata": {},
   "outputs": [
    {
     "data": {
      "text/plain": [
       "{1, 2, 3}"
      ]
     },
     "execution_count": 124,
     "metadata": {},
     "output_type": "execute_result"
    }
   ],
   "source": [
    "A.difference(B) "
   ]
  },
  {
   "cell_type": "code",
   "execution_count": 125,
   "id": "41a6ec87-9fa1-48bc-929f-752b26b5b1ab",
   "metadata": {},
   "outputs": [
    {
     "data": {
      "text/plain": [
       "{6, 7, 8}"
      ]
     },
     "execution_count": 125,
     "metadata": {},
     "output_type": "execute_result"
    }
   ],
   "source": [
    "B - A"
   ]
  },
  {
   "cell_type": "code",
   "execution_count": 126,
   "id": "2d060369-2d07-4f76-9d0b-dadf6bbe12a4",
   "metadata": {},
   "outputs": [
    {
     "data": {
      "text/plain": [
       "{6, 7, 8}"
      ]
     },
     "execution_count": 126,
     "metadata": {},
     "output_type": "execute_result"
    }
   ],
   "source": [
    "B.difference(A)"
   ]
  },
  {
   "cell_type": "code",
   "execution_count": 127,
   "id": "4a187b03-4022-4e74-a4f6-c83a37ad5900",
   "metadata": {},
   "outputs": [
    {
     "data": {
      "text/plain": [
       "{6, 7, 8}"
      ]
     },
     "execution_count": 127,
     "metadata": {},
     "output_type": "execute_result"
    }
   ],
   "source": [
    "B.difference_update(A)\n",
    "B"
   ]
  },
  {
   "cell_type": "markdown",
   "id": "9eccad6b-3095-4a94-973b-a4324afa5864",
   "metadata": {},
   "source": [
    "## Symmetric Difference"
   ]
  },
  {
   "cell_type": "code",
   "execution_count": 128,
   "id": "447e49a7-f444-48aa-b9d9-f64688f0687b",
   "metadata": {},
   "outputs": [],
   "source": [
    "A = {1,2,3,4,5}\n",
    "B = {4,5,6,7,8}"
   ]
  },
  {
   "cell_type": "code",
   "execution_count": 129,
   "id": "235e431d-0fe5-4676-8fb6-9d7ea9151be2",
   "metadata": {},
   "outputs": [
    {
     "data": {
      "text/plain": [
       "{1, 2, 3, 6, 7, 8}"
      ]
     },
     "execution_count": 129,
     "metadata": {},
     "output_type": "execute_result"
    }
   ],
   "source": [
    "A ^ B # Symmetric difference (Set of elements in A and B but not in both."
   ]
  },
  {
   "cell_type": "code",
   "execution_count": 130,
   "id": "3fb447e5-747e-4015-a17d-705492868333",
   "metadata": {},
   "outputs": [
    {
     "data": {
      "text/plain": [
       "{1, 2, 3, 6, 7, 8}"
      ]
     },
     "execution_count": 130,
     "metadata": {},
     "output_type": "execute_result"
    }
   ],
   "source": [
    "A.symmetric_difference(B)"
   ]
  },
  {
   "cell_type": "code",
   "execution_count": 131,
   "id": "80c244fe-a50b-47b5-9703-dd7782b85616",
   "metadata": {},
   "outputs": [
    {
     "data": {
      "text/plain": [
       "{1, 2, 3, 6, 7, 8}"
      ]
     },
     "execution_count": 131,
     "metadata": {},
     "output_type": "execute_result"
    }
   ],
   "source": [
    "A.symmetric_difference_update(B)\n",
    "A"
   ]
  },
  {
   "cell_type": "markdown",
   "id": "5b7c98d7-a4d6-4e95-980e-157727b51881",
   "metadata": {},
   "source": [
    "## Subset , Superset & Disjoint"
   ]
  },
  {
   "cell_type": "code",
   "execution_count": 132,
   "id": "32946986-9102-4256-afd2-971bfe93c415",
   "metadata": {},
   "outputs": [],
   "source": [
    "A = {1,2,3,4,5,6,7,8,9}\n",
    "B = {3,4,5,6,7,8}\n",
    "C = {10,20,30,40}"
   ]
  },
  {
   "cell_type": "code",
   "execution_count": 133,
   "id": "f6904e1b-bc79-41bc-858b-3e1540a7a63e",
   "metadata": {},
   "outputs": [
    {
     "data": {
      "text/plain": [
       "True"
      ]
     },
     "execution_count": 133,
     "metadata": {},
     "output_type": "execute_result"
    }
   ],
   "source": [
    "B.issubset(A)"
   ]
  },
  {
   "cell_type": "code",
   "execution_count": 134,
   "id": "581c41b1-4194-4abe-9390-3fd9cf2ed334",
   "metadata": {},
   "outputs": [
    {
     "data": {
      "text/plain": [
       "True"
      ]
     },
     "execution_count": 134,
     "metadata": {},
     "output_type": "execute_result"
    }
   ],
   "source": [
    "A.issuperset(B) "
   ]
  },
  {
   "cell_type": "code",
   "execution_count": 135,
   "id": "4a7d4010-4a72-4ca1-bbb3-b13e2bb3a9cb",
   "metadata": {},
   "outputs": [
    {
     "data": {
      "text/plain": [
       "True"
      ]
     },
     "execution_count": 135,
     "metadata": {},
     "output_type": "execute_result"
    }
   ],
   "source": [
    "C.isdisjoint(A)"
   ]
  },
  {
   "cell_type": "code",
   "execution_count": 136,
   "id": "dc12d8f7-bceb-4ea0-a9ab-55aa9ee344ae",
   "metadata": {},
   "outputs": [
    {
     "data": {
      "text/plain": [
       "False"
      ]
     },
     "execution_count": 136,
     "metadata": {},
     "output_type": "execute_result"
    }
   ],
   "source": [
    "B.isdisjoint(A)"
   ]
  },
  {
   "cell_type": "markdown",
   "id": "75371ed5-3bff-4dae-b37e-a7890b1c18a0",
   "metadata": {},
   "source": [
    "## Other Builtin functions"
   ]
  },
  {
   "cell_type": "code",
   "execution_count": 137,
   "id": "5653a33e-886b-4905-ab6a-7fa662bbac04",
   "metadata": {},
   "outputs": [
    {
     "data": {
      "text/plain": [
       "{1, 2, 3, 4, 5, 6, 7, 8, 9}"
      ]
     },
     "execution_count": 137,
     "metadata": {},
     "output_type": "execute_result"
    }
   ],
   "source": [
    "A"
   ]
  },
  {
   "cell_type": "code",
   "execution_count": 138,
   "id": "efd07505-4e44-41e7-8a9f-6c4c3118b0bd",
   "metadata": {},
   "outputs": [
    {
     "data": {
      "text/plain": [
       "45"
      ]
     },
     "execution_count": 138,
     "metadata": {},
     "output_type": "execute_result"
    }
   ],
   "source": [
    "sum(A)"
   ]
  },
  {
   "cell_type": "code",
   "execution_count": 139,
   "id": "5ac93b1e-c0ac-4676-b459-57ef5d5ef685",
   "metadata": {},
   "outputs": [
    {
     "data": {
      "text/plain": [
       "9"
      ]
     },
     "execution_count": 139,
     "metadata": {},
     "output_type": "execute_result"
    }
   ],
   "source": [
    "max(A)"
   ]
  },
  {
   "cell_type": "code",
   "execution_count": 140,
   "id": "ba1aa17e-edc3-4349-8f72-acbe078e0097",
   "metadata": {},
   "outputs": [
    {
     "data": {
      "text/plain": [
       "1"
      ]
     },
     "execution_count": 140,
     "metadata": {},
     "output_type": "execute_result"
    }
   ],
   "source": [
    "min(A)"
   ]
  },
  {
   "cell_type": "code",
   "execution_count": 141,
   "id": "0835ff14-becf-42fa-9318-0864e6dd193d",
   "metadata": {},
   "outputs": [
    {
     "data": {
      "text/plain": [
       "9"
      ]
     },
     "execution_count": 141,
     "metadata": {},
     "output_type": "execute_result"
    }
   ],
   "source": [
    "len(A)"
   ]
  },
  {
   "cell_type": "code",
   "execution_count": 142,
   "id": "fca08561-43f8-401c-a0c0-5a5f0ffec215",
   "metadata": {},
   "outputs": [
    {
     "data": {
      "text/plain": [
       "[(0, 1), (1, 2), (2, 3), (3, 4), (4, 5), (5, 6), (6, 7), (7, 8), (8, 9)]"
      ]
     },
     "execution_count": 142,
     "metadata": {},
     "output_type": "execute_result"
    }
   ],
   "source": [
    "list(enumerate(A))"
   ]
  },
  {
   "cell_type": "code",
   "execution_count": 143,
   "id": "fb21b1fd-3673-4047-a7a1-056da55cb7c3",
   "metadata": {},
   "outputs": [
    {
     "data": {
      "text/plain": [
       "[9, 8, 7, 6, 5, 4, 3, 2, 1]"
      ]
     },
     "execution_count": 143,
     "metadata": {},
     "output_type": "execute_result"
    }
   ],
   "source": [
    "D = sorted(A,reverse=True)\n",
    "D"
   ]
  },
  {
   "cell_type": "code",
   "execution_count": 144,
   "id": "1d2da664-cc43-4a3d-b29c-0d5a321a91c3",
   "metadata": {},
   "outputs": [
    {
     "data": {
      "text/plain": [
       "[1, 2, 3, 4, 5, 6, 7, 8, 9]"
      ]
     },
     "execution_count": 144,
     "metadata": {},
     "output_type": "execute_result"
    }
   ],
   "source": [
    "sorted(D)"
   ]
  },
  {
   "cell_type": "markdown",
   "id": "5e72e41a-c48b-4ef6-b102-26db7d50cd02",
   "metadata": {},
   "source": [
    "# Dictionary\n",
    "\n",
    "### Dictionary is a mutable data type in Python.\n",
    "### A python dictionary is a collection of key and value pairs separated by a colon (:) & enclosed in curly braces {}.\n",
    "### Keys must be unique in a dictionary, duplicate values are allowed."
   ]
  },
  {
   "cell_type": "code",
   "execution_count": 145,
   "id": "4397db7e-fb61-4440-8503-04a5adbe494c",
   "metadata": {},
   "outputs": [
    {
     "data": {
      "text/plain": [
       "{}"
      ]
     },
     "execution_count": 145,
     "metadata": {},
     "output_type": "execute_result"
    }
   ],
   "source": [
    "mydict = dict() # empty dictionary\n",
    "mydict"
   ]
  },
  {
   "cell_type": "code",
   "execution_count": 146,
   "id": "b48826e3-e8e1-4ec8-8966-654970c8395b",
   "metadata": {},
   "outputs": [
    {
     "data": {
      "text/plain": [
       "{1: 'one', 2: 'two', 3: 'three'}"
      ]
     },
     "execution_count": 146,
     "metadata": {},
     "output_type": "execute_result"
    }
   ],
   "source": [
    "mydict = {1:'one' , 2:'two' , 3:'three'} # dictionary with integer keys\n",
    "mydict"
   ]
  },
  {
   "cell_type": "code",
   "execution_count": 147,
   "id": "507f0054-32b4-4523-a29c-69c6e382e5a7",
   "metadata": {},
   "outputs": [
    {
     "data": {
      "text/plain": [
       "{1: 'one', 2: 'two', 3: 'three'}"
      ]
     },
     "execution_count": 147,
     "metadata": {},
     "output_type": "execute_result"
    }
   ],
   "source": [
    "mydict = dict({1:'one' , 2:'two' , 3:'three'}) # Create dictionary using dict()\n",
    "mydict"
   ]
  },
  {
   "cell_type": "code",
   "execution_count": 148,
   "id": "25ff3a4a-05fb-4337-89f0-a9f8652fe708",
   "metadata": {},
   "outputs": [
    {
     "data": {
      "text/plain": [
       "{'A': 'one', 'B': 'two', 'C': 'three'}"
      ]
     },
     "execution_count": 148,
     "metadata": {},
     "output_type": "execute_result"
    }
   ],
   "source": [
    "mydict = {'A':'one' , 'B':'two' , 'C':'three'} # dictionary with character keys\n",
    "mydict"
   ]
  },
  {
   "cell_type": "code",
   "execution_count": 149,
   "id": "dd4161be-4f22-47db-832a-40fc00a5431b",
   "metadata": {},
   "outputs": [
    {
     "data": {
      "text/plain": [
       "{1: 'one', 'A': 'two', 3: 'three'}"
      ]
     },
     "execution_count": 149,
     "metadata": {},
     "output_type": "execute_result"
    }
   ],
   "source": [
    "mydict = {1:'one' , 'A':'two' , 3:'three'} # dictionary with mixed keys\n",
    "mydict"
   ]
  },
  {
   "cell_type": "code",
   "execution_count": 150,
   "id": "a9e14f5c-2878-4518-b712-459b7024f9d4",
   "metadata": {},
   "outputs": [
    {
     "data": {
      "text/plain": [
       "dict_keys([1, 'A', 3])"
      ]
     },
     "execution_count": 150,
     "metadata": {},
     "output_type": "execute_result"
    }
   ],
   "source": [
    "mydict.keys()"
   ]
  },
  {
   "cell_type": "code",
   "execution_count": 151,
   "id": "625c13f0-844e-4a0f-a75f-f1cd24608651",
   "metadata": {},
   "outputs": [
    {
     "data": {
      "text/plain": [
       "dict_values(['one', 'two', 'three'])"
      ]
     },
     "execution_count": 151,
     "metadata": {},
     "output_type": "execute_result"
    }
   ],
   "source": [
    "mydict.values() "
   ]
  },
  {
   "cell_type": "code",
   "execution_count": 152,
   "id": "58d36b92-c5e3-4ca8-a608-7858378f7ac1",
   "metadata": {},
   "outputs": [
    {
     "data": {
      "text/plain": [
       "dict_items([(1, 'one'), ('A', 'two'), (3, 'three')])"
      ]
     },
     "execution_count": 152,
     "metadata": {},
     "output_type": "execute_result"
    }
   ],
   "source": [
    "mydict.items()"
   ]
  },
  {
   "cell_type": "code",
   "execution_count": 153,
   "id": "39726d1e-8bb0-46f3-b5b4-dbf687719fcc",
   "metadata": {},
   "outputs": [
    {
     "data": {
      "text/plain": [
       "{1: 'one', 2: 'two', 'A': ['asif', 'john', 'Maria']}"
      ]
     },
     "execution_count": 153,
     "metadata": {},
     "output_type": "execute_result"
    }
   ],
   "source": [
    "mydict = {1:'one' , 2:'two' , 'A':['asif' , 'john' , 'Maria']} # dictionary with \n",
    "mydict"
   ]
  },
  {
   "cell_type": "code",
   "execution_count": 154,
   "id": "8d001ed0-4303-472e-a8e1-dac77266667f",
   "metadata": {},
   "outputs": [
    {
     "data": {
      "text/plain": [
       "{1: 'one', 2: 'two', 'A': ['asif', 'john', 'Maria'], 'B': ('Bat', 'cat')}"
      ]
     },
     "execution_count": 154,
     "metadata": {},
     "output_type": "execute_result"
    }
   ],
   "source": [
    "mydict = {1:'one' , 2:'two' , 'A':['asif' , 'john' , 'Maria'], 'B':('Bat' , 'cat')}\n",
    "mydict"
   ]
  },
  {
   "cell_type": "code",
   "execution_count": 155,
   "id": "ce745637-842b-45da-8625-85e23d49ef51",
   "metadata": {},
   "outputs": [
    {
     "data": {
      "text/plain": [
       "{'a': None, 'd': None, 'c': None, 'b': None}"
      ]
     },
     "execution_count": 155,
     "metadata": {},
     "output_type": "execute_result"
    }
   ],
   "source": [
    "keys = {'a' , 'b' , 'c' , 'd'}\n",
    "mydict3 = dict.fromkeys(keys) # Create a dictionary from a sequence of keys\n",
    "mydict3"
   ]
  },
  {
   "cell_type": "code",
   "execution_count": 156,
   "id": "ba5c1a51-2a3c-484c-bfb4-04f3f4728a96",
   "metadata": {},
   "outputs": [
    {
     "data": {
      "text/plain": [
       "{'a': 10, 'd': 10, 'c': 10, 'b': 10}"
      ]
     },
     "execution_count": 156,
     "metadata": {},
     "output_type": "execute_result"
    }
   ],
   "source": [
    "keys = {'a' , 'b' , 'c' , 'd'}\n",
    "value = 10\n",
    "mydict3 = dict.fromkeys(keys , value) # Create a dictionary from a sequence of k\n",
    "mydict3"
   ]
  },
  {
   "cell_type": "code",
   "execution_count": 157,
   "id": "fe30cfd3-d71c-4179-bbec-2a425b5cc0eb",
   "metadata": {},
   "outputs": [
    {
     "data": {
      "text/plain": [
       "{'a': [10, 20, 30], 'd': [10, 20, 30], 'c': [10, 20, 30], 'b': [10, 20, 30]}"
      ]
     },
     "execution_count": 157,
     "metadata": {},
     "output_type": "execute_result"
    }
   ],
   "source": [
    "keys = {'a' , 'b' , 'c' , 'd'}\n",
    "value = [10,20,30]\n",
    "mydict3 = dict.fromkeys(keys , value) # Create a dictionary from a sequence of k\n",
    "mydict3"
   ]
  },
  {
   "cell_type": "code",
   "execution_count": 158,
   "id": "25b24f6c-73e7-4135-b2e6-0b982a1f07bb",
   "metadata": {},
   "outputs": [
    {
     "data": {
      "text/plain": [
       "{'a': [10, 20, 30, 40],\n",
       " 'd': [10, 20, 30, 40],\n",
       " 'c': [10, 20, 30, 40],\n",
       " 'b': [10, 20, 30, 40]}"
      ]
     },
     "execution_count": 158,
     "metadata": {},
     "output_type": "execute_result"
    }
   ],
   "source": [
    "value.append(40)\n",
    "mydict3"
   ]
  },
  {
   "cell_type": "markdown",
   "id": "45669275-7f30-4287-a154-0fe858224f47",
   "metadata": {},
   "source": [
    "## Accessing Items"
   ]
  },
  {
   "cell_type": "code",
   "execution_count": 159,
   "id": "78c80db2-dac1-4465-a49e-516183607c5f",
   "metadata": {},
   "outputs": [
    {
     "data": {
      "text/plain": [
       "{1: 'one', 2: 'two', 3: 'three', 4: 'four'}"
      ]
     },
     "execution_count": 159,
     "metadata": {},
     "output_type": "execute_result"
    }
   ],
   "source": [
    "mydict = {1:'one' , 2:'two' , 3:'three' , 4:'four'}\n",
    "mydict"
   ]
  },
  {
   "cell_type": "code",
   "execution_count": 160,
   "id": "e5d01d85-b832-471f-afab-40cb8ece5495",
   "metadata": {},
   "outputs": [
    {
     "data": {
      "text/plain": [
       "'one'"
      ]
     },
     "execution_count": 160,
     "metadata": {},
     "output_type": "execute_result"
    }
   ],
   "source": [
    "mydict[1] # Access item using key"
   ]
  },
  {
   "cell_type": "code",
   "execution_count": 161,
   "id": "15c5f314-2ab5-4000-8d11-8fa7054ed454",
   "metadata": {},
   "outputs": [
    {
     "data": {
      "text/plain": [
       "'one'"
      ]
     },
     "execution_count": 161,
     "metadata": {},
     "output_type": "execute_result"
    }
   ],
   "source": [
    "mydict.get(1) # Access item using get() method"
   ]
  },
  {
   "cell_type": "code",
   "execution_count": 162,
   "id": "163735d8-7fa7-4440-b3d3-6eb26e770723",
   "metadata": {},
   "outputs": [
    {
     "data": {
      "text/plain": [
       "{'Name': 'Asif', 'ID': 74123, 'DOB': 1991, 'job': 'Analyst'}"
      ]
     },
     "execution_count": 162,
     "metadata": {},
     "output_type": "execute_result"
    }
   ],
   "source": [
    "mydict1 = {'Name':'Asif' , 'ID': 74123 , 'DOB': 1991 , 'job' :'Analyst'}\n",
    "mydict1"
   ]
  },
  {
   "cell_type": "code",
   "execution_count": 163,
   "id": "9b1c9ac0-a157-4518-b577-4dacc23eff68",
   "metadata": {},
   "outputs": [
    {
     "data": {
      "text/plain": [
       "'Asif'"
      ]
     },
     "execution_count": 163,
     "metadata": {},
     "output_type": "execute_result"
    }
   ],
   "source": [
    "mydict1['Name'] # Access item using key"
   ]
  },
  {
   "cell_type": "code",
   "execution_count": 164,
   "id": "01cfa5b6-13f8-4b77-a1f5-fb9f78350ea0",
   "metadata": {},
   "outputs": [
    {
     "data": {
      "text/plain": [
       "'Analyst'"
      ]
     },
     "execution_count": 164,
     "metadata": {},
     "output_type": "execute_result"
    }
   ],
   "source": [
    "mydict1.get('job') # Access item using get() method"
   ]
  },
  {
   "cell_type": "markdown",
   "id": "20824526-987f-4431-a2ef-ec1a63efeb53",
   "metadata": {},
   "source": [
    "## Add, Remove & Change Items"
   ]
  },
  {
   "cell_type": "code",
   "execution_count": 165,
   "id": "0be84cf0-a8fa-462b-b7be-f232967bb881",
   "metadata": {},
   "outputs": [
    {
     "data": {
      "text/plain": [
       "{'Name': 'Asif', 'ID': 12345, 'DOB': 1991, 'Address': 'Hilsinki'}"
      ]
     },
     "execution_count": 165,
     "metadata": {},
     "output_type": "execute_result"
    }
   ],
   "source": [
    "mydict1 = {'Name':'Asif' , 'ID': 12345 , 'DOB': 1991 , 'Address' : 'Hilsinki'}\n",
    "mydict1"
   ]
  },
  {
   "cell_type": "code",
   "execution_count": 166,
   "id": "4494dbff-1e85-4810-8780-0e9d452747f1",
   "metadata": {},
   "outputs": [
    {
     "data": {
      "text/plain": [
       "{'Name': 'Asif', 'ID': 12345, 'DOB': 1992, 'Address': 'Delhi'}"
      ]
     },
     "execution_count": 166,
     "metadata": {},
     "output_type": "execute_result"
    }
   ],
   "source": [
    "mydict1['DOB'] = 1992 # Changing Dictionary Items\n",
    "mydict1['Address'] = 'Delhi'\n",
    "mydict1"
   ]
  },
  {
   "cell_type": "code",
   "execution_count": 167,
   "id": "8154b457-3cbf-4a7d-8376-a4e6157b1158",
   "metadata": {},
   "outputs": [
    {
     "data": {
      "text/plain": [
       "{'Name': 'Asif', 'ID': 12345, 'DOB': 1995, 'Address': 'Delhi'}"
      ]
     },
     "execution_count": 167,
     "metadata": {},
     "output_type": "execute_result"
    }
   ],
   "source": [
    "dict1 = {'DOB':1995}\n",
    "mydict1.update(dict1)\n",
    "mydict1"
   ]
  },
  {
   "cell_type": "code",
   "execution_count": 168,
   "id": "e3ce15c3-caef-4ca7-ac0a-2e23b763e31d",
   "metadata": {},
   "outputs": [
    {
     "data": {
      "text/plain": [
       "{'Name': 'Asif',\n",
       " 'ID': 12345,\n",
       " 'DOB': 1995,\n",
       " 'Address': 'Delhi',\n",
       " 'Job': 'Analyst'}"
      ]
     },
     "execution_count": 168,
     "metadata": {},
     "output_type": "execute_result"
    }
   ],
   "source": [
    "mydict1['Job'] = 'Analyst' # Adding items in the dictionary\n",
    "mydict1"
   ]
  },
  {
   "cell_type": "code",
   "execution_count": 169,
   "id": "ce46d3e4-d030-446b-a213-178f18330151",
   "metadata": {},
   "outputs": [
    {
     "data": {
      "text/plain": [
       "{'Name': 'Asif', 'ID': 12345, 'DOB': 1995, 'Address': 'Delhi'}"
      ]
     },
     "execution_count": 169,
     "metadata": {},
     "output_type": "execute_result"
    }
   ],
   "source": [
    "mydict1.pop('Job') # Removing items in the dictionary using Pop method\n",
    "mydict1"
   ]
  },
  {
   "cell_type": "code",
   "execution_count": 170,
   "id": "5b309977-aa60-4de9-afb5-c29926e24484",
   "metadata": {},
   "outputs": [
    {
     "data": {
      "text/plain": [
       "('Address', 'Delhi')"
      ]
     },
     "execution_count": 170,
     "metadata": {},
     "output_type": "execute_result"
    }
   ],
   "source": [
    "mydict1.popitem() # A random item is removed"
   ]
  },
  {
   "cell_type": "code",
   "execution_count": 171,
   "id": "123c966b-f359-444f-82cc-50579d170489",
   "metadata": {},
   "outputs": [
    {
     "data": {
      "text/plain": [
       "{'Name': 'Asif', 'ID': 12345, 'DOB': 1995}"
      ]
     },
     "execution_count": 171,
     "metadata": {},
     "output_type": "execute_result"
    }
   ],
   "source": [
    "mydict1"
   ]
  },
  {
   "cell_type": "code",
   "execution_count": 172,
   "id": "1b589fd6-ac19-47a7-9990-8fb79dc4eb5e",
   "metadata": {},
   "outputs": [
    {
     "data": {
      "text/plain": [
       "{'Name': 'Asif', 'DOB': 1995}"
      ]
     },
     "execution_count": 172,
     "metadata": {},
     "output_type": "execute_result"
    }
   ],
   "source": [
    "del[mydict1['ID']] # Removing item using del method\n",
    "mydict1"
   ]
  },
  {
   "cell_type": "code",
   "execution_count": 173,
   "id": "11000b95-3510-4612-be8c-ec7cfe072386",
   "metadata": {},
   "outputs": [
    {
     "data": {
      "text/plain": [
       "{}"
      ]
     },
     "execution_count": 173,
     "metadata": {},
     "output_type": "execute_result"
    }
   ],
   "source": [
    "mydict1.clear() # Delete all items of the dictionary using clear method\n",
    "mydict1"
   ]
  },
  {
   "cell_type": "code",
   "execution_count": 174,
   "id": "2daabf30-3e0b-4435-b29b-b90197405726",
   "metadata": {},
   "outputs": [],
   "source": [
    "del mydict1 # Delete the dictionary object"
   ]
  },
  {
   "cell_type": "markdown",
   "id": "a6f057b3-7f8a-4127-83dc-fcdadba5c95d",
   "metadata": {},
   "source": [
    "## Copy Dictionary"
   ]
  },
  {
   "cell_type": "code",
   "execution_count": 175,
   "id": "1abeec64-a464-4acd-b72d-db6569dadf8e",
   "metadata": {},
   "outputs": [
    {
     "data": {
      "text/plain": [
       "{'Name': 'Asif', 'ID': 12345, 'DOB': 1991, 'Address': 'Hilsinki'}"
      ]
     },
     "execution_count": 175,
     "metadata": {},
     "output_type": "execute_result"
    }
   ],
   "source": [
    "mydict = {'Name':'Asif' , 'ID': 12345 , 'DOB': 1991 , 'Address' : 'Hilsinki'}\n",
    "mydict"
   ]
  },
  {
   "cell_type": "code",
   "execution_count": 176,
   "id": "1756bb20-4d2f-459a-a7f7-c6dfda0fcb0e",
   "metadata": {},
   "outputs": [],
   "source": [
    "mydict1 = mydict # Create a new reference \"mydict1\" "
   ]
  },
  {
   "cell_type": "code",
   "execution_count": 177,
   "id": "e8b30f26-97c5-4b7d-91fe-d94a2bd19191",
   "metadata": {},
   "outputs": [
    {
     "data": {
      "text/plain": [
       "(2405496607232, 2405496607232)"
      ]
     },
     "execution_count": 177,
     "metadata": {},
     "output_type": "execute_result"
    }
   ],
   "source": [
    "id(mydict) , id(mydict1)"
   ]
  },
  {
   "cell_type": "code",
   "execution_count": 178,
   "id": "3548350a-0da4-4de0-bf7a-89a98a989ed5",
   "metadata": {},
   "outputs": [],
   "source": [
    "mydict2 = mydict.copy() # Create a copy of the dictionary"
   ]
  },
  {
   "cell_type": "code",
   "execution_count": 179,
   "id": "b04ec418-c451-4d95-83c3-2da04d0d2739",
   "metadata": {},
   "outputs": [
    {
     "data": {
      "text/plain": [
       "2405497130496"
      ]
     },
     "execution_count": 179,
     "metadata": {},
     "output_type": "execute_result"
    }
   ],
   "source": [
    "id(mydict2) "
   ]
  },
  {
   "cell_type": "code",
   "execution_count": 180,
   "id": "da00e9f1-b181-47fb-adb3-d35b91135c8e",
   "metadata": {},
   "outputs": [],
   "source": [
    "mydict['Address'] = 'Mumbai'"
   ]
  },
  {
   "cell_type": "code",
   "execution_count": 181,
   "id": "8dc4d106-5899-4f41-a2ed-f48f8cb22ee8",
   "metadata": {},
   "outputs": [
    {
     "data": {
      "text/plain": [
       "{'Name': 'Asif', 'ID': 12345, 'DOB': 1991, 'Address': 'Mumbai'}"
      ]
     },
     "execution_count": 181,
     "metadata": {},
     "output_type": "execute_result"
    }
   ],
   "source": [
    "mydict"
   ]
  },
  {
   "cell_type": "code",
   "execution_count": 182,
   "id": "2096c127-ab4b-4ec7-bc15-666a32442b0c",
   "metadata": {},
   "outputs": [
    {
     "data": {
      "text/plain": [
       "{'Name': 'Asif', 'ID': 12345, 'DOB': 1991, 'Address': 'Mumbai'}"
      ]
     },
     "execution_count": 182,
     "metadata": {},
     "output_type": "execute_result"
    }
   ],
   "source": [
    "mydict1 # mydict1 will be also impacted as it is pointing to the same dictionary"
   ]
  },
  {
   "cell_type": "code",
   "execution_count": 183,
   "id": "fa7fa020-0426-4738-a3c8-58740d7dc4bc",
   "metadata": {},
   "outputs": [
    {
     "data": {
      "text/plain": [
       "{'Name': 'Asif', 'ID': 12345, 'DOB': 1991, 'Address': 'Hilsinki'}"
      ]
     },
     "execution_count": 183,
     "metadata": {},
     "output_type": "execute_result"
    }
   ],
   "source": [
    "mydict2 # Copy of list won't be impacted due to the changes made in the original "
   ]
  },
  {
   "cell_type": "markdown",
   "id": "10a1467e-4e45-4276-b818-45c71ebe8323",
   "metadata": {},
   "source": [
    "## Loop through a Dictionary"
   ]
  },
  {
   "cell_type": "code",
   "execution_count": 184,
   "id": "0b8588d7-faf7-49bf-aefc-b9a7236e7971",
   "metadata": {},
   "outputs": [
    {
     "data": {
      "text/plain": [
       "{'Name': 'Asif',\n",
       " 'ID': 12345,\n",
       " 'DOB': 1991,\n",
       " 'Address': 'Hilsinki',\n",
       " 'Job': 'Analyst'}"
      ]
     },
     "execution_count": 184,
     "metadata": {},
     "output_type": "execute_result"
    }
   ],
   "source": [
    "mydict1 = {'Name':'Asif' , 'ID': 12345 , 'DOB': 1991 , 'Address' : 'Hilsinki' , 'Job' : 'Analyst'}\n",
    "mydict1"
   ]
  },
  {
   "cell_type": "code",
   "execution_count": 185,
   "id": "1ab726a3-00c3-4505-9a6e-fae40de39429",
   "metadata": {},
   "outputs": [
    {
     "name": "stdout",
     "output_type": "stream",
     "text": [
      "Name : Asif\n",
      "ID : 12345\n",
      "DOB : 1991\n",
      "Address : Hilsinki\n",
      "Job : Analyst\n"
     ]
    }
   ],
   "source": [
    "for i in mydict1:\n",
    " print(i , ':' , mydict1[i]) # Key & value pair"
   ]
  },
  {
   "cell_type": "code",
   "execution_count": 186,
   "id": "4e04ddc4-4137-4fba-8450-998971f38bf0",
   "metadata": {},
   "outputs": [
    {
     "name": "stdout",
     "output_type": "stream",
     "text": [
      "Asif\n",
      "12345\n",
      "1991\n",
      "Hilsinki\n",
      "Analyst\n"
     ]
    }
   ],
   "source": [
    "for i in mydict1:\n",
    " print(mydict1[i])"
   ]
  },
  {
   "cell_type": "markdown",
   "id": "6a428212-8502-4b27-a854-bc27387d361d",
   "metadata": {},
   "source": [
    "## Dictionary Membership"
   ]
  },
  {
   "cell_type": "code",
   "execution_count": 187,
   "id": "2383086b-026d-48fc-b795-403c77ee735d",
   "metadata": {},
   "outputs": [
    {
     "data": {
      "text/plain": [
       "{'Name': 'Asif', 'ID': 12345, 'DOB': 1991, 'Job': 'Analyst'}"
      ]
     },
     "execution_count": 187,
     "metadata": {},
     "output_type": "execute_result"
    }
   ],
   "source": [
    "mydict1 = {'Name':'Asif' , 'ID': 12345 , 'DOB': 1991 , 'Job': 'Analyst'}\n",
    "mydict1"
   ]
  },
  {
   "cell_type": "code",
   "execution_count": 188,
   "id": "a003d456-144c-4062-a585-29ae684b1467",
   "metadata": {},
   "outputs": [
    {
     "data": {
      "text/plain": [
       "True"
      ]
     },
     "execution_count": 188,
     "metadata": {},
     "output_type": "execute_result"
    }
   ],
   "source": [
    "'Name' in mydict1 # Test if a key is in a dictionary or not."
   ]
  },
  {
   "cell_type": "code",
   "execution_count": 189,
   "id": "ac2b8326-10a0-47c2-b124-86aa62bf2d47",
   "metadata": {},
   "outputs": [
    {
     "data": {
      "text/plain": [
       "False"
      ]
     },
     "execution_count": 189,
     "metadata": {},
     "output_type": "execute_result"
    }
   ],
   "source": [
    "'Asif' in mydict1 # Membership test can be only done for keys."
   ]
  },
  {
   "cell_type": "code",
   "execution_count": 190,
   "id": "34095547-9db4-440f-b9d2-798c51948222",
   "metadata": {},
   "outputs": [
    {
     "data": {
      "text/plain": [
       "True"
      ]
     },
     "execution_count": 190,
     "metadata": {},
     "output_type": "execute_result"
    }
   ],
   "source": [
    "'ID' in mydict1"
   ]
  },
  {
   "cell_type": "code",
   "execution_count": 191,
   "id": "9e3dfb6d-5d12-4885-a8d6-fa25d6f71d30",
   "metadata": {},
   "outputs": [
    {
     "data": {
      "text/plain": [
       "False"
      ]
     },
     "execution_count": 191,
     "metadata": {},
     "output_type": "execute_result"
    }
   ],
   "source": [
    "'Address' in mydict1"
   ]
  },
  {
   "cell_type": "markdown",
   "id": "0c0dc72b-5603-4446-b553-184c1b497775",
   "metadata": {},
   "source": [
    "## All / Any\n",
    "## The all() method returns:\n",
    "## True - If all all keys of the dictionary are true\n",
    "## False - If any key of the dictionary is false\n",
    "## The any() function returns True if any key of the dictionary is True. If not, any() returns False."
   ]
  },
  {
   "cell_type": "code",
   "execution_count": 192,
   "id": "72dfe18e-584c-4ac4-b938-1c97e66798f3",
   "metadata": {},
   "outputs": [
    {
     "data": {
      "text/plain": [
       "{'Name': 'Asif', 'ID': 12345, 'DOB': 1991, 'Job': 'Analyst'}"
      ]
     },
     "execution_count": 192,
     "metadata": {},
     "output_type": "execute_result"
    }
   ],
   "source": [
    "mydict1 = {'Name':'Asif' , 'ID': 12345 , 'DOB': 1991 , 'Job': 'Analyst'}\n",
    "mydict1"
   ]
  },
  {
   "cell_type": "code",
   "execution_count": 193,
   "id": "89069610-8d6a-44fe-ad24-d22db6cf31d5",
   "metadata": {},
   "outputs": [
    {
     "data": {
      "text/plain": [
       "True"
      ]
     },
     "execution_count": 193,
     "metadata": {},
     "output_type": "execute_result"
    }
   ],
   "source": [
    "all(mydict1) # Will Return false as one value is false (Value 0)"
   ]
  },
  {
   "cell_type": "code",
   "execution_count": 194,
   "id": "b43994e9-e8ee-42ea-bd82-215347546df8",
   "metadata": {},
   "outputs": [
    {
     "data": {
      "text/plain": [
       "True"
      ]
     },
     "execution_count": 194,
     "metadata": {},
     "output_type": "execute_result"
    }
   ],
   "source": [
    "any(mydict1) # Will Return True as we have items in the dictionary with True values"
   ]
  },
  {
   "cell_type": "code",
   "execution_count": 195,
   "id": "e7c4d4d8-b3d9-4350-8ed0-66b33de4179d",
   "metadata": {},
   "outputs": [
    {
     "data": {
      "text/plain": [
       "{'Name': 'Asif', 'ID': 12345, 'DOB': 1991, 'Job': 'Analyst', 0: 'test1'}"
      ]
     },
     "execution_count": 195,
     "metadata": {},
     "output_type": "execute_result"
    }
   ],
   "source": [
    "mydict1[0] = 'test1'\n",
    "mydict1"
   ]
  },
  {
   "cell_type": "code",
   "execution_count": 196,
   "id": "08d82276-62d6-460d-bf1f-df691f9da632",
   "metadata": {},
   "outputs": [
    {
     "data": {
      "text/plain": [
       "False"
      ]
     },
     "execution_count": 196,
     "metadata": {},
     "output_type": "execute_result"
    }
   ],
   "source": [
    "all(mydict1) # Returns false as one value is false"
   ]
  },
  {
   "cell_type": "code",
   "execution_count": 197,
   "id": "38f5499e-031d-419a-8fa0-96f7b2bf6732",
   "metadata": {},
   "outputs": [
    {
     "data": {
      "text/plain": [
       "True"
      ]
     },
     "execution_count": 197,
     "metadata": {},
     "output_type": "execute_result"
    }
   ],
   "source": [
    "any(mydict1) # Will Return True as we have items in the dictionary with True values"
   ]
  },
  {
   "cell_type": "markdown",
   "id": "3c50058b-5e92-48e2-be41-1db3ebb29618",
   "metadata": {},
   "source": [
    "# Dictionary Comprehension\n",
    "## {key_expression: value_expression for item in iterable}\n",
    "### key_expression is the expression used to generate keys.\n",
    "### value_expression is the expression used to generate values.\n",
    "### item is a variable that represents each element in the iterable.\n",
    "### iterable is any iterable object like lists, tuples, or strings.gs."
   ]
  },
  {
   "cell_type": "code",
   "execution_count": 198,
   "id": "3dd438a8-8d70-4040-b210-4edcbe961bc6",
   "metadata": {},
   "outputs": [
    {
     "data": {
      "text/plain": [
       "{0: 0, 1: 2, 2: 4, 3: 6, 4: 8, 5: 10, 6: 12, 7: 14, 8: 16, 9: 18}"
      ]
     },
     "execution_count": 198,
     "metadata": {},
     "output_type": "execute_result"
    }
   ],
   "source": [
    "double = {i:i*2 for i in range(10)} #double each value using dict comprehension\n",
    "double"
   ]
  },
  {
   "cell_type": "code",
   "execution_count": 199,
   "id": "f6d3fe1c-ecc9-48ab-9d30-c2c6db8923d9",
   "metadata": {},
   "outputs": [
    {
     "data": {
      "text/plain": [
       "{0: 0, 1: 1, 2: 4, 3: 9, 4: 16, 5: 25, 6: 36, 7: 49, 8: 64, 9: 81}"
      ]
     },
     "execution_count": 199,
     "metadata": {},
     "output_type": "execute_result"
    }
   ],
   "source": [
    "square = {i:i**2 for i in range(10)}\n",
    "square"
   ]
  },
  {
   "cell_type": "code",
   "execution_count": 200,
   "id": "25fe7c0f-e9d8-47b8-afe2-cebe32efe495",
   "metadata": {},
   "outputs": [
    {
     "data": {
      "text/plain": [
       "{'one': 1, 'two': 2, 'three': 3, 'four': 4, 'five': 5}"
      ]
     },
     "execution_count": 200,
     "metadata": {},
     "output_type": "execute_result"
    }
   ],
   "source": [
    "key = ['one' , 'two' , 'three' , 'four' , 'five']\n",
    "value = [1,2,3,4,5]\n",
    "mydict = {k:v for (k,v) in zip(key,value)} # using dict comprehension to create dictionary\n",
    "mydict"
   ]
  },
  {
   "cell_type": "code",
   "execution_count": 201,
   "id": "63bdc46e-e70b-4098-b6bf-0eef31f0fa9c",
   "metadata": {},
   "outputs": [
    {
     "data": {
      "text/plain": [
       "{'a': 1.0, 'b': 2.0, 'c': 3.0, 'd': 4.0, 'e': 5.0}"
      ]
     },
     "execution_count": 201,
     "metadata": {},
     "output_type": "execute_result"
    }
   ],
   "source": [
    "mydict1 = {'a':10 , 'b':20 , 'c':30 , 'd':40 , 'e':50}\n",
    "mydict1 = {k:v/10 for (k,v) in mydict1.items()} # Divide all values in a dictionary\n",
    "mydict1"
   ]
  },
  {
   "cell_type": "code",
   "execution_count": 202,
   "id": "7317ae81-b123-4950-a1e1-6daad4969834",
   "metadata": {
    "scrolled": true
   },
   "outputs": [
    {
     "data": {
      "text/plain": [
       "{0: 'N',\n",
       " 1: 'a',\n",
       " 2: 't',\n",
       " 3: 'u',\n",
       " 4: 'r',\n",
       " 5: 'a',\n",
       " 6: 'l',\n",
       " 7: ' ',\n",
       " 8: 'L',\n",
       " 9: 'a',\n",
       " 10: 'n',\n",
       " 11: 'g',\n",
       " 12: 'u',\n",
       " 13: 'a',\n",
       " 14: 'g',\n",
       " 15: 'e',\n",
       " 16: ' ',\n",
       " 17: 'P',\n",
       " 18: 'r',\n",
       " 19: 'o',\n",
       " 20: 'c',\n",
       " 21: 'e',\n",
       " 22: 's',\n",
       " 23: 's',\n",
       " 24: 'i',\n",
       " 25: 'n',\n",
       " 26: 'g'}"
      ]
     },
     "execution_count": 202,
     "metadata": {},
     "output_type": "execute_result"
    }
   ],
   "source": [
    "str1 = \"Natural Language Processing\"\n",
    "mydict2 = {k:v for (k,v) in enumerate(str1)} # Store enumerated values in a dictionary\n",
    "mydict2"
   ]
  },
  {
   "cell_type": "code",
   "execution_count": 203,
   "id": "dfe0c6fb-d01f-4045-8c2a-52ecac201e8d",
   "metadata": {
    "scrolled": true
   },
   "outputs": [
    {
     "data": {
      "text/plain": [
       "{'a': 'A',\n",
       " 'b': 'B',\n",
       " 'c': 'C',\n",
       " 'd': 'D',\n",
       " 'e': 'E',\n",
       " 'f': 'F',\n",
       " 'g': 'G',\n",
       " 'h': 'H',\n",
       " 'i': 'I',\n",
       " 'j': 'J',\n",
       " 'k': 'K',\n",
       " 'l': 'L',\n",
       " 'm': 'M',\n",
       " 'n': 'N',\n",
       " 'o': 'O',\n",
       " 'p': 'P',\n",
       " 'q': 'Q',\n",
       " 'r': 'R',\n",
       " 's': 'S',\n",
       " 't': 'T',\n",
       " 'u': 'U',\n",
       " 'v': 'V',\n",
       " 'w': 'W',\n",
       " 'x': 'X',\n",
       " 'y': 'Y',\n",
       " 'z': 'Z'}"
      ]
     },
     "execution_count": 203,
     "metadata": {},
     "output_type": "execute_result"
    }
   ],
   "source": [
    "str1 = \"abcdefghijklmnopqrstuvwxyz\"\n",
    "mydict3 = {i:i.upper() for i in str1} # Lower to Upper Case\n",
    "mydict3"
   ]
  },
  {
   "cell_type": "markdown",
   "id": "47d74b83-c97f-4f89-b657-6f30d7c025fa",
   "metadata": {},
   "source": [
    "## Word Frequency using dictionary"
   ]
  },
  {
   "cell_type": "code",
   "execution_count": 204,
   "id": "2d6ba57f-e60e-4c16-a550-d64e12672c5e",
   "metadata": {},
   "outputs": [],
   "source": [
    "mystr4 = \"one two three four one two two three five five six seven six seven one one one ten eight ten nine eleven ten ten nine\""
   ]
  },
  {
   "cell_type": "code",
   "execution_count": 205,
   "id": "28645b77-9682-49ec-a3c5-933df4c694aa",
   "metadata": {
    "scrolled": true
   },
   "outputs": [
    {
     "data": {
      "text/plain": [
       "['one',\n",
       " 'two',\n",
       " 'three',\n",
       " 'four',\n",
       " 'one',\n",
       " 'two',\n",
       " 'two',\n",
       " 'three',\n",
       " 'five',\n",
       " 'five',\n",
       " 'six',\n",
       " 'seven',\n",
       " 'six',\n",
       " 'seven',\n",
       " 'one',\n",
       " 'one',\n",
       " 'one',\n",
       " 'ten',\n",
       " 'eight',\n",
       " 'ten',\n",
       " 'nine',\n",
       " 'eleven',\n",
       " 'ten',\n",
       " 'ten',\n",
       " 'nine']"
      ]
     },
     "execution_count": 205,
     "metadata": {},
     "output_type": "execute_result"
    }
   ],
   "source": [
    "mylist = mystr4.split() # Split String into substrings\n",
    "mylist"
   ]
  },
  {
   "cell_type": "code",
   "execution_count": 206,
   "id": "4d092dad-a1c3-4ce0-8fb6-690e1280fcf3",
   "metadata": {},
   "outputs": [
    {
     "data": {
      "text/plain": [
       "['eleven',\n",
       " 'four',\n",
       " 'seven',\n",
       " 'nine',\n",
       " 'one',\n",
       " 'three',\n",
       " 'six',\n",
       " 'two',\n",
       " 'eight',\n",
       " 'ten',\n",
       " 'five']"
      ]
     },
     "execution_count": 206,
     "metadata": {},
     "output_type": "execute_result"
    }
   ],
   "source": [
    "mylist1 = set(mylist) # Unique values in a list\n",
    "mylist1 = list (mylist1)\n",
    "mylist1"
   ]
  },
  {
   "cell_type": "code",
   "execution_count": 207,
   "id": "db023498-41a2-40b3-8897-ff6cb34d7082",
   "metadata": {},
   "outputs": [
    {
     "name": "stdout",
     "output_type": "stream",
     "text": [
      "{'eleven': 1, 'four': 1, 'seven': 2, 'nine': 2, 'one': 5, 'three': 2, 'six': 2, 'two': 3, 'eight': 1, 'ten': 4, 'five': 2}\n"
     ]
    }
   ],
   "source": [
    "# Calculate frequenct of each word\n",
    "count1 = [0] * len(mylist1)\n",
    "mydict5 = dict()\n",
    "for i in range(len(mylist1)):\n",
    " for j in range(len(mylist)):\n",
    "     if mylist1[i] == mylist[j]:\n",
    "         count1[i] += 1\n",
    " mydict5[mylist1[i]] = count1[i]\n",
    "print(mydict5)"
   ]
  },
  {
   "cell_type": "markdown",
   "id": "1ab6ae8c-f1be-432a-94f3-4d8704483f8b",
   "metadata": {},
   "source": [
    "# Functions\n",
    "#### A function is a block of organized code written to carry out a specified task.\n",
    "#### Functions help break our program into smaller and modular chunks for better readability.\n",
    "#### Information can be passed into a function as arguments.\n",
    "#### Parameters are specified after the function name inside the parentheses\n",
    "#### We can add as many parameters as we want. Parameters must be separated with a comma.\n",
    "#### A function may or may not return data.\n",
    "#### In Python a function is defined using the def keyword..\n"
   ]
  },
  {
   "cell_type": "markdown",
   "id": "acbc0b8d-2817-40bf-b8a7-fbcfc4497331",
   "metadata": {},
   "source": [
    "# Parameter VS Argument\n",
    "#### A parameter is the variable listed inside the parentheses in the function definition.\n",
    "#### An argument is the value that is sent to the function when it is called.\n",
    "## Three types of functions in Python:-\n",
    "#### Built-in function :- Python predefined functions that are readily available for use like min(), max() , sum() , print() etc.\n",
    "#### User-Defined Functions:- Function that we define ourselves to perform a specific task.\n",
    "#### Anonymous functions : Function that is defined without a name. Anonymous functions are also called as lambda functions. They are not declared with the def keyword."
   ]
  },
  {
   "cell_type": "code",
   "execution_count": 208,
   "id": "0a877cd9-fd0c-4260-991c-115727b34b42",
   "metadata": {},
   "outputs": [
    {
     "name": "stdout",
     "output_type": "stream",
     "text": [
      "Hello Python Lovers\n"
     ]
    }
   ],
   "source": [
    "def myfunc():\n",
    " print(\"Hello Python Lovers\")\n",
    "myfunc()"
   ]
  },
  {
   "cell_type": "code",
   "execution_count": 209,
   "id": "d8ef8b7d-b17f-415f-83d6-5239103f231a",
   "metadata": {},
   "outputs": [
    {
     "data": {
      "text/plain": [
       "16"
      ]
     },
     "execution_count": 209,
     "metadata": {},
     "output_type": "execute_result"
    }
   ],
   "source": [
    "def double(n):\n",
    "    return n**2\n",
    "double(4)"
   ]
  },
  {
   "cell_type": "code",
   "execution_count": 210,
   "id": "6859d751-ba96-494a-a1e4-fd00a1cadeba",
   "metadata": {},
   "outputs": [
    {
     "data": {
      "text/plain": [
       "(20, 10)"
      ]
     },
     "execution_count": 210,
     "metadata": {},
     "output_type": "execute_result"
    }
   ],
   "source": [
    "def swap(a,b):\n",
    "     temp = a\n",
    "     a = b  \n",
    "     b = temp \n",
    "     return a,b\n",
    "swap(10,20)"
   ]
  },
  {
   "cell_type": "code",
   "execution_count": 211,
   "id": "8468c93f-65c0-4283-9b5d-71f19a2b7890",
   "metadata": {},
   "outputs": [
    {
     "name": "stdout",
     "output_type": "stream",
     "text": [
      "hello dhruv welcome\n",
      "age :  23\n"
     ]
    }
   ],
   "source": [
    "def course(name,age):\n",
    "    print('hello',name,'welcome')\n",
    "    print('age : ',age)\n",
    "course('dhruv',23)"
   ]
  },
  {
   "cell_type": "code",
   "execution_count": 212,
   "id": "813e175f-cd69-4152-bbd0-476cc9b00c67",
   "metadata": {},
   "outputs": [
    {
     "name": "stdout",
     "output_type": "stream",
     "text": [
      "Name :-  Asif\n",
      "User ID is :-  asif123\n",
      "Country :-  India\n"
     ]
    }
   ],
   "source": [
    "def details(name,userid,country): # Function to print User details\n",
    " print('Name :- ', name)\n",
    " print('User ID is :- ', userid)\n",
    " print('Country :- ',country)\n",
    " \n",
    "details('Asif' , 'asif123' , 'India')"
   ]
  },
  {
   "cell_type": "code",
   "execution_count": 213,
   "id": "6ed23e56-67f6-4637-b023-8ed020945f8f",
   "metadata": {},
   "outputs": [
    {
     "name": "stdout",
     "output_type": "stream",
     "text": [
      "3  is odd number\n",
      "4  is even number\n",
      " This function will check whether a number is even or odd\n"
     ]
    }
   ],
   "source": [
    "def even_odd (num): #Even odd test\n",
    " \"\"\" This function will check whether a number is even or odd\"\"\"\n",
    " if num % 2 ==0:\n",
    "     print (num, ' is even number')\n",
    " else:\n",
    "     print (num, ' is odd number')\n",
    "even_odd(3)\n",
    "even_odd(4)\n",
    "print(even_odd.__doc__) # Print function documentation string"
   ]
  },
  {
   "cell_type": "code",
   "execution_count": 214,
   "id": "98bc2d1d-81d4-44cf-8dfc-eac82f0c33d3",
   "metadata": {},
   "outputs": [
    {
     "name": "stdout",
     "output_type": "stream",
     "text": [
      "None\n"
     ]
    },
    {
     "data": {
      "text/plain": [
       "20"
      ]
     },
     "execution_count": 214,
     "metadata": {},
     "output_type": "execute_result"
    }
   ],
   "source": [
    "def getnumber(x):\n",
    "    return x\n",
    "\n",
    "print(getnumber.__doc__)\n",
    "getnumber(20)"
   ]
  },
  {
   "cell_type": "code",
   "execution_count": 215,
   "id": "8fae17d6-375a-4e65-93cb-4e4ea87fcd24",
   "metadata": {},
   "outputs": [
    {
     "data": {
      "text/plain": [
       "[2, 4, 56, 8]"
      ]
     },
     "execution_count": 215,
     "metadata": {},
     "output_type": "execute_result"
    }
   ],
   "source": [
    "def is_even(list):\n",
    "    even_num = []\n",
    "    for n in list:\n",
    "        if n%2 == 0:\n",
    "            even_num.append(n)\n",
    "    return even_num\n",
    "\n",
    "list1 = [1,2,3,43,4,5,56,7,8]\n",
    "even_num = is_even(list1)\n",
    "even_num"
   ]
  },
  {
   "cell_type": "code",
   "execution_count": 216,
   "id": "486e3962-8f3a-44d9-93a3-f596f756861b",
   "metadata": {},
   "outputs": [
    {
     "name": "stdout",
     "output_type": "stream",
     "text": [
      "Asif Ali Bhat\n"
     ]
    }
   ],
   "source": [
    "def fullname (firstname , middlename ,lastname): #Concatenate Strings\n",
    " fullname = \"{} {} {}\".format(firstname,middlename,lastname)\n",
    " print (fullname)\n",
    "fullname('Asif' , 'Ali' , 'Bhat')"
   ]
  },
  {
   "cell_type": "code",
   "execution_count": 219,
   "id": "0af7a944-cc54-4eac-9dac-7e9a04f56d53",
   "metadata": {},
   "outputs": [
    {
     "name": "stdout",
     "output_type": "stream",
     "text": [
      "Asif Ali Bhat\n"
     ]
    }
   ],
   "source": [
    "def fullname (firstname , middlename ,lastname): #Concatenate Strings\n",
    " fullname = \"{} {} {}\".format(firstname,middlename,lastname)\n",
    " print (fullname)\n",
    "fullname(lastname = 'Bhat' , middlename='Ali' , firstname='Asif') "
   ]
  },
  {
   "cell_type": "code",
   "execution_count": 217,
   "id": "659bd6c3-cc8b-4132-b0b4-9b4f075ce7e8",
   "metadata": {},
   "outputs": [
    {
     "data": {
      "text/plain": [
       "(12, 8, 20, 5.0, 5, 0, 100)"
      ]
     },
     "execution_count": 217,
     "metadata": {},
     "output_type": "execute_result"
    }
   ],
   "source": [
    "def arithmetic(n1,n2):\n",
    "    add = n1+n2\n",
    "    sub = n1-n2\n",
    "    multi = n1*n2\n",
    "    div = n1/n2\n",
    "    floor_div = n1//n2\n",
    "    mod = n1%n2\n",
    "    exp = n1**n2\n",
    "    return add,sub,multi,div,floor_div,mod,exp\n",
    "\n",
    "arithmetic(10,2)"
   ]
  },
  {
   "cell_type": "code",
   "execution_count": 218,
   "id": "a2770880-1256-4f1e-bbd0-ce3cd364b8cf",
   "metadata": {},
   "outputs": [
    {
     "name": "stdin",
     "output_type": "stream",
     "text": [
      "enter n1 :  10\n",
      "enter n2 :  15\n"
     ]
    },
    {
     "name": "stdout",
     "output_type": "stream",
     "text": [
      "Addition: 25\n",
      "Subtraction: -5\n",
      "Multiplication: 150\n",
      "Division: 0.6666666666666666\n",
      "Floor Division: 0\n",
      "Modulus: 10\n",
      "Exponentiation: 1000000000000000\n"
     ]
    }
   ],
   "source": [
    "def arithmetic(n1,n2):\n",
    "    add = n1+n2\n",
    "    sub = n1-n2\n",
    "    multi = n1*n2\n",
    "    div = n1/n2\n",
    "    floor_div = n1//n2\n",
    "    mod = n1%n2\n",
    "    exp = n1**n2\n",
    "    return add,sub,multi,div,floor_div,mod,exp\n",
    "    \n",
    "n1 = int(input('enter n1 : '))\n",
    "n2 = int(input('enter n2 : '))\n",
    "results = arithmetic(n1,n2)\n",
    "\n",
    "print(f'Addition: {results[0]}')\n",
    "print(f'Subtraction: {results[1]}')\n",
    "print(f'Multiplication: {results[2]}')\n",
    "print(f'Division: {results[3]}')\n",
    "print(f'Floor Division: {results[4]}')\n",
    "print(f'Modulus: {results[5]}')\n",
    "print(f'Exponentiation: {results[6]}')"
   ]
  },
  {
   "cell_type": "code",
   "execution_count": 220,
   "id": "6d076031-2de4-40e7-80a5-69ce9aebc1df",
   "metadata": {},
   "outputs": [
    {
     "name": "stdout",
     "output_type": "stream",
     "text": [
      "100\n",
      "100\n"
     ]
    }
   ],
   "source": [
    "var1 = 100 # Variable with Global scope.\n",
    "def myfunc():\n",
    " print(var1) # Value 100 will be displayed due to global scope of var1\n",
    " \n",
    "myfunc()\n",
    "print(var1)"
   ]
  },
  {
   "cell_type": "code",
   "execution_count": 221,
   "id": "125c3295-a30d-4b32-b31c-001b1724140e",
   "metadata": {},
   "outputs": [
    {
     "name": "stdout",
     "output_type": "stream",
     "text": [
      "python\n",
      "the below line will print global var as well\n",
      "dhruv\n",
      "dhruv\n"
     ]
    }
   ],
   "source": [
    "global_var = 'dhruv'\n",
    "def var_scope():\n",
    "    local = 'python'\n",
    "    print(local)\n",
    "    print('the below line will print global var as well')\n",
    "    print(global_var)\n",
    "\n",
    "var_scope()\n",
    "print(global_var)"
   ]
  },
  {
   "cell_type": "code",
   "execution_count": 222,
   "id": "0c4f46f0-c159-456a-86cf-fa33c3beba48",
   "metadata": {},
   "outputs": [
    {
     "name": "stdout",
     "output_type": "stream",
     "text": [
      "value:  123\n"
     ]
    }
   ],
   "source": [
    "def func1():\n",
    "    loc_var = 123\n",
    "    print('value: ',loc_var)\n",
    "\n",
    "def func2():\n",
    "    print('value is : ',loc_var)\n",
    "\n",
    "func1()\n",
    "# func2() will give an error as loc_var is not there"
   ]
  },
  {
   "cell_type": "code",
   "execution_count": 223,
   "id": "625406a8-c183-4178-bbeb-da4977b6511c",
   "metadata": {},
   "outputs": [
    {
     "name": "stdout",
     "output_type": "stream",
     "text": [
      "value:  999\n",
      "value is :  555\n",
      "value is :  999\n"
     ]
    }
   ],
   "source": [
    "global_var=999\n",
    "\n",
    "def func1():\n",
    "    print('value: ',global_var)\n",
    "\n",
    "def func2():\n",
    "    global_var = 555\n",
    "    print('value is : ',global_var)\n",
    "\n",
    "def func3():\n",
    "    print('value is : ',global_var)\n",
    "\n",
    "func1()\n",
    "func2() \n",
    "func3()"
   ]
  },
  {
   "cell_type": "code",
   "execution_count": 224,
   "id": "dfb9f23b-2c6d-439e-af19-5d3ca5960641",
   "metadata": {},
   "outputs": [
    {
     "name": "stdout",
     "output_type": "stream",
     "text": [
      "the value of x inside outer_func is :  777\n",
      "the value of x inside inner_func is :  700\n",
      "value of x inside inner_func after non local var is :  700\n",
      "main value out of all functions scope is :  800\n"
     ]
    }
   ],
   "source": [
    "x = 800\n",
    "\n",
    "def outer_func():\n",
    "    x = 777\n",
    "    print('the value of x inside outer_func is : ',x)\n",
    "\n",
    "    def inner_func():\n",
    "        nonlocal x\n",
    "        x = 700\n",
    "        print('the value of x inside inner_func is : ',x)\n",
    "\n",
    "    inner_func()\n",
    "    print('value of x inside inner_func after non local var is : ',x)\n",
    "\n",
    "outer_func()\n",
    "print('main value out of all functions scope is : ',x)"
   ]
  },
  {
   "cell_type": "code",
   "execution_count": 225,
   "id": "640be778-775b-4b37-b767-ecfa000e0c93",
   "metadata": {},
   "outputs": [
    {
     "name": "stdout",
     "output_type": "stream",
     "text": [
      "\"List1\" before calling the function:-  [11, 22, 33, 44, 55]\n",
      "\"List1\" after calling the function:-  [22, 33, 44, 55]\n"
     ]
    }
   ],
   "source": [
    "list1 = [11,22,33,44,55]\n",
    "def myfunc(list1):\n",
    " del list1[0]\n",
    "print('\"List1\" before calling the function:- ',list1)\n",
    "myfunc(list1) \n",
    "print('\"List1\" after calling the function:- ',list1)"
   ]
  },
  {
   "cell_type": "code",
   "execution_count": 226,
   "id": "e20b9084-a6c4-4101-bdd3-4cfcf8d75acf",
   "metadata": {},
   "outputs": [
    {
     "name": "stdout",
     "output_type": "stream",
     "text": [
      "\"List1\" before calling the function:-  [11, 22, 33, 44, 55]\n",
      "\"List1\" after calling the function:-  [11, 22, 33, 44, 55, 100]\n"
     ]
    }
   ],
   "source": [
    "list1 = [11,22,33,44,55]\n",
    "def myfunc(list1):\n",
    " list1.append(100)\n",
    "print('\"List1\" before calling the function:- ',list1)\n",
    "myfunc(list1) # Pass by reference (Any change in the parameter within the functi\n",
    "print('\"List1\" after calling the function:- ',list1)"
   ]
  },
  {
   "cell_type": "code",
   "execution_count": 227,
   "id": "1191598f-2959-4091-996f-1d3357b3d472",
   "metadata": {},
   "outputs": [
    {
     "data": {
      "text/plain": [
       "24"
      ]
     },
     "execution_count": 227,
     "metadata": {},
     "output_type": "execute_result"
    }
   ],
   "source": [
    "def factorial(num): # Calculate factorial of a number using recursive function c\n",
    " if num <=1 :\n",
    "     return 1\n",
    " else:\n",
    "     return num * factorial(num-1)\n",
    " \n",
    "factorial(4)"
   ]
  },
  {
   "cell_type": "code",
   "execution_count": 228,
   "id": "66399cab-57ec-4f36-8aa9-3c99e17c7d38",
   "metadata": {},
   "outputs": [
    {
     "name": "stdin",
     "output_type": "stream",
     "text": [
      "How many fibonacci numbers you want to generate - 5\n"
     ]
    },
    {
     "name": "stdout",
     "output_type": "stream",
     "text": [
      "0\n",
      "1\n",
      "1\n",
      "2\n",
      "3\n"
     ]
    }
   ],
   "source": [
    "def fiboacci(num):\n",
    " if num <= 1:\n",
    "     return num\n",
    " if num == 2:\n",
    "     return 1\n",
    " else: \n",
    "     return(fiboacci(num-1) + fiboacci(num-2)) \n",
    "nums = int(input(\"How many fibonacci numbers you want to generate -\"))\n",
    "for i in range(nums):\n",
    " print(fiboacci(i)) "
   ]
  },
  {
   "cell_type": "markdown",
   "id": "2d3d930f-c1fb-4b13-8e89-9bbc068cc0f9",
   "metadata": {},
   "source": [
    "### types of arguments : positional, keyword , default , variable-length"
   ]
  },
  {
   "cell_type": "code",
   "execution_count": 229,
   "id": "a1b8d3b3-85e2-4945-88b6-2f02a3194fd5",
   "metadata": {},
   "outputs": [
    {
     "name": "stdout",
     "output_type": "stream",
     "text": [
      "values of function are :  10 20 30\n"
     ]
    }
   ],
   "source": [
    "# positional arguments\n",
    "def func1(a,b,c):\n",
    "    print('values of function are : ',a,b,c)\n",
    "func1(10,20,30)"
   ]
  },
  {
   "cell_type": "code",
   "execution_count": 230,
   "id": "1a50c1ed-e2c0-4694-b3fc-77a96b9b5f55",
   "metadata": {},
   "outputs": [
    {
     "data": {
      "text/plain": [
       "110"
      ]
     },
     "execution_count": 230,
     "metadata": {},
     "output_type": "execute_result"
    }
   ],
   "source": [
    "def add(a,b):\n",
    "    return a+b\n",
    "add(50,60)"
   ]
  },
  {
   "cell_type": "code",
   "execution_count": 231,
   "id": "2fb136d4-5eab-498f-ae22-d4259284d1a9",
   "metadata": {},
   "outputs": [
    {
     "name": "stdout",
     "output_type": "stream",
     "text": [
      "values of function are :  10 30 20\n",
      "values of function are :  10 20 30\n"
     ]
    }
   ],
   "source": [
    "# keyword arguments\n",
    "def func1(a,b,c):\n",
    "    print('values of function are : ',a,b,c)\n",
    "func1(a=10,b=30,c=20)\n",
    "func1(a=10,c=30,b=20)"
   ]
  },
  {
   "cell_type": "code",
   "execution_count": 232,
   "id": "8cddc3c9-9ac1-4532-953a-04678d974eb3",
   "metadata": {},
   "outputs": [
    {
     "name": "stdout",
     "output_type": "stream",
     "text": [
      "hello dhruv patel\n",
      "hello dhruv patel\n"
     ]
    }
   ],
   "source": [
    "def mssg(name,surname):\n",
    "    print('hello',name,surname)\n",
    "\n",
    "mssg(name='dhruv',surname='patel')\n",
    "mssg(surname='patel',name='dhruv')"
   ]
  },
  {
   "cell_type": "code",
   "execution_count": 233,
   "id": "e30da7f2-ec40-4589-824f-34aa6b093d15",
   "metadata": {},
   "outputs": [
    {
     "name": "stdout",
     "output_type": "stream",
     "text": [
      "helloo dhruv patel\n",
      "helloo dhruv patel\n"
     ]
    }
   ],
   "source": [
    "def mssg(first_nm,last_nm):\n",
    "    print('helloo',first_nm,last_nm)\n",
    "mssg('dhruv','patel')\n",
    "mssg('dhruv',last_nm='patel')\n",
    "# mssg(first_nm='dhruv','patel') this will give you the error as keyword argument is never given before positional argument"
   ]
  },
  {
   "cell_type": "code",
   "execution_count": 234,
   "id": "e6d2f303-7fd9-496b-80db-ddace7bbd49a",
   "metadata": {},
   "outputs": [
    {
     "name": "stdout",
     "output_type": "stream",
     "text": [
      "hello dhruv\n",
      "hello guest\n"
     ]
    }
   ],
   "source": [
    "def mssg(name='guest'):\n",
    "    print('hello',name)\n",
    "# calling the function with argument\n",
    "mssg('dhruv')\n",
    "\n",
    "# calling the function without argument\n",
    "mssg()"
   ]
  },
  {
   "cell_type": "code",
   "execution_count": 235,
   "id": "7c9e6c1d-e199-4d5e-92e5-d0fcc84637cc",
   "metadata": {},
   "outputs": [
    {
     "name": "stdout",
     "output_type": "stream",
     "text": [
      "values are :  10 20 30\n"
     ]
    }
   ],
   "source": [
    "# default arguments\n",
    "def func1(a=10,b=20,c=30):\n",
    "    print('values are : ',a,b,c)\n",
    "func1()"
   ]
  },
  {
   "cell_type": "code",
   "execution_count": 236,
   "id": "c5507087-ced2-4357-805c-aa0819df5f08",
   "metadata": {},
   "outputs": [
    {
     "name": "stdout",
     "output_type": "stream",
     "text": [
      "values are :  10 20 40\n"
     ]
    }
   ],
   "source": [
    "def func1(a,b,c=40):\n",
    "    print('values are : ',a,b,c)\n",
    "func1(10,20)"
   ]
  },
  {
   "cell_type": "markdown",
   "id": "a0d89035-9578-478f-be37-cc8d97b83185",
   "metadata": {},
   "source": [
    "# args & kwargs\n",
    "## *args\n",
    "#### When we are not sure about the number of arguments being passed to a function then we can use *args as function parameter.\n",
    "#### *args allow us to pass the variable number of Non Keyword Arguments to function.\n",
    "#### We can simply use an asterisk * before the parameter name to pass variable length arguments.\n",
    "#### The arguments are always passed as a tuple.\n",
    "#### We can rename it to anything as long as it is preceded by a single asterisk (*). It's best practice to keep naming it args to make it immediately recognizable.\n",
    "\n",
    "## **kwargs\n",
    "#### **kwargs allows us to pass the variable number of Keyword Arguments to the function.\n",
    "#### We can simply use an double asterisk ** before the parameter name to pass variable length arguments.\n",
    "#### The arguments are passed as a dictionary.\n",
    "#### We can rename it to anything as long as it is preceded by a double asterisk (**). It's best practice to keep naming it kwargs to make it immediately recognizable.able.\n"
   ]
  },
  {
   "cell_type": "code",
   "execution_count": 237,
   "id": "fe7f4f31-eaa5-40d5-94a3-45abc629d13c",
   "metadata": {},
   "outputs": [
    {
     "name": "stdout",
     "output_type": "stream",
     "text": [
      "10 20\n",
      "30\n",
      "40\n",
      "50\n"
     ]
    }
   ],
   "source": [
    "def func1(a,b,*args,**kwargs):\n",
    "    print(a,b)\n",
    "    for arg in args:\n",
    "        print(arg)\n",
    "    for kwarg in kwargs:\n",
    "        print(kwarg,':',kwargs[kwarg])\n",
    "func1(10,20,30,40,50)"
   ]
  },
  {
   "cell_type": "code",
   "execution_count": 238,
   "id": "85b3b675-ebf8-498b-8df8-fb2a37447c61",
   "metadata": {},
   "outputs": [
    {
     "name": "stdout",
     "output_type": "stream",
     "text": [
      "sum is :  0\n",
      "sum is :  21\n",
      "sum is :  30\n"
     ]
    }
   ],
   "source": [
    "def addition(*numbers):\n",
    "    total = 0\n",
    "    for n in numbers:\n",
    "        total = total + n\n",
    "    print('sum is : ',total)\n",
    "\n",
    "addition()\n",
    "addition(1,2,3,4,5,6)\n",
    "addition(10,20)"
   ]
  },
  {
   "cell_type": "code",
   "execution_count": 239,
   "id": "5bd6c212-cd41-4271-a5fd-92affeb3cc30",
   "metadata": {},
   "outputs": [
    {
     "name": "stdout",
     "output_type": "stream",
     "text": [
      "a= 1 b= 2\n",
      "sum is :  21\n",
      "a= 10 b= 20\n",
      "sum is :  30\n"
     ]
    }
   ],
   "source": [
    "def addition(a,b,*numbers):\n",
    "    total = 0\n",
    "    print('a=',a, 'b=' ,b)\n",
    "    for n in numbers:\n",
    "        total = total + n\n",
    "    print('sum is : ',total+a+b)\n",
    "\n",
    "addition(1,2,3,4,5,6)\n",
    "addition(10,20)"
   ]
  },
  {
   "cell_type": "code",
   "execution_count": 240,
   "id": "de0ec916-1b79-4144-a7aa-5ee68c3de1ba",
   "metadata": {},
   "outputs": [
    {
     "name": "stdout",
     "output_type": "stream",
     "text": [
      "a= 1 b= 2\n",
      "sum is :  36\n",
      "a= 10 b= 20\n",
      "sum is :  30\n"
     ]
    }
   ],
   "source": [
    "def addition(a,b,*numbers,**kwargs):\n",
    "    total_no = 0\n",
    "    total_arg = 0\n",
    "    print('a=',a, 'b=' ,b)\n",
    "    for n in numbers:\n",
    "        total_no = total_no + n\n",
    "    for arg in kwargs:\n",
    "        total_arg = total_arg + kwargs[arg]\n",
    "    print('sum is : ',total_no+total_arg+a+b)\n",
    "\n",
    "addition(1,2,3,4,5,6,d=4,c=5,e=6)\n",
    "addition(10,20)"
   ]
  },
  {
   "cell_type": "code",
   "execution_count": 241,
   "id": "b88be273-d527-4121-bc39-c3176f3409e1",
   "metadata": {},
   "outputs": [
    {
     "name": "stdout",
     "output_type": "stream",
     "text": [
      "('Asif', 7412, 41102, 33, 'India', 'Hindi')\n"
     ]
    }
   ],
   "source": [
    "def UserDetails(*args):\n",
    " print(args)\n",
    "UserDetails('Asif' , 7412 , 41102 , 33 , 'India' , 'Hindi')"
   ]
  },
  {
   "cell_type": "code",
   "execution_count": 242,
   "id": "62ece2c6-537b-4310-83d6-8a2eaf5ba886",
   "metadata": {},
   "outputs": [
    {
     "name": "stdout",
     "output_type": "stream",
     "text": [
      "Name :- Asif\n",
      "ID :- 7412\n",
      "Pincode :- 41102\n",
      "Age :- 33\n",
      "Country :- India\n",
      "Language :- Hindi\n"
     ]
    }
   ],
   "source": [
    "def UserDetails(**kwargs):\n",
    " for key,val in kwargs.items():\n",
    "     print(\"{} :- {}\".format(key,val))\n",
    "UserDetails(Name='Asif' , ID=7412 , Pincode=41102 , Age= 33 , Country= 'India',Language='Hindi')"
   ]
  },
  {
   "cell_type": "code",
   "execution_count": 243,
   "id": "1e632c98-3df6-4408-b044-e96e21c15318",
   "metadata": {},
   "outputs": [
    {
     "name": "stdout",
     "output_type": "stream",
     "text": [
      "Name :- Asif\n",
      "ID :- 7412\n",
      "Pincode :- 41102\n",
      "Age :- 33\n",
      "Country :- India\n",
      "Language :- Hindi\n"
     ]
    }
   ],
   "source": [
    "mydict = {'Name':'Asif' , 'ID':7412 , 'Pincode':41102 , 'Age': 33 , 'Country':'India','Language':'Hindi'}\n",
    "UserDetails(**mydict)"
   ]
  },
  {
   "cell_type": "markdown",
   "id": "465ce37f-f6a0-4724-a9e8-59191f68dbcb",
   "metadata": {},
   "source": [
    "# Lambda, Filter, Map and Reduce\n",
    "\n",
    "### Lambda : \n",
    "#### A lambda function is an anonymous function (function without a name).\n",
    "#### Lambda functions can have any number of arguments but only one expression.The expression is evaluated and returned.\n",
    "#### We use lambda functions when we require a nameless function for a short period of time.\n",
    "\n",
    "### Filter :\n",
    "#### It is used to filter the iterables/sequence as per the conditions.\n",
    "#### Filter function filters the original iterable and passes the items that returns True for the function provided to filter.\n",
    "#### It is normally used with Lambda functions to filter list, tuple, or sets.\n",
    "#### filter() method takes two parameters:\n",
    "#### function - function tests if elements of an iterable returns true or false\n",
    "#### iterable - Sequence which needs to be filtered, could be sets, lists, tuples, or any iterators\n",
    "### Map : \n",
    "#### The map() function applies a given function to each item of an iterable (list, tuple etc.) and returns a list of the results.\n",
    "#### map() function takes two Parameters :\n",
    "#### function : The function to execute for each item of given iterable.\n",
    "#### iterable : It is a iterable which is to be mapped\n",
    "#### Returns : Returns a list of the results after applying the given function to each item of a given iterable (list, tuple etc.)\n",
    "\n",
    "### Reduce : \n",
    "#### The reduce() function is defined in the functools python module\n",
    "#### The reduce() function receives two arguments, a function and an iterable. However, it doesn't return another iterable, instead it returns a single value.\n",
    "#### Working:\n",
    "#### 1) Apply a function to the first two items in an iterable and generate a partial result.\n",
    "#### 2) The function is then called again with the result obtained in step 1 and the next value in the sequence. This process keeps on repeating until there are items in the sequence.\n",
    "#### 3) The final returned result is returned and printed on console."
   ]
  },
  {
   "cell_type": "code",
   "execution_count": 2,
   "id": "753ff928-170e-42ae-b5b7-ffea71164c84",
   "metadata": {},
   "outputs": [
    {
     "data": {
      "image/jpeg": "[encoded data removed]",
      "text/plain": [
       "<IPython.core.display.Image object>"
      ]
     },
     "metadata": {},
     "output_type": "display_data"
    }
   ],
   "source": [
    "from IPython.display import display, Image\n",
    "display(Image(filename='C:/Users/ADMIN/Desktop/Captures/1.jpg'))"
   ]
  },
  {
   "cell_type": "code",
   "execution_count": 246,
   "id": "9bf13367-2367-4782-a3be-05fafa7944e6",
   "metadata": {},
   "outputs": [
    {
     "name": "stdout",
     "output_type": "stream",
     "text": [
      "15\n"
     ]
    }
   ],
   "source": [
    "addition = lambda a : a + 10 \n",
    "print(addition(5))"
   ]
  },
  {
   "cell_type": "code",
   "execution_count": 247,
   "id": "868aca55-26bc-4d11-8c6a-c99f70a9dbc3",
   "metadata": {},
   "outputs": [
    {
     "name": "stdout",
     "output_type": "stream",
     "text": [
      "30\n"
     ]
    }
   ],
   "source": [
    "product = lambda a, b : a * b \n",
    "print(product(5, 6))"
   ]
  },
  {
   "cell_type": "code",
   "execution_count": 248,
   "id": "302cc57c-5955-4d74-9399-f992e084bed6",
   "metadata": {},
   "outputs": [
    {
     "name": "stdout",
     "output_type": "stream",
     "text": [
      "13\n"
     ]
    }
   ],
   "source": [
    "addition = lambda a, b, c : a + b + c\n",
    "print(addition(5, 6, 2))"
   ]
  },
  {
   "cell_type": "code",
   "execution_count": 249,
   "id": "a902d808-a6a7-4eac-9199-c328eddfccca",
   "metadata": {},
   "outputs": [
    {
     "data": {
      "text/plain": [
       "(30, 100, 280)"
      ]
     },
     "execution_count": 249,
     "metadata": {},
     "output_type": "execute_result"
    }
   ],
   "source": [
    "res = (lambda *args: sum(args))\n",
    "res(10,20) , res(10,20,30,40) , res(10,20,30,40,50,60,70)"
   ]
  },
  {
   "cell_type": "code",
   "execution_count": 250,
   "id": "37dd6f25-d0bc-4a32-964c-c6fe3da558bc",
   "metadata": {},
   "outputs": [
    {
     "data": {
      "text/plain": [
       "(60, 150)"
      ]
     },
     "execution_count": 250,
     "metadata": {},
     "output_type": "execute_result"
    }
   ],
   "source": [
    "res1 = (lambda **kwargs: sum(kwargs.values())) \n",
    "res1(a = 10 , b= 20 , c = 30) , res1(a = 10 , b= 20 , c = 30, d = 40 , e = 50)"
   ]
  },
  {
   "cell_type": "code",
   "execution_count": 251,
   "id": "5f435f27-95f4-413f-afd4-6b9a0fe95a02",
   "metadata": {},
   "outputs": [
    {
     "data": {
      "text/plain": [
       "(6000, 12000000)"
      ]
     },
     "execution_count": 251,
     "metadata": {},
     "output_type": "execute_result"
    }
   ],
   "source": [
    "def product(nums): \n",
    " total = 1\n",
    " for i in nums:\n",
    "     total *= i \n",
    " return total\n",
    "# This lambda function can take any number of arguments and return thier product.\n",
    "res1 = (lambda **kwargs: product(kwargs.values())) \n",
    "res1(a = 10 , b= 20 , c = 30) , res1(a = 10 , b= 20 , c = 30, d = 40 , e = 50)"
   ]
  },
  {
   "cell_type": "code",
   "execution_count": 252,
   "id": "916b203b-8094-45c3-ad91-69014ae141b0",
   "metadata": {},
   "outputs": [
    {
     "data": {
      "text/plain": [
       "[1, 3, 5, 7, 9]"
      ]
     },
     "execution_count": 252,
     "metadata": {},
     "output_type": "execute_result"
    }
   ],
   "source": [
    "list1 = [1,2,3,4,5,6,7,8,9]\n",
    "def odd(n):\n",
    " if n%2 ==1: return True\n",
    " else: return False\n",
    " \n",
    "odd_num = list(filter(odd,list1)) \n",
    "odd_num"
   ]
  },
  {
   "cell_type": "code",
   "execution_count": 254,
   "id": "3acf50ef-250a-48b8-8d74-7cf50b31f1ca",
   "metadata": {},
   "outputs": [
    {
     "data": {
      "text/plain": [
       "[1, 3, 5, 7, 9]"
      ]
     },
     "execution_count": 254,
     "metadata": {},
     "output_type": "execute_result"
    }
   ],
   "source": [
    "list1 = [1,2,3,4,5,6,7,8,9]\n",
    "# The below Filter function filters \"list1\" and passes all odd numbers using lamb\n",
    "odd_num = list(filter(lambda n: n%2 ==1 ,list1)) \n",
    "odd_num"
   ]
  },
  {
   "cell_type": "code",
   "execution_count": 255,
   "id": "2fcfe5bb-25da-4548-80cf-442f596a15fe",
   "metadata": {},
   "outputs": [
    {
     "data": {
      "text/plain": [
       "[2, 6, 10, 14, 18]"
      ]
     },
     "execution_count": 255,
     "metadata": {},
     "output_type": "execute_result"
    }
   ],
   "source": [
    "def twice(n):\n",
    " return n*2\n",
    " \n",
    "doubles = list(map(twice,odd_num)) \n",
    "doubles"
   ]
  },
  {
   "cell_type": "code",
   "execution_count": 256,
   "id": "71f118cd-9c18-4a07-beb2-0cb15767b482",
   "metadata": {},
   "outputs": [
    {
     "data": {
      "text/plain": [
       "[2, 6, 10, 14, 18]"
      ]
     },
     "execution_count": 256,
     "metadata": {},
     "output_type": "execute_result"
    }
   ],
   "source": [
    "doubles = list(map(lambda n:n*2,odd_num)) \n",
    "doubles"
   ]
  },
  {
   "cell_type": "code",
   "execution_count": 257,
   "id": "fafe811a-bf7f-4a09-ac8d-bf2bdaf66ba4",
   "metadata": {},
   "outputs": [
    {
     "data": {
      "text/plain": [
       "50"
      ]
     },
     "execution_count": 257,
     "metadata": {},
     "output_type": "execute_result"
    }
   ],
   "source": [
    "from functools import reduce\n",
    "def add(a,b):\n",
    " return a+b\n",
    " \n",
    "sum_all = reduce(add,doubles) \n",
    "sum_all"
   ]
  },
  {
   "cell_type": "code",
   "execution_count": 258,
   "id": "0671ceda-6711-4269-86eb-1c055fa04b34",
   "metadata": {},
   "outputs": [
    {
     "data": {
      "text/plain": [
       "50"
      ]
     },
     "execution_count": 258,
     "metadata": {},
     "output_type": "execute_result"
    }
   ],
   "source": [
    "sum_all = reduce(lambda a,b : a+b,doubles)\n",
    "sum_all"
   ]
  },
  {
   "cell_type": "code",
   "execution_count": 259,
   "id": "548786c6-1283-4b95-b900-a2c29f70d4f1",
   "metadata": {},
   "outputs": [
    {
     "data": {
      "text/plain": [
       "50"
      ]
     },
     "execution_count": 259,
     "metadata": {},
     "output_type": "execute_result"
    }
   ],
   "source": [
    "sum_all = reduce(lambda a,b : a+b,list(map(lambda n:n*2,list(filter(lambda n: n%2 ==1 ,list1)))))\n",
    "sum_all"
   ]
  },
  {
   "cell_type": "code",
   "execution_count": 3,
   "id": "dd07770f-af66-4974-aaa7-06617d4a55fe",
   "metadata": {},
   "outputs": [
    {
     "data": {
      "image/jpeg": "[encoded data removed]",
      "text/plain": [
       "<IPython.core.display.Image object>"
      ]
     },
     "metadata": {},
     "output_type": "display_data"
    }
   ],
   "source": [
    "display(Image(filename='C:/Users/ADMIN/Desktop/Captures/2.jpg'))"
   ]
  },
  {
   "cell_type": "code",
   "execution_count": 4,
   "id": "1afb9910-ddd1-48d4-8c33-560d0d88a5ef",
   "metadata": {},
   "outputs": [
    {
     "name": "stdout",
     "output_type": "stream",
     "text": [
      "--------\n",
      "[2, 4, 6, 8, 10]\n",
      "[1, 3, 5, 7, 9]\n",
      "--------\n",
      "['TWO', 'FOUR']\n",
      "['one', 'three']\n",
      "--------\n",
      "['one']\n",
      "['88', '99', '102']\n",
      "['one', 'two2', 'three3', '88', '99', '102']\n",
      "--------\n"
     ]
    }
   ],
   "source": [
    "list1 = [1,2,3,4,5,6,7,8,9,10]\n",
    "even = list(filter(lambda n: n%2 ==0 ,list1)) # Filter even numbers from the list\n",
    "odd = list(filter(lambda n: n%2 !=0 ,list1)) # Filter odd numbers from the list\n",
    "print('--------')\n",
    "print(even)\n",
    "print(odd)\n",
    "print('--------')\n",
    "list2 = ['one' , 'TWO' , 'three' , 'FOUR']\n",
    "upper = list(filter(lambda x: x.isupper() , list2)) # filter uppercase strings from the list\n",
    "lower = list(filter(lambda x: x.islower() , list2)) # filter lowercase strings from the list\n",
    "print(upper)\n",
    "print(lower)\n",
    "print('--------')\n",
    "list3 = ['one' , 'two2' , 'three3' ,'88' , '99' , '102']\n",
    "numeric = list(filter(lambda x:x.isnumeric(), list3)) # filter numbers from the list\n",
    "alpha = list(filter(lambda x:x.isalpha(), list3)) # filter character strings from the list\n",
    "alphanum = list(filter(lambda x:x.isalnum(), list3)) # filtr numbers & character from the list\n",
    "print(alpha)\n",
    "print(numeric)\n",
    "print(alphanum)\n",
    "print('--------')"
   ]
  },
  {
   "cell_type": "code",
   "execution_count": 5,
   "id": "ad282620-92d8-49bb-9aef-a7b513ed9dd1",
   "metadata": {},
   "outputs": [
    {
     "name": "stdout",
     "output_type": "stream",
     "text": [
      "---------------\n",
      "[2, 4, 6, 8]\n",
      "[6, 8, 10, 12]\n",
      "[1, 4, 9, 16]\n",
      "---------------\n",
      "[2, 4, 6, 8]\n",
      "[6, 8, 10, 12]\n",
      "[1, 4, 9, 16]\n",
      "---------------\n"
     ]
    }
   ],
   "source": [
    "list1 = [1,2,3,4]\n",
    "list2 = [5,6,7,8]\n",
    "def double(x):\n",
    " return x+x\n",
    "def add(x,y):\n",
    " return x+y\n",
    "def square(x):\n",
    " return x*x\n",
    "print('---------------')\n",
    "print(list(map(double, list1))) \n",
    "print(list(map(add, list1, list2)))\n",
    "print(list(map(square, list1))) \n",
    "print('---------------')\n",
    "print(list(map(lambda x: x + x, list1))) \n",
    "print(list(map(lambda x, y: x + y, list1, list2)))\n",
    "print(list(map(lambda x: x*x, list1))) \n",
    "print('---------------')"
   ]
  },
  {
   "cell_type": "code",
   "execution_count": 8,
   "id": "e2052e33-5dec-41a6-af64-acb764495248",
   "metadata": {},
   "outputs": [
    {
     "name": "stdout",
     "output_type": "stream",
     "text": [
      "24\n",
      "10\n",
      "Python Rocks\n",
      "Hello Hello Hello \n",
      "1\n",
      "4\n"
     ]
    }
   ],
   "source": [
    "import operator\n",
    "from functools import reduce\n",
    "list2 = [1,2,3,4]\n",
    "product = reduce (operator.mul,list2)\n",
    "add = reduce(operator.add,list2) \n",
    "concat_str = reduce(operator.add , ['Python' , ' ' , 'Rocks']) \n",
    "prod = reduce(operator.mul,['Hello ' , 3]) \n",
    "min_num = reduce(lambda a, b: a if a < b else b, list2) \n",
    "max_num = reduce(lambda a, b: a if a > b else b, list2) \n",
    "print(product)\n",
    "print(add)\n",
    "print(concat_str)\n",
    "print(prod)\n",
    "print(min_num)\n",
    "print(max_num)"
   ]
  },
  {
   "cell_type": "code",
   "execution_count": 9,
   "id": "0d3d7599-2eff-4baa-aa1c-18e0e9f32bf7",
   "metadata": {},
   "outputs": [
    {
     "data": {
      "text/plain": [
       "(1, 4)"
      ]
     },
     "execution_count": 9,
     "metadata": {},
     "output_type": "execute_result"
    }
   ],
   "source": [
    "def min_func(a, b):\n",
    " return a if a < b else b\n",
    "def max_func(a, b):\n",
    " return a if a > b else b\n",
    "min_num = reduce(min_func, list2) \n",
    "max_num = reduce(max_func, list2) \n",
    "min_num , max_num"
   ]
  },
  {
   "cell_type": "code",
   "execution_count": 10,
   "id": "141d4987-59e3-4e32-9a28-99e477454398",
   "metadata": {},
   "outputs": [
    {
     "name": "stdout",
     "output_type": "stream",
     "text": [
      "------\n",
      "False\n",
      "True\n",
      "False\n",
      "------\n",
      "False\n",
      "True\n",
      "True\n",
      "------\n"
     ]
    }
   ],
   "source": [
    "print('------')\n",
    "print(reduce(lambda a, b: bool(a and b), [0, 0, 1, 0, 0])) \n",
    "print(reduce(lambda a, b: bool(a and b), [2, 3, 1, 5, 6]))  \n",
    "print(reduce(lambda a, b: bool(a and b), [8, 9, 1, 0, 9]))  \n",
    "print('------')\n",
    "print(reduce(lambda a, b: bool(a or b), [0, 0, 0, 0, 0])) \n",
    "print(reduce(lambda a, b: bool(a or b), [2, 3, 1, 5, 6]))\n",
    "print(reduce(lambda a, b: bool(a or b), [8, 9, 1, 0, 9])) \n",
    "print('------')"
   ]
  },
  {
   "cell_type": "markdown",
   "id": "be9e4ae3-b5fc-4e7a-bc4a-208508def9a0",
   "metadata": {},
   "source": [
    "# Classes & Objects"
   ]
  },
  {
   "cell_type": "code",
   "execution_count": 11,
   "id": "ce0982d0-a992-4bd2-a34e-2096f1e55ff7",
   "metadata": {},
   "outputs": [
    {
     "name": "stdout",
     "output_type": "stream",
     "text": [
      "10\n"
     ]
    }
   ],
   "source": [
    "class myclass:\n",
    " var1 = 10\n",
    " \n",
    "obj1 = myclass() # Create an object of class \"myclass()\"\n",
    "print(obj1.var1)"
   ]
  },
  {
   "cell_type": "code",
   "execution_count": 12,
   "id": "8dbd173e-09ef-4230-aab7-8de0e8329603",
   "metadata": {},
   "outputs": [
    {
     "name": "stdout",
     "output_type": "stream",
     "text": [
      "Name :-  Asif\n",
      "Employee ID :-  34163\n",
      "Thanks for joining ABC Company Asif!!\n"
     ]
    }
   ],
   "source": [
    "class Employee:\n",
    " def __init__(self, name, empid): # __init__() function is used to assign values\n",
    "     self.name = name\n",
    "     self.empid = empid\n",
    " def greet(self): # Class Method\n",
    "     print(\"Thanks for joining ABC Company {}!!\".format(self.name))\n",
    "emp1 = Employee(\"Asif\", 34163) # Create an employee object\n",
    "print('Name :- ',emp1.name)\n",
    "print('Employee ID :- ',emp1.empid)\n",
    "emp1.greet()"
   ]
  },
  {
   "cell_type": "code",
   "execution_count": 13,
   "id": "2fe84104-7ff9-4533-a7de-8be31290132e",
   "metadata": {},
   "outputs": [
    {
     "data": {
      "text/plain": [
       "'Basit'"
      ]
     },
     "execution_count": 13,
     "metadata": {},
     "output_type": "execute_result"
    }
   ],
   "source": [
    "emp1.name = 'Basit' # Modify Object Properties\n",
    "emp1.name"
   ]
  },
  {
   "cell_type": "code",
   "execution_count": 14,
   "id": "b3e2edf7-d33b-445a-b1b0-c0861950f5d2",
   "metadata": {},
   "outputs": [],
   "source": [
    "del emp1.empid # Delete Object Properties"
   ]
  },
  {
   "cell_type": "code",
   "execution_count": 15,
   "id": "d4717ab1-77a6-4692-abd0-e548733db86d",
   "metadata": {},
   "outputs": [],
   "source": [
    "del emp1 # Delete the object"
   ]
  },
  {
   "cell_type": "code",
   "execution_count": 16,
   "id": "0847a681-1076-42d8-84e3-2d67d9637403",
   "metadata": {},
   "outputs": [
    {
     "name": "stdout",
     "output_type": "stream",
     "text": [
      "Name :-  Michael\n",
      "Employee ID :-  34162\n",
      "Thanks for joining ABC Company Michael!!\n"
     ]
    }
   ],
   "source": [
    "emp2 = Employee(\"Michael\", 34162) # Create an employee object\n",
    "print('Name :- ',emp2.name)\n",
    "print('Employee ID :- ',emp2.empid)\n",
    "emp2.greet()"
   ]
  },
  {
   "cell_type": "code",
   "execution_count": 17,
   "id": "3e367524-d619-42a0-bc0b-a05d30bfab57",
   "metadata": {},
   "outputs": [
    {
     "data": {
      "text/plain": [
       "'India'"
      ]
     },
     "execution_count": 17,
     "metadata": {},
     "output_type": "execute_result"
    }
   ],
   "source": [
    "emp2.country = 'India' #instance variable can be created manually\n",
    "emp2.country"
   ]
  },
  {
   "cell_type": "markdown",
   "id": "02a1a13c-6e3e-419a-8734-1eeb15c13e01",
   "metadata": {},
   "source": [
    "# Inheritance\n",
    "### Inheritance is a powerful feature in object oriented programming.\n",
    "### Inheritance provides code reusability in the program because we can use an existing class (Super Class/ Parent Class / Base Class) to create a new class (Sub Class / Child Class / Derived Class) instead of creating it from scratch.\n",
    "### The child class inherits data definitions and methods from the parent class which facilitates the reuse of features already available. The child class can add few more definitions or redefine a base class method.\n",
    "### Inheritance comes into picture when a new class possesses the 'IS A' relationship with an existing class. E.g Student is a person. Hence person is the base class and student is derived class.."
   ]
  },
  {
   "cell_type": "code",
   "execution_count": 18,
   "id": "99d8bd24-6835-42e3-aa24-74ab4ee355aa",
   "metadata": {},
   "outputs": [
    {
     "data": {
      "image/jpeg": "[encoded data removed]",
      "text/plain": [
       "<IPython.core.display.Image object>"
      ]
     },
     "metadata": {},
     "output_type": "display_data"
    }
   ],
   "source": [
    "display(Image(filename='C:/Users/ADMIN/Desktop/Captures/3.jpg'))"
   ]
  },
  {
   "cell_type": "code",
   "execution_count": 19,
   "id": "78ae72c5-ba24-4eca-a310-a7af3f2dacf5",
   "metadata": {},
   "outputs": [
    {
     "name": "stdout",
     "output_type": "stream",
     "text": [
      "Student Details\n",
      "---------------\n",
      "Name :- Asif\n",
      "Age :- 24\n",
      "Gender :- Male\n",
      "Student ID :- 123\n",
      "Fees :- 1200\n",
      "\n",
      "Employee Details\n",
      "---------------\n",
      "Name :- Basit\n",
      "Age :- 36\n",
      "Gender :- Male\n",
      "Employee ID :- 456\n",
      "Salary :- 80000\n"
     ]
    }
   ],
   "source": [
    "class person: # Parent Class\n",
    " def __init__(self, name , age , gender):\n",
    "     self.name = name\n",
    "     self.age = age\n",
    "     self.gender = gender\n",
    " \n",
    " def PersonInfo(self):\n",
    "     print('Name :- {}'.format(self.name))\n",
    "     print('Age :- {}'.format(self.age))\n",
    "     print('Gender :- {}'.format(self.gender))\n",
    " \n",
    "class student(person): # Child Class\n",
    " def __init__(self,name,age,gender,studentid,fees):\n",
    "     person.__init__(self,name,age,gender)\n",
    "     self.studentid = studentid\n",
    "     self.fees = fees\n",
    " \n",
    " def StudentInfo(self):\n",
    "     print('Student ID :- {}'.format(self.studentid))\n",
    "     print('Fees :- {}'.format(self.fees))\n",
    " \n",
    "class teacher(person): # Child Class\n",
    " def __init__(self,name,age,gender,empid,salary):\n",
    "     person.__init__(self,name,age,gender)\n",
    "     self.empid = empid\n",
    "     self.salary = salary\n",
    " \n",
    " def TeacherInfo(self):\n",
    "     print('Employee ID :- {}'.format(self.empid))\n",
    "     print('Salary :- {}'.format(self.salary))\n",
    " \n",
    "stud1 = student('Asif' , 24 , 'Male' , 123 , 1200)\n",
    "print('Student Details')\n",
    "print('---------------')\n",
    "stud1.PersonInfo() # PersonInfo() method presnt in Parent Class will be access\n",
    "stud1.StudentInfo()\n",
    "print()\n",
    "teacher1 = teacher('Basit' , 36 , 'Male' , 456 , 80000)\n",
    "print('Employee Details')\n",
    "print('---------------')\n",
    "teacher1.PersonInfo() # PersonInfo() method presnt in Parent Class will be access\n",
    "teacher1.TeacherInfo()"
   ]
  },
  {
   "cell_type": "code",
   "execution_count": 20,
   "id": "0947ee6b-0c53-4d5c-9f5a-711026b206d1",
   "metadata": {},
   "outputs": [
    {
     "name": "stdout",
     "output_type": "stream",
     "text": [
      "Student Details\n",
      "---------------\n",
      "Name :- Asif\n",
      "Age :- 24\n",
      "Gender :- Male\n",
      "Student ID :- 123\n",
      "Fees :- 1200\n",
      "\n"
     ]
    }
   ],
   "source": [
    "class person: # Parent Class\n",
    " def __init__(self, name , age , gender):\n",
    "     self.name = name\n",
    "     self.age = age\n",
    "     self.gender = gender\n",
    " \n",
    " def PersonInfo(self):\n",
    "     print('Name :- {}'.format(self.name))\n",
    "     print('Age :- {}'.format(self.age))\n",
    "     print('Gender :- {}'.format(self.gender))\n",
    " \n",
    " \n",
    "class student(person): # Child Class\n",
    " def __init__(self,name,age,gender,studentid,fees):\n",
    "     person.__init__(self,name,age,gender)\n",
    "     self.studentid = studentid\n",
    "     self.fees = fees\n",
    " \n",
    " def StudentInfo(self):\n",
    "     print('Student ID :- {}'.format(self.studentid))\n",
    "     print('Fees :- {}'.format(self.fees))\n",
    " \n",
    " \n",
    "stud1 = student('Asif' , 24 , 'Male' , 123 , 1200)\n",
    "print('Student Details')\n",
    "print('---------------')\n",
    "stud1.PersonInfo() # PersonInfo() method presnt in Parent Class will be access\n",
    "stud1.StudentInfo()\n",
    "print()"
   ]
  },
  {
   "cell_type": "code",
   "execution_count": 22,
   "id": "ea82c351-7826-4daf-9bf2-dfa1aa810d57",
   "metadata": {},
   "outputs": [
    {
     "name": "stdout",
     "output_type": "stream",
     "text": [
      "Student Details\n",
      "---------------\n",
      "Name :- Asif\n",
      "Age :- 24\n",
      "Gender :- Male\n",
      "Student ID :- 123\n",
      "Fees :- 1200\n"
     ]
    }
   ],
   "source": [
    "class person: # Parent Class\n",
    " def __init__(self, name , age , gender):\n",
    "     self.name = name\n",
    "     self.age = age\n",
    "     self.gender = gender\n",
    " \n",
    " def PersonInfo(self):\n",
    "     print('Name :- {}'.format(self.name))\n",
    "     print('Age :- {}'.format(self.age))\n",
    "     print('Gender :- {}'.format(self.gender))\n",
    " \n",
    " \n",
    "class student(person): # Child Class\n",
    " def __init__(self,name,age,gender,studentid,fees):\n",
    "     super().__init__(name,age,gender) \n",
    "     self.studentid = studentid\n",
    "     self.fees = fees\n",
    " \n",
    " def StudentInfo(self):\n",
    "     super().PersonInfo()\n",
    "     print('Student ID :- {}'.format(self.studentid))\n",
    "     print('Fees :- {}'.format(self.fees))\n",
    " \n",
    "stud = student('Asif' , 24 , 'Male' , 123 , 1200)\n",
    "print('Student Details')\n",
    "print('---------------')\n",
    "stud.StudentInfo()"
   ]
  },
  {
   "cell_type": "markdown",
   "id": "6dea7042-02e2-429f-a14e-6159472ee1a1",
   "metadata": {},
   "source": [
    "# Multi-level Inheritance\n",
    "### In this type of inheritance, a class can inherit from a child class or derived class.\n",
    "### Multilevel Inheritance can be of any depth in python"
   ]
  },
  {
   "cell_type": "code",
   "execution_count": 23,
   "id": "5cf995ab-b4ee-4573-8bb8-b92af085f4eb",
   "metadata": {},
   "outputs": [
    {
     "data": {
      "image/jpeg": "[encoded data removed]",
      "text/plain": [
       "<IPython.core.display.Image object>"
      ]
     },
     "metadata": {},
     "output_type": "display_data"
    }
   ],
   "source": [
    "display(Image(filename='C:/Users/ADMIN/Desktop/Captures/4.jpg'))"
   ]
  },
  {
   "cell_type": "code",
   "execution_count": 27,
   "id": "8d638084-ff74-4009-9583-6f79fafc3d02",
   "metadata": {},
   "outputs": [
    {
     "name": "stdout",
     "output_type": "stream",
     "text": [
      "Contractual Employee Details\n",
      "****************************\n",
      "Name :- Basit\n",
      "Age :- 36\n",
      "Gender :- Male\n",
      "Employee ID :- 456\n",
      "Salary :- 80000\n",
      "Contract Expiry :- 21-12-2021\n",
      "\n",
      " \n",
      "\n",
      "Fulltime Employee Details\n",
      "****************************\n",
      "Name :- Asif\n",
      "Age :- 22\n",
      "Gender :- Male\n",
      "Employee ID :- 567\n",
      "Salary :- 70000\n",
      "Work Experience :- 12\n"
     ]
    }
   ],
   "source": [
    "class person: # Parent Class\n",
    " def __init__(self, name , age , gender):\n",
    "     self.name = name\n",
    "     self.age = age\n",
    "     self.gender = gender\n",
    " \n",
    " def PersonInfo(self):\n",
    "     print('Name :- {}'.format(self.name))\n",
    "     print('Age :- {}'.format(self.age))\n",
    "     print('Gender :- {}'.format(self.gender))\n",
    " \n",
    "class employee(person): # Child Class\n",
    " def __init__(self,name,age,gender,empid,salary):\n",
    "     person.__init__(self,name,age,gender)\n",
    "     self.empid = empid\n",
    "     self.salary = salary\n",
    " \n",
    " def employeeInfo(self):\n",
    "     print('Employee ID :- {}'.format(self.empid))\n",
    "     print('Salary :- {}'.format(self.salary))\n",
    " \n",
    "class fulltime(employee): # Grand Child Class\n",
    " def __init__(self,name,age,gender,empid,salary,WorkExperience):\n",
    "     employee.__init__(self,name,age,gender,empid,salary)\n",
    "     self.WorkExperience = WorkExperience\n",
    " \n",
    " def FulltimeInfo(self):\n",
    "     print('Work Experience :- {}'.format(self.WorkExperience))\n",
    "  \n",
    "class contractual(employee): # Grand Child Class\n",
    " def __init__(self,name,age,gender,empid,salary,ContractExpiry):\n",
    "     employee.__init__(self,name,age,gender,empid,salary)\n",
    "     self.ContractExpiry = ContractExpiry\n",
    " \n",
    " def ContractInfo(self):\n",
    "     print('Contract Expiry :- {}'.format(self.ContractExpiry))\n",
    " \n",
    "print('Contractual Employee Details')\n",
    "print('****************************')\n",
    "contract1 = contractual('Basit' , 36 , 'Male' , 456 , 80000,'21-12-2021')\n",
    "contract1.PersonInfo()\n",
    "contract1.employeeInfo()\n",
    "contract1.ContractInfo()\n",
    "print('\\n \\n')\n",
    "\n",
    "print('Fulltime Employee Details')\n",
    "print('****************************')\n",
    "fulltim1= fulltime('Asif' , 22 , 'Male' , 567 , 70000, 12)\n",
    "fulltim1.PersonInfo()\n",
    "fulltim1.employeeInfo()\n",
    "fulltim1.FulltimeInfo()"
   ]
  },
  {
   "cell_type": "markdown",
   "id": "a24f69c5-a6ad-4249-a7ff-2858874191f7",
   "metadata": {},
   "source": [
    "# Multiple Inheritance\n",
    "### Multiple inheritance is a feature in which a class (derived class) can inherit attributes and methods from more than one parent class.\n",
    "### The derived class inherits all the features of the base case.e."
   ]
  },
  {
   "cell_type": "code",
   "execution_count": 29,
   "id": "dcaf226e-239b-4159-8d14-7e8a7d431d5f",
   "metadata": {},
   "outputs": [
    {
     "data": {
      "image/jpeg": "[encoded data removed]",
      "text/plain": [
       "<IPython.core.display.Image object>"
      ]
     },
     "metadata": {},
     "output_type": "display_data"
    }
   ],
   "source": [
    "display(Image(filename='C:/Users/ADMIN/Desktop/Captures/5.jpg'))"
   ]
  },
  {
   "cell_type": "code",
   "execution_count": 28,
   "id": "d4b576c7-2c76-428b-85d7-d13823adead1",
   "metadata": {},
   "outputs": [
    {
     "name": "stdout",
     "output_type": "stream",
     "text": [
      "My Name :-  Bill\n",
      "Father : John\n",
      "Mother : Kristen\n"
     ]
    }
   ],
   "source": [
    "class Father:\n",
    " def __init__(self):\n",
    "     self.fathername = str()\n",
    " \n",
    "# Super Class\n",
    "class Mother:\n",
    " def __init__(self):\n",
    "     self.mothername = str()\n",
    " \n",
    "# Sub Class\n",
    "class Son(Father, Mother):\n",
    " name = str()\n",
    " def show(self):\n",
    "     print('My Name :- ',self.name)\n",
    "     print(\"Father :\", self.fathername)\n",
    "     print(\"Mother :\", self.mothername)\n",
    "s1 = Son()\n",
    "s1.name = 'Bill'\n",
    "s1.fathername = \"John\"\n",
    "s1.mothername = \"Kristen\"\n",
    "s1.show()"
   ]
  },
  {
   "cell_type": "code",
   "execution_count": 25,
   "id": "3cdb25b9-e28d-44ce-b375-32b92dfc7bd4",
   "metadata": {},
   "outputs": [
    {
     "name": "stdout",
     "output_type": "stream",
     "text": [
      "2020-08-09 23:48:55\n"
     ]
    }
   ],
   "source": [
    "class Date:\n",
    "    def __init__(self, date):\n",
    "        self.date = date\n",
    "\n",
    "class Time:\n",
    "    def __init__(self, time):\n",
    "        self.time = time\n",
    "\n",
    "class Timestamp(Date, Time):\n",
    "    def __init__(self, date, time):\n",
    "        Date.__init__(self, date)\n",
    "        Time.__init__(self, time)\n",
    "        datetime = self.date + ' ' + self.time\n",
    "        print(datetime)\n",
    "\n",
    "datetime1 = Timestamp('2020-08-09', '23:48:55')"
   ]
  },
  {
   "cell_type": "markdown",
   "id": "c5ec32ed-2d3c-427e-a311-5294279644f5",
   "metadata": {},
   "source": [
    "# Method Overriding : same name, same parameter and same return type\n",
    "### Overriding is a very important part of object oreinted programming because it makesinheritance exploit its full power.\n",
    "### Overriding is the ability of a class (Sub Class / Child Class / Derived Class) to change the implementation of a method provided by one of its parent classes.\n",
    "### When a method in a subclass has the same name, same parameter and same return type as a method in its super-class, then the method in the subclass is said to override the method in the super-class.\n",
    "### The version of a method that is executed will be determined by the object that is used to invoke it.\n",
    "### If an object of a parent class is used to invoke the method, then the version in the parent class will be executed, but if an object of the subclass is used to invoke the method, then the version in the child class will be executed."
   ]
  },
  {
   "cell_type": "code",
   "execution_count": 26,
   "id": "3a5d5074-7347-4ba3-a3f3-39d3e3f12076",
   "metadata": {},
   "outputs": [
    {
     "name": "stdout",
     "output_type": "stream",
     "text": [
      "Hello Student\n",
      "Hello Person\n"
     ]
    }
   ],
   "source": [
    "class person: # Parent Class\n",
    " def __init__(self, name , age , gender):\n",
    "     self.name = name\n",
    "     self.age = age\n",
    "     self.gender = gender\n",
    " \n",
    " def greet(self):\n",
    "     print(\"Hello Person\")\n",
    " \n",
    "class student(person): # Child Class\n",
    " def __init__(self,name,age,gender,studentid,fees):\n",
    "     person.__init__(self,name,age,gender)\n",
    "     self.studentid = studentid\n",
    "     self.fees = fees\n",
    " def greet(self):\n",
    "     print(\"Hello Student\")\n",
    " \n",
    "stud = student('Gabriel' , 56 , 'Male' , 45 , 345678)\n",
    "stud.greet() # greet() method defined in subclass will be triggered as \"stud\" is \n",
    "person1 = person('Gabriel' , 56 , 'Male')\n",
    "person1.greet() "
   ]
  },
  {
   "cell_type": "markdown",
   "id": "81951633-9a56-44a5-b8f9-8736254dd787",
   "metadata": {},
   "source": [
    "## Container\n",
    "### Containers are data structures that hold data values\n",
    "### They support membership tests which means we can check whether a value exists in the container or not.\n",
    "### Generally containers provide a way to access the contained objects and to iterate over them.\n",
    "### Examples of containers include tuple, list, set, dict, str"
   ]
  },
  {
   "cell_type": "code",
   "execution_count": 30,
   "id": "19aefd04-d714-4f98-97eb-0b5dc450553a",
   "metadata": {},
   "outputs": [
    {
     "data": {
      "text/plain": [
       "True"
      ]
     },
     "execution_count": 30,
     "metadata": {},
     "output_type": "execute_result"
    }
   ],
   "source": [
    "list1 = ['asif' , 'john' , 'Michael' , 'Basit']\n",
    "'asif' in list1"
   ]
  },
  {
   "cell_type": "code",
   "execution_count": 31,
   "id": "fb1912fb-9372-4222-a239-b1d4a8100c0c",
   "metadata": {},
   "outputs": [],
   "source": [
    "assert 'john' in list1 "
   ]
  },
  {
   "cell_type": "code",
   "execution_count": 32,
   "id": "734a06b3-0bb0-42fb-b6b8-b47cb104b573",
   "metadata": {},
   "outputs": [
    {
     "data": {
      "text/plain": [
       "{'Name': 'Asif', 'ID': 12345, 'DOB': 1991, 'Address': 'Hilsinki'}"
      ]
     },
     "execution_count": 32,
     "metadata": {},
     "output_type": "execute_result"
    }
   ],
   "source": [
    "mydict = {'Name':'Asif' , 'ID': 12345 , 'DOB': 1991 , 'Address' : 'Hilsinki'}\n",
    "mydict"
   ]
  },
  {
   "cell_type": "code",
   "execution_count": 33,
   "id": "3570e06c-3f1c-44e1-a2a9-ca96ff3afe1b",
   "metadata": {},
   "outputs": [
    {
     "data": {
      "text/plain": [
       "False"
      ]
     },
     "execution_count": 33,
     "metadata": {},
     "output_type": "execute_result"
    }
   ],
   "source": [
    "'Asif' in mydict  # Dictionary membership will always check the keys"
   ]
  },
  {
   "cell_type": "code",
   "execution_count": 34,
   "id": "00206303-0590-4656-b92d-8cdd88873ee3",
   "metadata": {},
   "outputs": [
    {
     "data": {
      "text/plain": [
       "True"
      ]
     },
     "execution_count": 34,
     "metadata": {},
     "output_type": "execute_result"
    }
   ],
   "source": [
    "'Name' in mydict # Dictionary membership will always check the keys"
   ]
  },
  {
   "cell_type": "code",
   "execution_count": 35,
   "id": "88f29e26-502a-42f0-989b-c36be10e02ae",
   "metadata": {},
   "outputs": [
    {
     "data": {
      "text/plain": [
       "True"
      ]
     },
     "execution_count": 35,
     "metadata": {},
     "output_type": "execute_result"
    }
   ],
   "source": [
    "'DOB' in mydict"
   ]
  },
  {
   "cell_type": "code",
   "execution_count": 36,
   "id": "8cadf4b8-cfa6-42b6-ba85-b5e3ec3e96f8",
   "metadata": {},
   "outputs": [
    {
     "data": {
      "text/plain": [
       "True"
      ]
     },
     "execution_count": 36,
     "metadata": {},
     "output_type": "execute_result"
    }
   ],
   "source": [
    "mystr = 'asifbhat'\n",
    "'as' in mystr # Check if substring is present"
   ]
  },
  {
   "cell_type": "markdown",
   "id": "e2f9bab0-2b4a-4980-bbc9-3955ae2de381",
   "metadata": {},
   "source": [
    "# Iterable & Iterator\n",
    "### An iterable is an object that can be iterated upon. It can return an iterator object with the purpose of traversing through all the elements of an iterable.\n",
    "### An iterable object implements __iter()__ which is expected to return an iterator object. The iterator object uses the __next()__ method. Every time next() is called next element in the iterator stream is returned. When there are no more elements available StopIteration exception is encountered. So any object that has a __next()__ method is called an iterator\n",
    "### Python lists, tuples, dictionaries and sets are all examples of iterable objects."
   ]
  },
  {
   "cell_type": "code",
   "execution_count": 37,
   "id": "8ba1b9a5-37e9-43f9-8a38-c0351760e4cf",
   "metadata": {},
   "outputs": [
    {
     "data": {
      "image/jpeg": "[encoded data removed]",
      "text/plain": [
       "<IPython.core.display.Image object>"
      ]
     },
     "metadata": {},
     "output_type": "display_data"
    }
   ],
   "source": [
    "display(Image(filename='C:/Users/ADMIN/Desktop/Captures/6.jpg'))"
   ]
  },
  {
   "cell_type": "code",
   "execution_count": 38,
   "id": "28f466e8-5933-4565-9c53-73f4cc041613",
   "metadata": {},
   "outputs": [
    {
     "name": "stdout",
     "output_type": "stream",
     "text": [
      "Asif\n",
      "Basit\n",
      "John\n",
      "Michael\n"
     ]
    }
   ],
   "source": [
    "mylist = ['Asif' , 'Basit' , 'John' , 'Michael']\n",
    "list_iter = iter(mylist) # Create an iterator object using iter()\n",
    "print(next(list_iter)) # return first element in the iterator stream\n",
    "print(next(list_iter)) # return next element in the iterator stream\n",
    "print(next(list_iter))\n",
    "print(next(list_iter))"
   ]
  },
  {
   "cell_type": "code",
   "execution_count": 39,
   "id": "dbf2ff94-934a-4ee6-a900-396e5bce14bf",
   "metadata": {},
   "outputs": [
    {
     "name": "stdout",
     "output_type": "stream",
     "text": [
      "Asif\n",
      "Basit\n",
      "John\n",
      "Michael\n"
     ]
    }
   ],
   "source": [
    "mylist = ['Asif' , 'Basit' , 'John' , 'Michael']\n",
    "list_iter = iter(mylist) # Create an iterator object using iter()\n",
    "print(list_iter.__next__()) # return first element in the iterator stream\n",
    "print(list_iter.__next__()) # return next element in the iterator stream\n",
    "print(list_iter.__next__())\n",
    "print(list_iter.__next__())"
   ]
  },
  {
   "cell_type": "code",
   "execution_count": 40,
   "id": "71648388-48cc-4012-b07f-1e3babe28803",
   "metadata": {},
   "outputs": [
    {
     "name": "stdout",
     "output_type": "stream",
     "text": [
      "Asif\n",
      "Basit\n",
      "John\n",
      "Michael\n"
     ]
    }
   ],
   "source": [
    "mylist = ['Asif' , 'Basit' , 'John' , 'Michael']\n",
    "list_iter = iter(mylist) # Create an iterator object using iter()\n",
    "for i in list_iter:\n",
    " print(i)"
   ]
  },
  {
   "cell_type": "code",
   "execution_count": 41,
   "id": "2271642f-d5bd-407b-9e49-4403407391f7",
   "metadata": {},
   "outputs": [
    {
     "name": "stdout",
     "output_type": "stream",
     "text": [
      "Asif\n",
      "Basit\n",
      "John\n",
      "Michael\n"
     ]
    }
   ],
   "source": [
    "mylist = ['Asif' , 'Basit' , 'John' , 'Michael']\n",
    "for i in mylist:\n",
    " print(i)"
   ]
  },
  {
   "cell_type": "code",
   "execution_count": 42,
   "id": "950038f7-ae5e-4672-9bdd-72478e5b0bfd",
   "metadata": {},
   "outputs": [
    {
     "name": "stdout",
     "output_type": "stream",
     "text": [
      "Asif\n",
      "Basit\n",
      "John\n",
      "Michael\n"
     ]
    }
   ],
   "source": [
    "mytuple = ('Asif' , 'Basit' , 'John' , 'Michael')\n",
    "for i in mytuple:\n",
    " print(i)"
   ]
  },
  {
   "cell_type": "code",
   "execution_count": 43,
   "id": "e317cbfb-ecff-4456-9766-80d8c71aa93a",
   "metadata": {},
   "outputs": [
    {
     "name": "stdout",
     "output_type": "stream",
     "text": [
      "H\n",
      "e\n",
      "l\n",
      "l\n",
      "o\n",
      " \n",
      "P\n",
      "y\n",
      "t\n",
      "h\n",
      "o\n",
      "n\n"
     ]
    }
   ],
   "source": [
    "mystr = \"Hello Python\"\n",
    "for i in mystr:\n",
    " print(i)"
   ]
  },
  {
   "cell_type": "code",
   "execution_count": 44,
   "id": "f0b21565-24aa-4fa1-9e8d-98198139ff27",
   "metadata": {},
   "outputs": [
    {
     "name": "stdout",
     "output_type": "stream",
     "text": [
      "1\n",
      "2\n",
      "3\n",
      "4\n",
      "5\n",
      "6\n",
      "7\n",
      "8\n",
      "9\n",
      "10\n"
     ]
    }
   ],
   "source": [
    "class myiter:\n",
    " def __init__(self):\n",
    "     self.num = 0\n",
    " \n",
    " def __iter__(self):\n",
    "     self.num = 1\n",
    "     return self\n",
    " \n",
    " def __next__(self):\n",
    "     if self.num <= 10:\n",
    "         val = self.num\n",
    "         self.num += 1\n",
    "         return val\n",
    "     else:\n",
    "         raise StopIteration\n",
    "mynum = myiter()\n",
    "iter1 = iter(mynum)\n",
    "for i in iter1:\n",
    " print(i)"
   ]
  },
  {
   "cell_type": "code",
   "execution_count": 45,
   "id": "edcce4eb-ba37-4956-ad5e-142b81b5a750",
   "metadata": {},
   "outputs": [
    {
     "name": "stdout",
     "output_type": "stream",
     "text": [
      "1\n",
      "3\n",
      "5\n",
      "7\n",
      "9\n",
      "11\n",
      "13\n",
      "15\n",
      "17\n",
      "19\n"
     ]
    }
   ],
   "source": [
    "class myiter:\n",
    " def __init__(self):\n",
    "     self.num = 0\n",
    " \n",
    " def __iter__(self):\n",
    "     self.num = 1\n",
    "     return self\n",
    " \n",
    " def __next__(self):\n",
    "     if self.num <= 20 :\n",
    "         val = self.num\n",
    "         self.num += 2\n",
    "         return val\n",
    "     else:\n",
    "         raise StopIteration\n",
    "myodd = myiter()\n",
    "iter1 = iter(myodd)\n",
    "for i in iter1:\n",
    " print(i)"
   ]
  },
  {
   "cell_type": "code",
   "execution_count": 46,
   "id": "8a193e82-a3d0-4a8f-ae06-90215429506e",
   "metadata": {},
   "outputs": [
    {
     "name": "stdout",
     "output_type": "stream",
     "text": [
      "1\n",
      "1\n",
      "2\n",
      "3\n",
      "5\n",
      "8\n",
      "13\n",
      "21\n",
      "34\n"
     ]
    }
   ],
   "source": [
    "class myfibonacci:\n",
    " def __init__(self):\n",
    "     self.prev = 0\n",
    "     self.cur = 0\n",
    " \n",
    " def __iter__(self):\n",
    "     self.prev = 0\n",
    "     self.cur = 1\n",
    "     return self\n",
    " \n",
    " def __next__(self):\n",
    "     if self.cur <= 50:\n",
    "         val = self.cur\n",
    "         self.cur += self.prev\n",
    "         self.prev = val\n",
    "         return val\n",
    "     else:\n",
    "         raise StopIteration\n",
    "myfibo = myfibonacci()\n",
    "iter1 = iter(myfibo)\n",
    "for i in iter1:\n",
    " print(i)"
   ]
  },
  {
   "cell_type": "markdown",
   "id": "44b2da3e-f3a5-4151-91ab-8d55d1072ab2",
   "metadata": {},
   "source": [
    "### Generator\n",
    "### Python generators are easy way of creating iterators. It generates values one at a time from a given sequence instead of returning the entire sequence at once.\n",
    "### It is a special type of function which returns an iterator object.\n",
    "### In a generator function, a yield statement is used rather than a return statement.\n",
    "### The generator function cannot include the return keyword. If we include it then it will terminate the execution of the function.\n",
    "### The difference between yield and return is that once yield returns a value the function is paused and the control is transferred to the caller.\n",
    "### Local variables and their states are calls. In case of the return statement value is returned and remembered between successive the execution of the function is terminated.\n",
    "### Methods like iter() and next() are implemented automatically in generator function.\n",
    "### Simple generators can be easily created using generator expressions. Generator expressions create anonymous generator functions like lambda.\n",
    "### The syntax for generator expression is similar to that of a list comprehension but the only difference is square brackets are replaced with round parentheses. \n",
    "### Also list comprehension produces the entire list while the generator expression produces one item at a time which is more memory efficient than list comprehension."
   ]
  },
  {
   "cell_type": "code",
   "execution_count": 47,
   "id": "c2c12ccc-f0e4-4cc2-a4c5-ff6782bd3a68",
   "metadata": {},
   "outputs": [
    {
     "name": "stdout",
     "output_type": "stream",
     "text": [
      "1\n",
      "2\n",
      "3\n",
      "4\n",
      "5\n"
     ]
    }
   ],
   "source": [
    "def mygen():\n",
    " n = 1\n",
    " yield n\n",
    " n += 1\n",
    " yield n\n",
    " n += 1\n",
    " yield n\n",
    " n += 1\n",
    " yield n\n",
    " \n",
    " n += 1\n",
    " yield n\n",
    " \n",
    "mygen1 = mygen()\n",
    "print(next(mygen1))\n",
    "print(next(mygen1))\n",
    "print(next(mygen1))\n",
    "print(next(mygen1))\n",
    "print(next(mygen1)) "
   ]
  },
  {
   "cell_type": "code",
   "execution_count": 48,
   "id": "de5211f2-5f7b-45a5-b2c0-01273ce0ae29",
   "metadata": {},
   "outputs": [
    {
     "name": "stdout",
     "output_type": "stream",
     "text": [
      "1\n",
      "2\n",
      "3\n",
      "4\n",
      "5\n",
      "6\n",
      "7\n",
      "8\n",
      "9\n",
      "10\n",
      "11\n",
      "12\n",
      "13\n",
      "14\n",
      "15\n",
      "16\n",
      "17\n",
      "18\n",
      "19\n"
     ]
    }
   ],
   "source": [
    "def mygen():\n",
    " for i in range(1,20):\n",
    "     yield i\n",
    " \n",
    "mygen1 = mygen()\n",
    "for i in mygen1:\n",
    " print(i)"
   ]
  },
  {
   "cell_type": "code",
   "execution_count": 49,
   "id": "a1f6e6af-f494-44ba-9bb6-271bfec7e552",
   "metadata": {},
   "outputs": [
    {
     "data": {
      "text/plain": [
       "[1, 2, 3, 4, 5, 6, 7, 8, 9, 10, 11, 12, 13, 14, 15, 16, 17, 18, 19]"
      ]
     },
     "execution_count": 49,
     "metadata": {},
     "output_type": "execute_result"
    }
   ],
   "source": [
    "num = list(mygen()) # Store all values generated by generator function in a list\n",
    "num"
   ]
  },
  {
   "cell_type": "code",
   "execution_count": 50,
   "id": "70656935-c18d-453c-8af7-0a07d433717b",
   "metadata": {},
   "outputs": [
    {
     "name": "stdout",
     "output_type": "stream",
     "text": [
      "2\n",
      "4\n",
      "6\n",
      "8\n",
      "10\n",
      "12\n",
      "14\n",
      "16\n",
      "18\n"
     ]
    }
   ],
   "source": [
    "def mygen():\n",
    "     for i in range(1,20):\n",
    "         if i%2 == 0:\n",
    "             yield i\n",
    " \n",
    "mygen1 = mygen()\n",
    "for i in mygen1:\n",
    " print(i)"
   ]
  },
  {
   "cell_type": "code",
   "execution_count": 51,
   "id": "3bda215f-2620-43c2-8fc4-487d7d274da6",
   "metadata": {},
   "outputs": [
    {
     "name": "stdout",
     "output_type": "stream",
     "text": [
      "0\n",
      "1\n",
      "1\n",
      "2\n",
      "3\n",
      "5\n",
      "8\n",
      "13\n",
      "21\n",
      "34\n"
     ]
    }
   ],
   "source": [
    "def myfibo():\n",
    "     num1 , num2 = 0,1\n",
    "     count = 0\n",
    "     while count < 10:\n",
    "         yield num1\n",
    "         num1,num2 = num2,num1+num2\n",
    "         count+=1\n",
    " \n",
    "fibo = myfibo()\n",
    "for i in fibo:\n",
    " print(i)"
   ]
  },
  {
   "cell_type": "code",
   "execution_count": 52,
   "id": "ecef0e02-1465-471a-bb48-1f2cbe474dd9",
   "metadata": {},
   "outputs": [
    {
     "data": {
      "text/plain": [
       "[0, 1, 1, 2, 3, 5, 8, 13, 21, 34]"
      ]
     },
     "execution_count": 52,
     "metadata": {},
     "output_type": "execute_result"
    }
   ],
   "source": [
    "list1 = list(myfibo()) # Store the fibonacci series in a list\n",
    "list1"
   ]
  },
  {
   "cell_type": "code",
   "execution_count": 53,
   "id": "1ce0407a-c5aa-453f-b5a6-e88c3849ec1d",
   "metadata": {},
   "outputs": [
    {
     "data": {
      "text/plain": [
       "[0, 1, 4, 9, 16, 25, 36, 49, 64, 81]"
      ]
     },
     "execution_count": 53,
     "metadata": {},
     "output_type": "execute_result"
    }
   ],
   "source": [
    "list2 = [i**2 for i in range(10)] # List comprehension\n",
    "list2"
   ]
  },
  {
   "cell_type": "code",
   "execution_count": 54,
   "id": "c15347c8-bd1b-4733-b9d6-1c7ba5a8d134",
   "metadata": {},
   "outputs": [
    {
     "data": {
      "text/plain": [
       "<generator object <genexpr> at 0x000002374D8F7B90>"
      ]
     },
     "execution_count": 54,
     "metadata": {},
     "output_type": "execute_result"
    }
   ],
   "source": [
    "gen2 = (i**2 for i in range(10)) # Generator expression\n",
    "gen2"
   ]
  },
  {
   "cell_type": "code",
   "execution_count": 55,
   "id": "e5ad6f78-bdcb-4eaf-8546-ab848a73d285",
   "metadata": {},
   "outputs": [
    {
     "name": "stdout",
     "output_type": "stream",
     "text": [
      "0\n",
      "1\n",
      "4\n",
      "9\n",
      "16\n"
     ]
    }
   ],
   "source": [
    "print(next(gen2))\n",
    "print(next(gen2))\n",
    "print(next(gen2))\n",
    "print(next(gen2))\n",
    "print(next(gen2))"
   ]
  },
  {
   "cell_type": "code",
   "execution_count": 56,
   "id": "5eba31e6-047d-4de5-9483-b1c116d37a60",
   "metadata": {},
   "outputs": [
    {
     "name": "stdout",
     "output_type": "stream",
     "text": [
      "0\n",
      "2\n",
      "4\n",
      "6\n",
      "8\n",
      "10\n",
      "12\n",
      "14\n",
      "16\n",
      "18\n",
      "20\n",
      "22\n",
      "24\n",
      "26\n",
      "28\n",
      "30\n",
      "32\n",
      "34\n",
      "36\n",
      "38\n"
     ]
    }
   ],
   "source": [
    "gen2 = (i for i in range(40) if i%2 == 0) # Generator expression to generate even\n",
    "gen2\n",
    "for i in gen2:\n",
    " print(i)"
   ]
  },
  {
   "cell_type": "markdown",
   "id": "65554f24-302d-4407-ad61-dea8cffcef9f",
   "metadata": {},
   "source": [
    "# Decorator\n",
    "### Decorator is very powerful and useful tool in Python as it allows us to wrap another function in order to extend the behavior of wrapped function without permanently modifying it.\n",
    "### In Decorators functions are taken as the argument into another function and then called inside the wrapper function.\n",
    "### Advantages -\n",
    "### Logging & debugging\n",
    "### Access control and authentication"
   ]
  },
  {
   "cell_type": "code",
   "execution_count": 57,
   "id": "e54a2077-b644-488e-b053-337baeabfad2",
   "metadata": {},
   "outputs": [
    {
     "name": "stdout",
     "output_type": "stream",
     "text": [
      "Result is :-  2\n",
      "Result is :-  -2\n"
     ]
    }
   ],
   "source": [
    "def subtract(num1 , num2):\n",
    " res = num1 - num2\n",
    " print('Result is :- ', res)\n",
    " \n",
    "subtract(4,2)\n",
    "subtract(2,4)"
   ]
  },
  {
   "cell_type": "code",
   "execution_count": 58,
   "id": "bfd958b6-a876-4ba9-a645-eb72f156720b",
   "metadata": {},
   "outputs": [
    {
     "name": "stdout",
     "output_type": "stream",
     "text": [
      "Result is :-  2\n"
     ]
    }
   ],
   "source": [
    "def sub_decorator(func):\n",
    " def wrapper(num1,num2):\n",
    "     if num1 < num2:\n",
    "         num1,num2 = num2,num1\n",
    "         return func(num1,num2)\n",
    " return wrapper\n",
    " \n",
    "sub = sub_decorator(subtract)\n",
    "sub(2,4)"
   ]
  },
  {
   "cell_type": "code",
   "execution_count": 59,
   "id": "85dfd86f-2d10-4ebf-b9ac-4a8ce0bf075a",
   "metadata": {},
   "outputs": [
    {
     "name": "stdout",
     "output_type": "stream",
     "text": [
      "Result is :-  2\n"
     ]
    }
   ],
   "source": [
    "@sub_decorator # we can use @ syntax for decorating a function in one step\n",
    "def subtract(num1 , num2):\n",
    " res = num1 - num2\n",
    " print('Result is :- ', res)\n",
    "subtract(2,4)"
   ]
  },
  {
   "cell_type": "code",
   "execution_count": 60,
   "id": "4e69883a-8d2e-47ce-86b7-44349aba5f85",
   "metadata": {},
   "outputs": [
    {
     "name": "stdout",
     "output_type": "stream",
     "text": [
      "Linux installation has started \n",
      "\n",
      "Windows installation has started \n",
      "\n",
      "Mac installation has started \n",
      "\n",
      "\n",
      "Please accept terms & conditions\n",
      "Linux installation has started \n",
      "\n",
      "Please accept terms & conditions\n",
      "Windows installation has started \n",
      " \n",
      "Please accept terms & conditions\n",
      "Mac installation has started \n",
      "\n"
     ]
    }
   ],
   "source": [
    "def InstallLinux():\n",
    " print('Linux installation has started \\n')\n",
    " \n",
    "def InstallWindows():\n",
    " print('Windows installation has started \\n')\n",
    " \n",
    "def InstallMac():\n",
    " print('Mac installation has started \\n')\n",
    " \n",
    "InstallLinux()\n",
    "InstallWindows()\n",
    "InstallMac()\n",
    "print()\n",
    "\n",
    "def InstallDecorator(func):\n",
    " def wrapper():\n",
    "     print('Please accept terms & conditions')\n",
    "     return func()\n",
    " return wrapper()\n",
    "     \n",
    "@InstallDecorator # we can use @ syntax for decorating a function in one step\n",
    "def InstallLinux():\n",
    "     print('Linux installation has started \\n')\n",
    " \n",
    "@InstallDecorator\n",
    "def InstallWindows():\n",
    "     print('Windows installation has started \\n ')\n",
    "@InstallDecorator\n",
    "def InstallMac():\n",
    "     print('Mac installation has started \\n')"
   ]
  },
  {
   "cell_type": "code",
   "execution_count": 61,
   "id": "475ebbf1-4ecb-47ec-8532-1f9df30a9d8d",
   "metadata": {},
   "outputs": [
    {
     "name": "stdout",
     "output_type": "stream",
     "text": [
      "Please accept terms & conditions...\n",
      "\n",
      "Please enter correct license key...\n",
      "\n",
      "Please enter partitioning choice...\n",
      "\n",
      "Linux installation has started \n",
      "\n"
     ]
    }
   ],
   "source": [
    "def InstallDecorator1(func):\n",
    " def wrapper():\n",
    "     print('Please accept terms & conditions...\\n')\n",
    "     func()\n",
    " return wrapper\n",
    "    \n",
    "def InstallDecorator2(func):\n",
    " def wrapper():\n",
    "     print('Please enter correct license key...\\n')\n",
    "     return func()\n",
    " return wrapper\n",
    "    \n",
    "def InstallDecorator3(func):\n",
    " def wrapper():\n",
    "     print('Please enter partitioning choice...\\n')\n",
    "     return func()\n",
    " return wrapper\n",
    "@InstallDecorator1\n",
    "@InstallDecorator2\n",
    "@InstallDecorator3\n",
    "\n",
    "def InstallLinux():\n",
    " print('Linux installation has started \\n')\n",
    "InstallLinux()"
   ]
  },
  {
   "cell_type": "code",
   "execution_count": null,
   "id": "90ee01c5-5196-40f9-b74c-eb725ffbe2f4",
   "metadata": {},
   "outputs": [],
   "source": []
  }
 ],
 "metadata": {
  "kernelspec": {
   "display_name": "Python 3 (ipykernel)",
   "language": "python",
   "name": "python3"
  },
  "language_info": {
   "codemirror_mode": {
    "name": "ipython",
    "version": 3
   },
   "file_extension": ".py",
   "mimetype": "text/x-python",
   "name": "python",
   "nbconvert_exporter": "python",
   "pygments_lexer": "ipython3",
   "version": "3.12.5"
  }
 },
 "nbformat": 4,
 "nbformat_minor": 5
}
